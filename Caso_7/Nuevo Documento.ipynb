{
 "cells": [
  {
   "cell_type": "code",
   "execution_count": 1,
   "id": "0ad491af",
   "metadata": {},
   "outputs": [],
   "source": [
    "# **IMPORTANDO LIBRERIAS**"
   ]
  },
  {
   "cell_type": "code",
   "execution_count": 2,
   "id": "e086a1e2",
   "metadata": {},
   "outputs": [],
   "source": [
    "import sys\n",
    "import os\n",
    "import pandas as pd\n",
    "from sqlalchemy import create_engine, text\n",
    "from dotenv import load_dotenv\n",
    "import os\n",
    "from sqlalchemy.orm import declarative_base, relationship\n",
    "from sqlalchemy import create_engine, Column, Integer, String, VARCHAR,Boolean, TIMESTAMP\n",
    "from sqlalchemy.types import DateTime\n",
    "from sqlalchemy.orm import sessionmaker\n",
    "\n",
    "\n",
    "sys.path.append(os.path.abspath(os.path.join('..')))"
   ]
  },
  {
   "cell_type": "code",
   "execution_count": 3,
   "id": "33a5a8a3",
   "metadata": {},
   "outputs": [],
   "source": [
    "load_dotenv()  # Carga las variables del archivo .env\n",
    "\n",
    "config = {\n",
    "    'host': os.getenv('HOST'),\n",
    "    'user': os.getenv('USER'),\n",
    "    'password': os.getenv('PASSWORD'),\n",
    "    'database': os.getenv('DATABASE'),\n",
    "    'port': os.getenv('PORT')\n",
    "}"
   ]
  },
  {
   "cell_type": "code",
   "execution_count": 4,
   "id": "01199a75",
   "metadata": {},
   "outputs": [],
   "source": [
    "# Crear la URL de conexión para SQLAlchemy\n",
    "db_url = f\"mysql+pymysql://{config['user']}:{config['password']}@{config['host']}:{config['port']}/caso_7\"\n",
    "\n",
    "# Crear el motor de SQLAlchemy\n",
    "engine = create_engine(db_url, echo=True)\n",
    "\n"
   ]
  },
  {
   "cell_type": "code",
   "execution_count": 5,
   "id": "ecd85649",
   "metadata": {},
   "outputs": [],
   "source": [
    "Base = declarative_base()\n"
   ]
  },
  {
   "cell_type": "markdown",
   "id": "e0318abf",
   "metadata": {},
   "source": [
    "# **1. GENERACIÓN DE TABLAS**"
   ]
  },
  {
   "cell_type": "code",
   "execution_count": 6,
   "id": "fc2f7e80",
   "metadata": {},
   "outputs": [
    {
     "name": "stdout",
     "output_type": "stream",
     "text": [
      "2025-04-28 14:31:42,846 INFO sqlalchemy.engine.Engine SELECT DATABASE()\n",
      "2025-04-28 14:31:42,846 INFO sqlalchemy.engine.Engine [raw sql] {}\n",
      "2025-04-28 14:31:42,847 INFO sqlalchemy.engine.Engine SELECT @@sql_mode\n",
      "2025-04-28 14:31:42,848 INFO sqlalchemy.engine.Engine [raw sql] {}\n",
      "2025-04-28 14:31:42,849 INFO sqlalchemy.engine.Engine SELECT @@lower_case_table_names\n",
      "2025-04-28 14:31:42,849 INFO sqlalchemy.engine.Engine [raw sql] {}\n",
      "2025-04-28 14:31:42,850 INFO sqlalchemy.engine.Engine BEGIN (implicit)\n",
      "2025-04-28 14:31:42,851 INFO sqlalchemy.engine.Engine DESCRIBE `caso_7`.`product_hierarchy`\n",
      "2025-04-28 14:31:42,851 INFO sqlalchemy.engine.Engine [raw sql] {}\n",
      "2025-04-28 14:31:42,853 INFO sqlalchemy.engine.Engine DESCRIBE `caso_7`.`product_prices`\n",
      "2025-04-28 14:31:42,854 INFO sqlalchemy.engine.Engine [raw sql] {}\n",
      "2025-04-28 14:31:42,854 INFO sqlalchemy.engine.Engine DESCRIBE `caso_7`.`product_details`\n",
      "2025-04-28 14:31:42,855 INFO sqlalchemy.engine.Engine [raw sql] {}\n",
      "2025-04-28 14:31:42,855 INFO sqlalchemy.engine.Engine DESCRIBE `caso_7`.`sales`\n",
      "2025-04-28 14:31:42,856 INFO sqlalchemy.engine.Engine [raw sql] {}\n",
      "2025-04-28 14:31:42,857 INFO sqlalchemy.engine.Engine \n",
      "CREATE TABLE product_hierarchy (\n",
      "\tid INTEGER NOT NULL AUTO_INCREMENT, \n",
      "\tparent_id INTEGER, \n",
      "\tlevel_text VARCHAR(19), \n",
      "\tlevel_name VARCHAR(8), \n",
      "\tPRIMARY KEY (id)\n",
      ")\n",
      "\n",
      "\n",
      "2025-04-28 14:31:42,858 INFO sqlalchemy.engine.Engine [no key 0.00061s] {}\n",
      "2025-04-28 14:31:42,872 INFO sqlalchemy.engine.Engine \n",
      "CREATE TABLE product_prices (\n",
      "\tid INTEGER NOT NULL AUTO_INCREMENT, \n",
      "\tproduct_id VARCHAR(6), \n",
      "\tPRIMARY KEY (id)\n",
      ")\n",
      "\n",
      "\n",
      "2025-04-28 14:31:42,873 INFO sqlalchemy.engine.Engine [no key 0.00081s] {}\n",
      "2025-04-28 14:31:42,887 INFO sqlalchemy.engine.Engine \n",
      "CREATE TABLE product_details (\n",
      "\tproduct_id VARCHAR(6) NOT NULL, \n",
      "\tprice INTEGER, \n",
      "\tproduct_name VARCHAR(32), \n",
      "\tcategory_id INTEGER, \n",
      "\tsegment_id INTEGER, \n",
      "\tstyle_id INTEGER, \n",
      "\tcategory_name VARCHAR(6), \n",
      "\tsegment_name VARCHAR(6), \n",
      "\tstyle_name VARCHAR(19), \n",
      "\tPRIMARY KEY (product_id)\n",
      ")\n",
      "\n",
      "\n",
      "2025-04-28 14:31:42,888 INFO sqlalchemy.engine.Engine [no key 0.00071s] {}\n",
      "2025-04-28 14:31:42,920 INFO sqlalchemy.engine.Engine \n",
      "CREATE TABLE sales (\n",
      "\tid INTEGER NOT NULL AUTO_INCREMENT, \n",
      "\tprod_id VARCHAR(6), \n",
      "\tqty INTEGER, \n",
      "\tprice INTEGER, \n",
      "\tdiscount INTEGER, \n",
      "\t`member` BOOL, \n",
      "\ttxn_id VARCHAR(32), \n",
      "\tstart_txn_time TIMESTAMP NULL, \n",
      "\tPRIMARY KEY (id)\n",
      ")\n",
      "\n",
      "\n",
      "2025-04-28 14:31:42,920 INFO sqlalchemy.engine.Engine [no key 0.00055s] {}\n",
      "2025-04-28 14:31:42,935 INFO sqlalchemy.engine.Engine COMMIT\n"
     ]
    }
   ],
   "source": [
    "class ProductHierarchy(Base):\n",
    "\n",
    "    __tablename__ = 'product_hierarchy'\n",
    "    __table_args__= {'extend_existing':True}\n",
    "\n",
    "    #| ------------------ Columnas ----------------|\n",
    "\n",
    "    id =Column(Integer, primary_key=True)\n",
    "    parent_id = Column(Integer)\n",
    "    level_text = Column(VARCHAR(19))\n",
    "    level_name = Column(VARCHAR(8))\n",
    "\n",
    "\n",
    "class ProductPrices(Base):\n",
    "\n",
    "    __tablename__ = 'product_prices'\n",
    "    __table_args__= {'extend_existing':True}\n",
    "\n",
    "    #| ------------------ Columnas ----------------|\n",
    "    \n",
    "    id =Column(Integer, primary_key=True)\n",
    "    product_id = Column(VARCHAR(6))\n",
    "    price = Integer\n",
    "\n",
    "class ProductDetails(Base):\n",
    "\n",
    "    __tablename__ = 'product_details'\n",
    "    __table_args__= {'extend_existing':True}\n",
    "    \n",
    "    #| ------------------ Columnas ----------------|\n",
    "\n",
    "    product_id = Column(VARCHAR(6), primary_key=True)\n",
    "    price = Column(Integer)\n",
    "    product_name = Column(VARCHAR(32))\n",
    "    category_id = Column(Integer)\n",
    "    segment_id = Column(Integer)\n",
    "    style_id = Column(Integer)\n",
    "    category_name = Column(VARCHAR(6))\n",
    "    segment_name =Column(VARCHAR(6))\n",
    "    style_name = Column(VARCHAR(19))\n",
    "\n",
    "\n",
    "class Sales(Base):\n",
    "\n",
    "    __tablename__ = 'sales'\n",
    "    __table_args__= {'extend_existing':True}\n",
    "\n",
    " #| ------------------ Columnas ----------------|\n",
    "    id = Column(Integer,  primary_key=True, autoincrement=True)\n",
    "    prod_id = Column(VARCHAR(6))\n",
    "    qty = Column(Integer)\n",
    "    price = Column(Integer)\n",
    "    discount = Column(Integer)\n",
    "    member = Column(Boolean)\n",
    "    txn_id =Column(VARCHAR(32))\n",
    "    start_txn_time = Column(TIMESTAMP(timezone=True))\n",
    "\n",
    "Base.metadata.create_all(engine)\n"
   ]
  },
  {
   "cell_type": "markdown",
   "id": "923a1852",
   "metadata": {},
   "source": [
    "## **1.1 CARGANDO LOS DATOS**"
   ]
  },
  {
   "cell_type": "code",
   "execution_count": 7,
   "id": "54a5022a",
   "metadata": {},
   "outputs": [],
   "source": [
    "from utils import funciones_utiles\n",
    "\n",
    "product_hierarchy_data = funciones_utiles.load_text_as_tuples('datos_tablas/product_hierarchy_data.txt')\n",
    "product_prices_data = funciones_utiles.load_text_as_tuples('datos_tablas/product_prices_data.txt')\n",
    "product_details_data =funciones_utiles.load_text_as_tuples('datos_tablas/product_details_data.txt')\n",
    "sales_data = funciones_utiles.load_text_as_tuples('datos_tablas/sales_data.txt')\n"
   ]
  },
  {
   "cell_type": "code",
   "execution_count": 8,
   "id": "3e919f0e",
   "metadata": {},
   "outputs": [],
   "source": [
    "# Creando la session\n",
    "Session = sessionmaker(bind=engine)\n",
    "session = Session()"
   ]
  },
  {
   "cell_type": "code",
   "execution_count": 9,
   "id": "93e387f2",
   "metadata": {},
   "outputs": [
    {
     "data": {
      "text/plain": [
       "[('1', None, 'Womens', 'Category'),\n",
       " ('2', None, 'Mens', 'Category'),\n",
       " ('3', '1', 'Jeans', 'Segment'),\n",
       " ('4', '1', 'Jacket', 'Segment'),\n",
       " ('5', '2', 'Shirt', 'Segment'),\n",
       " ('6', '2', 'Socks', 'Segment'),\n",
       " ('7', '3', 'Navy Oversized', 'Style'),\n",
       " ('8', '3', 'Black Straight', 'Style'),\n",
       " ('9', '3', 'Cream Relaxed', 'Style'),\n",
       " ('10', '4', 'Khaki Suit', 'Style'),\n",
       " ('11', '4', 'Indigo Rain', 'Style'),\n",
       " ('12', '4', 'Grey Fashion', 'Style'),\n",
       " ('13', '5', 'White Tee', 'Style'),\n",
       " ('14', '5', 'Teal Button Up', 'Style'),\n",
       " ('15', '5', 'Blue Polo', 'Style'),\n",
       " ('16', '6', 'Navy Solid', 'Style'),\n",
       " ('17', '6', 'White Striped', 'Style'),\n",
       " ('18', '6', 'Pink Fluro Polkadot', 'Style')]"
      ]
     },
     "execution_count": 9,
     "metadata": {},
     "output_type": "execute_result"
    }
   ],
   "source": [
    "product_hierarchy_data"
   ]
  },
  {
   "cell_type": "markdown",
   "id": "ea6faa9a",
   "metadata": {},
   "source": [
    "### **1.1.1 Cargando datos `product_hierarchy`**"
   ]
  },
  {
   "cell_type": "code",
   "execution_count": 10,
   "id": "81773a34",
   "metadata": {},
   "outputs": [
    {
     "name": "stdout",
     "output_type": "stream",
     "text": [
      "2025-04-28 14:31:43,229 INFO sqlalchemy.engine.Engine BEGIN (implicit)\n",
      "2025-04-28 14:31:43,230 INFO sqlalchemy.engine.Engine INSERT INTO product_hierarchy (id, level_text, level_name) VALUES (%(id)s, %(level_text)s, %(level_name)s)\n",
      "2025-04-28 14:31:43,231 INFO sqlalchemy.engine.Engine [generated in 0.00079s] [{'id': 1, 'level_text': 'Womens', 'level_name': 'Category'}, {'id': 2, 'level_text': 'Mens', 'level_name': 'Category'}]\n",
      "2025-04-28 14:31:43,233 INFO sqlalchemy.engine.Engine INSERT INTO product_hierarchy (id, parent_id, level_text, level_name) VALUES (%(id)s, %(parent_id)s, %(level_text)s, %(level_name)s)\n",
      "2025-04-28 14:31:43,234 INFO sqlalchemy.engine.Engine [generated in 0.00081s] [{'id': 3, 'parent_id': 1, 'level_text': 'Jeans', 'level_name': 'Segment'}, {'id': 4, 'parent_id': 1, 'level_text': 'Jacket', 'level_name': 'Segment'}, {'id': 5, 'parent_id': 2, 'level_text': 'Shirt', 'level_name': 'Segment'}, {'id': 6, 'parent_id': 2, 'level_text': 'Socks', 'level_name': 'Segment'}, {'id': 7, 'parent_id': 3, 'level_text': 'Navy Oversized', 'level_name': 'Style'}, {'id': 8, 'parent_id': 3, 'level_text': 'Black Straight', 'level_name': 'Style'}, {'id': 9, 'parent_id': 3, 'level_text': 'Cream Relaxed', 'level_name': 'Style'}, {'id': 10, 'parent_id': 4, 'level_text': 'Khaki Suit', 'level_name': 'Style'}  ... displaying 10 of 16 total bound parameter sets ...  {'id': 17, 'parent_id': 6, 'level_text': 'White Striped', 'level_name': 'Style'}, {'id': 18, 'parent_id': 6, 'level_text': 'Pink Fluro Polkadot', 'level_name': 'Style'}]\n",
      "2025-04-28 14:31:43,235 INFO sqlalchemy.engine.Engine COMMIT\n"
     ]
    }
   ],
   "source": [
    "\n",
    "objects = [\n",
    "    ProductHierarchy(\n",
    "\n",
    "        id =int(id),\n",
    "        parent_id = int(parent_id) if parent_id is not None else None,\n",
    "        level_text = level_text,\n",
    "        level_name = level_name\n",
    "    )\n",
    "    for id, parent_id, level_text, level_name in product_hierarchy_data\n",
    "]\n",
    "\n",
    "session.bulk_save_objects(objects)\n",
    "session.commit()"
   ]
  },
  {
   "cell_type": "markdown",
   "id": "7aa14229",
   "metadata": {},
   "source": [
    "### **1.1.2 Cargando datos `ProductPrices`**"
   ]
  },
  {
   "cell_type": "code",
   "execution_count": 11,
   "id": "0e9d6a1a",
   "metadata": {},
   "outputs": [
    {
     "name": "stdout",
     "output_type": "stream",
     "text": [
      "2025-04-28 14:31:43,258 INFO sqlalchemy.engine.Engine BEGIN (implicit)\n",
      "2025-04-28 14:31:43,259 INFO sqlalchemy.engine.Engine INSERT INTO product_prices (id, product_id) VALUES (%(id)s, %(product_id)s)\n",
      "2025-04-28 14:31:43,260 INFO sqlalchemy.engine.Engine [generated in 0.00102s] [{'id': 7, 'product_id': 'c4a632'}, {'id': 8, 'product_id': 'e83aa3'}, {'id': 9, 'product_id': 'e31d39'}, {'id': 10, 'product_id': 'd5e9a6'}, {'id': 11, 'product_id': '72f5d4'}, {'id': 12, 'product_id': '9ec847'}, {'id': 13, 'product_id': '5d267b'}, {'id': 14, 'product_id': 'c8d436'}  ... displaying 10 of 12 total bound parameter sets ...  {'id': 17, 'product_id': 'b9a74d'}, {'id': 18, 'product_id': '2feb6b'}]\n",
      "2025-04-28 14:31:43,262 INFO sqlalchemy.engine.Engine COMMIT\n"
     ]
    }
   ],
   "source": [
    "\n",
    "objects = [\n",
    "    ProductPrices(\n",
    "\n",
    "        id =int(id),\n",
    "        product_id = product_id,\n",
    "        price = int(price)\n",
    "    )\n",
    "    for id, product_id, price in product_prices_data\n",
    "]\n",
    "\n",
    "session.bulk_save_objects(objects)\n",
    "session.commit()"
   ]
  },
  {
   "cell_type": "markdown",
   "id": "541e165d",
   "metadata": {},
   "source": [
    "### **1.1.3 Cargando datos `ProductDetails`**"
   ]
  },
  {
   "cell_type": "code",
   "execution_count": 12,
   "id": "3accbcdb",
   "metadata": {},
   "outputs": [
    {
     "name": "stdout",
     "output_type": "stream",
     "text": [
      "2025-04-28 14:31:43,275 INFO sqlalchemy.engine.Engine BEGIN (implicit)\n",
      "2025-04-28 14:31:43,276 INFO sqlalchemy.engine.Engine INSERT INTO product_details (product_id, price, product_name, category_id, segment_id, style_id, category_name, segment_name, style_name) VALUES (%(product_id)s, %(price)s, %(product_name)s, %(category_id)s, %(segment_id)s, %(style_id)s, %(category_name)s, %(segment_name)s, %(style_name)s)\n",
      "2025-04-28 14:31:43,277 INFO sqlalchemy.engine.Engine [generated in 0.00086s] [{'product_id': 'c4a632', 'price': 13, 'product_name': 'Navy Oversized Jeans - Womens', 'category_id': 1, 'segment_id': 3, 'style_id': 7, 'category_name': 'Womens', 'segment_name': 'Jeans', 'style_name': 'Navy Oversized'}, {'product_id': 'e83aa3', 'price': 32, 'product_name': 'Black Straight Jeans - Womens', 'category_id': 1, 'segment_id': 3, 'style_id': 8, 'category_name': 'Womens', 'segment_name': 'Jeans', 'style_name': 'Black Straight'}, {'product_id': 'e31d39', 'price': 10, 'product_name': 'Cream Relaxed Jeans - Womens', 'category_id': 1, 'segment_id': 3, 'style_id': 9, 'category_name': 'Womens', 'segment_name': 'Jeans', 'style_name': 'Cream Relaxed'}, {'product_id': 'd5e9a6', 'price': 23, 'product_name': 'Khaki Suit Jacket - Womens', 'category_id': 1, 'segment_id': 4, 'style_id': 10, 'category_name': 'Womens', 'segment_name': 'Jacket', 'style_name': 'Khaki Suit'}, {'product_id': '72f5d4', 'price': 19, 'product_name': 'Indigo Rain Jacket - Womens', 'category_id': 1, 'segment_id': 4, 'style_id': 11, 'category_name': 'Womens', 'segment_name': 'Jacket', 'style_name': 'Indigo Rain'}, {'product_id': '9ec847', 'price': 54, 'product_name': 'Grey Fashion Jacket - Womens', 'category_id': 1, 'segment_id': 4, 'style_id': 12, 'category_name': 'Womens', 'segment_name': 'Jacket', 'style_name': 'Grey Fashion'}, {'product_id': '5d267b', 'price': 40, 'product_name': 'White Tee Shirt - Mens', 'category_id': 2, 'segment_id': 5, 'style_id': 13, 'category_name': 'Mens', 'segment_name': 'Shirt', 'style_name': 'White Tee'}, {'product_id': 'c8d436', 'price': 10, 'product_name': 'Teal Button Up Shirt - Mens', 'category_id': 2, 'segment_id': 5, 'style_id': 14, 'category_name': 'Mens', 'segment_name': 'Shirt', 'style_name': 'Teal Button Up'}  ... displaying 10 of 12 total bound parameter sets ...  {'product_id': 'b9a74d', 'price': 17, 'product_name': 'White Striped Socks - Mens', 'category_id': 2, 'segment_id': 6, 'style_id': 17, 'category_name': 'Mens', 'segment_name': 'Socks', 'style_name': 'White Striped'}, {'product_id': '2feb6b', 'price': 29, 'product_name': 'Pink Fluro Polkadot Socks - Mens', 'category_id': 2, 'segment_id': 6, 'style_id': 18, 'category_name': 'Mens', 'segment_name': 'Socks', 'style_name': 'Pink Fluro Polkadot'}]\n",
      "2025-04-28 14:31:43,279 INFO sqlalchemy.engine.Engine COMMIT\n"
     ]
    }
   ],
   "source": [
    "objects = [\n",
    "    ProductDetails(\n",
    "\n",
    "        product_id = product_id, \n",
    "        price = int(price),\n",
    "        product_name = product_name,\n",
    "        category_id = int(category_id),\n",
    "        segment_id = int(segment_id),\n",
    "        style_id = int(style_id),\n",
    "        category_name = category_name,\n",
    "        segment_name =segment_name,\n",
    "        style_name = style_name,\n",
    "    )\n",
    "    for product_id, price, product_name, category_id, segment_id,  style_id, category_name,  segment_name, style_name in product_details_data\n",
    "]\n",
    "\n",
    "session.bulk_save_objects(objects)\n",
    "session.commit()"
   ]
  },
  {
   "cell_type": "markdown",
   "id": "c35ed3cd",
   "metadata": {},
   "source": [
    "### **1.1.3 Cargando datos `Sales`**"
   ]
  },
  {
   "cell_type": "code",
   "execution_count": 13,
   "id": "4dec53db",
   "metadata": {},
   "outputs": [
    {
     "name": "stdout",
     "output_type": "stream",
     "text": [
      "2025-04-28 14:31:43,557 INFO sqlalchemy.engine.Engine BEGIN (implicit)\n",
      "2025-04-28 14:31:43,699 INFO sqlalchemy.engine.Engine INSERT INTO sales (prod_id, qty, price, discount, `member`, txn_id, start_txn_time) VALUES (%(prod_id)s, %(qty)s, %(price)s, %(discount)s, %(member)s, %(txn_id)s, %(start_txn_time)s)\n",
      "2025-04-28 14:31:43,700 INFO sqlalchemy.engine.Engine [generated in 0.04345s] [{'prod_id': 'c4a632', 'qty': 4, 'price': 13, 'discount': 17, 'member': 1, 'txn_id': '54f307', 'start_txn_time': '2021-02-13 01:59:43.296'}, {'prod_id': '5d267b', 'qty': 4, 'price': 40, 'discount': 17, 'member': 1, 'txn_id': '54f307', 'start_txn_time': '2021-02-13 01:59:43.296'}, {'prod_id': 'b9a74d', 'qty': 4, 'price': 17, 'discount': 17, 'member': 1, 'txn_id': '54f307', 'start_txn_time': '2021-02-13 01:59:43.296'}, {'prod_id': '2feb6b', 'qty': 2, 'price': 29, 'discount': 17, 'member': 1, 'txn_id': '54f307', 'start_txn_time': '2021-02-13 01:59:43.296'}, {'prod_id': 'c4a632', 'qty': 5, 'price': 13, 'discount': 21, 'member': 1, 'txn_id': '26cc98', 'start_txn_time': '2021-01-19 01:39:00.3456'}, {'prod_id': 'e31d39', 'qty': 2, 'price': 10, 'discount': 21, 'member': 1, 'txn_id': '26cc98', 'start_txn_time': '2021-01-19 01:39:00.3456'}, {'prod_id': '72f5d4', 'qty': 3, 'price': 19, 'discount': 21, 'member': 1, 'txn_id': '26cc98', 'start_txn_time': '2021-01-19 01:39:00.3456'}, {'prod_id': '2a2353', 'qty': 3, 'price': 57, 'discount': 21, 'member': 1, 'txn_id': '26cc98', 'start_txn_time': '2021-01-19 01:39:00.3456'}  ... displaying 10 of 15095 total bound parameter sets ...  {'prod_id': 'd5e9a6', 'qty': 2, 'price': 23, 'discount': 1, 'member': 1, 'txn_id': '93620b', 'start_txn_time': '2021-03-01 07:11:24.6624'}, {'prod_id': '5d267b', 'qty': 2, 'price': 40, 'discount': 1, 'member': 1, 'txn_id': '93620b', 'start_txn_time': '2021-03-01 07:11:24.6624'}]\n",
      "2025-04-28 14:31:44,087 INFO sqlalchemy.engine.Engine COMMIT\n"
     ]
    }
   ],
   "source": [
    "objects = [\n",
    "    Sales(\n",
    "\n",
    "        prod_id = prod_id,\n",
    "        qty = int(qty),\n",
    "        price = int(price),\n",
    "        discount = int(discount),\n",
    "        member =True if member == 't' else False,\n",
    "        txn_id =txn_id,\n",
    "        start_txn_time = start_txn_time,\n",
    "    )\n",
    "    for prod_id, qty, price, discount, member, txn_id,  start_txn_time in sales_data\n",
    "]\n",
    "\n",
    "session.bulk_save_objects(objects)\n",
    "session.commit()"
   ]
  },
  {
   "cell_type": "markdown",
   "id": "668521d3",
   "metadata": {},
   "source": [
    "<center><b><h1>PREGUNTAS</h1></b></center>"
   ]
  },
  {
   "cell_type": "markdown",
   "id": "9c839192",
   "metadata": {},
   "source": [
    "## **Análisis de Ventas de Alto Nivel**\n"
   ]
  },
  {
   "cell_type": "markdown",
   "id": "cbce3b24",
   "metadata": {},
   "source": [
    "# **1. ¿Cuál fue la cantidad total vendida de todos los productos?**"
   ]
  },
  {
   "cell_type": "code",
   "execution_count": 29,
   "id": "ef9f4895",
   "metadata": {},
   "outputs": [
    {
     "name": "stdout",
     "output_type": "stream",
     "text": [
      "2025-04-28 14:39:01,825 INFO sqlalchemy.engine.Engine BEGIN (implicit)\n",
      "2025-04-28 14:39:01,825 INFO sqlalchemy.engine.Engine \n",
      "\n",
      "    SELECT\n",
      "        d.product_name,\n",
      "        SUM(s.qty) AS total_vendida\n",
      "    FROM \n",
      "        sales s\n",
      "    INNER JOIN\n",
      "        product_details d\n",
      "        ON\n",
      "        s.prod_id = d.product_id\n",
      "    GROUP BY\n",
      "        d.product_name\n",
      "    ORDER BY\n",
      "        total_vendida DESC\n",
      "\n",
      "\n",
      "2025-04-28 14:39:01,826 INFO sqlalchemy.engine.Engine [raw sql] {}\n",
      "2025-04-28 14:39:01,868 INFO sqlalchemy.engine.Engine ROLLBACK\n"
     ]
    },
    {
     "data": {
      "text/html": [
       "<div>\n",
       "<style scoped>\n",
       "    .dataframe tbody tr th:only-of-type {\n",
       "        vertical-align: middle;\n",
       "    }\n",
       "\n",
       "    .dataframe tbody tr th {\n",
       "        vertical-align: top;\n",
       "    }\n",
       "\n",
       "    .dataframe thead th {\n",
       "        text-align: right;\n",
       "    }\n",
       "</style>\n",
       "<table border=\"1\" class=\"dataframe\">\n",
       "  <thead>\n",
       "    <tr style=\"text-align: right;\">\n",
       "      <th></th>\n",
       "      <th>product_name</th>\n",
       "      <th>total_vendida</th>\n",
       "    </tr>\n",
       "  </thead>\n",
       "  <tbody>\n",
       "    <tr>\n",
       "      <th>0</th>\n",
       "      <td>Grey Fashion Jacket - Womens</td>\n",
       "      <td>3876.0</td>\n",
       "    </tr>\n",
       "    <tr>\n",
       "      <th>1</th>\n",
       "      <td>Navy Oversized Jeans - Womens</td>\n",
       "      <td>3856.0</td>\n",
       "    </tr>\n",
       "    <tr>\n",
       "      <th>2</th>\n",
       "      <td>Blue Polo Shirt - Mens</td>\n",
       "      <td>3819.0</td>\n",
       "    </tr>\n",
       "    <tr>\n",
       "      <th>3</th>\n",
       "      <td>White Tee Shirt - Mens</td>\n",
       "      <td>3800.0</td>\n",
       "    </tr>\n",
       "    <tr>\n",
       "      <th>4</th>\n",
       "      <td>Navy Solid Socks - Mens</td>\n",
       "      <td>3792.0</td>\n",
       "    </tr>\n",
       "    <tr>\n",
       "      <th>5</th>\n",
       "      <td>Black Straight Jeans - Womens</td>\n",
       "      <td>3786.0</td>\n",
       "    </tr>\n",
       "    <tr>\n",
       "      <th>6</th>\n",
       "      <td>Pink Fluro Polkadot Socks - Mens</td>\n",
       "      <td>3770.0</td>\n",
       "    </tr>\n",
       "    <tr>\n",
       "      <th>7</th>\n",
       "      <td>Indigo Rain Jacket - Womens</td>\n",
       "      <td>3757.0</td>\n",
       "    </tr>\n",
       "    <tr>\n",
       "      <th>8</th>\n",
       "      <td>Khaki Suit Jacket - Womens</td>\n",
       "      <td>3752.0</td>\n",
       "    </tr>\n",
       "    <tr>\n",
       "      <th>9</th>\n",
       "      <td>Cream Relaxed Jeans - Womens</td>\n",
       "      <td>3707.0</td>\n",
       "    </tr>\n",
       "    <tr>\n",
       "      <th>10</th>\n",
       "      <td>White Striped Socks - Mens</td>\n",
       "      <td>3655.0</td>\n",
       "    </tr>\n",
       "    <tr>\n",
       "      <th>11</th>\n",
       "      <td>Teal Button Up Shirt - Mens</td>\n",
       "      <td>3646.0</td>\n",
       "    </tr>\n",
       "  </tbody>\n",
       "</table>\n",
       "</div>"
      ],
      "text/plain": [
       "                        product_name  total_vendida\n",
       "0       Grey Fashion Jacket - Womens         3876.0\n",
       "1      Navy Oversized Jeans - Womens         3856.0\n",
       "2             Blue Polo Shirt - Mens         3819.0\n",
       "3             White Tee Shirt - Mens         3800.0\n",
       "4            Navy Solid Socks - Mens         3792.0\n",
       "5      Black Straight Jeans - Womens         3786.0\n",
       "6   Pink Fluro Polkadot Socks - Mens         3770.0\n",
       "7        Indigo Rain Jacket - Womens         3757.0\n",
       "8         Khaki Suit Jacket - Womens         3752.0\n",
       "9       Cream Relaxed Jeans - Womens         3707.0\n",
       "10        White Striped Socks - Mens         3655.0\n",
       "11       Teal Button Up Shirt - Mens         3646.0"
      ]
     },
     "execution_count": 29,
     "metadata": {},
     "output_type": "execute_result"
    }
   ],
   "source": [
    "query = '''\n",
    "\n",
    "    SELECT\n",
    "        d.product_name,\n",
    "        SUM(s.qty) AS total_vendida\n",
    "    FROM \n",
    "        sales s\n",
    "    INNER JOIN\n",
    "        product_details d\n",
    "        ON\n",
    "        s.prod_id = d.product_id\n",
    "    GROUP BY\n",
    "        d.product_name\n",
    "    ORDER BY\n",
    "        total_vendida DESC\n",
    "\n",
    "'''\n",
    "\n",
    "\n",
    "pd.read_sql_query(query, con=engine)"
   ]
  },
  {
   "cell_type": "markdown",
   "id": "85ab3af9",
   "metadata": {},
   "source": [
    "# **2. ¿Cuál es el ingreso total generado por todos los productos antes de los descuentos?**\n"
   ]
  },
  {
   "cell_type": "code",
   "execution_count": 34,
   "id": "45b3d930",
   "metadata": {},
   "outputs": [
    {
     "name": "stdout",
     "output_type": "stream",
     "text": [
      "2025-04-28 14:42:56,917 INFO sqlalchemy.engine.Engine BEGIN (implicit)\n",
      "2025-04-28 14:42:56,917 INFO sqlalchemy.engine.Engine \n",
      "\n",
      "    SELECT\n",
      "        d.product_name,\n",
      "        SUM(s.qty) * SUM(s.price) as total_ingresos\n",
      "    FROM \n",
      "        sales s\n",
      "    INNER JOIN\n",
      "        product_details d\n",
      "        ON\n",
      "        s.prod_id = d.product_id\n",
      "    GROUP BY\n",
      "        d.product_name\n",
      "   \n",
      "\n",
      "\n",
      "2025-04-28 14:42:56,918 INFO sqlalchemy.engine.Engine [raw sql] {}\n",
      "2025-04-28 14:42:56,959 INFO sqlalchemy.engine.Engine ROLLBACK\n"
     ]
    },
    {
     "data": {
      "text/html": [
       "<div>\n",
       "<style scoped>\n",
       "    .dataframe tbody tr th:only-of-type {\n",
       "        vertical-align: middle;\n",
       "    }\n",
       "\n",
       "    .dataframe tbody tr th {\n",
       "        vertical-align: top;\n",
       "    }\n",
       "\n",
       "    .dataframe thead th {\n",
       "        text-align: right;\n",
       "    }\n",
       "</style>\n",
       "<table border=\"1\" class=\"dataframe\">\n",
       "  <thead>\n",
       "    <tr style=\"text-align: right;\">\n",
       "      <th></th>\n",
       "      <th>product_name</th>\n",
       "      <th>total_ingresos</th>\n",
       "    </tr>\n",
       "  </thead>\n",
       "  <tbody>\n",
       "    <tr>\n",
       "      <th>0</th>\n",
       "      <td>Navy Oversized Jeans - Womens</td>\n",
       "      <td>63863072.0</td>\n",
       "    </tr>\n",
       "    <tr>\n",
       "      <th>1</th>\n",
       "      <td>White Tee Shirt - Mens</td>\n",
       "      <td>192736000.0</td>\n",
       "    </tr>\n",
       "    <tr>\n",
       "      <th>2</th>\n",
       "      <td>White Striped Socks - Mens</td>\n",
       "      <td>77233805.0</td>\n",
       "    </tr>\n",
       "    <tr>\n",
       "      <th>3</th>\n",
       "      <td>Pink Fluro Polkadot Socks - Mens</td>\n",
       "      <td>137537140.0</td>\n",
       "    </tr>\n",
       "    <tr>\n",
       "      <th>4</th>\n",
       "      <td>Cream Relaxed Jeans - Womens</td>\n",
       "      <td>46078010.0</td>\n",
       "    </tr>\n",
       "    <tr>\n",
       "      <th>5</th>\n",
       "      <td>Indigo Rain Jacket - Womens</td>\n",
       "      <td>89228750.0</td>\n",
       "    </tr>\n",
       "    <tr>\n",
       "      <th>6</th>\n",
       "      <td>Blue Polo Shirt - Mens</td>\n",
       "      <td>276022044.0</td>\n",
       "    </tr>\n",
       "    <tr>\n",
       "      <th>7</th>\n",
       "      <td>Navy Solid Socks - Mens</td>\n",
       "      <td>174871872.0</td>\n",
       "    </tr>\n",
       "    <tr>\n",
       "      <th>8</th>\n",
       "      <td>Black Straight Jeans - Womens</td>\n",
       "      <td>150955392.0</td>\n",
       "    </tr>\n",
       "    <tr>\n",
       "      <th>9</th>\n",
       "      <td>Khaki Suit Jacket - Womens</td>\n",
       "      <td>107611112.0</td>\n",
       "    </tr>\n",
       "    <tr>\n",
       "      <th>10</th>\n",
       "      <td>Grey Fashion Jacket - Womens</td>\n",
       "      <td>266862600.0</td>\n",
       "    </tr>\n",
       "    <tr>\n",
       "      <th>11</th>\n",
       "      <td>Teal Button Up Shirt - Mens</td>\n",
       "      <td>45283320.0</td>\n",
       "    </tr>\n",
       "  </tbody>\n",
       "</table>\n",
       "</div>"
      ],
      "text/plain": [
       "                        product_name  total_ingresos\n",
       "0      Navy Oversized Jeans - Womens      63863072.0\n",
       "1             White Tee Shirt - Mens     192736000.0\n",
       "2         White Striped Socks - Mens      77233805.0\n",
       "3   Pink Fluro Polkadot Socks - Mens     137537140.0\n",
       "4       Cream Relaxed Jeans - Womens      46078010.0\n",
       "5        Indigo Rain Jacket - Womens      89228750.0\n",
       "6             Blue Polo Shirt - Mens     276022044.0\n",
       "7            Navy Solid Socks - Mens     174871872.0\n",
       "8      Black Straight Jeans - Womens     150955392.0\n",
       "9         Khaki Suit Jacket - Womens     107611112.0\n",
       "10      Grey Fashion Jacket - Womens     266862600.0\n",
       "11       Teal Button Up Shirt - Mens      45283320.0"
      ]
     },
     "execution_count": 34,
     "metadata": {},
     "output_type": "execute_result"
    }
   ],
   "source": [
    "query = '''\n",
    "\n",
    "    SELECT\n",
    "        d.product_name,\n",
    "        SUM(s.qty) * SUM(s.price) as total_ingresos\n",
    "    FROM \n",
    "        sales s\n",
    "    INNER JOIN\n",
    "        product_details d\n",
    "        ON\n",
    "        s.prod_id = d.product_id\n",
    "    GROUP BY\n",
    "        d.product_name\n",
    "   \n",
    "\n",
    "'''\n",
    "\n",
    "\n",
    "pd.read_sql_query(query, con=engine)"
   ]
  }
 ],
 "metadata": {
  "kernelspec": {
   "display_name": "Python 3",
   "language": "python",
   "name": "python3"
  },
  "language_info": {
   "codemirror_mode": {
    "name": "ipython",
    "version": 3
   },
   "file_extension": ".py",
   "mimetype": "text/x-python",
   "name": "python",
   "nbconvert_exporter": "python",
   "pygments_lexer": "ipython3",
   "version": "3.10.4"
  }
 },
 "nbformat": 4,
 "nbformat_minor": 5
}

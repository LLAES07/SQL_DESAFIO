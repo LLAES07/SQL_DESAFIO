{
 "cells": [
  {
   "cell_type": "code",
   "execution_count": 25,
   "id": "0ad491af",
   "metadata": {},
   "outputs": [],
   "source": [
    "# **IMPORTANDO LIBRERIAS**"
   ]
  },
  {
   "cell_type": "code",
   "execution_count": 26,
   "id": "e086a1e2",
   "metadata": {},
   "outputs": [],
   "source": [
    "import sys\n",
    "import os\n",
    "import pandas as pd\n",
    "from sqlalchemy import create_engine, text\n",
    "from dotenv import load_dotenv\n",
    "import os\n",
    "from sqlalchemy.orm import declarative_base, relationship\n",
    "from sqlalchemy import create_engine, Column, Integer, String, VARCHAR,Boolean, TIMESTAMP\n",
    "from sqlalchemy.types import DateTime\n",
    "from sqlalchemy.orm import sessionmaker\n",
    "\n",
    "\n",
    "sys.path.append(os.path.abspath(os.path.join('..')))"
   ]
  },
  {
   "cell_type": "code",
   "execution_count": 27,
   "id": "33a5a8a3",
   "metadata": {},
   "outputs": [],
   "source": [
    "load_dotenv()  # Carga las variables del archivo .env\n",
    "\n",
    "config = {\n",
    "    'host': os.getenv('HOST'),\n",
    "    'user': os.getenv('USER'),\n",
    "    'password': os.getenv('PASSWORD'),\n",
    "    'database': os.getenv('DATABASE'),\n",
    "    'port': os.getenv('PORT')\n",
    "}"
   ]
  },
  {
   "cell_type": "code",
   "execution_count": 28,
   "id": "01199a75",
   "metadata": {},
   "outputs": [],
   "source": [
    "# Crear la URL de conexión para SQLAlchemy\n",
    "db_url = f\"mysql+pymysql://{config['user']}:{config['password']}@{config['host']}:{config['port']}/caso_7\"\n",
    "\n",
    "# Crear el motor de SQLAlchemy\n",
    "engine = create_engine(db_url, echo=True)\n",
    "\n"
   ]
  },
  {
   "cell_type": "code",
   "execution_count": 29,
   "id": "ecd85649",
   "metadata": {},
   "outputs": [],
   "source": [
    "Base = declarative_base()\n"
   ]
  },
  {
   "cell_type": "markdown",
   "id": "e0318abf",
   "metadata": {},
   "source": [
    "# **1. GENERACIÓN DE TABLAS**"
   ]
  },
  {
   "cell_type": "code",
   "execution_count": 30,
   "id": "fc2f7e80",
   "metadata": {},
   "outputs": [
    {
     "name": "stdout",
     "output_type": "stream",
     "text": [
      "2025-04-28 14:21:24,432 INFO sqlalchemy.engine.Engine SELECT DATABASE()\n",
      "2025-04-28 14:21:24,432 INFO sqlalchemy.engine.Engine [raw sql] {}\n",
      "2025-04-28 14:21:24,434 INFO sqlalchemy.engine.Engine SELECT @@sql_mode\n",
      "2025-04-28 14:21:24,435 INFO sqlalchemy.engine.Engine [raw sql] {}\n",
      "2025-04-28 14:21:24,435 INFO sqlalchemy.engine.Engine SELECT @@lower_case_table_names\n",
      "2025-04-28 14:21:24,436 INFO sqlalchemy.engine.Engine [raw sql] {}\n",
      "2025-04-28 14:21:24,438 INFO sqlalchemy.engine.Engine BEGIN (implicit)\n",
      "2025-04-28 14:21:24,438 INFO sqlalchemy.engine.Engine DESCRIBE `caso_7`.`product_hierarchy`\n"
     ]
    },
    {
     "name": "stdout",
     "output_type": "stream",
     "text": [
      "2025-04-28 14:21:24,439 INFO sqlalchemy.engine.Engine [raw sql] {}\n",
      "2025-04-28 14:21:24,445 INFO sqlalchemy.engine.Engine DESCRIBE `caso_7`.`product_prices`\n",
      "2025-04-28 14:21:24,446 INFO sqlalchemy.engine.Engine [raw sql] {}\n",
      "2025-04-28 14:21:24,448 INFO sqlalchemy.engine.Engine DESCRIBE `caso_7`.`product_details`\n",
      "2025-04-28 14:21:24,449 INFO sqlalchemy.engine.Engine [raw sql] {}\n",
      "2025-04-28 14:21:24,450 INFO sqlalchemy.engine.Engine DESCRIBE `caso_7`.`sales`\n",
      "2025-04-28 14:21:24,452 INFO sqlalchemy.engine.Engine [raw sql] {}\n",
      "2025-04-28 14:21:24,454 INFO sqlalchemy.engine.Engine \n",
      "CREATE TABLE product_details (\n",
      "\tproduct_id VARCHAR(6) NOT NULL, \n",
      "\tprice INTEGER, \n",
      "\tproduct_name VARCHAR(32), \n",
      "\tcategory_id INTEGER, \n",
      "\tsegment_id INTEGER, \n",
      "\tstyle_id INTEGER, \n",
      "\tcategory_name VARCHAR(6), \n",
      "\tsegment_name VARCHAR(6), \n",
      "\tstyle_name VARCHAR(19), \n",
      "\tPRIMARY KEY (product_id)\n",
      ")\n",
      "\n",
      "\n",
      "2025-04-28 14:21:24,455 INFO sqlalchemy.engine.Engine [no key 0.00132s] {}\n",
      "2025-04-28 14:21:24,473 INFO sqlalchemy.engine.Engine \n",
      "CREATE TABLE sales (\n",
      "\tid INTEGER NOT NULL AUTO_INCREMENT, \n",
      "\tprod_id VARCHAR(6), \n",
      "\tprice INTEGER, \n",
      "\tdiscount INTEGER, \n",
      "\t`member` BOOL, \n",
      "\ttxn_id VARCHAR(32), \n",
      "\tstart_txn_time TIMESTAMP NULL, \n",
      "\tPRIMARY KEY (id)\n",
      ")\n",
      "\n",
      "\n",
      "2025-04-28 14:21:24,475 INFO sqlalchemy.engine.Engine [no key 0.00071s] {}\n",
      "2025-04-28 14:21:24,490 INFO sqlalchemy.engine.Engine COMMIT\n"
     ]
    }
   ],
   "source": [
    "class ProductHierarchy(Base):\n",
    "\n",
    "    __tablename__ = 'product_hierarchy'\n",
    "    __table_args__= {'extend_existing':True}\n",
    "\n",
    "    #| ------------------ Columnas ----------------|\n",
    "\n",
    "    id =Column(Integer, primary_key=True)\n",
    "    parent_id = Column(Integer)\n",
    "    level_text = Column(VARCHAR(19))\n",
    "    level_name = Column(VARCHAR(8))\n",
    "\n",
    "\n",
    "class ProductPrices(Base):\n",
    "\n",
    "    __tablename__ = 'product_prices'\n",
    "    __table_args__= {'extend_existing':True}\n",
    "\n",
    "    #| ------------------ Columnas ----------------|\n",
    "    \n",
    "    id =Column(Integer, primary_key=True)\n",
    "    product_id = Column(VARCHAR(6))\n",
    "    price = Integer\n",
    "\n",
    "class ProductDetails(Base):\n",
    "\n",
    "    __tablename__ = 'product_details'\n",
    "    __table_args__= {'extend_existing':True}\n",
    "    \n",
    "    #| ------------------ Columnas ----------------|\n",
    "\n",
    "    product_id = Column(VARCHAR(6), primary_key=True)\n",
    "    price = Column(Integer)\n",
    "    product_name = Column(VARCHAR(32))\n",
    "    category_id = Column(Integer)\n",
    "    segment_id = Column(Integer)\n",
    "    style_id = Column(Integer)\n",
    "    category_name = Column(VARCHAR(6))\n",
    "    segment_name =Column(VARCHAR(6))\n",
    "    style_name = Column(VARCHAR(19))\n",
    "\n",
    "\n",
    "class Sales(Base):\n",
    "\n",
    "    __tablename__ = 'sales'\n",
    "    __table_args__= {'extend_existing':True}\n",
    "\n",
    " #| ------------------ Columnas ----------------|\n",
    "    id = Column(Integer, primary_key=True)\n",
    "    prod_id = Column(VARCHAR(6))\n",
    "    price = Column(Integer)\n",
    "    discount = Column(Integer)\n",
    "    member = Column(Boolean)\n",
    "    txn_id =Column(VARCHAR(32))\n",
    "    start_txn_time = Column(TIMESTAMP(timezone=True))\n",
    "\n",
    "Base.metadata.create_all(engine)\n"
   ]
  },
  {
   "cell_type": "markdown",
   "id": "923a1852",
   "metadata": {},
   "source": [
    "## **1.1 CARGANDO LOS DATOS**"
   ]
  },
  {
   "cell_type": "code",
   "execution_count": 31,
   "id": "54a5022a",
   "metadata": {},
   "outputs": [],
   "source": [
    "from utils import funciones_utiles\n",
    "\n",
    "product_hierarchy_data = funciones_utiles.load_text_as_tuples('datos_tablas/product_hierarchy_data.txt')\n",
    "product_prices_data = funciones_utiles.load_text_as_tuples('datos_tablas/product_prices_data.txt')\n",
    "product_details_data =funciones_utiles.load_text_as_tuples('datos_tablas/product_details_data.txt')\n",
    "sales_data = funciones_utiles.load_text_as_tuples('datos_tablas/sales_data.txt')\n"
   ]
  },
  {
   "cell_type": "code",
   "execution_count": 32,
   "id": "3e919f0e",
   "metadata": {},
   "outputs": [],
   "source": [
    "# Creando la session\n",
    "Session = sessionmaker(bind=engine)\n",
    "session = Session()"
   ]
  },
  {
   "cell_type": "code",
   "execution_count": 33,
   "id": "93e387f2",
   "metadata": {},
   "outputs": [
    {
     "data": {
      "text/plain": [
       "[('1', None, 'Womens', 'Category'),\n",
       " ('2', None, 'Mens', 'Category'),\n",
       " ('3', '1', 'Jeans', 'Segment'),\n",
       " ('4', '1', 'Jacket', 'Segment'),\n",
       " ('5', '2', 'Shirt', 'Segment'),\n",
       " ('6', '2', 'Socks', 'Segment'),\n",
       " ('7', '3', 'Navy Oversized', 'Style'),\n",
       " ('8', '3', 'Black Straight', 'Style'),\n",
       " ('9', '3', 'Cream Relaxed', 'Style'),\n",
       " ('10', '4', 'Khaki Suit', 'Style'),\n",
       " ('11', '4', 'Indigo Rain', 'Style'),\n",
       " ('12', '4', 'Grey Fashion', 'Style'),\n",
       " ('13', '5', 'White Tee', 'Style'),\n",
       " ('14', '5', 'Teal Button Up', 'Style'),\n",
       " ('15', '5', 'Blue Polo', 'Style'),\n",
       " ('16', '6', 'Navy Solid', 'Style'),\n",
       " ('17', '6', 'White Striped', 'Style'),\n",
       " ('18', '6', 'Pink Fluro Polkadot', 'Style')]"
      ]
     },
     "execution_count": 33,
     "metadata": {},
     "output_type": "execute_result"
    }
   ],
   "source": [
    "product_hierarchy_data"
   ]
  },
  {
   "cell_type": "markdown",
   "id": "ea6faa9a",
   "metadata": {},
   "source": [
    "### **1.1.1 Cargando datos `product_hierarchy`**"
   ]
  },
  {
   "cell_type": "code",
   "execution_count": 35,
   "id": "81773a34",
   "metadata": {},
   "outputs": [
    {
     "name": "stdout",
     "output_type": "stream",
     "text": [
      "2025-04-28 14:21:36,857 INFO sqlalchemy.engine.Engine BEGIN (implicit)\n",
      "2025-04-28 14:21:36,858 INFO sqlalchemy.engine.Engine INSERT INTO product_hierarchy (id, level_text, level_name) VALUES (%(id)s, %(level_text)s, %(level_name)s)\n",
      "2025-04-28 14:21:36,859 INFO sqlalchemy.engine.Engine [generated in 0.00081s] [{'id': 1, 'level_text': 'Womens', 'level_name': 'Category'}, {'id': 2, 'level_text': 'Mens', 'level_name': 'Category'}]\n",
      "2025-04-28 14:21:36,862 INFO sqlalchemy.engine.Engine INSERT INTO product_hierarchy (id, parent_id, level_text, level_name) VALUES (%(id)s, %(parent_id)s, %(level_text)s, %(level_name)s)\n",
      "2025-04-28 14:21:36,862 INFO sqlalchemy.engine.Engine [generated in 0.00070s] [{'id': 3, 'parent_id': 1, 'level_text': 'Jeans', 'level_name': 'Segment'}, {'id': 4, 'parent_id': 1, 'level_text': 'Jacket', 'level_name': 'Segment'}, {'id': 5, 'parent_id': 2, 'level_text': 'Shirt', 'level_name': 'Segment'}, {'id': 6, 'parent_id': 2, 'level_text': 'Socks', 'level_name': 'Segment'}, {'id': 7, 'parent_id': 3, 'level_text': 'Navy Oversized', 'level_name': 'Style'}, {'id': 8, 'parent_id': 3, 'level_text': 'Black Straight', 'level_name': 'Style'}, {'id': 9, 'parent_id': 3, 'level_text': 'Cream Relaxed', 'level_name': 'Style'}, {'id': 10, 'parent_id': 4, 'level_text': 'Khaki Suit', 'level_name': 'Style'}  ... displaying 10 of 16 total bound parameter sets ...  {'id': 17, 'parent_id': 6, 'level_text': 'White Striped', 'level_name': 'Style'}, {'id': 18, 'parent_id': 6, 'level_text': 'Pink Fluro Polkadot', 'level_name': 'Style'}]\n",
      "2025-04-28 14:21:36,863 INFO sqlalchemy.engine.Engine COMMIT\n"
     ]
    }
   ],
   "source": [
    "\n",
    "objects = [\n",
    "    ProductHierarchy(\n",
    "\n",
    "        id =int(id),\n",
    "        parent_id = int(parent_id) if parent_id is not None else None,\n",
    "        level_text = level_text,\n",
    "        level_name = level_name\n",
    "    )\n",
    "    for id, parent_id, level_text, level_name in product_hierarchy_data\n",
    "]\n",
    "\n",
    "session.bulk_save_objects(objects)\n",
    "session.commit()"
   ]
  },
  {
   "cell_type": "markdown",
   "id": "7aa14229",
   "metadata": {},
   "source": [
    "### **1.1.2 Cargando datos `ProductPrices`**"
   ]
  },
  {
   "cell_type": "code",
   "execution_count": 36,
   "id": "0e9d6a1a",
   "metadata": {},
   "outputs": [
    {
     "name": "stdout",
     "output_type": "stream",
     "text": [
      "2025-04-28 14:21:39,657 INFO sqlalchemy.engine.Engine BEGIN (implicit)\n",
      "2025-04-28 14:21:39,658 INFO sqlalchemy.engine.Engine INSERT INTO product_prices (id, product_id) VALUES (%(id)s, %(product_id)s)\n",
      "2025-04-28 14:21:39,659 INFO sqlalchemy.engine.Engine [generated in 0.00073s] [{'id': 7, 'product_id': 'c4a632'}, {'id': 8, 'product_id': 'e83aa3'}, {'id': 9, 'product_id': 'e31d39'}, {'id': 10, 'product_id': 'd5e9a6'}, {'id': 11, 'product_id': '72f5d4'}, {'id': 12, 'product_id': '9ec847'}, {'id': 13, 'product_id': '5d267b'}, {'id': 14, 'product_id': 'c8d436'}  ... displaying 10 of 12 total bound parameter sets ...  {'id': 17, 'product_id': 'b9a74d'}, {'id': 18, 'product_id': '2feb6b'}]\n",
      "2025-04-28 14:21:39,661 INFO sqlalchemy.engine.Engine COMMIT\n"
     ]
    }
   ],
   "source": [
    "\n",
    "objects = [\n",
    "    ProductPrices(\n",
    "\n",
    "        id =int(id),\n",
    "        product_id = product_id,\n",
    "        price = int(price)\n",
    "    )\n",
    "    for id, product_id, price in product_prices_data\n",
    "]\n",
    "\n",
    "session.bulk_save_objects(objects)\n",
    "session.commit()"
   ]
  },
  {
   "cell_type": "markdown",
   "id": "541e165d",
   "metadata": {},
   "source": [
    "### **1.1.3 Cargando datos `ProductDetails`**"
   ]
  },
  {
   "cell_type": "code",
   "execution_count": 37,
   "id": "3accbcdb",
   "metadata": {},
   "outputs": [
    {
     "name": "stdout",
     "output_type": "stream",
     "text": [
      "2025-04-28 14:21:42,980 INFO sqlalchemy.engine.Engine BEGIN (implicit)\n",
      "2025-04-28 14:21:42,983 INFO sqlalchemy.engine.Engine INSERT INTO product_details (product_id, price, product_name, category_id, segment_id, style_id, category_name, segment_name, style_name) VALUES (%(product_id)s, %(price)s, %(product_name)s, %(category_id)s, %(segment_id)s, %(style_id)s, %(category_name)s, %(segment_name)s, %(style_name)s)\n",
      "2025-04-28 14:21:42,983 INFO sqlalchemy.engine.Engine [generated in 0.00081s] [{'product_id': 'c4a632', 'price': 13, 'product_name': 'Navy Oversized Jeans - Womens', 'category_id': 1, 'segment_id': 3, 'style_id': 7, 'category_name': 'Womens', 'segment_name': 'Jeans', 'style_name': 'Navy Oversized'}, {'product_id': 'e83aa3', 'price': 32, 'product_name': 'Black Straight Jeans - Womens', 'category_id': 1, 'segment_id': 3, 'style_id': 8, 'category_name': 'Womens', 'segment_name': 'Jeans', 'style_name': 'Black Straight'}, {'product_id': 'e31d39', 'price': 10, 'product_name': 'Cream Relaxed Jeans - Womens', 'category_id': 1, 'segment_id': 3, 'style_id': 9, 'category_name': 'Womens', 'segment_name': 'Jeans', 'style_name': 'Cream Relaxed'}, {'product_id': 'd5e9a6', 'price': 23, 'product_name': 'Khaki Suit Jacket - Womens', 'category_id': 1, 'segment_id': 4, 'style_id': 10, 'category_name': 'Womens', 'segment_name': 'Jacket', 'style_name': 'Khaki Suit'}, {'product_id': '72f5d4', 'price': 19, 'product_name': 'Indigo Rain Jacket - Womens', 'category_id': 1, 'segment_id': 4, 'style_id': 11, 'category_name': 'Womens', 'segment_name': 'Jacket', 'style_name': 'Indigo Rain'}, {'product_id': '9ec847', 'price': 54, 'product_name': 'Grey Fashion Jacket - Womens', 'category_id': 1, 'segment_id': 4, 'style_id': 12, 'category_name': 'Womens', 'segment_name': 'Jacket', 'style_name': 'Grey Fashion'}, {'product_id': '5d267b', 'price': 40, 'product_name': 'White Tee Shirt - Mens', 'category_id': 2, 'segment_id': 5, 'style_id': 13, 'category_name': 'Mens', 'segment_name': 'Shirt', 'style_name': 'White Tee'}, {'product_id': 'c8d436', 'price': 10, 'product_name': 'Teal Button Up Shirt - Mens', 'category_id': 2, 'segment_id': 5, 'style_id': 14, 'category_name': 'Mens', 'segment_name': 'Shirt', 'style_name': 'Teal Button Up'}  ... displaying 10 of 12 total bound parameter sets ...  {'product_id': 'b9a74d', 'price': 17, 'product_name': 'White Striped Socks - Mens', 'category_id': 2, 'segment_id': 6, 'style_id': 17, 'category_name': 'Mens', 'segment_name': 'Socks', 'style_name': 'White Striped'}, {'product_id': '2feb6b', 'price': 29, 'product_name': 'Pink Fluro Polkadot Socks - Mens', 'category_id': 2, 'segment_id': 6, 'style_id': 18, 'category_name': 'Mens', 'segment_name': 'Socks', 'style_name': 'Pink Fluro Polkadot'}]\n",
      "2025-04-28 14:21:42,987 INFO sqlalchemy.engine.Engine COMMIT\n"
     ]
    }
   ],
   "source": [
    "objects = [\n",
    "    ProductDetails(\n",
    "\n",
    "        product_id = product_id, \n",
    "        price = int(price),\n",
    "        product_name = product_name,\n",
    "        category_id = int(category_id),\n",
    "        segment_id = int(segment_id),\n",
    "        style_id = int(style_id),\n",
    "        category_name = category_name,\n",
    "        segment_name =segment_name,\n",
    "        style_name = style_name,\n",
    "    )\n",
    "    for product_id, price, product_name, category_id, segment_id,  style_id, category_name,  segment_name, style_name in product_details_data\n",
    "]\n",
    "\n",
    "session.bulk_save_objects(objects)\n",
    "session.commit()"
   ]
  },
  {
   "cell_type": "code",
   "execution_count": null,
   "id": "a325e4d8",
   "metadata": {},
   "outputs": [],
   "source": []
  }
 ],
 "metadata": {
  "kernelspec": {
   "display_name": "Python 3",
   "language": "python",
   "name": "python3"
  },
  "language_info": {
   "codemirror_mode": {
    "name": "ipython",
    "version": 3
   },
   "file_extension": ".py",
   "mimetype": "text/x-python",
   "name": "python",
   "nbconvert_exporter": "python",
   "pygments_lexer": "ipython3",
   "version": "3.10.4"
  }
 },
 "nbformat": 4,
 "nbformat_minor": 5
}

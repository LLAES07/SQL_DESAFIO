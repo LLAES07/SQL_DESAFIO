{
 "cells": [
  {
   "cell_type": "code",
   "execution_count": 1,
   "id": "0ad491af",
   "metadata": {},
   "outputs": [],
   "source": [
    "# **IMPORTANDO LIBRERIAS**"
   ]
  },
  {
   "cell_type": "code",
   "execution_count": 2,
   "id": "e086a1e2",
   "metadata": {},
   "outputs": [],
   "source": [
    "import sys\n",
    "import os\n",
    "import pandas as pd\n",
    "from sqlalchemy import create_engine, text\n",
    "from dotenv import load_dotenv\n",
    "import os\n",
    "from sqlalchemy.orm import declarative_base, relationship\n",
    "from sqlalchemy import create_engine, Column, Integer, String, VARCHAR,Boolean, TIMESTAMP\n",
    "from sqlalchemy.types import DateTime\n",
    "from sqlalchemy.orm import sessionmaker\n",
    "\n",
    "\n",
    "sys.path.append(os.path.abspath(os.path.join('..')))"
   ]
  },
  {
   "cell_type": "code",
   "execution_count": 3,
   "id": "33a5a8a3",
   "metadata": {},
   "outputs": [],
   "source": [
    "load_dotenv()  # Carga las variables del archivo .env\n",
    "\n",
    "config = {\n",
    "    'host': os.getenv('HOST'),\n",
    "    'user': os.getenv('USER'),\n",
    "    'password': os.getenv('PASSWORD'),\n",
    "    'database': os.getenv('DATABASE'),\n",
    "    'port': os.getenv('PORT')\n",
    "}"
   ]
  },
  {
   "cell_type": "code",
   "execution_count": 4,
   "id": "01199a75",
   "metadata": {},
   "outputs": [],
   "source": [
    "# Crear la URL de conexión para SQLAlchemy\n",
    "db_url = f\"mysql+pymysql://{config['user']}:{config['password']}@{config['host']}:{config['port']}/caso_7\"\n",
    "\n",
    "# Crear el motor de SQLAlchemy\n",
    "engine = create_engine(db_url, echo=True)\n",
    "\n"
   ]
  },
  {
   "cell_type": "code",
   "execution_count": 5,
   "id": "ecd85649",
   "metadata": {},
   "outputs": [],
   "source": [
    "Base = declarative_base()\n"
   ]
  },
  {
   "cell_type": "markdown",
   "id": "e0318abf",
   "metadata": {},
   "source": [
    "# **1. GENERACIÓN DE TABLAS**"
   ]
  },
  {
   "cell_type": "code",
   "execution_count": 6,
   "id": "fc2f7e80",
   "metadata": {},
   "outputs": [
    {
     "name": "stdout",
     "output_type": "stream",
     "text": [
      "2025-04-29 13:38:25,626 INFO sqlalchemy.engine.Engine SELECT DATABASE()\n",
      "2025-04-29 13:38:25,628 INFO sqlalchemy.engine.Engine [raw sql] {}\n",
      "2025-04-29 13:38:25,631 INFO sqlalchemy.engine.Engine SELECT @@sql_mode\n",
      "2025-04-29 13:38:25,632 INFO sqlalchemy.engine.Engine [raw sql] {}\n",
      "2025-04-29 13:38:25,633 INFO sqlalchemy.engine.Engine SELECT @@lower_case_table_names\n",
      "2025-04-29 13:38:25,633 INFO sqlalchemy.engine.Engine [raw sql] {}\n",
      "2025-04-29 13:38:25,635 INFO sqlalchemy.engine.Engine BEGIN (implicit)\n",
      "2025-04-29 13:38:25,635 INFO sqlalchemy.engine.Engine DESCRIBE `caso_7`.`product_hierarchy`\n",
      "2025-04-29 13:38:25,636 INFO sqlalchemy.engine.Engine [raw sql] {}\n",
      "2025-04-29 13:38:25,666 INFO sqlalchemy.engine.Engine DESCRIBE `caso_7`.`product_prices`\n",
      "2025-04-29 13:38:25,667 INFO sqlalchemy.engine.Engine [raw sql] {}\n",
      "2025-04-29 13:38:25,669 INFO sqlalchemy.engine.Engine DESCRIBE `caso_7`.`product_details`\n",
      "2025-04-29 13:38:25,669 INFO sqlalchemy.engine.Engine [raw sql] {}\n",
      "2025-04-29 13:38:25,671 INFO sqlalchemy.engine.Engine DESCRIBE `caso_7`.`sales`\n",
      "2025-04-29 13:38:25,672 INFO sqlalchemy.engine.Engine [raw sql] {}\n",
      "2025-04-29 13:38:25,673 INFO sqlalchemy.engine.Engine COMMIT\n"
     ]
    }
   ],
   "source": [
    "class ProductHierarchy(Base):\n",
    "\n",
    "    __tablename__ = 'product_hierarchy'\n",
    "    __table_args__= {'extend_existing':True}\n",
    "\n",
    "    #| ------------------ Columnas ----------------|\n",
    "\n",
    "    id =Column(Integer, primary_key=True)\n",
    "    parent_id = Column(Integer)\n",
    "    level_text = Column(VARCHAR(19))\n",
    "    level_name = Column(VARCHAR(8))\n",
    "\n",
    "\n",
    "class ProductPrices(Base):\n",
    "\n",
    "    __tablename__ = 'product_prices'\n",
    "    __table_args__= {'extend_existing':True}\n",
    "\n",
    "    #| ------------------ Columnas ----------------|\n",
    "    \n",
    "    id =Column(Integer, primary_key=True)\n",
    "    product_id = Column(VARCHAR(6))\n",
    "    price = Integer\n",
    "\n",
    "class ProductDetails(Base):\n",
    "\n",
    "    __tablename__ = 'product_details'\n",
    "    __table_args__= {'extend_existing':True}\n",
    "    \n",
    "    #| ------------------ Columnas ----------------|\n",
    "\n",
    "    product_id = Column(VARCHAR(6), primary_key=True)\n",
    "    price = Column(Integer)\n",
    "    product_name = Column(VARCHAR(32))\n",
    "    category_id = Column(Integer)\n",
    "    segment_id = Column(Integer)\n",
    "    style_id = Column(Integer)\n",
    "    category_name = Column(VARCHAR(6))\n",
    "    segment_name =Column(VARCHAR(6))\n",
    "    style_name = Column(VARCHAR(19))\n",
    "\n",
    "\n",
    "class Sales(Base):\n",
    "\n",
    "    __tablename__ = 'sales'\n",
    "    __table_args__= {'extend_existing':True}\n",
    "\n",
    " #| ------------------ Columnas ----------------|\n",
    "    id = Column(Integer,  primary_key=True, autoincrement=True)\n",
    "    prod_id = Column(VARCHAR(6))\n",
    "    qty = Column(Integer)\n",
    "    price = Column(Integer)\n",
    "    discount = Column(Integer)\n",
    "    member = Column(Boolean)\n",
    "    txn_id =Column(VARCHAR(32))\n",
    "    start_txn_time = Column(TIMESTAMP(timezone=True))\n",
    "\n",
    "Base.metadata.create_all(engine)\n"
   ]
  },
  {
   "cell_type": "markdown",
   "id": "923a1852",
   "metadata": {},
   "source": [
    "## **1.1 CARGANDO LOS DATOS**"
   ]
  },
  {
   "cell_type": "code",
   "execution_count": 7,
   "id": "54a5022a",
   "metadata": {},
   "outputs": [],
   "source": [
    "from utils import funciones_utiles\n",
    "\n",
    "product_hierarchy_data = funciones_utiles.load_text_as_tuples('datos_tablas/product_hierarchy_data.txt')\n",
    "product_prices_data = funciones_utiles.load_text_as_tuples('datos_tablas/product_prices_data.txt')\n",
    "product_details_data =funciones_utiles.load_text_as_tuples('datos_tablas/product_details_data.txt')\n",
    "sales_data = funciones_utiles.load_text_as_tuples('datos_tablas/sales_data.txt')\n"
   ]
  },
  {
   "cell_type": "code",
   "execution_count": 8,
   "id": "3e919f0e",
   "metadata": {},
   "outputs": [],
   "source": [
    "# Creando la session\n",
    "Session = sessionmaker(bind=engine)\n",
    "session = Session()"
   ]
  },
  {
   "cell_type": "code",
   "execution_count": 9,
   "id": "93e387f2",
   "metadata": {},
   "outputs": [
    {
     "data": {
      "text/plain": [
       "[('1', None, 'Womens', 'Category'),\n",
       " ('2', None, 'Mens', 'Category'),\n",
       " ('3', '1', 'Jeans', 'Segment'),\n",
       " ('4', '1', 'Jacket', 'Segment'),\n",
       " ('5', '2', 'Shirt', 'Segment'),\n",
       " ('6', '2', 'Socks', 'Segment'),\n",
       " ('7', '3', 'Navy Oversized', 'Style'),\n",
       " ('8', '3', 'Black Straight', 'Style'),\n",
       " ('9', '3', 'Cream Relaxed', 'Style'),\n",
       " ('10', '4', 'Khaki Suit', 'Style'),\n",
       " ('11', '4', 'Indigo Rain', 'Style'),\n",
       " ('12', '4', 'Grey Fashion', 'Style'),\n",
       " ('13', '5', 'White Tee', 'Style'),\n",
       " ('14', '5', 'Teal Button Up', 'Style'),\n",
       " ('15', '5', 'Blue Polo', 'Style'),\n",
       " ('16', '6', 'Navy Solid', 'Style'),\n",
       " ('17', '6', 'White Striped', 'Style'),\n",
       " ('18', '6', 'Pink Fluro Polkadot', 'Style')]"
      ]
     },
     "execution_count": 9,
     "metadata": {},
     "output_type": "execute_result"
    }
   ],
   "source": [
    "product_hierarchy_data"
   ]
  },
  {
   "cell_type": "markdown",
   "id": "ea6faa9a",
   "metadata": {},
   "source": [
    "### **1.1.1 Cargando datos `product_hierarchy`**"
   ]
  },
  {
   "cell_type": "code",
   "execution_count": 10,
   "id": "81773a34",
   "metadata": {},
   "outputs": [
    {
     "name": "stdout",
     "output_type": "stream",
     "text": [
      "2025-04-29 13:38:26,025 INFO sqlalchemy.engine.Engine BEGIN (implicit)\n",
      "2025-04-29 13:38:26,027 INFO sqlalchemy.engine.Engine INSERT INTO product_hierarchy (id, level_text, level_name) VALUES (%(id)s, %(level_text)s, %(level_name)s)\n",
      "2025-04-29 13:38:26,028 INFO sqlalchemy.engine.Engine [generated in 0.00130s] [{'id': 1, 'level_text': 'Womens', 'level_name': 'Category'}, {'id': 2, 'level_text': 'Mens', 'level_name': 'Category'}]\n",
      "2025-04-29 13:38:26,048 INFO sqlalchemy.engine.Engine ROLLBACK\n"
     ]
    },
    {
     "ename": "IntegrityError",
     "evalue": "(pymysql.err.IntegrityError) (1062, \"Duplicate entry '1' for key 'product_hierarchy.PRIMARY'\")\n[SQL: INSERT INTO product_hierarchy (id, level_text, level_name) VALUES (%(id)s, %(level_text)s, %(level_name)s)]\n[parameters: [{'id': 1, 'level_text': 'Womens', 'level_name': 'Category'}, {'id': 2, 'level_text': 'Mens', 'level_name': 'Category'}]]\n(Background on this error at: https://sqlalche.me/e/20/gkpj)",
     "output_type": "error",
     "traceback": [
      "\u001b[1;31m---------------------------------------------------------------------------\u001b[0m",
      "\u001b[1;31mIntegrityError\u001b[0m                            Traceback (most recent call last)",
      "File \u001b[1;32mc:\\Users\\kev_g\\AppData\\Local\\Programs\\Python\\Python310\\lib\\site-packages\\sqlalchemy\\engine\\base.py:1936\u001b[0m, in \u001b[0;36mConnection._exec_single_context\u001b[1;34m(self, dialect, context, statement, parameters)\u001b[0m\n\u001b[0;32m   1935\u001b[0m     \u001b[38;5;28;01mif\u001b[39;00m \u001b[38;5;129;01mnot\u001b[39;00m evt_handled:\n\u001b[1;32m-> 1936\u001b[0m         \u001b[38;5;28;43mself\u001b[39;49m\u001b[38;5;241;43m.\u001b[39;49m\u001b[43mdialect\u001b[49m\u001b[38;5;241;43m.\u001b[39;49m\u001b[43mdo_executemany\u001b[49m\u001b[43m(\u001b[49m\n\u001b[0;32m   1937\u001b[0m \u001b[43m            \u001b[49m\u001b[43mcursor\u001b[49m\u001b[43m,\u001b[49m\n\u001b[0;32m   1938\u001b[0m \u001b[43m            \u001b[49m\u001b[43mstr_statement\u001b[49m\u001b[43m,\u001b[49m\n\u001b[0;32m   1939\u001b[0m \u001b[43m            \u001b[49m\u001b[43meffective_parameters\u001b[49m\u001b[43m,\u001b[49m\n\u001b[0;32m   1940\u001b[0m \u001b[43m            \u001b[49m\u001b[43mcontext\u001b[49m\u001b[43m,\u001b[49m\n\u001b[0;32m   1941\u001b[0m \u001b[43m        \u001b[49m\u001b[43m)\u001b[49m\n\u001b[0;32m   1942\u001b[0m \u001b[38;5;28;01melif\u001b[39;00m \u001b[38;5;129;01mnot\u001b[39;00m effective_parameters \u001b[38;5;129;01mand\u001b[39;00m context\u001b[38;5;241m.\u001b[39mno_parameters:\n",
      "File \u001b[1;32mc:\\Users\\kev_g\\AppData\\Local\\Programs\\Python\\Python310\\lib\\site-packages\\sqlalchemy\\dialects\\mysql\\mysqldb.py:170\u001b[0m, in \u001b[0;36mMySQLDialect_mysqldb.do_executemany\u001b[1;34m(self, cursor, statement, parameters, context)\u001b[0m\n\u001b[0;32m    169\u001b[0m \u001b[38;5;28;01mdef\u001b[39;00m \u001b[38;5;21mdo_executemany\u001b[39m(\u001b[38;5;28mself\u001b[39m, cursor, statement, parameters, context\u001b[38;5;241m=\u001b[39m\u001b[38;5;28;01mNone\u001b[39;00m):\n\u001b[1;32m--> 170\u001b[0m     rowcount \u001b[38;5;241m=\u001b[39m \u001b[43mcursor\u001b[49m\u001b[38;5;241;43m.\u001b[39;49m\u001b[43mexecutemany\u001b[49m\u001b[43m(\u001b[49m\u001b[43mstatement\u001b[49m\u001b[43m,\u001b[49m\u001b[43m \u001b[49m\u001b[43mparameters\u001b[49m\u001b[43m)\u001b[49m\n\u001b[0;32m    171\u001b[0m     \u001b[38;5;28;01mif\u001b[39;00m context \u001b[38;5;129;01mis\u001b[39;00m \u001b[38;5;129;01mnot\u001b[39;00m \u001b[38;5;28;01mNone\u001b[39;00m:\n",
      "File \u001b[1;32mc:\\Users\\kev_g\\AppData\\Local\\Programs\\Python\\Python310\\lib\\site-packages\\pymysql\\cursors.py:182\u001b[0m, in \u001b[0;36mCursor.executemany\u001b[1;34m(self, query, args)\u001b[0m\n\u001b[0;32m    181\u001b[0m     \u001b[38;5;28;01massert\u001b[39;00m q_values[\u001b[38;5;241m0\u001b[39m] \u001b[38;5;241m==\u001b[39m \u001b[38;5;124m\"\u001b[39m\u001b[38;5;124m(\u001b[39m\u001b[38;5;124m\"\u001b[39m \u001b[38;5;129;01mand\u001b[39;00m q_values[\u001b[38;5;241m-\u001b[39m\u001b[38;5;241m1\u001b[39m] \u001b[38;5;241m==\u001b[39m \u001b[38;5;124m\"\u001b[39m\u001b[38;5;124m)\u001b[39m\u001b[38;5;124m\"\u001b[39m\n\u001b[1;32m--> 182\u001b[0m     \u001b[38;5;28;01mreturn\u001b[39;00m \u001b[38;5;28;43mself\u001b[39;49m\u001b[38;5;241;43m.\u001b[39;49m\u001b[43m_do_execute_many\u001b[49m\u001b[43m(\u001b[49m\n\u001b[0;32m    183\u001b[0m \u001b[43m        \u001b[49m\u001b[43mq_prefix\u001b[49m\u001b[43m,\u001b[49m\n\u001b[0;32m    184\u001b[0m \u001b[43m        \u001b[49m\u001b[43mq_values\u001b[49m\u001b[43m,\u001b[49m\n\u001b[0;32m    185\u001b[0m \u001b[43m        \u001b[49m\u001b[43mq_postfix\u001b[49m\u001b[43m,\u001b[49m\n\u001b[0;32m    186\u001b[0m \u001b[43m        \u001b[49m\u001b[43margs\u001b[49m\u001b[43m,\u001b[49m\n\u001b[0;32m    187\u001b[0m \u001b[43m        \u001b[49m\u001b[38;5;28;43mself\u001b[39;49m\u001b[38;5;241;43m.\u001b[39;49m\u001b[43mmax_stmt_length\u001b[49m\u001b[43m,\u001b[49m\n\u001b[0;32m    188\u001b[0m \u001b[43m        \u001b[49m\u001b[38;5;28;43mself\u001b[39;49m\u001b[38;5;241;43m.\u001b[39;49m\u001b[43m_get_db\u001b[49m\u001b[43m(\u001b[49m\u001b[43m)\u001b[49m\u001b[38;5;241;43m.\u001b[39;49m\u001b[43mencoding\u001b[49m\u001b[43m,\u001b[49m\n\u001b[0;32m    189\u001b[0m \u001b[43m    \u001b[49m\u001b[43m)\u001b[49m\n\u001b[0;32m    191\u001b[0m \u001b[38;5;28mself\u001b[39m\u001b[38;5;241m.\u001b[39mrowcount \u001b[38;5;241m=\u001b[39m \u001b[38;5;28msum\u001b[39m(\u001b[38;5;28mself\u001b[39m\u001b[38;5;241m.\u001b[39mexecute(query, arg) \u001b[38;5;28;01mfor\u001b[39;00m arg \u001b[38;5;129;01min\u001b[39;00m args)\n",
      "File \u001b[1;32mc:\\Users\\kev_g\\AppData\\Local\\Programs\\Python\\Python310\\lib\\site-packages\\pymysql\\cursors.py:220\u001b[0m, in \u001b[0;36mCursor._do_execute_many\u001b[1;34m(self, prefix, values, postfix, args, max_stmt_length, encoding)\u001b[0m\n\u001b[0;32m    219\u001b[0m     sql \u001b[38;5;241m+\u001b[39m\u001b[38;5;241m=\u001b[39m v\n\u001b[1;32m--> 220\u001b[0m rows \u001b[38;5;241m+\u001b[39m\u001b[38;5;241m=\u001b[39m \u001b[38;5;28;43mself\u001b[39;49m\u001b[38;5;241;43m.\u001b[39;49m\u001b[43mexecute\u001b[49m\u001b[43m(\u001b[49m\u001b[43msql\u001b[49m\u001b[43m \u001b[49m\u001b[38;5;241;43m+\u001b[39;49m\u001b[43m \u001b[49m\u001b[43mpostfix\u001b[49m\u001b[43m)\u001b[49m\n\u001b[0;32m    221\u001b[0m \u001b[38;5;28mself\u001b[39m\u001b[38;5;241m.\u001b[39mrowcount \u001b[38;5;241m=\u001b[39m rows\n",
      "File \u001b[1;32mc:\\Users\\kev_g\\AppData\\Local\\Programs\\Python\\Python310\\lib\\site-packages\\pymysql\\cursors.py:153\u001b[0m, in \u001b[0;36mCursor.execute\u001b[1;34m(self, query, args)\u001b[0m\n\u001b[0;32m    151\u001b[0m query \u001b[38;5;241m=\u001b[39m \u001b[38;5;28mself\u001b[39m\u001b[38;5;241m.\u001b[39mmogrify(query, args)\n\u001b[1;32m--> 153\u001b[0m result \u001b[38;5;241m=\u001b[39m \u001b[38;5;28;43mself\u001b[39;49m\u001b[38;5;241;43m.\u001b[39;49m\u001b[43m_query\u001b[49m\u001b[43m(\u001b[49m\u001b[43mquery\u001b[49m\u001b[43m)\u001b[49m\n\u001b[0;32m    154\u001b[0m \u001b[38;5;28mself\u001b[39m\u001b[38;5;241m.\u001b[39m_executed \u001b[38;5;241m=\u001b[39m query\n",
      "File \u001b[1;32mc:\\Users\\kev_g\\AppData\\Local\\Programs\\Python\\Python310\\lib\\site-packages\\pymysql\\cursors.py:322\u001b[0m, in \u001b[0;36mCursor._query\u001b[1;34m(self, q)\u001b[0m\n\u001b[0;32m    321\u001b[0m \u001b[38;5;28mself\u001b[39m\u001b[38;5;241m.\u001b[39m_clear_result()\n\u001b[1;32m--> 322\u001b[0m \u001b[43mconn\u001b[49m\u001b[38;5;241;43m.\u001b[39;49m\u001b[43mquery\u001b[49m\u001b[43m(\u001b[49m\u001b[43mq\u001b[49m\u001b[43m)\u001b[49m\n\u001b[0;32m    323\u001b[0m \u001b[38;5;28mself\u001b[39m\u001b[38;5;241m.\u001b[39m_do_get_result()\n",
      "File \u001b[1;32mc:\\Users\\kev_g\\AppData\\Local\\Programs\\Python\\Python310\\lib\\site-packages\\pymysql\\connections.py:563\u001b[0m, in \u001b[0;36mConnection.query\u001b[1;34m(self, sql, unbuffered)\u001b[0m\n\u001b[0;32m    562\u001b[0m \u001b[38;5;28mself\u001b[39m\u001b[38;5;241m.\u001b[39m_execute_command(COMMAND\u001b[38;5;241m.\u001b[39mCOM_QUERY, sql)\n\u001b[1;32m--> 563\u001b[0m \u001b[38;5;28mself\u001b[39m\u001b[38;5;241m.\u001b[39m_affected_rows \u001b[38;5;241m=\u001b[39m \u001b[38;5;28;43mself\u001b[39;49m\u001b[38;5;241;43m.\u001b[39;49m\u001b[43m_read_query_result\u001b[49m\u001b[43m(\u001b[49m\u001b[43munbuffered\u001b[49m\u001b[38;5;241;43m=\u001b[39;49m\u001b[43munbuffered\u001b[49m\u001b[43m)\u001b[49m\n\u001b[0;32m    564\u001b[0m \u001b[38;5;28;01mreturn\u001b[39;00m \u001b[38;5;28mself\u001b[39m\u001b[38;5;241m.\u001b[39m_affected_rows\n",
      "File \u001b[1;32mc:\\Users\\kev_g\\AppData\\Local\\Programs\\Python\\Python310\\lib\\site-packages\\pymysql\\connections.py:825\u001b[0m, in \u001b[0;36mConnection._read_query_result\u001b[1;34m(self, unbuffered)\u001b[0m\n\u001b[0;32m    824\u001b[0m     result \u001b[38;5;241m=\u001b[39m MySQLResult(\u001b[38;5;28mself\u001b[39m)\n\u001b[1;32m--> 825\u001b[0m     \u001b[43mresult\u001b[49m\u001b[38;5;241;43m.\u001b[39;49m\u001b[43mread\u001b[49m\u001b[43m(\u001b[49m\u001b[43m)\u001b[49m\n\u001b[0;32m    826\u001b[0m \u001b[38;5;28mself\u001b[39m\u001b[38;5;241m.\u001b[39m_result \u001b[38;5;241m=\u001b[39m result\n",
      "File \u001b[1;32mc:\\Users\\kev_g\\AppData\\Local\\Programs\\Python\\Python310\\lib\\site-packages\\pymysql\\connections.py:1199\u001b[0m, in \u001b[0;36mMySQLResult.read\u001b[1;34m(self)\u001b[0m\n\u001b[0;32m   1198\u001b[0m \u001b[38;5;28;01mtry\u001b[39;00m:\n\u001b[1;32m-> 1199\u001b[0m     first_packet \u001b[38;5;241m=\u001b[39m \u001b[38;5;28;43mself\u001b[39;49m\u001b[38;5;241;43m.\u001b[39;49m\u001b[43mconnection\u001b[49m\u001b[38;5;241;43m.\u001b[39;49m\u001b[43m_read_packet\u001b[49m\u001b[43m(\u001b[49m\u001b[43m)\u001b[49m\n\u001b[0;32m   1201\u001b[0m     \u001b[38;5;28;01mif\u001b[39;00m first_packet\u001b[38;5;241m.\u001b[39mis_ok_packet():\n",
      "File \u001b[1;32mc:\\Users\\kev_g\\AppData\\Local\\Programs\\Python\\Python310\\lib\\site-packages\\pymysql\\connections.py:775\u001b[0m, in \u001b[0;36mConnection._read_packet\u001b[1;34m(self, packet_type)\u001b[0m\n\u001b[0;32m    774\u001b[0m         \u001b[38;5;28mself\u001b[39m\u001b[38;5;241m.\u001b[39m_result\u001b[38;5;241m.\u001b[39munbuffered_active \u001b[38;5;241m=\u001b[39m \u001b[38;5;28;01mFalse\u001b[39;00m\n\u001b[1;32m--> 775\u001b[0m     \u001b[43mpacket\u001b[49m\u001b[38;5;241;43m.\u001b[39;49m\u001b[43mraise_for_error\u001b[49m\u001b[43m(\u001b[49m\u001b[43m)\u001b[49m\n\u001b[0;32m    776\u001b[0m \u001b[38;5;28;01mreturn\u001b[39;00m packet\n",
      "File \u001b[1;32mc:\\Users\\kev_g\\AppData\\Local\\Programs\\Python\\Python310\\lib\\site-packages\\pymysql\\protocol.py:219\u001b[0m, in \u001b[0;36mMysqlPacket.raise_for_error\u001b[1;34m(self)\u001b[0m\n\u001b[0;32m    218\u001b[0m     \u001b[38;5;28mprint\u001b[39m(\u001b[38;5;124m\"\u001b[39m\u001b[38;5;124merrno =\u001b[39m\u001b[38;5;124m\"\u001b[39m, errno)\n\u001b[1;32m--> 219\u001b[0m \u001b[43merr\u001b[49m\u001b[38;5;241;43m.\u001b[39;49m\u001b[43mraise_mysql_exception\u001b[49m\u001b[43m(\u001b[49m\u001b[38;5;28;43mself\u001b[39;49m\u001b[38;5;241;43m.\u001b[39;49m\u001b[43m_data\u001b[49m\u001b[43m)\u001b[49m\n",
      "File \u001b[1;32mc:\\Users\\kev_g\\AppData\\Local\\Programs\\Python\\Python310\\lib\\site-packages\\pymysql\\err.py:150\u001b[0m, in \u001b[0;36mraise_mysql_exception\u001b[1;34m(data)\u001b[0m\n\u001b[0;32m    149\u001b[0m     errorclass \u001b[38;5;241m=\u001b[39m InternalError \u001b[38;5;28;01mif\u001b[39;00m errno \u001b[38;5;241m<\u001b[39m \u001b[38;5;241m1000\u001b[39m \u001b[38;5;28;01melse\u001b[39;00m OperationalError\n\u001b[1;32m--> 150\u001b[0m \u001b[38;5;28;01mraise\u001b[39;00m errorclass(errno, errval)\n",
      "\u001b[1;31mIntegrityError\u001b[0m: (1062, \"Duplicate entry '1' for key 'product_hierarchy.PRIMARY'\")",
      "\nThe above exception was the direct cause of the following exception:\n",
      "\u001b[1;31mIntegrityError\u001b[0m                            Traceback (most recent call last)",
      "Cell \u001b[1;32mIn[10], line 12\u001b[0m\n\u001b[0;32m      1\u001b[0m objects \u001b[38;5;241m=\u001b[39m [\n\u001b[0;32m      2\u001b[0m     ProductHierarchy(\n\u001b[0;32m      3\u001b[0m \n\u001b[1;32m   (...)\u001b[0m\n\u001b[0;32m      9\u001b[0m     \u001b[38;5;28;01mfor\u001b[39;00m \u001b[38;5;28mid\u001b[39m, parent_id, level_text, level_name \u001b[38;5;129;01min\u001b[39;00m product_hierarchy_data\n\u001b[0;32m     10\u001b[0m ]\n\u001b[1;32m---> 12\u001b[0m \u001b[43msession\u001b[49m\u001b[38;5;241;43m.\u001b[39;49m\u001b[43mbulk_save_objects\u001b[49m\u001b[43m(\u001b[49m\u001b[43mobjects\u001b[49m\u001b[43m)\u001b[49m\n\u001b[0;32m     13\u001b[0m session\u001b[38;5;241m.\u001b[39mcommit()\n",
      "File \u001b[1;32mc:\\Users\\kev_g\\AppData\\Local\\Programs\\Python\\Python310\\lib\\site-packages\\sqlalchemy\\orm\\session.py:4585\u001b[0m, in \u001b[0;36mSession.bulk_save_objects\u001b[1;34m(self, objects, return_defaults, update_changed_only, preserve_order)\u001b[0m\n\u001b[0;32m   4580\u001b[0m     \u001b[38;5;28;01mreturn\u001b[39;00m (state\u001b[38;5;241m.\u001b[39mmapper, state\u001b[38;5;241m.\u001b[39mkey \u001b[38;5;129;01mis\u001b[39;00m \u001b[38;5;129;01mnot\u001b[39;00m \u001b[38;5;28;01mNone\u001b[39;00m)\n\u001b[0;32m   4582\u001b[0m \u001b[38;5;28;01mfor\u001b[39;00m (mapper, isupdate), states \u001b[38;5;129;01min\u001b[39;00m itertools\u001b[38;5;241m.\u001b[39mgroupby(\n\u001b[0;32m   4583\u001b[0m     obj_states, grouping_key\n\u001b[0;32m   4584\u001b[0m ):\n\u001b[1;32m-> 4585\u001b[0m     \u001b[38;5;28;43mself\u001b[39;49m\u001b[38;5;241;43m.\u001b[39;49m\u001b[43m_bulk_save_mappings\u001b[49m\u001b[43m(\u001b[49m\n\u001b[0;32m   4586\u001b[0m \u001b[43m        \u001b[49m\u001b[43mmapper\u001b[49m\u001b[43m,\u001b[49m\n\u001b[0;32m   4587\u001b[0m \u001b[43m        \u001b[49m\u001b[43mstates\u001b[49m\u001b[43m,\u001b[49m\n\u001b[0;32m   4588\u001b[0m \u001b[43m        \u001b[49m\u001b[43misupdate\u001b[49m\u001b[38;5;241;43m=\u001b[39;49m\u001b[43misupdate\u001b[49m\u001b[43m,\u001b[49m\n\u001b[0;32m   4589\u001b[0m \u001b[43m        \u001b[49m\u001b[43misstates\u001b[49m\u001b[38;5;241;43m=\u001b[39;49m\u001b[38;5;28;43;01mTrue\u001b[39;49;00m\u001b[43m,\u001b[49m\n\u001b[0;32m   4590\u001b[0m \u001b[43m        \u001b[49m\u001b[43mreturn_defaults\u001b[49m\u001b[38;5;241;43m=\u001b[39;49m\u001b[43mreturn_defaults\u001b[49m\u001b[43m,\u001b[49m\n\u001b[0;32m   4591\u001b[0m \u001b[43m        \u001b[49m\u001b[43mupdate_changed_only\u001b[49m\u001b[38;5;241;43m=\u001b[39;49m\u001b[43mupdate_changed_only\u001b[49m\u001b[43m,\u001b[49m\n\u001b[0;32m   4592\u001b[0m \u001b[43m        \u001b[49m\u001b[43mrender_nulls\u001b[49m\u001b[38;5;241;43m=\u001b[39;49m\u001b[38;5;28;43;01mFalse\u001b[39;49;00m\u001b[43m,\u001b[49m\n\u001b[0;32m   4593\u001b[0m \u001b[43m    \u001b[49m\u001b[43m)\u001b[49m\n",
      "File \u001b[1;32mc:\\Users\\kev_g\\AppData\\Local\\Programs\\Python\\Python310\\lib\\site-packages\\sqlalchemy\\orm\\session.py:4762\u001b[0m, in \u001b[0;36mSession._bulk_save_mappings\u001b[1;34m(self, mapper, mappings, isupdate, isstates, return_defaults, update_changed_only, render_nulls)\u001b[0m\n\u001b[0;32m   4759\u001b[0m     transaction\u001b[38;5;241m.\u001b[39mcommit()\n\u001b[0;32m   4761\u001b[0m \u001b[38;5;28;01mexcept\u001b[39;00m:\n\u001b[1;32m-> 4762\u001b[0m     \u001b[38;5;28;01mwith\u001b[39;00m util\u001b[38;5;241m.\u001b[39msafe_reraise():\n\u001b[0;32m   4763\u001b[0m         transaction\u001b[38;5;241m.\u001b[39mrollback(_capture_exception\u001b[38;5;241m=\u001b[39m\u001b[38;5;28;01mTrue\u001b[39;00m)\n\u001b[0;32m   4764\u001b[0m \u001b[38;5;28;01mfinally\u001b[39;00m:\n",
      "File \u001b[1;32mc:\\Users\\kev_g\\AppData\\Local\\Programs\\Python\\Python310\\lib\\site-packages\\sqlalchemy\\util\\langhelpers.py:146\u001b[0m, in \u001b[0;36msafe_reraise.__exit__\u001b[1;34m(self, type_, value, traceback)\u001b[0m\n\u001b[0;32m    144\u001b[0m     \u001b[38;5;28;01massert\u001b[39;00m exc_value \u001b[38;5;129;01mis\u001b[39;00m \u001b[38;5;129;01mnot\u001b[39;00m \u001b[38;5;28;01mNone\u001b[39;00m\n\u001b[0;32m    145\u001b[0m     \u001b[38;5;28mself\u001b[39m\u001b[38;5;241m.\u001b[39m_exc_info \u001b[38;5;241m=\u001b[39m \u001b[38;5;28;01mNone\u001b[39;00m  \u001b[38;5;66;03m# remove potential circular references\u001b[39;00m\n\u001b[1;32m--> 146\u001b[0m     \u001b[38;5;28;01mraise\u001b[39;00m exc_value\u001b[38;5;241m.\u001b[39mwith_traceback(exc_tb)\n\u001b[0;32m    147\u001b[0m \u001b[38;5;28;01melse\u001b[39;00m:\n\u001b[0;32m    148\u001b[0m     \u001b[38;5;28mself\u001b[39m\u001b[38;5;241m.\u001b[39m_exc_info \u001b[38;5;241m=\u001b[39m \u001b[38;5;28;01mNone\u001b[39;00m  \u001b[38;5;66;03m# remove potential circular references\u001b[39;00m\n",
      "File \u001b[1;32mc:\\Users\\kev_g\\AppData\\Local\\Programs\\Python\\Python310\\lib\\site-packages\\sqlalchemy\\orm\\session.py:4751\u001b[0m, in \u001b[0;36mSession._bulk_save_mappings\u001b[1;34m(self, mapper, mappings, isupdate, isstates, return_defaults, update_changed_only, render_nulls)\u001b[0m\n\u001b[0;32m   4743\u001b[0m         bulk_persistence\u001b[38;5;241m.\u001b[39m_bulk_update(\n\u001b[0;32m   4744\u001b[0m             mapper,\n\u001b[0;32m   4745\u001b[0m             mappings,\n\u001b[1;32m   (...)\u001b[0m\n\u001b[0;32m   4748\u001b[0m             update_changed_only\u001b[38;5;241m=\u001b[39mupdate_changed_only,\n\u001b[0;32m   4749\u001b[0m         )\n\u001b[0;32m   4750\u001b[0m     \u001b[38;5;28;01melse\u001b[39;00m:\n\u001b[1;32m-> 4751\u001b[0m         \u001b[43mbulk_persistence\u001b[49m\u001b[38;5;241;43m.\u001b[39;49m\u001b[43m_bulk_insert\u001b[49m\u001b[43m(\u001b[49m\n\u001b[0;32m   4752\u001b[0m \u001b[43m            \u001b[49m\u001b[43mmapper\u001b[49m\u001b[43m,\u001b[49m\n\u001b[0;32m   4753\u001b[0m \u001b[43m            \u001b[49m\u001b[43mmappings\u001b[49m\u001b[43m,\u001b[49m\n\u001b[0;32m   4754\u001b[0m \u001b[43m            \u001b[49m\u001b[43mtransaction\u001b[49m\u001b[43m,\u001b[49m\n\u001b[0;32m   4755\u001b[0m \u001b[43m            \u001b[49m\u001b[43misstates\u001b[49m\u001b[38;5;241;43m=\u001b[39;49m\u001b[43misstates\u001b[49m\u001b[43m,\u001b[49m\n\u001b[0;32m   4756\u001b[0m \u001b[43m            \u001b[49m\u001b[43mreturn_defaults\u001b[49m\u001b[38;5;241;43m=\u001b[39;49m\u001b[43mreturn_defaults\u001b[49m\u001b[43m,\u001b[49m\n\u001b[0;32m   4757\u001b[0m \u001b[43m            \u001b[49m\u001b[43mrender_nulls\u001b[49m\u001b[38;5;241;43m=\u001b[39;49m\u001b[43mrender_nulls\u001b[49m\u001b[43m,\u001b[49m\n\u001b[0;32m   4758\u001b[0m \u001b[43m        \u001b[49m\u001b[43m)\u001b[49m\n\u001b[0;32m   4759\u001b[0m     transaction\u001b[38;5;241m.\u001b[39mcommit()\n\u001b[0;32m   4761\u001b[0m \u001b[38;5;28;01mexcept\u001b[39;00m:\n",
      "File \u001b[1;32mc:\\Users\\kev_g\\AppData\\Local\\Programs\\Python\\Python310\\lib\\site-packages\\sqlalchemy\\orm\\bulk_persistence.py:222\u001b[0m, in \u001b[0;36m_bulk_insert\u001b[1;34m(mapper, mappings, session_transaction, isstates, return_defaults, render_nulls, use_orm_insert_stmt, execution_options)\u001b[0m\n\u001b[0;32m    182\u001b[0m extra_bp_names \u001b[38;5;241m=\u001b[39m (\n\u001b[0;32m    183\u001b[0m     [\n\u001b[0;32m    184\u001b[0m         b\u001b[38;5;241m.\u001b[39mkey\n\u001b[1;32m   (...)\u001b[0m\n\u001b[0;32m    189\u001b[0m     \u001b[38;5;28;01melse\u001b[39;00m ()\n\u001b[0;32m    190\u001b[0m )\n\u001b[0;32m    192\u001b[0m records \u001b[38;5;241m=\u001b[39m (\n\u001b[0;32m    193\u001b[0m     (\n\u001b[0;32m    194\u001b[0m         \u001b[38;5;28;01mNone\u001b[39;00m,\n\u001b[1;32m   (...)\u001b[0m\n\u001b[0;32m    219\u001b[0m     )\n\u001b[0;32m    220\u001b[0m )\n\u001b[1;32m--> 222\u001b[0m result \u001b[38;5;241m=\u001b[39m \u001b[43mpersistence\u001b[49m\u001b[38;5;241;43m.\u001b[39;49m\u001b[43m_emit_insert_statements\u001b[49m\u001b[43m(\u001b[49m\n\u001b[0;32m    223\u001b[0m \u001b[43m    \u001b[49m\u001b[43mbase_mapper\u001b[49m\u001b[43m,\u001b[49m\n\u001b[0;32m    224\u001b[0m \u001b[43m    \u001b[49m\u001b[38;5;28;43;01mNone\u001b[39;49;00m\u001b[43m,\u001b[49m\n\u001b[0;32m    225\u001b[0m \u001b[43m    \u001b[49m\u001b[43msuper_mapper\u001b[49m\u001b[43m,\u001b[49m\n\u001b[0;32m    226\u001b[0m \u001b[43m    \u001b[49m\u001b[43mtable\u001b[49m\u001b[43m,\u001b[49m\n\u001b[0;32m    227\u001b[0m \u001b[43m    \u001b[49m\u001b[43mrecords\u001b[49m\u001b[43m,\u001b[49m\n\u001b[0;32m    228\u001b[0m \u001b[43m    \u001b[49m\u001b[43mbookkeeping\u001b[49m\u001b[38;5;241;43m=\u001b[39;49m\u001b[43mbookkeeping\u001b[49m\u001b[43m,\u001b[49m\n\u001b[0;32m    229\u001b[0m \u001b[43m    \u001b[49m\u001b[43muse_orm_insert_stmt\u001b[49m\u001b[38;5;241;43m=\u001b[39;49m\u001b[43muse_orm_insert_stmt\u001b[49m\u001b[43m,\u001b[49m\n\u001b[0;32m    230\u001b[0m \u001b[43m    \u001b[49m\u001b[43mexecution_options\u001b[49m\u001b[38;5;241;43m=\u001b[39;49m\u001b[43mexecution_options\u001b[49m\u001b[43m,\u001b[49m\n\u001b[0;32m    231\u001b[0m \u001b[43m\u001b[49m\u001b[43m)\u001b[49m\n\u001b[0;32m    232\u001b[0m \u001b[38;5;28;01mif\u001b[39;00m use_orm_insert_stmt \u001b[38;5;129;01mis\u001b[39;00m \u001b[38;5;129;01mnot\u001b[39;00m \u001b[38;5;28;01mNone\u001b[39;00m:\n\u001b[0;32m    233\u001b[0m     \u001b[38;5;28;01mif\u001b[39;00m \u001b[38;5;129;01mnot\u001b[39;00m use_orm_insert_stmt\u001b[38;5;241m.\u001b[39m_returning \u001b[38;5;129;01mor\u001b[39;00m return_result \u001b[38;5;129;01mis\u001b[39;00m \u001b[38;5;28;01mNone\u001b[39;00m:\n",
      "File \u001b[1;32mc:\\Users\\kev_g\\AppData\\Local\\Programs\\Python\\Python310\\lib\\site-packages\\sqlalchemy\\orm\\persistence.py:1048\u001b[0m, in \u001b[0;36m_emit_insert_statements\u001b[1;34m(base_mapper, uowtransaction, mapper, table, insert, bookkeeping, use_orm_insert_stmt, execution_options)\u001b[0m\n\u001b[0;32m   1045\u001b[0m records \u001b[38;5;241m=\u001b[39m \u001b[38;5;28mlist\u001b[39m(records)\n\u001b[0;32m   1046\u001b[0m multiparams \u001b[38;5;241m=\u001b[39m [rec[\u001b[38;5;241m2\u001b[39m] \u001b[38;5;28;01mfor\u001b[39;00m rec \u001b[38;5;129;01min\u001b[39;00m records]\n\u001b[1;32m-> 1048\u001b[0m result \u001b[38;5;241m=\u001b[39m \u001b[43mconnection\u001b[49m\u001b[38;5;241;43m.\u001b[39;49m\u001b[43mexecute\u001b[49m\u001b[43m(\u001b[49m\n\u001b[0;32m   1049\u001b[0m \u001b[43m    \u001b[49m\u001b[43mstatement\u001b[49m\u001b[43m,\u001b[49m\u001b[43m \u001b[49m\u001b[43mmultiparams\u001b[49m\u001b[43m,\u001b[49m\u001b[43m \u001b[49m\u001b[43mexecution_options\u001b[49m\u001b[38;5;241;43m=\u001b[39;49m\u001b[43mexecution_options\u001b[49m\n\u001b[0;32m   1050\u001b[0m \u001b[43m\u001b[49m\u001b[43m)\u001b[49m\n\u001b[0;32m   1051\u001b[0m \u001b[38;5;28;01mif\u001b[39;00m bookkeeping:\n\u001b[0;32m   1052\u001b[0m     \u001b[38;5;28;01mfor\u001b[39;00m (\n\u001b[0;32m   1053\u001b[0m         (\n\u001b[0;32m   1054\u001b[0m             state,\n\u001b[1;32m   (...)\u001b[0m\n\u001b[0;32m   1063\u001b[0m         last_inserted_params,\n\u001b[0;32m   1064\u001b[0m     ) \u001b[38;5;129;01min\u001b[39;00m \u001b[38;5;28mzip\u001b[39m(records, result\u001b[38;5;241m.\u001b[39mcontext\u001b[38;5;241m.\u001b[39mcompiled_parameters):\n",
      "File \u001b[1;32mc:\\Users\\kev_g\\AppData\\Local\\Programs\\Python\\Python310\\lib\\site-packages\\sqlalchemy\\engine\\base.py:1418\u001b[0m, in \u001b[0;36mConnection.execute\u001b[1;34m(self, statement, parameters, execution_options)\u001b[0m\n\u001b[0;32m   1416\u001b[0m     \u001b[38;5;28;01mraise\u001b[39;00m exc\u001b[38;5;241m.\u001b[39mObjectNotExecutableError(statement) \u001b[38;5;28;01mfrom\u001b[39;00m \u001b[38;5;21;01merr\u001b[39;00m\n\u001b[0;32m   1417\u001b[0m \u001b[38;5;28;01melse\u001b[39;00m:\n\u001b[1;32m-> 1418\u001b[0m     \u001b[38;5;28;01mreturn\u001b[39;00m \u001b[43mmeth\u001b[49m\u001b[43m(\u001b[49m\n\u001b[0;32m   1419\u001b[0m \u001b[43m        \u001b[49m\u001b[38;5;28;43mself\u001b[39;49m\u001b[43m,\u001b[49m\n\u001b[0;32m   1420\u001b[0m \u001b[43m        \u001b[49m\u001b[43mdistilled_parameters\u001b[49m\u001b[43m,\u001b[49m\n\u001b[0;32m   1421\u001b[0m \u001b[43m        \u001b[49m\u001b[43mexecution_options\u001b[49m\u001b[43m \u001b[49m\u001b[38;5;129;43;01mor\u001b[39;49;00m\u001b[43m \u001b[49m\u001b[43mNO_OPTIONS\u001b[49m\u001b[43m,\u001b[49m\n\u001b[0;32m   1422\u001b[0m \u001b[43m    \u001b[49m\u001b[43m)\u001b[49m\n",
      "File \u001b[1;32mc:\\Users\\kev_g\\AppData\\Local\\Programs\\Python\\Python310\\lib\\site-packages\\sqlalchemy\\sql\\elements.py:515\u001b[0m, in \u001b[0;36mClauseElement._execute_on_connection\u001b[1;34m(self, connection, distilled_params, execution_options)\u001b[0m\n\u001b[0;32m    513\u001b[0m     \u001b[38;5;28;01mif\u001b[39;00m TYPE_CHECKING:\n\u001b[0;32m    514\u001b[0m         \u001b[38;5;28;01massert\u001b[39;00m \u001b[38;5;28misinstance\u001b[39m(\u001b[38;5;28mself\u001b[39m, Executable)\n\u001b[1;32m--> 515\u001b[0m     \u001b[38;5;28;01mreturn\u001b[39;00m \u001b[43mconnection\u001b[49m\u001b[38;5;241;43m.\u001b[39;49m\u001b[43m_execute_clauseelement\u001b[49m\u001b[43m(\u001b[49m\n\u001b[0;32m    516\u001b[0m \u001b[43m        \u001b[49m\u001b[38;5;28;43mself\u001b[39;49m\u001b[43m,\u001b[49m\u001b[43m \u001b[49m\u001b[43mdistilled_params\u001b[49m\u001b[43m,\u001b[49m\u001b[43m \u001b[49m\u001b[43mexecution_options\u001b[49m\n\u001b[0;32m    517\u001b[0m \u001b[43m    \u001b[49m\u001b[43m)\u001b[49m\n\u001b[0;32m    518\u001b[0m \u001b[38;5;28;01melse\u001b[39;00m:\n\u001b[0;32m    519\u001b[0m     \u001b[38;5;28;01mraise\u001b[39;00m exc\u001b[38;5;241m.\u001b[39mObjectNotExecutableError(\u001b[38;5;28mself\u001b[39m)\n",
      "File \u001b[1;32mc:\\Users\\kev_g\\AppData\\Local\\Programs\\Python\\Python310\\lib\\site-packages\\sqlalchemy\\engine\\base.py:1640\u001b[0m, in \u001b[0;36mConnection._execute_clauseelement\u001b[1;34m(self, elem, distilled_parameters, execution_options)\u001b[0m\n\u001b[0;32m   1628\u001b[0m compiled_cache: Optional[CompiledCacheType] \u001b[38;5;241m=\u001b[39m execution_options\u001b[38;5;241m.\u001b[39mget(\n\u001b[0;32m   1629\u001b[0m     \u001b[38;5;124m\"\u001b[39m\u001b[38;5;124mcompiled_cache\u001b[39m\u001b[38;5;124m\"\u001b[39m, \u001b[38;5;28mself\u001b[39m\u001b[38;5;241m.\u001b[39mengine\u001b[38;5;241m.\u001b[39m_compiled_cache\n\u001b[0;32m   1630\u001b[0m )\n\u001b[0;32m   1632\u001b[0m compiled_sql, extracted_params, cache_hit \u001b[38;5;241m=\u001b[39m elem\u001b[38;5;241m.\u001b[39m_compile_w_cache(\n\u001b[0;32m   1633\u001b[0m     dialect\u001b[38;5;241m=\u001b[39mdialect,\n\u001b[0;32m   1634\u001b[0m     compiled_cache\u001b[38;5;241m=\u001b[39mcompiled_cache,\n\u001b[1;32m   (...)\u001b[0m\n\u001b[0;32m   1638\u001b[0m     linting\u001b[38;5;241m=\u001b[39m\u001b[38;5;28mself\u001b[39m\u001b[38;5;241m.\u001b[39mdialect\u001b[38;5;241m.\u001b[39mcompiler_linting \u001b[38;5;241m|\u001b[39m compiler\u001b[38;5;241m.\u001b[39mWARN_LINTING,\n\u001b[0;32m   1639\u001b[0m )\n\u001b[1;32m-> 1640\u001b[0m ret \u001b[38;5;241m=\u001b[39m \u001b[38;5;28;43mself\u001b[39;49m\u001b[38;5;241;43m.\u001b[39;49m\u001b[43m_execute_context\u001b[49m\u001b[43m(\u001b[49m\n\u001b[0;32m   1641\u001b[0m \u001b[43m    \u001b[49m\u001b[43mdialect\u001b[49m\u001b[43m,\u001b[49m\n\u001b[0;32m   1642\u001b[0m \u001b[43m    \u001b[49m\u001b[43mdialect\u001b[49m\u001b[38;5;241;43m.\u001b[39;49m\u001b[43mexecution_ctx_cls\u001b[49m\u001b[38;5;241;43m.\u001b[39;49m\u001b[43m_init_compiled\u001b[49m\u001b[43m,\u001b[49m\n\u001b[0;32m   1643\u001b[0m \u001b[43m    \u001b[49m\u001b[43mcompiled_sql\u001b[49m\u001b[43m,\u001b[49m\n\u001b[0;32m   1644\u001b[0m \u001b[43m    \u001b[49m\u001b[43mdistilled_parameters\u001b[49m\u001b[43m,\u001b[49m\n\u001b[0;32m   1645\u001b[0m \u001b[43m    \u001b[49m\u001b[43mexecution_options\u001b[49m\u001b[43m,\u001b[49m\n\u001b[0;32m   1646\u001b[0m \u001b[43m    \u001b[49m\u001b[43mcompiled_sql\u001b[49m\u001b[43m,\u001b[49m\n\u001b[0;32m   1647\u001b[0m \u001b[43m    \u001b[49m\u001b[43mdistilled_parameters\u001b[49m\u001b[43m,\u001b[49m\n\u001b[0;32m   1648\u001b[0m \u001b[43m    \u001b[49m\u001b[43melem\u001b[49m\u001b[43m,\u001b[49m\n\u001b[0;32m   1649\u001b[0m \u001b[43m    \u001b[49m\u001b[43mextracted_params\u001b[49m\u001b[43m,\u001b[49m\n\u001b[0;32m   1650\u001b[0m \u001b[43m    \u001b[49m\u001b[43mcache_hit\u001b[49m\u001b[38;5;241;43m=\u001b[39;49m\u001b[43mcache_hit\u001b[49m\u001b[43m,\u001b[49m\n\u001b[0;32m   1651\u001b[0m \u001b[43m\u001b[49m\u001b[43m)\u001b[49m\n\u001b[0;32m   1652\u001b[0m \u001b[38;5;28;01mif\u001b[39;00m has_events:\n\u001b[0;32m   1653\u001b[0m     \u001b[38;5;28mself\u001b[39m\u001b[38;5;241m.\u001b[39mdispatch\u001b[38;5;241m.\u001b[39mafter_execute(\n\u001b[0;32m   1654\u001b[0m         \u001b[38;5;28mself\u001b[39m,\n\u001b[0;32m   1655\u001b[0m         elem,\n\u001b[1;32m   (...)\u001b[0m\n\u001b[0;32m   1659\u001b[0m         ret,\n\u001b[0;32m   1660\u001b[0m     )\n",
      "File \u001b[1;32mc:\\Users\\kev_g\\AppData\\Local\\Programs\\Python\\Python310\\lib\\site-packages\\sqlalchemy\\engine\\base.py:1846\u001b[0m, in \u001b[0;36mConnection._execute_context\u001b[1;34m(self, dialect, constructor, statement, parameters, execution_options, *args, **kw)\u001b[0m\n\u001b[0;32m   1844\u001b[0m     \u001b[38;5;28;01mreturn\u001b[39;00m \u001b[38;5;28mself\u001b[39m\u001b[38;5;241m.\u001b[39m_exec_insertmany_context(dialect, context)\n\u001b[0;32m   1845\u001b[0m \u001b[38;5;28;01melse\u001b[39;00m:\n\u001b[1;32m-> 1846\u001b[0m     \u001b[38;5;28;01mreturn\u001b[39;00m \u001b[38;5;28;43mself\u001b[39;49m\u001b[38;5;241;43m.\u001b[39;49m\u001b[43m_exec_single_context\u001b[49m\u001b[43m(\u001b[49m\n\u001b[0;32m   1847\u001b[0m \u001b[43m        \u001b[49m\u001b[43mdialect\u001b[49m\u001b[43m,\u001b[49m\u001b[43m \u001b[49m\u001b[43mcontext\u001b[49m\u001b[43m,\u001b[49m\u001b[43m \u001b[49m\u001b[43mstatement\u001b[49m\u001b[43m,\u001b[49m\u001b[43m \u001b[49m\u001b[43mparameters\u001b[49m\n\u001b[0;32m   1848\u001b[0m \u001b[43m    \u001b[49m\u001b[43m)\u001b[49m\n",
      "File \u001b[1;32mc:\\Users\\kev_g\\AppData\\Local\\Programs\\Python\\Python310\\lib\\site-packages\\sqlalchemy\\engine\\base.py:1986\u001b[0m, in \u001b[0;36mConnection._exec_single_context\u001b[1;34m(self, dialect, context, statement, parameters)\u001b[0m\n\u001b[0;32m   1983\u001b[0m     result \u001b[38;5;241m=\u001b[39m context\u001b[38;5;241m.\u001b[39m_setup_result_proxy()\n\u001b[0;32m   1985\u001b[0m \u001b[38;5;28;01mexcept\u001b[39;00m \u001b[38;5;167;01mBaseException\u001b[39;00m \u001b[38;5;28;01mas\u001b[39;00m e:\n\u001b[1;32m-> 1986\u001b[0m     \u001b[38;5;28;43mself\u001b[39;49m\u001b[38;5;241;43m.\u001b[39;49m\u001b[43m_handle_dbapi_exception\u001b[49m\u001b[43m(\u001b[49m\n\u001b[0;32m   1987\u001b[0m \u001b[43m        \u001b[49m\u001b[43me\u001b[49m\u001b[43m,\u001b[49m\u001b[43m \u001b[49m\u001b[43mstr_statement\u001b[49m\u001b[43m,\u001b[49m\u001b[43m \u001b[49m\u001b[43meffective_parameters\u001b[49m\u001b[43m,\u001b[49m\u001b[43m \u001b[49m\u001b[43mcursor\u001b[49m\u001b[43m,\u001b[49m\u001b[43m \u001b[49m\u001b[43mcontext\u001b[49m\n\u001b[0;32m   1988\u001b[0m \u001b[43m    \u001b[49m\u001b[43m)\u001b[49m\n\u001b[0;32m   1990\u001b[0m \u001b[38;5;28;01mreturn\u001b[39;00m result\n",
      "File \u001b[1;32mc:\\Users\\kev_g\\AppData\\Local\\Programs\\Python\\Python310\\lib\\site-packages\\sqlalchemy\\engine\\base.py:2355\u001b[0m, in \u001b[0;36mConnection._handle_dbapi_exception\u001b[1;34m(self, e, statement, parameters, cursor, context, is_sub_exec)\u001b[0m\n\u001b[0;32m   2353\u001b[0m \u001b[38;5;28;01melif\u001b[39;00m should_wrap:\n\u001b[0;32m   2354\u001b[0m     \u001b[38;5;28;01massert\u001b[39;00m sqlalchemy_exception \u001b[38;5;129;01mis\u001b[39;00m \u001b[38;5;129;01mnot\u001b[39;00m \u001b[38;5;28;01mNone\u001b[39;00m\n\u001b[1;32m-> 2355\u001b[0m     \u001b[38;5;28;01mraise\u001b[39;00m sqlalchemy_exception\u001b[38;5;241m.\u001b[39mwith_traceback(exc_info[\u001b[38;5;241m2\u001b[39m]) \u001b[38;5;28;01mfrom\u001b[39;00m \u001b[38;5;21;01me\u001b[39;00m\n\u001b[0;32m   2356\u001b[0m \u001b[38;5;28;01melse\u001b[39;00m:\n\u001b[0;32m   2357\u001b[0m     \u001b[38;5;28;01massert\u001b[39;00m exc_info[\u001b[38;5;241m1\u001b[39m] \u001b[38;5;129;01mis\u001b[39;00m \u001b[38;5;129;01mnot\u001b[39;00m \u001b[38;5;28;01mNone\u001b[39;00m\n",
      "File \u001b[1;32mc:\\Users\\kev_g\\AppData\\Local\\Programs\\Python\\Python310\\lib\\site-packages\\sqlalchemy\\engine\\base.py:1936\u001b[0m, in \u001b[0;36mConnection._exec_single_context\u001b[1;34m(self, dialect, context, statement, parameters)\u001b[0m\n\u001b[0;32m   1934\u001b[0m                 \u001b[38;5;28;01mbreak\u001b[39;00m\n\u001b[0;32m   1935\u001b[0m     \u001b[38;5;28;01mif\u001b[39;00m \u001b[38;5;129;01mnot\u001b[39;00m evt_handled:\n\u001b[1;32m-> 1936\u001b[0m         \u001b[38;5;28;43mself\u001b[39;49m\u001b[38;5;241;43m.\u001b[39;49m\u001b[43mdialect\u001b[49m\u001b[38;5;241;43m.\u001b[39;49m\u001b[43mdo_executemany\u001b[49m\u001b[43m(\u001b[49m\n\u001b[0;32m   1937\u001b[0m \u001b[43m            \u001b[49m\u001b[43mcursor\u001b[49m\u001b[43m,\u001b[49m\n\u001b[0;32m   1938\u001b[0m \u001b[43m            \u001b[49m\u001b[43mstr_statement\u001b[49m\u001b[43m,\u001b[49m\n\u001b[0;32m   1939\u001b[0m \u001b[43m            \u001b[49m\u001b[43meffective_parameters\u001b[49m\u001b[43m,\u001b[49m\n\u001b[0;32m   1940\u001b[0m \u001b[43m            \u001b[49m\u001b[43mcontext\u001b[49m\u001b[43m,\u001b[49m\n\u001b[0;32m   1941\u001b[0m \u001b[43m        \u001b[49m\u001b[43m)\u001b[49m\n\u001b[0;32m   1942\u001b[0m \u001b[38;5;28;01melif\u001b[39;00m \u001b[38;5;129;01mnot\u001b[39;00m effective_parameters \u001b[38;5;129;01mand\u001b[39;00m context\u001b[38;5;241m.\u001b[39mno_parameters:\n\u001b[0;32m   1943\u001b[0m     \u001b[38;5;28;01mif\u001b[39;00m \u001b[38;5;28mself\u001b[39m\u001b[38;5;241m.\u001b[39mdialect\u001b[38;5;241m.\u001b[39m_has_events:\n",
      "File \u001b[1;32mc:\\Users\\kev_g\\AppData\\Local\\Programs\\Python\\Python310\\lib\\site-packages\\sqlalchemy\\dialects\\mysql\\mysqldb.py:170\u001b[0m, in \u001b[0;36mMySQLDialect_mysqldb.do_executemany\u001b[1;34m(self, cursor, statement, parameters, context)\u001b[0m\n\u001b[0;32m    169\u001b[0m \u001b[38;5;28;01mdef\u001b[39;00m \u001b[38;5;21mdo_executemany\u001b[39m(\u001b[38;5;28mself\u001b[39m, cursor, statement, parameters, context\u001b[38;5;241m=\u001b[39m\u001b[38;5;28;01mNone\u001b[39;00m):\n\u001b[1;32m--> 170\u001b[0m     rowcount \u001b[38;5;241m=\u001b[39m \u001b[43mcursor\u001b[49m\u001b[38;5;241;43m.\u001b[39;49m\u001b[43mexecutemany\u001b[49m\u001b[43m(\u001b[49m\u001b[43mstatement\u001b[49m\u001b[43m,\u001b[49m\u001b[43m \u001b[49m\u001b[43mparameters\u001b[49m\u001b[43m)\u001b[49m\n\u001b[0;32m    171\u001b[0m     \u001b[38;5;28;01mif\u001b[39;00m context \u001b[38;5;129;01mis\u001b[39;00m \u001b[38;5;129;01mnot\u001b[39;00m \u001b[38;5;28;01mNone\u001b[39;00m:\n\u001b[0;32m    172\u001b[0m         context\u001b[38;5;241m.\u001b[39m_rowcount \u001b[38;5;241m=\u001b[39m rowcount\n",
      "File \u001b[1;32mc:\\Users\\kev_g\\AppData\\Local\\Programs\\Python\\Python310\\lib\\site-packages\\pymysql\\cursors.py:182\u001b[0m, in \u001b[0;36mCursor.executemany\u001b[1;34m(self, query, args)\u001b[0m\n\u001b[0;32m    180\u001b[0m     q_postfix \u001b[38;5;241m=\u001b[39m m\u001b[38;5;241m.\u001b[39mgroup(\u001b[38;5;241m3\u001b[39m) \u001b[38;5;129;01mor\u001b[39;00m \u001b[38;5;124m\"\u001b[39m\u001b[38;5;124m\"\u001b[39m\n\u001b[0;32m    181\u001b[0m     \u001b[38;5;28;01massert\u001b[39;00m q_values[\u001b[38;5;241m0\u001b[39m] \u001b[38;5;241m==\u001b[39m \u001b[38;5;124m\"\u001b[39m\u001b[38;5;124m(\u001b[39m\u001b[38;5;124m\"\u001b[39m \u001b[38;5;129;01mand\u001b[39;00m q_values[\u001b[38;5;241m-\u001b[39m\u001b[38;5;241m1\u001b[39m] \u001b[38;5;241m==\u001b[39m \u001b[38;5;124m\"\u001b[39m\u001b[38;5;124m)\u001b[39m\u001b[38;5;124m\"\u001b[39m\n\u001b[1;32m--> 182\u001b[0m     \u001b[38;5;28;01mreturn\u001b[39;00m \u001b[38;5;28;43mself\u001b[39;49m\u001b[38;5;241;43m.\u001b[39;49m\u001b[43m_do_execute_many\u001b[49m\u001b[43m(\u001b[49m\n\u001b[0;32m    183\u001b[0m \u001b[43m        \u001b[49m\u001b[43mq_prefix\u001b[49m\u001b[43m,\u001b[49m\n\u001b[0;32m    184\u001b[0m \u001b[43m        \u001b[49m\u001b[43mq_values\u001b[49m\u001b[43m,\u001b[49m\n\u001b[0;32m    185\u001b[0m \u001b[43m        \u001b[49m\u001b[43mq_postfix\u001b[49m\u001b[43m,\u001b[49m\n\u001b[0;32m    186\u001b[0m \u001b[43m        \u001b[49m\u001b[43margs\u001b[49m\u001b[43m,\u001b[49m\n\u001b[0;32m    187\u001b[0m \u001b[43m        \u001b[49m\u001b[38;5;28;43mself\u001b[39;49m\u001b[38;5;241;43m.\u001b[39;49m\u001b[43mmax_stmt_length\u001b[49m\u001b[43m,\u001b[49m\n\u001b[0;32m    188\u001b[0m \u001b[43m        \u001b[49m\u001b[38;5;28;43mself\u001b[39;49m\u001b[38;5;241;43m.\u001b[39;49m\u001b[43m_get_db\u001b[49m\u001b[43m(\u001b[49m\u001b[43m)\u001b[49m\u001b[38;5;241;43m.\u001b[39;49m\u001b[43mencoding\u001b[49m\u001b[43m,\u001b[49m\n\u001b[0;32m    189\u001b[0m \u001b[43m    \u001b[49m\u001b[43m)\u001b[49m\n\u001b[0;32m    191\u001b[0m \u001b[38;5;28mself\u001b[39m\u001b[38;5;241m.\u001b[39mrowcount \u001b[38;5;241m=\u001b[39m \u001b[38;5;28msum\u001b[39m(\u001b[38;5;28mself\u001b[39m\u001b[38;5;241m.\u001b[39mexecute(query, arg) \u001b[38;5;28;01mfor\u001b[39;00m arg \u001b[38;5;129;01min\u001b[39;00m args)\n\u001b[0;32m    192\u001b[0m \u001b[38;5;28;01mreturn\u001b[39;00m \u001b[38;5;28mself\u001b[39m\u001b[38;5;241m.\u001b[39mrowcount\n",
      "File \u001b[1;32mc:\\Users\\kev_g\\AppData\\Local\\Programs\\Python\\Python310\\lib\\site-packages\\pymysql\\cursors.py:220\u001b[0m, in \u001b[0;36mCursor._do_execute_many\u001b[1;34m(self, prefix, values, postfix, args, max_stmt_length, encoding)\u001b[0m\n\u001b[0;32m    218\u001b[0m         sql \u001b[38;5;241m+\u001b[39m\u001b[38;5;241m=\u001b[39m \u001b[38;5;124mb\u001b[39m\u001b[38;5;124m\"\u001b[39m\u001b[38;5;124m,\u001b[39m\u001b[38;5;124m\"\u001b[39m\n\u001b[0;32m    219\u001b[0m     sql \u001b[38;5;241m+\u001b[39m\u001b[38;5;241m=\u001b[39m v\n\u001b[1;32m--> 220\u001b[0m rows \u001b[38;5;241m+\u001b[39m\u001b[38;5;241m=\u001b[39m \u001b[38;5;28;43mself\u001b[39;49m\u001b[38;5;241;43m.\u001b[39;49m\u001b[43mexecute\u001b[49m\u001b[43m(\u001b[49m\u001b[43msql\u001b[49m\u001b[43m \u001b[49m\u001b[38;5;241;43m+\u001b[39;49m\u001b[43m \u001b[49m\u001b[43mpostfix\u001b[49m\u001b[43m)\u001b[49m\n\u001b[0;32m    221\u001b[0m \u001b[38;5;28mself\u001b[39m\u001b[38;5;241m.\u001b[39mrowcount \u001b[38;5;241m=\u001b[39m rows\n\u001b[0;32m    222\u001b[0m \u001b[38;5;28;01mreturn\u001b[39;00m rows\n",
      "File \u001b[1;32mc:\\Users\\kev_g\\AppData\\Local\\Programs\\Python\\Python310\\lib\\site-packages\\pymysql\\cursors.py:153\u001b[0m, in \u001b[0;36mCursor.execute\u001b[1;34m(self, query, args)\u001b[0m\n\u001b[0;32m    149\u001b[0m     \u001b[38;5;28;01mpass\u001b[39;00m\n\u001b[0;32m    151\u001b[0m query \u001b[38;5;241m=\u001b[39m \u001b[38;5;28mself\u001b[39m\u001b[38;5;241m.\u001b[39mmogrify(query, args)\n\u001b[1;32m--> 153\u001b[0m result \u001b[38;5;241m=\u001b[39m \u001b[38;5;28;43mself\u001b[39;49m\u001b[38;5;241;43m.\u001b[39;49m\u001b[43m_query\u001b[49m\u001b[43m(\u001b[49m\u001b[43mquery\u001b[49m\u001b[43m)\u001b[49m\n\u001b[0;32m    154\u001b[0m \u001b[38;5;28mself\u001b[39m\u001b[38;5;241m.\u001b[39m_executed \u001b[38;5;241m=\u001b[39m query\n\u001b[0;32m    155\u001b[0m \u001b[38;5;28;01mreturn\u001b[39;00m result\n",
      "File \u001b[1;32mc:\\Users\\kev_g\\AppData\\Local\\Programs\\Python\\Python310\\lib\\site-packages\\pymysql\\cursors.py:322\u001b[0m, in \u001b[0;36mCursor._query\u001b[1;34m(self, q)\u001b[0m\n\u001b[0;32m    320\u001b[0m conn \u001b[38;5;241m=\u001b[39m \u001b[38;5;28mself\u001b[39m\u001b[38;5;241m.\u001b[39m_get_db()\n\u001b[0;32m    321\u001b[0m \u001b[38;5;28mself\u001b[39m\u001b[38;5;241m.\u001b[39m_clear_result()\n\u001b[1;32m--> 322\u001b[0m \u001b[43mconn\u001b[49m\u001b[38;5;241;43m.\u001b[39;49m\u001b[43mquery\u001b[49m\u001b[43m(\u001b[49m\u001b[43mq\u001b[49m\u001b[43m)\u001b[49m\n\u001b[0;32m    323\u001b[0m \u001b[38;5;28mself\u001b[39m\u001b[38;5;241m.\u001b[39m_do_get_result()\n\u001b[0;32m    324\u001b[0m \u001b[38;5;28;01mreturn\u001b[39;00m \u001b[38;5;28mself\u001b[39m\u001b[38;5;241m.\u001b[39mrowcount\n",
      "File \u001b[1;32mc:\\Users\\kev_g\\AppData\\Local\\Programs\\Python\\Python310\\lib\\site-packages\\pymysql\\connections.py:563\u001b[0m, in \u001b[0;36mConnection.query\u001b[1;34m(self, sql, unbuffered)\u001b[0m\n\u001b[0;32m    561\u001b[0m     sql \u001b[38;5;241m=\u001b[39m sql\u001b[38;5;241m.\u001b[39mencode(\u001b[38;5;28mself\u001b[39m\u001b[38;5;241m.\u001b[39mencoding, \u001b[38;5;124m\"\u001b[39m\u001b[38;5;124msurrogateescape\u001b[39m\u001b[38;5;124m\"\u001b[39m)\n\u001b[0;32m    562\u001b[0m \u001b[38;5;28mself\u001b[39m\u001b[38;5;241m.\u001b[39m_execute_command(COMMAND\u001b[38;5;241m.\u001b[39mCOM_QUERY, sql)\n\u001b[1;32m--> 563\u001b[0m \u001b[38;5;28mself\u001b[39m\u001b[38;5;241m.\u001b[39m_affected_rows \u001b[38;5;241m=\u001b[39m \u001b[38;5;28;43mself\u001b[39;49m\u001b[38;5;241;43m.\u001b[39;49m\u001b[43m_read_query_result\u001b[49m\u001b[43m(\u001b[49m\u001b[43munbuffered\u001b[49m\u001b[38;5;241;43m=\u001b[39;49m\u001b[43munbuffered\u001b[49m\u001b[43m)\u001b[49m\n\u001b[0;32m    564\u001b[0m \u001b[38;5;28;01mreturn\u001b[39;00m \u001b[38;5;28mself\u001b[39m\u001b[38;5;241m.\u001b[39m_affected_rows\n",
      "File \u001b[1;32mc:\\Users\\kev_g\\AppData\\Local\\Programs\\Python\\Python310\\lib\\site-packages\\pymysql\\connections.py:825\u001b[0m, in \u001b[0;36mConnection._read_query_result\u001b[1;34m(self, unbuffered)\u001b[0m\n\u001b[0;32m    823\u001b[0m \u001b[38;5;28;01melse\u001b[39;00m:\n\u001b[0;32m    824\u001b[0m     result \u001b[38;5;241m=\u001b[39m MySQLResult(\u001b[38;5;28mself\u001b[39m)\n\u001b[1;32m--> 825\u001b[0m     \u001b[43mresult\u001b[49m\u001b[38;5;241;43m.\u001b[39;49m\u001b[43mread\u001b[49m\u001b[43m(\u001b[49m\u001b[43m)\u001b[49m\n\u001b[0;32m    826\u001b[0m \u001b[38;5;28mself\u001b[39m\u001b[38;5;241m.\u001b[39m_result \u001b[38;5;241m=\u001b[39m result\n\u001b[0;32m    827\u001b[0m \u001b[38;5;28;01mif\u001b[39;00m result\u001b[38;5;241m.\u001b[39mserver_status \u001b[38;5;129;01mis\u001b[39;00m \u001b[38;5;129;01mnot\u001b[39;00m \u001b[38;5;28;01mNone\u001b[39;00m:\n",
      "File \u001b[1;32mc:\\Users\\kev_g\\AppData\\Local\\Programs\\Python\\Python310\\lib\\site-packages\\pymysql\\connections.py:1199\u001b[0m, in \u001b[0;36mMySQLResult.read\u001b[1;34m(self)\u001b[0m\n\u001b[0;32m   1197\u001b[0m \u001b[38;5;28;01mdef\u001b[39;00m \u001b[38;5;21mread\u001b[39m(\u001b[38;5;28mself\u001b[39m):\n\u001b[0;32m   1198\u001b[0m     \u001b[38;5;28;01mtry\u001b[39;00m:\n\u001b[1;32m-> 1199\u001b[0m         first_packet \u001b[38;5;241m=\u001b[39m \u001b[38;5;28;43mself\u001b[39;49m\u001b[38;5;241;43m.\u001b[39;49m\u001b[43mconnection\u001b[49m\u001b[38;5;241;43m.\u001b[39;49m\u001b[43m_read_packet\u001b[49m\u001b[43m(\u001b[49m\u001b[43m)\u001b[49m\n\u001b[0;32m   1201\u001b[0m         \u001b[38;5;28;01mif\u001b[39;00m first_packet\u001b[38;5;241m.\u001b[39mis_ok_packet():\n\u001b[0;32m   1202\u001b[0m             \u001b[38;5;28mself\u001b[39m\u001b[38;5;241m.\u001b[39m_read_ok_packet(first_packet)\n",
      "File \u001b[1;32mc:\\Users\\kev_g\\AppData\\Local\\Programs\\Python\\Python310\\lib\\site-packages\\pymysql\\connections.py:775\u001b[0m, in \u001b[0;36mConnection._read_packet\u001b[1;34m(self, packet_type)\u001b[0m\n\u001b[0;32m    773\u001b[0m     \u001b[38;5;28;01mif\u001b[39;00m \u001b[38;5;28mself\u001b[39m\u001b[38;5;241m.\u001b[39m_result \u001b[38;5;129;01mis\u001b[39;00m \u001b[38;5;129;01mnot\u001b[39;00m \u001b[38;5;28;01mNone\u001b[39;00m \u001b[38;5;129;01mand\u001b[39;00m \u001b[38;5;28mself\u001b[39m\u001b[38;5;241m.\u001b[39m_result\u001b[38;5;241m.\u001b[39munbuffered_active \u001b[38;5;129;01mis\u001b[39;00m \u001b[38;5;28;01mTrue\u001b[39;00m:\n\u001b[0;32m    774\u001b[0m         \u001b[38;5;28mself\u001b[39m\u001b[38;5;241m.\u001b[39m_result\u001b[38;5;241m.\u001b[39munbuffered_active \u001b[38;5;241m=\u001b[39m \u001b[38;5;28;01mFalse\u001b[39;00m\n\u001b[1;32m--> 775\u001b[0m     \u001b[43mpacket\u001b[49m\u001b[38;5;241;43m.\u001b[39;49m\u001b[43mraise_for_error\u001b[49m\u001b[43m(\u001b[49m\u001b[43m)\u001b[49m\n\u001b[0;32m    776\u001b[0m \u001b[38;5;28;01mreturn\u001b[39;00m packet\n",
      "File \u001b[1;32mc:\\Users\\kev_g\\AppData\\Local\\Programs\\Python\\Python310\\lib\\site-packages\\pymysql\\protocol.py:219\u001b[0m, in \u001b[0;36mMysqlPacket.raise_for_error\u001b[1;34m(self)\u001b[0m\n\u001b[0;32m    217\u001b[0m \u001b[38;5;28;01mif\u001b[39;00m DEBUG:\n\u001b[0;32m    218\u001b[0m     \u001b[38;5;28mprint\u001b[39m(\u001b[38;5;124m\"\u001b[39m\u001b[38;5;124merrno =\u001b[39m\u001b[38;5;124m\"\u001b[39m, errno)\n\u001b[1;32m--> 219\u001b[0m \u001b[43merr\u001b[49m\u001b[38;5;241;43m.\u001b[39;49m\u001b[43mraise_mysql_exception\u001b[49m\u001b[43m(\u001b[49m\u001b[38;5;28;43mself\u001b[39;49m\u001b[38;5;241;43m.\u001b[39;49m\u001b[43m_data\u001b[49m\u001b[43m)\u001b[49m\n",
      "File \u001b[1;32mc:\\Users\\kev_g\\AppData\\Local\\Programs\\Python\\Python310\\lib\\site-packages\\pymysql\\err.py:150\u001b[0m, in \u001b[0;36mraise_mysql_exception\u001b[1;34m(data)\u001b[0m\n\u001b[0;32m    148\u001b[0m \u001b[38;5;28;01mif\u001b[39;00m errorclass \u001b[38;5;129;01mis\u001b[39;00m \u001b[38;5;28;01mNone\u001b[39;00m:\n\u001b[0;32m    149\u001b[0m     errorclass \u001b[38;5;241m=\u001b[39m InternalError \u001b[38;5;28;01mif\u001b[39;00m errno \u001b[38;5;241m<\u001b[39m \u001b[38;5;241m1000\u001b[39m \u001b[38;5;28;01melse\u001b[39;00m OperationalError\n\u001b[1;32m--> 150\u001b[0m \u001b[38;5;28;01mraise\u001b[39;00m errorclass(errno, errval)\n",
      "\u001b[1;31mIntegrityError\u001b[0m: (pymysql.err.IntegrityError) (1062, \"Duplicate entry '1' for key 'product_hierarchy.PRIMARY'\")\n[SQL: INSERT INTO product_hierarchy (id, level_text, level_name) VALUES (%(id)s, %(level_text)s, %(level_name)s)]\n[parameters: [{'id': 1, 'level_text': 'Womens', 'level_name': 'Category'}, {'id': 2, 'level_text': 'Mens', 'level_name': 'Category'}]]\n(Background on this error at: https://sqlalche.me/e/20/gkpj)"
     ]
    }
   ],
   "source": [
    "\n",
    "objects = [\n",
    "    ProductHierarchy(\n",
    "\n",
    "        id =int(id),\n",
    "        parent_id = int(parent_id) if parent_id is not None else None,\n",
    "        level_text = level_text,\n",
    "        level_name = level_name\n",
    "    )\n",
    "    for id, parent_id, level_text, level_name in product_hierarchy_data\n",
    "]\n",
    "\n",
    "session.bulk_save_objects(objects)\n",
    "session.commit()"
   ]
  },
  {
   "cell_type": "markdown",
   "id": "7aa14229",
   "metadata": {},
   "source": [
    "### **1.1.2 Cargando datos `ProductPrices`**"
   ]
  },
  {
   "cell_type": "code",
   "execution_count": null,
   "id": "0e9d6a1a",
   "metadata": {},
   "outputs": [
    {
     "name": "stdout",
     "output_type": "stream",
     "text": [
      "2025-04-28 14:31:43,258 INFO sqlalchemy.engine.Engine BEGIN (implicit)\n",
      "2025-04-28 14:31:43,259 INFO sqlalchemy.engine.Engine INSERT INTO product_prices (id, product_id) VALUES (%(id)s, %(product_id)s)\n",
      "2025-04-28 14:31:43,260 INFO sqlalchemy.engine.Engine [generated in 0.00102s] [{'id': 7, 'product_id': 'c4a632'}, {'id': 8, 'product_id': 'e83aa3'}, {'id': 9, 'product_id': 'e31d39'}, {'id': 10, 'product_id': 'd5e9a6'}, {'id': 11, 'product_id': '72f5d4'}, {'id': 12, 'product_id': '9ec847'}, {'id': 13, 'product_id': '5d267b'}, {'id': 14, 'product_id': 'c8d436'}  ... displaying 10 of 12 total bound parameter sets ...  {'id': 17, 'product_id': 'b9a74d'}, {'id': 18, 'product_id': '2feb6b'}]\n",
      "2025-04-28 14:31:43,262 INFO sqlalchemy.engine.Engine COMMIT\n"
     ]
    }
   ],
   "source": [
    "\n",
    "objects = [\n",
    "    ProductPrices(\n",
    "\n",
    "        id =int(id),\n",
    "        product_id = product_id,\n",
    "        price = int(price)\n",
    "    )\n",
    "    for id, product_id, price in product_prices_data\n",
    "]\n",
    "\n",
    "session.bulk_save_objects(objects)\n",
    "session.commit()"
   ]
  },
  {
   "cell_type": "markdown",
   "id": "541e165d",
   "metadata": {},
   "source": [
    "### **1.1.3 Cargando datos `ProductDetails`**"
   ]
  },
  {
   "cell_type": "code",
   "execution_count": null,
   "id": "3accbcdb",
   "metadata": {},
   "outputs": [
    {
     "name": "stdout",
     "output_type": "stream",
     "text": [
      "2025-04-28 14:31:43,275 INFO sqlalchemy.engine.Engine BEGIN (implicit)\n",
      "2025-04-28 14:31:43,276 INFO sqlalchemy.engine.Engine INSERT INTO product_details (product_id, price, product_name, category_id, segment_id, style_id, category_name, segment_name, style_name) VALUES (%(product_id)s, %(price)s, %(product_name)s, %(category_id)s, %(segment_id)s, %(style_id)s, %(category_name)s, %(segment_name)s, %(style_name)s)\n",
      "2025-04-28 14:31:43,277 INFO sqlalchemy.engine.Engine [generated in 0.00086s] [{'product_id': 'c4a632', 'price': 13, 'product_name': 'Navy Oversized Jeans - Womens', 'category_id': 1, 'segment_id': 3, 'style_id': 7, 'category_name': 'Womens', 'segment_name': 'Jeans', 'style_name': 'Navy Oversized'}, {'product_id': 'e83aa3', 'price': 32, 'product_name': 'Black Straight Jeans - Womens', 'category_id': 1, 'segment_id': 3, 'style_id': 8, 'category_name': 'Womens', 'segment_name': 'Jeans', 'style_name': 'Black Straight'}, {'product_id': 'e31d39', 'price': 10, 'product_name': 'Cream Relaxed Jeans - Womens', 'category_id': 1, 'segment_id': 3, 'style_id': 9, 'category_name': 'Womens', 'segment_name': 'Jeans', 'style_name': 'Cream Relaxed'}, {'product_id': 'd5e9a6', 'price': 23, 'product_name': 'Khaki Suit Jacket - Womens', 'category_id': 1, 'segment_id': 4, 'style_id': 10, 'category_name': 'Womens', 'segment_name': 'Jacket', 'style_name': 'Khaki Suit'}, {'product_id': '72f5d4', 'price': 19, 'product_name': 'Indigo Rain Jacket - Womens', 'category_id': 1, 'segment_id': 4, 'style_id': 11, 'category_name': 'Womens', 'segment_name': 'Jacket', 'style_name': 'Indigo Rain'}, {'product_id': '9ec847', 'price': 54, 'product_name': 'Grey Fashion Jacket - Womens', 'category_id': 1, 'segment_id': 4, 'style_id': 12, 'category_name': 'Womens', 'segment_name': 'Jacket', 'style_name': 'Grey Fashion'}, {'product_id': '5d267b', 'price': 40, 'product_name': 'White Tee Shirt - Mens', 'category_id': 2, 'segment_id': 5, 'style_id': 13, 'category_name': 'Mens', 'segment_name': 'Shirt', 'style_name': 'White Tee'}, {'product_id': 'c8d436', 'price': 10, 'product_name': 'Teal Button Up Shirt - Mens', 'category_id': 2, 'segment_id': 5, 'style_id': 14, 'category_name': 'Mens', 'segment_name': 'Shirt', 'style_name': 'Teal Button Up'}  ... displaying 10 of 12 total bound parameter sets ...  {'product_id': 'b9a74d', 'price': 17, 'product_name': 'White Striped Socks - Mens', 'category_id': 2, 'segment_id': 6, 'style_id': 17, 'category_name': 'Mens', 'segment_name': 'Socks', 'style_name': 'White Striped'}, {'product_id': '2feb6b', 'price': 29, 'product_name': 'Pink Fluro Polkadot Socks - Mens', 'category_id': 2, 'segment_id': 6, 'style_id': 18, 'category_name': 'Mens', 'segment_name': 'Socks', 'style_name': 'Pink Fluro Polkadot'}]\n",
      "2025-04-28 14:31:43,279 INFO sqlalchemy.engine.Engine COMMIT\n"
     ]
    }
   ],
   "source": [
    "objects = [\n",
    "    ProductDetails(\n",
    "\n",
    "        product_id = product_id, \n",
    "        price = int(price),\n",
    "        product_name = product_name,\n",
    "        category_id = int(category_id),\n",
    "        segment_id = int(segment_id),\n",
    "        style_id = int(style_id),\n",
    "        category_name = category_name,\n",
    "        segment_name =segment_name,\n",
    "        style_name = style_name,\n",
    "    )\n",
    "    for product_id, price, product_name, category_id, segment_id,  style_id, category_name,  segment_name, style_name in product_details_data\n",
    "]\n",
    "\n",
    "session.bulk_save_objects(objects)\n",
    "session.commit()"
   ]
  },
  {
   "cell_type": "markdown",
   "id": "c35ed3cd",
   "metadata": {},
   "source": [
    "### **1.1.3 Cargando datos `Sales`**"
   ]
  },
  {
   "cell_type": "code",
   "execution_count": null,
   "id": "4dec53db",
   "metadata": {},
   "outputs": [
    {
     "name": "stdout",
     "output_type": "stream",
     "text": [
      "2025-04-28 14:31:43,557 INFO sqlalchemy.engine.Engine BEGIN (implicit)\n",
      "2025-04-28 14:31:43,699 INFO sqlalchemy.engine.Engine INSERT INTO sales (prod_id, qty, price, discount, `member`, txn_id, start_txn_time) VALUES (%(prod_id)s, %(qty)s, %(price)s, %(discount)s, %(member)s, %(txn_id)s, %(start_txn_time)s)\n",
      "2025-04-28 14:31:43,700 INFO sqlalchemy.engine.Engine [generated in 0.04345s] [{'prod_id': 'c4a632', 'qty': 4, 'price': 13, 'discount': 17, 'member': 1, 'txn_id': '54f307', 'start_txn_time': '2021-02-13 01:59:43.296'}, {'prod_id': '5d267b', 'qty': 4, 'price': 40, 'discount': 17, 'member': 1, 'txn_id': '54f307', 'start_txn_time': '2021-02-13 01:59:43.296'}, {'prod_id': 'b9a74d', 'qty': 4, 'price': 17, 'discount': 17, 'member': 1, 'txn_id': '54f307', 'start_txn_time': '2021-02-13 01:59:43.296'}, {'prod_id': '2feb6b', 'qty': 2, 'price': 29, 'discount': 17, 'member': 1, 'txn_id': '54f307', 'start_txn_time': '2021-02-13 01:59:43.296'}, {'prod_id': 'c4a632', 'qty': 5, 'price': 13, 'discount': 21, 'member': 1, 'txn_id': '26cc98', 'start_txn_time': '2021-01-19 01:39:00.3456'}, {'prod_id': 'e31d39', 'qty': 2, 'price': 10, 'discount': 21, 'member': 1, 'txn_id': '26cc98', 'start_txn_time': '2021-01-19 01:39:00.3456'}, {'prod_id': '72f5d4', 'qty': 3, 'price': 19, 'discount': 21, 'member': 1, 'txn_id': '26cc98', 'start_txn_time': '2021-01-19 01:39:00.3456'}, {'prod_id': '2a2353', 'qty': 3, 'price': 57, 'discount': 21, 'member': 1, 'txn_id': '26cc98', 'start_txn_time': '2021-01-19 01:39:00.3456'}  ... displaying 10 of 15095 total bound parameter sets ...  {'prod_id': 'd5e9a6', 'qty': 2, 'price': 23, 'discount': 1, 'member': 1, 'txn_id': '93620b', 'start_txn_time': '2021-03-01 07:11:24.6624'}, {'prod_id': '5d267b', 'qty': 2, 'price': 40, 'discount': 1, 'member': 1, 'txn_id': '93620b', 'start_txn_time': '2021-03-01 07:11:24.6624'}]\n",
      "2025-04-28 14:31:44,087 INFO sqlalchemy.engine.Engine COMMIT\n"
     ]
    }
   ],
   "source": [
    "objects = [\n",
    "    Sales(\n",
    "\n",
    "        prod_id = prod_id,\n",
    "        qty = int(qty),\n",
    "        price = int(price),\n",
    "        discount = int(discount),\n",
    "        member =True if member == 't' else False,\n",
    "        txn_id =txn_id,\n",
    "        start_txn_time = start_txn_time,\n",
    "    )\n",
    "    for prod_id, qty, price, discount, member, txn_id,  start_txn_time in sales_data\n",
    "]\n",
    "\n",
    "session.bulk_save_objects(objects)\n",
    "session.commit()"
   ]
  },
  {
   "cell_type": "markdown",
   "id": "668521d3",
   "metadata": {},
   "source": [
    "<center><b><h1>PREGUNTAS</h1></b></center>"
   ]
  },
  {
   "cell_type": "markdown",
   "id": "9c839192",
   "metadata": {},
   "source": [
    "## **Análisis de Ventas de Alto Nivel**\n"
   ]
  },
  {
   "cell_type": "markdown",
   "id": "cbce3b24",
   "metadata": {},
   "source": [
    "# **1. ¿Cuál fue la cantidad total vendida de todos los productos?**"
   ]
  },
  {
   "cell_type": "code",
   "execution_count": null,
   "id": "ef9f4895",
   "metadata": {},
   "outputs": [
    {
     "name": "stdout",
     "output_type": "stream",
     "text": [
      "2025-04-28 14:39:01,825 INFO sqlalchemy.engine.Engine BEGIN (implicit)\n",
      "2025-04-28 14:39:01,825 INFO sqlalchemy.engine.Engine \n",
      "\n",
      "    SELECT\n",
      "        d.product_name,\n",
      "        SUM(s.qty) AS total_vendida\n",
      "    FROM \n",
      "        sales s\n",
      "    INNER JOIN\n",
      "        product_details d\n",
      "        ON\n",
      "        s.prod_id = d.product_id\n",
      "    GROUP BY\n",
      "        d.product_name\n",
      "    ORDER BY\n",
      "        total_vendida DESC\n",
      "\n",
      "\n",
      "2025-04-28 14:39:01,826 INFO sqlalchemy.engine.Engine [raw sql] {}\n",
      "2025-04-28 14:39:01,868 INFO sqlalchemy.engine.Engine ROLLBACK\n"
     ]
    },
    {
     "data": {
      "text/html": [
       "<div>\n",
       "<style scoped>\n",
       "    .dataframe tbody tr th:only-of-type {\n",
       "        vertical-align: middle;\n",
       "    }\n",
       "\n",
       "    .dataframe tbody tr th {\n",
       "        vertical-align: top;\n",
       "    }\n",
       "\n",
       "    .dataframe thead th {\n",
       "        text-align: right;\n",
       "    }\n",
       "</style>\n",
       "<table border=\"1\" class=\"dataframe\">\n",
       "  <thead>\n",
       "    <tr style=\"text-align: right;\">\n",
       "      <th></th>\n",
       "      <th>product_name</th>\n",
       "      <th>total_vendida</th>\n",
       "    </tr>\n",
       "  </thead>\n",
       "  <tbody>\n",
       "    <tr>\n",
       "      <th>0</th>\n",
       "      <td>Grey Fashion Jacket - Womens</td>\n",
       "      <td>3876.0</td>\n",
       "    </tr>\n",
       "    <tr>\n",
       "      <th>1</th>\n",
       "      <td>Navy Oversized Jeans - Womens</td>\n",
       "      <td>3856.0</td>\n",
       "    </tr>\n",
       "    <tr>\n",
       "      <th>2</th>\n",
       "      <td>Blue Polo Shirt - Mens</td>\n",
       "      <td>3819.0</td>\n",
       "    </tr>\n",
       "    <tr>\n",
       "      <th>3</th>\n",
       "      <td>White Tee Shirt - Mens</td>\n",
       "      <td>3800.0</td>\n",
       "    </tr>\n",
       "    <tr>\n",
       "      <th>4</th>\n",
       "      <td>Navy Solid Socks - Mens</td>\n",
       "      <td>3792.0</td>\n",
       "    </tr>\n",
       "    <tr>\n",
       "      <th>5</th>\n",
       "      <td>Black Straight Jeans - Womens</td>\n",
       "      <td>3786.0</td>\n",
       "    </tr>\n",
       "    <tr>\n",
       "      <th>6</th>\n",
       "      <td>Pink Fluro Polkadot Socks - Mens</td>\n",
       "      <td>3770.0</td>\n",
       "    </tr>\n",
       "    <tr>\n",
       "      <th>7</th>\n",
       "      <td>Indigo Rain Jacket - Womens</td>\n",
       "      <td>3757.0</td>\n",
       "    </tr>\n",
       "    <tr>\n",
       "      <th>8</th>\n",
       "      <td>Khaki Suit Jacket - Womens</td>\n",
       "      <td>3752.0</td>\n",
       "    </tr>\n",
       "    <tr>\n",
       "      <th>9</th>\n",
       "      <td>Cream Relaxed Jeans - Womens</td>\n",
       "      <td>3707.0</td>\n",
       "    </tr>\n",
       "    <tr>\n",
       "      <th>10</th>\n",
       "      <td>White Striped Socks - Mens</td>\n",
       "      <td>3655.0</td>\n",
       "    </tr>\n",
       "    <tr>\n",
       "      <th>11</th>\n",
       "      <td>Teal Button Up Shirt - Mens</td>\n",
       "      <td>3646.0</td>\n",
       "    </tr>\n",
       "  </tbody>\n",
       "</table>\n",
       "</div>"
      ],
      "text/plain": [
       "                        product_name  total_vendida\n",
       "0       Grey Fashion Jacket - Womens         3876.0\n",
       "1      Navy Oversized Jeans - Womens         3856.0\n",
       "2             Blue Polo Shirt - Mens         3819.0\n",
       "3             White Tee Shirt - Mens         3800.0\n",
       "4            Navy Solid Socks - Mens         3792.0\n",
       "5      Black Straight Jeans - Womens         3786.0\n",
       "6   Pink Fluro Polkadot Socks - Mens         3770.0\n",
       "7        Indigo Rain Jacket - Womens         3757.0\n",
       "8         Khaki Suit Jacket - Womens         3752.0\n",
       "9       Cream Relaxed Jeans - Womens         3707.0\n",
       "10        White Striped Socks - Mens         3655.0\n",
       "11       Teal Button Up Shirt - Mens         3646.0"
      ]
     },
     "execution_count": 29,
     "metadata": {},
     "output_type": "execute_result"
    }
   ],
   "source": [
    "query = '''\n",
    "\n",
    "    SELECT\n",
    "        d.product_name,\n",
    "        SUM(s.qty) AS total_vendida\n",
    "    FROM \n",
    "        sales s\n",
    "    INNER JOIN\n",
    "        product_details d\n",
    "        ON\n",
    "        s.prod_id = d.product_id\n",
    "    GROUP BY\n",
    "        d.product_name\n",
    "    ORDER BY\n",
    "        total_vendida DESC\n",
    "\n",
    "'''\n",
    "\n",
    "\n",
    "pd.read_sql_query(query, con=engine)"
   ]
  },
  {
   "cell_type": "markdown",
   "id": "85ab3af9",
   "metadata": {},
   "source": [
    "# **2. ¿Cuál es el ingreso total generado por todos los productos antes de los descuentos?**\n"
   ]
  },
  {
   "cell_type": "code",
   "execution_count": null,
   "id": "45b3d930",
   "metadata": {},
   "outputs": [
    {
     "name": "stdout",
     "output_type": "stream",
     "text": [
      "2025-04-28 14:42:56,917 INFO sqlalchemy.engine.Engine BEGIN (implicit)\n",
      "2025-04-28 14:42:56,917 INFO sqlalchemy.engine.Engine \n",
      "\n",
      "    SELECT\n",
      "        d.product_name,\n",
      "        SUM(s.qty) * SUM(s.price) as total_ingresos\n",
      "    FROM \n",
      "        sales s\n",
      "    INNER JOIN\n",
      "        product_details d\n",
      "        ON\n",
      "        s.prod_id = d.product_id\n",
      "    GROUP BY\n",
      "        d.product_name\n",
      "   \n",
      "\n",
      "\n",
      "2025-04-28 14:42:56,918 INFO sqlalchemy.engine.Engine [raw sql] {}\n",
      "2025-04-28 14:42:56,959 INFO sqlalchemy.engine.Engine ROLLBACK\n"
     ]
    },
    {
     "data": {
      "text/html": [
       "<div>\n",
       "<style scoped>\n",
       "    .dataframe tbody tr th:only-of-type {\n",
       "        vertical-align: middle;\n",
       "    }\n",
       "\n",
       "    .dataframe tbody tr th {\n",
       "        vertical-align: top;\n",
       "    }\n",
       "\n",
       "    .dataframe thead th {\n",
       "        text-align: right;\n",
       "    }\n",
       "</style>\n",
       "<table border=\"1\" class=\"dataframe\">\n",
       "  <thead>\n",
       "    <tr style=\"text-align: right;\">\n",
       "      <th></th>\n",
       "      <th>product_name</th>\n",
       "      <th>total_ingresos</th>\n",
       "    </tr>\n",
       "  </thead>\n",
       "  <tbody>\n",
       "    <tr>\n",
       "      <th>0</th>\n",
       "      <td>Navy Oversized Jeans - Womens</td>\n",
       "      <td>63863072.0</td>\n",
       "    </tr>\n",
       "    <tr>\n",
       "      <th>1</th>\n",
       "      <td>White Tee Shirt - Mens</td>\n",
       "      <td>192736000.0</td>\n",
       "    </tr>\n",
       "    <tr>\n",
       "      <th>2</th>\n",
       "      <td>White Striped Socks - Mens</td>\n",
       "      <td>77233805.0</td>\n",
       "    </tr>\n",
       "    <tr>\n",
       "      <th>3</th>\n",
       "      <td>Pink Fluro Polkadot Socks - Mens</td>\n",
       "      <td>137537140.0</td>\n",
       "    </tr>\n",
       "    <tr>\n",
       "      <th>4</th>\n",
       "      <td>Cream Relaxed Jeans - Womens</td>\n",
       "      <td>46078010.0</td>\n",
       "    </tr>\n",
       "    <tr>\n",
       "      <th>5</th>\n",
       "      <td>Indigo Rain Jacket - Womens</td>\n",
       "      <td>89228750.0</td>\n",
       "    </tr>\n",
       "    <tr>\n",
       "      <th>6</th>\n",
       "      <td>Blue Polo Shirt - Mens</td>\n",
       "      <td>276022044.0</td>\n",
       "    </tr>\n",
       "    <tr>\n",
       "      <th>7</th>\n",
       "      <td>Navy Solid Socks - Mens</td>\n",
       "      <td>174871872.0</td>\n",
       "    </tr>\n",
       "    <tr>\n",
       "      <th>8</th>\n",
       "      <td>Black Straight Jeans - Womens</td>\n",
       "      <td>150955392.0</td>\n",
       "    </tr>\n",
       "    <tr>\n",
       "      <th>9</th>\n",
       "      <td>Khaki Suit Jacket - Womens</td>\n",
       "      <td>107611112.0</td>\n",
       "    </tr>\n",
       "    <tr>\n",
       "      <th>10</th>\n",
       "      <td>Grey Fashion Jacket - Womens</td>\n",
       "      <td>266862600.0</td>\n",
       "    </tr>\n",
       "    <tr>\n",
       "      <th>11</th>\n",
       "      <td>Teal Button Up Shirt - Mens</td>\n",
       "      <td>45283320.0</td>\n",
       "    </tr>\n",
       "  </tbody>\n",
       "</table>\n",
       "</div>"
      ],
      "text/plain": [
       "                        product_name  total_ingresos\n",
       "0      Navy Oversized Jeans - Womens      63863072.0\n",
       "1             White Tee Shirt - Mens     192736000.0\n",
       "2         White Striped Socks - Mens      77233805.0\n",
       "3   Pink Fluro Polkadot Socks - Mens     137537140.0\n",
       "4       Cream Relaxed Jeans - Womens      46078010.0\n",
       "5        Indigo Rain Jacket - Womens      89228750.0\n",
       "6             Blue Polo Shirt - Mens     276022044.0\n",
       "7            Navy Solid Socks - Mens     174871872.0\n",
       "8      Black Straight Jeans - Womens     150955392.0\n",
       "9         Khaki Suit Jacket - Womens     107611112.0\n",
       "10      Grey Fashion Jacket - Womens     266862600.0\n",
       "11       Teal Button Up Shirt - Mens      45283320.0"
      ]
     },
     "execution_count": 34,
     "metadata": {},
     "output_type": "execute_result"
    }
   ],
   "source": [
    "query = '''\n",
    "\n",
    "    SELECT\n",
    "        d.product_name,\n",
    "        SUM(s.qty) * SUM(s.price) as total_ingresos\n",
    "    FROM \n",
    "        sales s\n",
    "    INNER JOIN\n",
    "        product_details d\n",
    "        ON\n",
    "        s.prod_id = d.product_id\n",
    "    GROUP BY\n",
    "        d.product_name\n",
    "   \n",
    "\n",
    "'''\n",
    "\n",
    "\n",
    "pd.read_sql_query(query, con=engine)"
   ]
  },
  {
   "cell_type": "markdown",
   "id": "41fcc38b",
   "metadata": {},
   "source": [
    "# **3.¿Cuál fue el monto total de descuento para todos los productos?**\n"
   ]
  },
  {
   "cell_type": "code",
   "execution_count": null,
   "id": "d0113498",
   "metadata": {},
   "outputs": [
    {
     "name": "stdout",
     "output_type": "stream",
     "text": [
      "2025-04-28 14:47:22,162 INFO sqlalchemy.engine.Engine BEGIN (implicit)\n",
      "2025-04-28 14:47:22,162 INFO sqlalchemy.engine.Engine \n",
      "\n",
      "    SELECT\n",
      "        d.product_name,\n",
      "        SUM(s.qty * s.price * s.discount/100) as total_descuentos\n",
      "    FROM \n",
      "        sales s\n",
      "    INNER JOIN\n",
      "        product_details d\n",
      "        ON\n",
      "        s.prod_id = d.product_id\n",
      "    GROUP BY\n",
      "        d.product_name\n",
      "   \n",
      "\n",
      "\n",
      "2025-04-28 14:47:22,163 INFO sqlalchemy.engine.Engine [raw sql] {}\n",
      "2025-04-28 14:47:22,208 INFO sqlalchemy.engine.Engine ROLLBACK\n"
     ]
    },
    {
     "data": {
      "text/html": [
       "<div>\n",
       "<style scoped>\n",
       "    .dataframe tbody tr th:only-of-type {\n",
       "        vertical-align: middle;\n",
       "    }\n",
       "\n",
       "    .dataframe tbody tr th {\n",
       "        vertical-align: top;\n",
       "    }\n",
       "\n",
       "    .dataframe thead th {\n",
       "        text-align: right;\n",
       "    }\n",
       "</style>\n",
       "<table border=\"1\" class=\"dataframe\">\n",
       "  <thead>\n",
       "    <tr style=\"text-align: right;\">\n",
       "      <th></th>\n",
       "      <th>product_name</th>\n",
       "      <th>total_descuentos</th>\n",
       "    </tr>\n",
       "  </thead>\n",
       "  <tbody>\n",
       "    <tr>\n",
       "      <th>0</th>\n",
       "      <td>Navy Oversized Jeans - Womens</td>\n",
       "      <td>6135.61</td>\n",
       "    </tr>\n",
       "    <tr>\n",
       "      <th>1</th>\n",
       "      <td>White Tee Shirt - Mens</td>\n",
       "      <td>18377.60</td>\n",
       "    </tr>\n",
       "    <tr>\n",
       "      <th>2</th>\n",
       "      <td>White Striped Socks - Mens</td>\n",
       "      <td>7410.81</td>\n",
       "    </tr>\n",
       "    <tr>\n",
       "      <th>3</th>\n",
       "      <td>Pink Fluro Polkadot Socks - Mens</td>\n",
       "      <td>12952.27</td>\n",
       "    </tr>\n",
       "    <tr>\n",
       "      <th>4</th>\n",
       "      <td>Cream Relaxed Jeans - Womens</td>\n",
       "      <td>4463.40</td>\n",
       "    </tr>\n",
       "    <tr>\n",
       "      <th>5</th>\n",
       "      <td>Indigo Rain Jacket - Womens</td>\n",
       "      <td>8642.53</td>\n",
       "    </tr>\n",
       "    <tr>\n",
       "      <th>6</th>\n",
       "      <td>Blue Polo Shirt - Mens</td>\n",
       "      <td>26819.07</td>\n",
       "    </tr>\n",
       "    <tr>\n",
       "      <th>7</th>\n",
       "      <td>Navy Solid Socks - Mens</td>\n",
       "      <td>16650.36</td>\n",
       "    </tr>\n",
       "    <tr>\n",
       "      <th>8</th>\n",
       "      <td>Black Straight Jeans - Womens</td>\n",
       "      <td>14744.96</td>\n",
       "    </tr>\n",
       "    <tr>\n",
       "      <th>9</th>\n",
       "      <td>Khaki Suit Jacket - Womens</td>\n",
       "      <td>10243.05</td>\n",
       "    </tr>\n",
       "    <tr>\n",
       "      <th>10</th>\n",
       "      <td>Grey Fashion Jacket - Womens</td>\n",
       "      <td>25391.88</td>\n",
       "    </tr>\n",
       "    <tr>\n",
       "      <th>11</th>\n",
       "      <td>Teal Button Up Shirt - Mens</td>\n",
       "      <td>4397.60</td>\n",
       "    </tr>\n",
       "  </tbody>\n",
       "</table>\n",
       "</div>"
      ],
      "text/plain": [
       "                        product_name  total_descuentos\n",
       "0      Navy Oversized Jeans - Womens           6135.61\n",
       "1             White Tee Shirt - Mens          18377.60\n",
       "2         White Striped Socks - Mens           7410.81\n",
       "3   Pink Fluro Polkadot Socks - Mens          12952.27\n",
       "4       Cream Relaxed Jeans - Womens           4463.40\n",
       "5        Indigo Rain Jacket - Womens           8642.53\n",
       "6             Blue Polo Shirt - Mens          26819.07\n",
       "7            Navy Solid Socks - Mens          16650.36\n",
       "8      Black Straight Jeans - Womens          14744.96\n",
       "9         Khaki Suit Jacket - Womens          10243.05\n",
       "10      Grey Fashion Jacket - Womens          25391.88\n",
       "11       Teal Button Up Shirt - Mens           4397.60"
      ]
     },
     "execution_count": 40,
     "metadata": {},
     "output_type": "execute_result"
    }
   ],
   "source": [
    "query = '''\n",
    "\n",
    "    SELECT\n",
    "        d.product_name,\n",
    "        SUM(s.qty * s.price * s.discount/100) as total_descuentos\n",
    "    FROM \n",
    "        sales s\n",
    "    INNER JOIN\n",
    "        product_details d\n",
    "        ON\n",
    "        s.prod_id = d.product_id\n",
    "    GROUP BY\n",
    "        d.product_name\n",
    "   \n",
    "\n",
    "'''\n",
    "\n",
    "\n",
    "pd.read_sql_query(query, con=engine)"
   ]
  },
  {
   "cell_type": "markdown",
   "id": "28fe0771",
   "metadata": {},
   "source": [
    "# Análisis de transacciones "
   ]
  },
  {
   "cell_type": "markdown",
   "id": "3a031d49",
   "metadata": {},
   "source": [
    "# **1. ¿Cuántas transacciones únicas hubo?**\n"
   ]
  },
  {
   "cell_type": "code",
   "execution_count": null,
   "id": "d276c1ea",
   "metadata": {},
   "outputs": [],
   "source": []
  }
 ],
 "metadata": {
  "kernelspec": {
   "display_name": "Python 3",
   "language": "python",
   "name": "python3"
  },
  "language_info": {
   "codemirror_mode": {
    "name": "ipython",
    "version": 3
   },
   "file_extension": ".py",
   "mimetype": "text/x-python",
   "name": "python",
   "nbconvert_exporter": "python",
   "pygments_lexer": "ipython3",
   "version": "3.10.4"
  }
 },
 "nbformat": 4,
 "nbformat_minor": 5
}

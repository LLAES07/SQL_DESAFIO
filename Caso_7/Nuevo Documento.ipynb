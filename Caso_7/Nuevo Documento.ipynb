{
 "cells": [
  {
   "cell_type": "code",
   "execution_count": 20,
   "id": "0ad491af",
   "metadata": {},
   "outputs": [],
   "source": [
    "# **IMPORTANDO LIBRERIAS**"
   ]
  },
  {
   "cell_type": "code",
   "execution_count": 21,
   "id": "e086a1e2",
   "metadata": {},
   "outputs": [],
   "source": [
    "import sys\n",
    "import os\n",
    "import pandas as pd\n",
    "from sqlalchemy import create_engine, text\n",
    "from dotenv import load_dotenv\n",
    "import os\n",
    "from sqlalchemy.orm import declarative_base, relationship\n",
    "from sqlalchemy import create_engine, Column, Integer, String, VARCHAR,Boolean, TIMESTAMP\n",
    "from sqlalchemy.types import DateTime\n",
    "from sqlalchemy.orm import sessionmaker\n",
    "\n",
    "\n",
    "sys.path.append(os.path.abspath(os.path.join('..')))"
   ]
  },
  {
   "cell_type": "code",
   "execution_count": 22,
   "id": "33a5a8a3",
   "metadata": {},
   "outputs": [],
   "source": [
    "load_dotenv()  # Carga las variables del archivo .env\n",
    "\n",
    "config = {\n",
    "    'host': os.getenv('HOST'),\n",
    "    'user': os.getenv('USER'),\n",
    "    'password': os.getenv('PASSWORD'),\n",
    "    'database': os.getenv('DATABASE'),\n",
    "    'port': os.getenv('PORT')\n",
    "}"
   ]
  },
  {
   "cell_type": "code",
   "execution_count": 23,
   "id": "01199a75",
   "metadata": {},
   "outputs": [],
   "source": [
    "# Crear la URL de conexión para SQLAlchemy\n",
    "db_url = f\"mysql+pymysql://{config['user']}:{config['password']}@{config['host']}:{config['port']}/caso_7\"\n",
    "\n",
    "# Crear el motor de SQLAlchemy\n",
    "engine = create_engine(db_url, echo=True)\n",
    "\n"
   ]
  },
  {
   "cell_type": "code",
   "execution_count": 24,
   "id": "ecd85649",
   "metadata": {},
   "outputs": [],
   "source": [
    "Base = declarative_base()\n"
   ]
  },
  {
   "cell_type": "markdown",
   "id": "e0318abf",
   "metadata": {},
   "source": [
    "# **1. GENERACIÓN DE TABLAS**"
   ]
  },
  {
   "cell_type": "code",
   "execution_count": 25,
   "id": "fc2f7e80",
   "metadata": {},
   "outputs": [
    {
     "name": "stdout",
     "output_type": "stream",
     "text": [
      "2025-04-28 13:51:01,571 INFO sqlalchemy.engine.Engine SELECT DATABASE()\n",
      "2025-04-28 13:51:01,571 INFO sqlalchemy.engine.Engine [raw sql] {}\n",
      "2025-04-28 13:51:01,573 INFO sqlalchemy.engine.Engine SELECT @@sql_mode\n",
      "2025-04-28 13:51:01,574 INFO sqlalchemy.engine.Engine [raw sql] {}\n",
      "2025-04-28 13:51:01,576 INFO sqlalchemy.engine.Engine SELECT @@lower_case_table_names\n",
      "2025-04-28 13:51:01,577 INFO sqlalchemy.engine.Engine [raw sql] {}\n",
      "2025-04-28 13:51:01,579 INFO sqlalchemy.engine.Engine BEGIN (implicit)\n",
      "2025-04-28 13:51:01,580 INFO sqlalchemy.engine.Engine DESCRIBE `caso_7`.`product_hierarchy`\n",
      "2025-04-28 13:51:01,581 INFO sqlalchemy.engine.Engine [raw sql] {}\n",
      "2025-04-28 13:51:01,586 INFO sqlalchemy.engine.Engine DESCRIBE `caso_7`.`product_prices`\n",
      "2025-04-28 13:51:01,586 INFO sqlalchemy.engine.Engine [raw sql] {}\n",
      "2025-04-28 13:51:01,590 INFO sqlalchemy.engine.Engine DESCRIBE `caso_7`.`product_details`\n",
      "2025-04-28 13:51:01,591 INFO sqlalchemy.engine.Engine [raw sql] {}\n",
      "2025-04-28 13:51:01,594 INFO sqlalchemy.engine.Engine DESCRIBE `caso_7`.`sales`\n",
      "2025-04-28 13:51:01,595 INFO sqlalchemy.engine.Engine [raw sql] {}\n",
      "2025-04-28 13:51:01,597 INFO sqlalchemy.engine.Engine \n",
      "CREATE TABLE sales (\n",
      "\tid INTEGER NOT NULL AUTO_INCREMENT, \n",
      "\tprod_id VARCHAR(6), \n",
      "\tprice INTEGER, \n",
      "\tdiscount INTEGER, \n",
      "\t`member` BOOL, \n",
      "\ttxn_id VARCHAR(32), \n",
      "\tstart_txn_time TIMESTAMP NULL, \n",
      "\tPRIMARY KEY (id)\n",
      ")\n",
      "\n",
      "\n",
      "2025-04-28 13:51:01,598 INFO sqlalchemy.engine.Engine [no key 0.00108s] {}\n",
      "2025-04-28 13:51:01,617 INFO sqlalchemy.engine.Engine COMMIT\n"
     ]
    }
   ],
   "source": [
    "class ProductHierarchy(Base):\n",
    "\n",
    "    __tablename__ = 'product_hierarchy'\n",
    "    __table_args__= {'extend_existing':True}\n",
    "\n",
    "    #| ------------------ Columnas ----------------|\n",
    "\n",
    "    id =Column(Integer, primary_key=True)\n",
    "    parent_id = Column(Integer)\n",
    "    level_text = Column(VARCHAR(19))\n",
    "    level_name = Column(VARCHAR(8))\n",
    "\n",
    "\n",
    "class ProductPrices(Base):\n",
    "\n",
    "    __tablename__ = 'product_prices'\n",
    "    __table_args__= {'extend_existing':True}\n",
    "\n",
    "    #| ------------------ Columnas ----------------|\n",
    "    \n",
    "    id =Column(Integer, primary_key=True)\n",
    "    product_id = Column(VARCHAR(6))\n",
    "    price = Integer\n",
    "\n",
    "class ProductDetails(Base):\n",
    "\n",
    "    __tablename__ = 'product_details'\n",
    "    __table_args__= {'extend_existing':True}\n",
    "    \n",
    "    #| ------------------ Columnas ----------------|\n",
    "\n",
    "    product_id = Column(Integer, primary_key=True)\n",
    "    price = Column(Integer)\n",
    "    product_name = Column(VARCHAR(32))\n",
    "    category_id = Column(Integer)\n",
    "    segment_id = Column(Integer)\n",
    "    style_id = Column(Integer)\n",
    "    category_name = Column(VARCHAR(6))\n",
    "    segment_name =Column(VARCHAR(6))\n",
    "    style_name = Column(VARCHAR(19))\n",
    "\n",
    "\n",
    "class Sales(Base):\n",
    "\n",
    "    __tablename__ = 'sales'\n",
    "    __table_args__= {'extend_existing':True}\n",
    "\n",
    " #| ------------------ Columnas ----------------|\n",
    "    id = Column(Integer, primary_key=True)\n",
    "    prod_id = Column(VARCHAR(6))\n",
    "    price = Column(Integer)\n",
    "    discount = Column(Integer)\n",
    "    member = Column(Boolean)\n",
    "    txn_id =Column(VARCHAR(32))\n",
    "    start_txn_time = Column(TIMESTAMP(timezone=True))\n",
    "\n",
    "Base.metadata.create_all(engine)\n"
   ]
  },
  {
   "cell_type": "markdown",
   "id": "923a1852",
   "metadata": {},
   "source": [
    "## **1.1 CARGANDO LOS DATOS**"
   ]
  },
  {
   "cell_type": "code",
   "execution_count": 26,
   "id": "54a5022a",
   "metadata": {},
   "outputs": [],
   "source": [
    "from utils import funciones_utiles\n",
    "\n",
    "product_hierarchy_data = funciones_utiles.load_text_as_tuples('datos_tablas/product_hierarchy_data.txt')\n",
    "product_prices_data = funciones_utiles.load_text_as_tuples('datos_tablas/product_prices_data.txt')\n",
    "product_details_data =funciones_utiles.load_text_as_tuples('datos_tablas/product_details_data.txt')\n",
    "sales_data = funciones_utiles.load_text_as_tuples('datos_tablas/sales_data.txt')\n"
   ]
  }
 ],
 "metadata": {
  "kernelspec": {
   "display_name": "Python 3",
   "language": "python",
   "name": "python3"
  },
  "language_info": {
   "codemirror_mode": {
    "name": "ipython",
    "version": 3
   },
   "file_extension": ".py",
   "mimetype": "text/x-python",
   "name": "python",
   "nbconvert_exporter": "python",
   "pygments_lexer": "ipython3",
   "version": "3.10.4"
  }
 },
 "nbformat": 4,
 "nbformat_minor": 5
}

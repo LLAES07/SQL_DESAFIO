{
 "cells": [
  {
   "cell_type": "code",
   "execution_count": 1,
   "id": "7993403f",
   "metadata": {},
   "outputs": [],
   "source": [
    "import sys\n",
    "import os\n",
    "import pandas as pd\n",
    "sys.path.append(os.path.abspath(os.path.join('..')))"
   ]
  },
  {
   "cell_type": "code",
   "execution_count": 2,
   "id": "afba13a2",
   "metadata": {},
   "outputs": [],
   "source": [
    "from dotenv import load_dotenv\n",
    "import os\n",
    "\n",
    "load_dotenv()  # Carga las variables del archivo .env\n",
    "\n",
    "config = {\n",
    "    'host': os.getenv('HOST'),\n",
    "    'user': os.getenv('USER'),\n",
    "    'password': os.getenv('PASSWORD'),\n",
    "    'database': os.getenv('DATABASE'),\n",
    "    'port': os.getenv('PORT')\n",
    "}"
   ]
  },
  {
   "cell_type": "code",
   "execution_count": 4,
   "id": "e8faeebf",
   "metadata": {},
   "outputs": [],
   "source": [
    "from sqlalchemy import create_engine, text\n",
    "# Crear la URL de conexión para SQLAlchemy\n",
    "db_url = f\"mysql+pymysql://{config['user']}:{config['password']}@{config['host']}:{config['port']}/caso_6\"\n",
    "\n",
    "# Crear el motor de SQLAlchemy\n",
    "engine = create_engine(db_url, echo=True)  # echo=True muestra las consultas SQL en la consola\n",
    "\n"
   ]
  },
  {
   "cell_type": "code",
   "execution_count": 23,
   "id": "6a16c5e7",
   "metadata": {},
   "outputs": [],
   "source": [
    "from sqlalchemy.orm import declarative_base, relationship\n",
    "from sqlalchemy import create_engine, Column, Integer, String\n",
    "from sqlalchemy.types import DateTime\n",
    "Base = declarative_base()\n"
   ]
  },
  {
   "cell_type": "code",
   "execution_count": 25,
   "id": "7df782fe",
   "metadata": {},
   "outputs": [
    {
     "name": "stdout",
     "output_type": "stream",
     "text": [
      "2025-04-21 14:17:53,800 INFO sqlalchemy.engine.Engine BEGIN (implicit)\n",
      "2025-04-21 14:17:53,800 INFO sqlalchemy.engine.Engine DESCRIBE `caso_6`.`event_identifier`\n",
      "2025-04-21 14:17:53,801 INFO sqlalchemy.engine.Engine [raw sql] {}\n",
      "2025-04-21 14:17:53,803 INFO sqlalchemy.engine.Engine DESCRIBE `caso_6`.`campaign_identifier`\n",
      "2025-04-21 14:17:53,804 INFO sqlalchemy.engine.Engine [raw sql] {}\n",
      "2025-04-21 14:17:53,807 INFO sqlalchemy.engine.Engine DESCRIBE `caso_6`.`page_hierarchy`\n",
      "2025-04-21 14:17:53,807 INFO sqlalchemy.engine.Engine [raw sql] {}\n",
      "2025-04-21 14:17:53,809 INFO sqlalchemy.engine.Engine DESCRIBE `caso_6`.`users`\n",
      "2025-04-21 14:17:53,809 INFO sqlalchemy.engine.Engine [raw sql] {}\n",
      "2025-04-21 14:17:53,810 INFO sqlalchemy.engine.Engine DESCRIBE `caso_6`.`events`\n",
      "2025-04-21 14:17:53,811 INFO sqlalchemy.engine.Engine [raw sql] {}\n",
      "2025-04-21 14:17:53,813 INFO sqlalchemy.engine.Engine \n",
      "CREATE TABLE page_hierarchy (\n",
      "\tpage_id INTEGER NOT NULL AUTO_INCREMENT, \n",
      "\tpage_name VARCHAR(14), \n",
      "\tproduct_category VARCHAR(9), \n",
      "\tproduct_id INTEGER, \n",
      "\tPRIMARY KEY (page_id)\n",
      ")\n",
      "\n",
      "\n",
      "2025-04-21 14:17:53,813 INFO sqlalchemy.engine.Engine [no key 0.00053s] {}\n",
      "2025-04-21 14:17:53,828 INFO sqlalchemy.engine.Engine \n",
      "CREATE TABLE users (\n",
      "\tuser_id INTEGER NOT NULL AUTO_INCREMENT, \n",
      "\tcookie_id VARCHAR(6), \n",
      "\tstart_date DATETIME, \n",
      "\tPRIMARY KEY (user_id)\n",
      ")\n",
      "\n",
      "\n",
      "2025-04-21 14:17:53,828 INFO sqlalchemy.engine.Engine [no key 0.00099s] {}\n",
      "2025-04-21 14:17:53,844 INFO sqlalchemy.engine.Engine \n",
      "CREATE TABLE events (\n",
      "\tvisit_id VARCHAR(6) NOT NULL, \n",
      "\tcookie_id VARCHAR(6), \n",
      "\tpage_id INTEGER, \n",
      "\tevent_type INTEGER, \n",
      "\tsequence_number INTEGER, \n",
      "\tevent_time DATETIME, \n",
      "\tPRIMARY KEY (visit_id)\n",
      ")\n",
      "\n",
      "\n",
      "2025-04-21 14:17:53,844 INFO sqlalchemy.engine.Engine [no key 0.00075s] {}\n",
      "2025-04-21 14:17:53,861 INFO sqlalchemy.engine.Engine COMMIT\n"
     ]
    },
    {
     "name": "stderr",
     "output_type": "stream",
     "text": [
      "C:\\Users\\kev_g\\AppData\\Local\\Temp\\ipykernel_25192\\2196851217.py:1: SAWarning: This declarative base already contains a class with the same class name and module name as __main__.EventIdentifier, and will be replaced in the string-lookup table.\n",
      "  class EventIdentifier(Base):\n",
      "C:\\Users\\kev_g\\AppData\\Local\\Temp\\ipykernel_25192\\2196851217.py:10: SAWarning: This declarative base already contains a class with the same class name and module name as __main__.CampaignIdentifier, and will be replaced in the string-lookup table.\n",
      "  class CampaignIdentifier(Base):\n"
     ]
    }
   ],
   "source": [
    "class EventIdentifier(Base):\n",
    "\n",
    "    __tablename__ = 'event_identifier'\n",
    "    __table_args__ = {'extend_existing': True} \n",
    "\n",
    "    id = Column(Integer, primary_key=True) \n",
    "    nombre = Column(String(13), nullable=False)  \n",
    "\n",
    "\n",
    "class CampaignIdentifier(Base):\n",
    "\n",
    "    __tablename__ = 'campaign_identifier'\n",
    "    __table_args__= {'extend_existing': True}\n",
    "\n",
    "    # Columnas\n",
    "\n",
    "    campaign_id = Column(Integer, primary_key=True)\n",
    "    products = Column(String(3))\n",
    "    campaign_name = Column(String(33))\n",
    "    start_date = Column(DateTime)\n",
    "    end_date = Column(DateTime)\n",
    "\n",
    "\n",
    "class PageHierarchy(Base):\n",
    "     \n",
    "    __tablename__ = 'page_hierarchy'\n",
    "    __table_args__ = {'extend_existing': True}\n",
    "\n",
    "    # Columnas\n",
    "\n",
    "    page_id = Column(Integer, primary_key=True)\n",
    "    page_name = Column(String(14))\n",
    "    product_category = Column(String(9))\n",
    "    product_id = Column(Integer)\n",
    "\n",
    "\n",
    "\n",
    "class Users(Base):\n",
    "\n",
    "    __tablename__= 'users'\n",
    "    __table_args__={'extend_existing': True}\n",
    "\n",
    "    # Columnas\n",
    "\n",
    "    user_id = Column(Integer, primary_key=True)\n",
    "    cookie_id = Column(String(6))\n",
    "    start_date = Column(DateTime)\n",
    "\n",
    "\n",
    "class Events(Base):\n",
    "\n",
    "    __tablename__= 'events'\n",
    "    __table_args_= {'extend_existing': True}\n",
    "\n",
    "\n",
    "    # Columnas\n",
    "\n",
    "    visit_id = Column(String(6), primary_key=True)\n",
    "    cookie_id = Column(String(6))\n",
    "    page_id = Column(Integer)\n",
    "    event_type =Column(Integer)\n",
    "    sequence_number = Column(Integer)\n",
    "    event_time = Column(DateTime)\n",
    "\n",
    "    \n",
    "# Crear la tabla en la base de datos\n",
    "Base.metadata.create_all(engine)\n"
   ]
  },
  {
   "cell_type": "code",
   "execution_count": null,
   "id": "583942c0",
   "metadata": {},
   "outputs": [],
   "source": [
    "    "
   ]
  }
 ],
 "metadata": {
  "kernelspec": {
   "display_name": "Python 3",
   "language": "python",
   "name": "python3"
  },
  "language_info": {
   "codemirror_mode": {
    "name": "ipython",
    "version": 3
   },
   "file_extension": ".py",
   "mimetype": "text/x-python",
   "name": "python",
   "nbconvert_exporter": "python",
   "pygments_lexer": "ipython3",
   "version": "3.10.4"
  }
 },
 "nbformat": 4,
 "nbformat_minor": 5
}

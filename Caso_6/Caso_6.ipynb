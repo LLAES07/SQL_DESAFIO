{
 "cells": [
  {
   "cell_type": "code",
   "execution_count": 1,
   "id": "7993403f",
   "metadata": {},
   "outputs": [],
   "source": [
    "import sys\n",
    "import os\n",
    "import pandas as pd\n",
    "sys.path.append(os.path.abspath(os.path.join('..')))"
   ]
  },
  {
   "cell_type": "code",
   "execution_count": 2,
   "id": "afba13a2",
   "metadata": {},
   "outputs": [],
   "source": [
    "from dotenv import load_dotenv\n",
    "import os\n",
    "\n",
    "load_dotenv()  # Carga las variables del archivo .env\n",
    "\n",
    "config = {\n",
    "    'host': os.getenv('HOST'),\n",
    "    'user': os.getenv('USER'),\n",
    "    'password': os.getenv('PASSWORD'),\n",
    "    'database': os.getenv('DATABASE'),\n",
    "    'port': os.getenv('PORT')\n",
    "}"
   ]
  },
  {
   "cell_type": "code",
   "execution_count": 3,
   "id": "e8faeebf",
   "metadata": {},
   "outputs": [],
   "source": [
    "from sqlalchemy import create_engine, text\n",
    "# Crear la URL de conexión para SQLAlchemy\n",
    "db_url = f\"mysql+pymysql://{config['user']}:{config['password']}@{config['host']}:{config['port']}/caso_6\"\n",
    "\n",
    "# Crear el motor de SQLAlchemy\n",
    "engine = create_engine(db_url, echo=True)  # echo=True muestra las consultas SQL en la consola\n",
    "\n"
   ]
  },
  {
   "cell_type": "code",
   "execution_count": 4,
   "id": "6a16c5e7",
   "metadata": {},
   "outputs": [],
   "source": [
    "from sqlalchemy.orm import declarative_base, relationship\n",
    "from sqlalchemy import create_engine, Column, Integer, String\n",
    "from sqlalchemy.types import DateTime\n",
    "Base = declarative_base()\n"
   ]
  },
  {
   "cell_type": "code",
   "execution_count": 5,
   "id": "7df782fe",
   "metadata": {},
   "outputs": [
    {
     "name": "stdout",
     "output_type": "stream",
     "text": [
      "2025-04-22 15:17:17,848 INFO sqlalchemy.engine.Engine SELECT DATABASE()\n",
      "2025-04-22 15:17:17,849 INFO sqlalchemy.engine.Engine [raw sql] {}\n",
      "2025-04-22 15:17:17,851 INFO sqlalchemy.engine.Engine SELECT @@sql_mode\n",
      "2025-04-22 15:17:17,851 INFO sqlalchemy.engine.Engine [raw sql] {}\n",
      "2025-04-22 15:17:17,852 INFO sqlalchemy.engine.Engine SELECT @@lower_case_table_names\n",
      "2025-04-22 15:17:17,853 INFO sqlalchemy.engine.Engine [raw sql] {}\n",
      "2025-04-22 15:17:17,854 INFO sqlalchemy.engine.Engine BEGIN (implicit)\n",
      "2025-04-22 15:17:17,855 INFO sqlalchemy.engine.Engine DESCRIBE `caso_6`.`event_identifier`\n",
      "2025-04-22 15:17:17,855 INFO sqlalchemy.engine.Engine [raw sql] {}\n",
      "2025-04-22 15:17:17,857 INFO sqlalchemy.engine.Engine DESCRIBE `caso_6`.`campaign_identifier`\n",
      "2025-04-22 15:17:17,857 INFO sqlalchemy.engine.Engine [raw sql] {}\n",
      "2025-04-22 15:17:17,859 INFO sqlalchemy.engine.Engine DESCRIBE `caso_6`.`page_hierarchy`\n",
      "2025-04-22 15:17:17,859 INFO sqlalchemy.engine.Engine [raw sql] {}\n",
      "2025-04-22 15:17:17,860 INFO sqlalchemy.engine.Engine DESCRIBE `caso_6`.`users`\n",
      "2025-04-22 15:17:17,861 INFO sqlalchemy.engine.Engine [raw sql] {}\n",
      "2025-04-22 15:17:17,863 INFO sqlalchemy.engine.Engine DESCRIBE `caso_6`.`events`\n",
      "2025-04-22 15:17:17,864 INFO sqlalchemy.engine.Engine [raw sql] {}\n",
      "2025-04-22 15:17:17,866 INFO sqlalchemy.engine.Engine \n",
      "CREATE TABLE event_identifier (\n",
      "\tid INTEGER NOT NULL AUTO_INCREMENT, \n",
      "\tnombre VARCHAR(50), \n",
      "\tPRIMARY KEY (id)\n",
      ")\n",
      "\n",
      "\n",
      "2025-04-22 15:17:17,866 INFO sqlalchemy.engine.Engine [no key 0.00070s] {}\n",
      "2025-04-22 15:17:17,882 INFO sqlalchemy.engine.Engine \n",
      "CREATE TABLE campaign_identifier (\n",
      "\tid INTEGER NOT NULL AUTO_INCREMENT, \n",
      "\tcampaign_id INTEGER NOT NULL, \n",
      "\tproducts VARCHAR(3), \n",
      "\tcampaign_name VARCHAR(33), \n",
      "\tstart_date DATETIME, \n",
      "\tend_date DATETIME, \n",
      "\tPRIMARY KEY (id, campaign_id)\n",
      ")\n",
      "\n",
      "\n",
      "2025-04-22 15:17:17,882 INFO sqlalchemy.engine.Engine [no key 0.00070s] {}\n",
      "2025-04-22 15:17:17,937 INFO sqlalchemy.engine.Engine \n",
      "CREATE TABLE page_hierarchy (\n",
      "\tpage_id INTEGER NOT NULL AUTO_INCREMENT, \n",
      "\tpage_name VARCHAR(14), \n",
      "\tproduct_category VARCHAR(9), \n",
      "\tproduct_id INTEGER, \n",
      "\tPRIMARY KEY (page_id)\n",
      ")\n",
      "\n",
      "\n",
      "2025-04-22 15:17:17,937 INFO sqlalchemy.engine.Engine [no key 0.00076s] {}\n",
      "2025-04-22 15:17:17,953 INFO sqlalchemy.engine.Engine \n",
      "CREATE TABLE users (\n",
      "\tid INTEGER NOT NULL AUTO_INCREMENT, \n",
      "\tuser_id INTEGER, \n",
      "\tcookie_id VARCHAR(6), \n",
      "\tstart_date DATETIME, \n",
      "\tPRIMARY KEY (id)\n",
      ")\n",
      "\n",
      "\n",
      "2025-04-22 15:17:17,954 INFO sqlalchemy.engine.Engine [no key 0.00078s] {}\n",
      "2025-04-22 15:17:17,969 INFO sqlalchemy.engine.Engine \n",
      "CREATE TABLE events (\n",
      "\tid INTEGER NOT NULL AUTO_INCREMENT, \n",
      "\tvisit_id VARCHAR(6), \n",
      "\tcookie_id VARCHAR(6), \n",
      "\tpage_id INTEGER, \n",
      "\tevent_type INTEGER, \n",
      "\tsequence_number INTEGER, \n",
      "\tevent_time DATETIME, \n",
      "\tPRIMARY KEY (id)\n",
      ")\n",
      "\n",
      "\n",
      "2025-04-22 15:17:17,970 INFO sqlalchemy.engine.Engine [no key 0.00096s] {}\n",
      "2025-04-22 15:17:17,985 INFO sqlalchemy.engine.Engine COMMIT\n"
     ]
    }
   ],
   "source": [
    "class EventIdentifier(Base):\n",
    "\n",
    "    __tablename__ = 'event_identifier'\n",
    "    __table_args__ = {'extend_existing': True} \n",
    "\n",
    "    id = Column(Integer, primary_key=True) \n",
    "    nombre = Column(String(50))  \n",
    "\n",
    "\n",
    "class CampaignIdentifier(Base):\n",
    "\n",
    "    __tablename__ = 'campaign_identifier'\n",
    "    __table_args__= {'extend_existing': True}\n",
    "\n",
    "    # Columnas\n",
    "    id = Column(Integer, primary_key=True, autoincrement=True)  # nueva PK\n",
    "    campaign_id = Column(Integer, primary_key=True)\n",
    "    products = Column(String(3))\n",
    "    campaign_name = Column(String(33))\n",
    "    start_date = Column(DateTime)\n",
    "    end_date = Column(DateTime)\n",
    "\n",
    "\n",
    "class PageHierarchy(Base):\n",
    "     \n",
    "    __tablename__ = 'page_hierarchy'\n",
    "    __table_args__ = {'extend_existing': True}\n",
    "\n",
    "    # Columnas\n",
    "\n",
    "    page_id = Column(Integer, primary_key=True)\n",
    "    page_name = Column(String(14))\n",
    "    product_category = Column(String(9))\n",
    "    product_id = Column(Integer)\n",
    "\n",
    "\n",
    "\n",
    "class Users(Base):\n",
    "\n",
    "    __tablename__= 'users'\n",
    "    __table_args__={'extend_existing': True}\n",
    "\n",
    "    # Columnas\n",
    "    id = Column(Integer, primary_key=True, autoincrement=True)  # nueva PK\n",
    "    user_id = Column(Integer)\n",
    "    cookie_id = Column(String(6))\n",
    "    start_date = Column(DateTime)\n",
    "\n",
    "\n",
    "class Events(Base):\n",
    "\n",
    "    __tablename__= 'events'\n",
    "    __table_args_= {'extend_existing': True}\n",
    "\n",
    "\n",
    "    # Columnas\n",
    "    id = Column(Integer, primary_key=True, autoincrement=True)  # nueva PK\n",
    "    visit_id = Column(String(6))\n",
    "    cookie_id = Column(String(6))\n",
    "    page_id = Column(Integer)\n",
    "    event_type =Column(Integer)\n",
    "    sequence_number = Column(Integer)\n",
    "    event_time = Column(DateTime)\n",
    "\n",
    "\n",
    "# Crear la tabla en la base de datos\n",
    "Base.metadata.create_all(engine)\n"
   ]
  },
  {
   "cell_type": "code",
   "execution_count": 6,
   "id": "cc667bef",
   "metadata": {},
   "outputs": [],
   "source": [
    "from utils import funciones_utiles\n",
    "\n",
    "event_identifier_data = funciones_utiles.load_text_as_tuples('datos_tablas/event_identifier_data.txt')\n",
    "campaign_identifier_data = funciones_utiles.load_text_as_tuples('datos_tablas/campaign_identifier_data.txt')\n",
    "page_hierarchy_data =funciones_utiles.load_text_as_tuples('datos_tablas/page_hierarchy_data.txt')\n",
    "users_data = funciones_utiles.load_text_as_tuples('datos_tablas/users_data.txt')\n",
    "events_data = funciones_utiles.load_text_as_tuples('datos_tablas/events_data.txt')"
   ]
  },
  {
   "cell_type": "code",
   "execution_count": 7,
   "id": "cef761da",
   "metadata": {},
   "outputs": [
    {
     "data": {
      "text/plain": [
       "[('1', 'Page View'),\n",
       " ('2', 'Add to Cart'),\n",
       " ('3', 'Purchase'),\n",
       " ('4', 'Ad Impression'),\n",
       " ('5', 'Ad Click')]"
      ]
     },
     "execution_count": 7,
     "metadata": {},
     "output_type": "execute_result"
    }
   ],
   "source": [
    "event_identifier_data"
   ]
  },
  {
   "cell_type": "code",
   "execution_count": 8,
   "id": "f2ea93e1",
   "metadata": {},
   "outputs": [],
   "source": [
    "from sqlalchemy.orm import sessionmaker\n",
    "\n",
    "# Crear la sesión\n",
    "Session = sessionmaker(bind=engine)\n",
    "session = Session()\n"
   ]
  },
  {
   "cell_type": "code",
   "execution_count": 9,
   "id": "1a234eef",
   "metadata": {},
   "outputs": [
    {
     "name": "stdout",
     "output_type": "stream",
     "text": [
      "1\n",
      "Page View\n",
      "2025-04-22 15:17:18,531 INFO sqlalchemy.engine.Engine BEGIN (implicit)\n",
      "2025-04-22 15:17:18,533 INFO sqlalchemy.engine.Engine SELECT EXISTS (SELECT 1 \n",
      "FROM event_identifier \n",
      "WHERE event_identifier.id = %(id_1)s) AS anon_1\n",
      "2025-04-22 15:17:18,534 INFO sqlalchemy.engine.Engine [generated in 0.00113s] {'id_1': 1}\n",
      "2\n",
      "Add to Cart\n",
      "2025-04-22 15:17:18,538 INFO sqlalchemy.engine.Engine INSERT INTO event_identifier (id, nombre) VALUES (%(id)s, %(nombre)s)\n",
      "2025-04-22 15:17:18,538 INFO sqlalchemy.engine.Engine [generated in 0.00057s] {'id': 1, 'nombre': 'Page View'}\n",
      "2025-04-22 15:17:18,539 INFO sqlalchemy.engine.Engine SELECT EXISTS (SELECT 1 \n",
      "FROM event_identifier \n",
      "WHERE event_identifier.id = %(id_1)s) AS anon_1\n",
      "2025-04-22 15:17:18,539 INFO sqlalchemy.engine.Engine [cached since 0.006164s ago] {'id_1': 2}\n",
      "3\n",
      "Purchase\n",
      "2025-04-22 15:17:18,540 INFO sqlalchemy.engine.Engine INSERT INTO event_identifier (id, nombre) VALUES (%(id)s, %(nombre)s)\n",
      "2025-04-22 15:17:18,541 INFO sqlalchemy.engine.Engine [cached since 0.004042s ago] {'id': 2, 'nombre': 'Add to Cart'}\n",
      "2025-04-22 15:17:18,543 INFO sqlalchemy.engine.Engine SELECT EXISTS (SELECT 1 \n",
      "FROM event_identifier \n",
      "WHERE event_identifier.id = %(id_1)s) AS anon_1\n",
      "2025-04-22 15:17:18,543 INFO sqlalchemy.engine.Engine [cached since 0.01041s ago] {'id_1': 3}\n",
      "4\n",
      "Ad Impression\n",
      "2025-04-22 15:17:18,545 INFO sqlalchemy.engine.Engine INSERT INTO event_identifier (id, nombre) VALUES (%(id)s, %(nombre)s)\n",
      "2025-04-22 15:17:18,545 INFO sqlalchemy.engine.Engine [cached since 0.00854s ago] {'id': 3, 'nombre': 'Purchase'}\n",
      "2025-04-22 15:17:18,546 INFO sqlalchemy.engine.Engine SELECT EXISTS (SELECT 1 \n",
      "FROM event_identifier \n",
      "WHERE event_identifier.id = %(id_1)s) AS anon_1\n",
      "2025-04-22 15:17:18,546 INFO sqlalchemy.engine.Engine [cached since 0.01404s ago] {'id_1': 4}\n",
      "5\n",
      "Ad Click\n",
      "2025-04-22 15:17:18,549 INFO sqlalchemy.engine.Engine INSERT INTO event_identifier (id, nombre) VALUES (%(id)s, %(nombre)s)\n",
      "2025-04-22 15:17:18,549 INFO sqlalchemy.engine.Engine [cached since 0.01148s ago] {'id': 4, 'nombre': 'Ad Impression'}\n",
      "2025-04-22 15:17:18,549 INFO sqlalchemy.engine.Engine SELECT EXISTS (SELECT 1 \n",
      "FROM event_identifier \n",
      "WHERE event_identifier.id = %(id_1)s) AS anon_1\n",
      "2025-04-22 15:17:18,550 INFO sqlalchemy.engine.Engine [cached since 0.01692s ago] {'id_1': 5}\n",
      "2025-04-22 15:17:18,551 INFO sqlalchemy.engine.Engine INSERT INTO event_identifier (id, nombre) VALUES (%(id)s, %(nombre)s)\n",
      "2025-04-22 15:17:18,552 INFO sqlalchemy.engine.Engine [cached since 0.01463s ago] {'id': 5, 'nombre': 'Ad Click'}\n",
      "2025-04-22 15:17:18,553 INFO sqlalchemy.engine.Engine COMMIT\n"
     ]
    }
   ],
   "source": [
    "from sqlalchemy.orm import sessionmaker\n",
    "\n",
    "\n",
    "\n",
    "# Insertar los datos\n",
    "for eid, name in event_identifier_data:\n",
    "    \n",
    "    eid = eid.strip('\\'')\n",
    "    name = name.strip('\\'')\n",
    "\n",
    "    print(eid)\n",
    "    print(name)\n",
    "\n",
    "    exists_query = session.query(\n",
    "        session.query(EventIdentifier).filter_by(id=int(eid)).exists()\n",
    "    ).scalar()\n",
    "\n",
    "    if not exists_query:\n",
    "        event = EventIdentifier(id=int(eid), nombre=name)\n",
    "        session.add(event)\n",
    "\n",
    "\n",
    "# Confirmar los cambios en la base de datos\n",
    "session.commit()\n",
    "\n",
    "# Cerrar sesión\n",
    "session.close()"
   ]
  },
  {
   "cell_type": "code",
   "execution_count": 10,
   "id": "debd6ea5",
   "metadata": {},
   "outputs": [
    {
     "name": "stdout",
     "output_type": "stream",
     "text": [
      "1\n",
      "Page View\n",
      "2025-04-22 15:17:18,574 INFO sqlalchemy.engine.Engine BEGIN (implicit)\n",
      "2025-04-22 15:17:18,575 INFO sqlalchemy.engine.Engine SELECT EXISTS (SELECT 1 \n",
      "FROM event_identifier \n",
      "WHERE event_identifier.id = %(id_1)s) AS anon_1\n",
      "2025-04-22 15:17:18,575 INFO sqlalchemy.engine.Engine [cached since 0.04223s ago] {'id_1': 1}\n",
      "2\n",
      "Add to Cart\n",
      "2025-04-22 15:17:18,577 INFO sqlalchemy.engine.Engine SELECT EXISTS (SELECT 1 \n",
      "FROM event_identifier \n",
      "WHERE event_identifier.id = %(id_1)s) AS anon_1\n",
      "2025-04-22 15:17:18,577 INFO sqlalchemy.engine.Engine [cached since 0.04428s ago] {'id_1': 2}\n",
      "3\n",
      "Purchase\n",
      "2025-04-22 15:17:18,578 INFO sqlalchemy.engine.Engine SELECT EXISTS (SELECT 1 \n",
      "FROM event_identifier \n",
      "WHERE event_identifier.id = %(id_1)s) AS anon_1\n",
      "2025-04-22 15:17:18,579 INFO sqlalchemy.engine.Engine [cached since 0.04599s ago] {'id_1': 3}\n",
      "4\n",
      "Ad Impression\n",
      "2025-04-22 15:17:18,580 INFO sqlalchemy.engine.Engine SELECT EXISTS (SELECT 1 \n",
      "FROM event_identifier \n",
      "WHERE event_identifier.id = %(id_1)s) AS anon_1\n",
      "2025-04-22 15:17:18,581 INFO sqlalchemy.engine.Engine [cached since 0.04834s ago] {'id_1': 4}\n",
      "5\n",
      "Ad Click\n",
      "2025-04-22 15:17:18,583 INFO sqlalchemy.engine.Engine SELECT EXISTS (SELECT 1 \n",
      "FROM event_identifier \n",
      "WHERE event_identifier.id = %(id_1)s) AS anon_1\n",
      "2025-04-22 15:17:18,583 INFO sqlalchemy.engine.Engine [cached since 0.05053s ago] {'id_1': 5}\n",
      "2025-04-22 15:17:18,584 INFO sqlalchemy.engine.Engine COMMIT\n"
     ]
    }
   ],
   "source": [
    "   \n",
    "for eid, name in event_identifier_data:\n",
    "    \n",
    "    eid = eid.strip('\\'')\n",
    "    name = name.strip('\\'')\n",
    "\n",
    "    print(eid)\n",
    "    print(name)\n",
    "\n",
    "    exists_query = session.query(\n",
    "        session.query(EventIdentifier).filter_by(id=int(eid)).exists()\n",
    "    ).scalar()\n",
    "\n",
    "    if not exists_query:\n",
    "        event = EventIdentifier(id=int(eid), nombre=name)\n",
    "        session.add(event)\n",
    "\n",
    "\n",
    "# Confirmar los cambios en la base de datos\n",
    "session.commit()\n"
   ]
  },
  {
   "cell_type": "code",
   "execution_count": 11,
   "id": "881ae838",
   "metadata": {},
   "outputs": [
    {
     "data": {
      "text/plain": [
       "[('1', '1-3', 'BOGOF - Fishing For Compliments', '2020-01-01', '2020-01-14'),\n",
       " ('2', '4-5', '25% Off - Living The Lux Life', '2020-01-15', '2020-01-28'),\n",
       " ('3', '6-8', 'Half Off - Treat Your Shellf(ish)', '2020-02-01', '2020-03-31')]"
      ]
     },
     "execution_count": 11,
     "metadata": {},
     "output_type": "execute_result"
    }
   ],
   "source": [
    "campaign_identifier_data"
   ]
  },
  {
   "cell_type": "code",
   "execution_count": 12,
   "id": "52c11dae",
   "metadata": {},
   "outputs": [
    {
     "name": "stdout",
     "output_type": "stream",
     "text": [
      "2025-04-22 15:17:18,621 INFO sqlalchemy.engine.Engine BEGIN (implicit)\n",
      "2025-04-22 15:17:18,623 INFO sqlalchemy.engine.Engine INSERT INTO campaign_identifier (campaign_id, products, campaign_name, start_date, end_date) VALUES (%(campaign_id)s, %(products)s, %(campaign_name)s, %(start_date)s, %(end_date)s)\n",
      "2025-04-22 15:17:18,624 INFO sqlalchemy.engine.Engine [generated in 0.00101s] [{'campaign_id': 1, 'products': '1-3', 'campaign_name': 'BOGOF - Fishing For Compliments', 'start_date': datetime.datetime(2020, 1, 1, 0, 0), 'end_date': datetime.datetime(2020, 1, 14, 0, 0)}, {'campaign_id': 2, 'products': '4-5', 'campaign_name': '25% Off - Living The Lux Life', 'start_date': datetime.datetime(2020, 1, 15, 0, 0), 'end_date': datetime.datetime(2020, 1, 28, 0, 0)}, {'campaign_id': 3, 'products': '6-8', 'campaign_name': 'Half Off - Treat Your Shellf(ish)', 'start_date': datetime.datetime(2020, 2, 1, 0, 0), 'end_date': datetime.datetime(2020, 3, 31, 0, 0)}]\n",
      "2025-04-22 15:17:18,626 INFO sqlalchemy.engine.Engine COMMIT\n"
     ]
    }
   ],
   "source": [
    "from datetime import datetime\n",
    "\n",
    "objects = [\n",
    "    CampaignIdentifier(\n",
    "        campaign_id=int(cid),\n",
    "        products=prod,\n",
    "        campaign_name=name,\n",
    "        start_date=datetime.strptime(start, '%Y-%m-%d'),\n",
    "        end_date=datetime.strptime(end, '%Y-%m-%d')\n",
    "    )\n",
    "    for cid, prod, name, start, end in campaign_identifier_data\n",
    "]\n",
    "\n",
    "session.bulk_save_objects(objects)\n",
    "session.commit()"
   ]
  },
  {
   "cell_type": "code",
   "execution_count": 13,
   "id": "2eafdfaa",
   "metadata": {},
   "outputs": [
    {
     "data": {
      "text/plain": [
       "[('1', 'Home Page', None, None),\n",
       " ('2', 'All Products', None, None),\n",
       " ('3', 'Salmon', 'Fish', '1'),\n",
       " ('4', 'Kingfish', 'Fish', '2'),\n",
       " ('5', 'Tuna', 'Fish', '3'),\n",
       " ('6', 'Russian Caviar', 'Luxury', '4'),\n",
       " ('7', 'Black Truffle', 'Luxury', '5'),\n",
       " ('8', 'Abalone', 'Shellfish', '6'),\n",
       " ('9', 'Lobster', 'Shellfish', '7'),\n",
       " ('10', 'Crab', 'Shellfish', '8'),\n",
       " ('11', 'Oyster', 'Shellfish', '9'),\n",
       " ('12', 'Checkout', None, None),\n",
       " ('13', 'Confirmation', None, None)]"
      ]
     },
     "execution_count": 13,
     "metadata": {},
     "output_type": "execute_result"
    }
   ],
   "source": [
    "page_hierarchy_data"
   ]
  },
  {
   "cell_type": "code",
   "execution_count": 14,
   "id": "ab4e1c8d",
   "metadata": {},
   "outputs": [
    {
     "name": "stdout",
     "output_type": "stream",
     "text": [
      "2025-04-22 15:17:18,667 INFO sqlalchemy.engine.Engine BEGIN (implicit)\n",
      "2025-04-22 15:17:18,668 INFO sqlalchemy.engine.Engine INSERT INTO page_hierarchy (page_id, page_name) VALUES (%(page_id)s, %(page_name)s)\n",
      "2025-04-22 15:17:18,668 INFO sqlalchemy.engine.Engine [generated in 0.00063s] [{'page_id': 1, 'page_name': 'Home Page'}, {'page_id': 2, 'page_name': 'All Products'}]\n",
      "2025-04-22 15:17:18,671 INFO sqlalchemy.engine.Engine INSERT INTO page_hierarchy (page_id, page_name, product_category, product_id) VALUES (%(page_id)s, %(page_name)s, %(product_category)s, %(product_id)s)\n",
      "2025-04-22 15:17:18,672 INFO sqlalchemy.engine.Engine [generated in 0.00064s] [{'page_id': 3, 'page_name': 'Salmon', 'product_category': 'Fish', 'product_id': 1}, {'page_id': 4, 'page_name': 'Kingfish', 'product_category': 'Fish', 'product_id': 2}, {'page_id': 5, 'page_name': 'Tuna', 'product_category': 'Fish', 'product_id': 3}, {'page_id': 6, 'page_name': 'Russian Caviar', 'product_category': 'Luxury', 'product_id': 4}, {'page_id': 7, 'page_name': 'Black Truffle', 'product_category': 'Luxury', 'product_id': 5}, {'page_id': 8, 'page_name': 'Abalone', 'product_category': 'Shellfish', 'product_id': 6}, {'page_id': 9, 'page_name': 'Lobster', 'product_category': 'Shellfish', 'product_id': 7}, {'page_id': 10, 'page_name': 'Crab', 'product_category': 'Shellfish', 'product_id': 8}, {'page_id': 11, 'page_name': 'Oyster', 'product_category': 'Shellfish', 'product_id': 9}]\n",
      "2025-04-22 15:17:18,673 INFO sqlalchemy.engine.Engine INSERT INTO page_hierarchy (page_id, page_name) VALUES (%(page_id)s, %(page_name)s)\n",
      "2025-04-22 15:17:18,673 INFO sqlalchemy.engine.Engine [cached since 0.004559s ago] [{'page_id': 12, 'page_name': 'Checkout'}, {'page_id': 13, 'page_name': 'Confirmation'}]\n",
      "2025-04-22 15:17:18,674 INFO sqlalchemy.engine.Engine COMMIT\n"
     ]
    }
   ],
   "source": [
    "from datetime import datetime\n",
    "\n",
    "objects = [\n",
    "    PageHierarchy(\n",
    "        page_id=int(page_id),\n",
    "        page_name=page_name,\n",
    "        product_category=product_category,\n",
    "        product_id=int(product_id) if product_id is not None else None,\n",
    "    )\n",
    "    for page_id, page_name, product_category, product_id in page_hierarchy_data\n",
    "]\n",
    "\n",
    "session.bulk_save_objects(objects)\n",
    "session.commit()"
   ]
  },
  {
   "cell_type": "code",
   "execution_count": 15,
   "id": "1ffc55c5",
   "metadata": {},
   "outputs": [
    {
     "name": "stdout",
     "output_type": "stream",
     "text": [
      "2025-04-22 15:17:18,733 INFO sqlalchemy.engine.Engine BEGIN (implicit)\n",
      "2025-04-22 15:17:18,742 INFO sqlalchemy.engine.Engine INSERT INTO users (user_id, cookie_id, start_date) VALUES (%(user_id)s, %(cookie_id)s, %(start_date)s)\n",
      "2025-04-22 15:17:18,743 INFO sqlalchemy.engine.Engine [generated in 0.00482s] [{'user_id': 1, 'cookie_id': 'c4ca42', 'start_date': datetime.datetime(2020, 2, 4, 0, 0)}, {'user_id': 2, 'cookie_id': 'c81e72', 'start_date': datetime.datetime(2020, 1, 18, 0, 0)}, {'user_id': 3, 'cookie_id': 'eccbc8', 'start_date': datetime.datetime(2020, 2, 21, 0, 0)}, {'user_id': 4, 'cookie_id': 'a87ff6', 'start_date': datetime.datetime(2020, 2, 22, 0, 0)}, {'user_id': 5, 'cookie_id': 'e4da3b', 'start_date': datetime.datetime(2020, 2, 1, 0, 0)}, {'user_id': 6, 'cookie_id': '167909', 'start_date': datetime.datetime(2020, 1, 25, 0, 0)}, {'user_id': 7, 'cookie_id': '8f14e4', 'start_date': datetime.datetime(2020, 2, 9, 0, 0)}, {'user_id': 8, 'cookie_id': 'c9f0f8', 'start_date': datetime.datetime(2020, 2, 12, 0, 0)}  ... displaying 10 of 1782 total bound parameter sets ...  {'user_id': 211, 'cookie_id': 'a26e03', 'start_date': datetime.datetime(2020, 2, 20, 0, 0)}, {'user_id': 64, 'cookie_id': '87a4ba', 'start_date': datetime.datetime(2020, 3, 18, 0, 0)}]\n",
      "2025-04-22 15:17:18,784 INFO sqlalchemy.engine.Engine COMMIT\n"
     ]
    }
   ],
   "source": [
    "from datetime import datetime\n",
    "\n",
    "objects = [\n",
    "    Users(\n",
    "        user_id=int(user_id),\n",
    "        cookie_id=cookie_id,\n",
    "        start_date=datetime.strptime(start_date, '%Y-%m-%d')\n",
    "    )\n",
    "    for user_id, cookie_id, start_date in users_data\n",
    "]\n",
    "\n",
    "session.bulk_save_objects(objects)\n",
    "session.commit()"
   ]
  },
  {
   "cell_type": "code",
   "execution_count": 16,
   "id": "0f613567",
   "metadata": {},
   "outputs": [
    {
     "name": "stdout",
     "output_type": "stream",
     "text": [
      "2025-04-22 15:17:19,403 INFO sqlalchemy.engine.Engine BEGIN (implicit)\n",
      "2025-04-22 15:17:19,667 INFO sqlalchemy.engine.Engine INSERT INTO events (visit_id, cookie_id, page_id, event_type, sequence_number, event_time) VALUES (%(visit_id)s, %(cookie_id)s, %(page_id)s, %(event_type)s, %(sequence_number)s, %(event_time)s)\n",
      "2025-04-22 15:17:19,668 INFO sqlalchemy.engine.Engine [generated in 0.08322s] [{'visit_id': 'ccf365', 'cookie_id': 'c4ca42', 'page_id': 1, 'event_type': '1', 'sequence_number': '1', 'event_time': '2020-02-04 19:16:09.182546'}, {'visit_id': 'ccf365', 'cookie_id': 'c4ca42', 'page_id': 2, 'event_type': '1', 'sequence_number': '2', 'event_time': '2020-02-04 19:16:17.358191'}, {'visit_id': 'ccf365', 'cookie_id': 'c4ca42', 'page_id': 6, 'event_type': '1', 'sequence_number': '3', 'event_time': '2020-02-04 19:16:58.454669'}, {'visit_id': 'ccf365', 'cookie_id': 'c4ca42', 'page_id': 9, 'event_type': '1', 'sequence_number': '4', 'event_time': '2020-02-04 19:16:58.609142'}, {'visit_id': 'ccf365', 'cookie_id': 'c4ca42', 'page_id': 9, 'event_type': '2', 'sequence_number': '5', 'event_time': '2020-02-04 19:17:51.72942'}, {'visit_id': 'ccf365', 'cookie_id': 'c4ca42', 'page_id': 10, 'event_type': '1', 'sequence_number': '6', 'event_time': '2020-02-04 19:18:11.605815'}, {'visit_id': 'ccf365', 'cookie_id': 'c4ca42', 'page_id': 10, 'event_type': '2', 'sequence_number': '7', 'event_time': '2020-02-04 19:19:10.570786'}, {'visit_id': 'ccf365', 'cookie_id': 'c4ca42', 'page_id': 11, 'event_type': '1', 'sequence_number': '8', 'event_time': '2020-02-04 19:19:46.911728'}  ... displaying 10 of 32734 total bound parameter sets ...  {'visit_id': '355a6a', 'cookie_id': '87a4ba', 'page_id': 12, 'event_type': '1', 'sequence_number': '18', 'event_time': '2020-03-18 22:45:54.081818'}, {'visit_id': '355a6a', 'cookie_id': '87a4ba', 'page_id': 13, 'event_type': '3', 'sequence_number': '19', 'event_time': '2020-03-18 22:45:54.984666'}]\n",
      "2025-04-22 15:17:20,385 INFO sqlalchemy.engine.Engine COMMIT\n"
     ]
    }
   ],
   "source": [
    "from datetime import datetime\n",
    "\n",
    "objects = [\n",
    "    Events(\n",
    "        visit_id=visit_id,\n",
    "        cookie_id=cookie_id,\n",
    "        page_id=int(page_id),\n",
    "        event_type = event_type,\n",
    "        sequence_number = sequence_number,\n",
    "        event_time =  event_time   \n",
    "    )\n",
    "    for visit_id, cookie_id, page_id, event_type, sequence_number, event_time in events_data\n",
    "]\n",
    "\n",
    "session.bulk_save_objects(objects)\n",
    "session.commit()"
   ]
  },
  {
   "cell_type": "markdown",
   "id": "6a980b14",
   "metadata": {},
   "source": [
    "<center><h1>PREGUNTAS</h1></center>"
   ]
  },
  {
   "cell_type": "markdown",
   "id": "bdde50ab",
   "metadata": {},
   "source": [
    "# **1. Cuantos usuarios hay ?**"
   ]
  },
  {
   "cell_type": "code",
   "execution_count": 17,
   "id": "796d2466",
   "metadata": {},
   "outputs": [
    {
     "name": "stdout",
     "output_type": "stream",
     "text": [
      "2025-04-22 15:17:20,406 INFO sqlalchemy.engine.Engine BEGIN (implicit)\n",
      "2025-04-22 15:17:20,407 INFO sqlalchemy.engine.Engine \n",
      "\n",
      "    SELECT\n",
      "        COUNT(DISTINCT user_id) AS total_usuarios\n",
      "    FROM\n",
      "        users\n",
      "\n",
      "\n",
      "2025-04-22 15:17:20,407 INFO sqlalchemy.engine.Engine [raw sql] {}\n",
      "2025-04-22 15:17:20,411 INFO sqlalchemy.engine.Engine ROLLBACK\n"
     ]
    },
    {
     "data": {
      "text/html": [
       "<div>\n",
       "<style scoped>\n",
       "    .dataframe tbody tr th:only-of-type {\n",
       "        vertical-align: middle;\n",
       "    }\n",
       "\n",
       "    .dataframe tbody tr th {\n",
       "        vertical-align: top;\n",
       "    }\n",
       "\n",
       "    .dataframe thead th {\n",
       "        text-align: right;\n",
       "    }\n",
       "</style>\n",
       "<table border=\"1\" class=\"dataframe\">\n",
       "  <thead>\n",
       "    <tr style=\"text-align: right;\">\n",
       "      <th></th>\n",
       "      <th>total_usuarios</th>\n",
       "    </tr>\n",
       "  </thead>\n",
       "  <tbody>\n",
       "    <tr>\n",
       "      <th>0</th>\n",
       "      <td>500</td>\n",
       "    </tr>\n",
       "  </tbody>\n",
       "</table>\n",
       "</div>"
      ],
      "text/plain": [
       "   total_usuarios\n",
       "0             500"
      ]
     },
     "execution_count": 17,
     "metadata": {},
     "output_type": "execute_result"
    }
   ],
   "source": [
    "query = '''\n",
    "\n",
    "    SELECT\n",
    "        COUNT(DISTINCT user_id) AS total_usuarios\n",
    "    FROM\n",
    "        users\n",
    "\n",
    "'''\n",
    "\n",
    "\n",
    "pd.read_sql_query(query, con=engine)"
   ]
  },
  {
   "cell_type": "markdown",
   "id": "3669e300",
   "metadata": {},
   "source": [
    "- Existe un total de 500 usuarios unicos"
   ]
  },
  {
   "cell_type": "markdown",
   "id": "821af383",
   "metadata": {},
   "source": [
    "# **2. Cuantos cookies en promedio existen por usuario ?**"
   ]
  },
  {
   "cell_type": "code",
   "execution_count": 18,
   "id": "6aa83e33",
   "metadata": {},
   "outputs": [
    {
     "name": "stdout",
     "output_type": "stream",
     "text": [
      "2025-04-22 15:17:20,435 INFO sqlalchemy.engine.Engine BEGIN (implicit)\n",
      "2025-04-22 15:17:20,436 INFO sqlalchemy.engine.Engine \n",
      "    WITH cuenta_por_usuario AS (\n",
      "    SELECT\n",
      "        user_id,\n",
      "        COUNT(cookie_id) as total_cookies\n",
      "    FROM\n",
      "        users\n",
      "    GROUP BY\n",
      "        user_id )\n",
      "\n",
      "\n",
      "    SELECT \n",
      "        AVG(total_cookies) AS Promedio_cookies_por_usuario\n",
      "    FROM\n",
      "        cuenta_por_usuario\n",
      "\n",
      "\n",
      "2025-04-22 15:17:20,437 INFO sqlalchemy.engine.Engine [raw sql] {}\n",
      "2025-04-22 15:17:20,441 INFO sqlalchemy.engine.Engine ROLLBACK\n"
     ]
    },
    {
     "data": {
      "text/html": [
       "<div>\n",
       "<style scoped>\n",
       "    .dataframe tbody tr th:only-of-type {\n",
       "        vertical-align: middle;\n",
       "    }\n",
       "\n",
       "    .dataframe tbody tr th {\n",
       "        vertical-align: top;\n",
       "    }\n",
       "\n",
       "    .dataframe thead th {\n",
       "        text-align: right;\n",
       "    }\n",
       "</style>\n",
       "<table border=\"1\" class=\"dataframe\">\n",
       "  <thead>\n",
       "    <tr style=\"text-align: right;\">\n",
       "      <th></th>\n",
       "      <th>Promedio_cookies_por_usuario</th>\n",
       "    </tr>\n",
       "  </thead>\n",
       "  <tbody>\n",
       "    <tr>\n",
       "      <th>0</th>\n",
       "      <td>3.564</td>\n",
       "    </tr>\n",
       "  </tbody>\n",
       "</table>\n",
       "</div>"
      ],
      "text/plain": [
       "   Promedio_cookies_por_usuario\n",
       "0                         3.564"
      ]
     },
     "execution_count": 18,
     "metadata": {},
     "output_type": "execute_result"
    }
   ],
   "source": [
    "query = '''\n",
    "    WITH cuenta_por_usuario AS (\n",
    "    SELECT\n",
    "        user_id,\n",
    "        COUNT(cookie_id) as total_cookies\n",
    "    FROM\n",
    "        users\n",
    "    GROUP BY\n",
    "        user_id )\n",
    "\n",
    "\n",
    "    SELECT \n",
    "        AVG(total_cookies) AS Promedio_cookies_por_usuario\n",
    "    FROM\n",
    "        cuenta_por_usuario\n",
    "\n",
    "'''\n",
    "\n",
    "\n",
    "pd.read_sql_query(query, con=engine)"
   ]
  },
  {
   "cell_type": "markdown",
   "id": "033cdce5",
   "metadata": {},
   "source": [
    "# **3. Cúal es el número de visitas unicas de todos los usuarios por mes?**\n",
    "\n"
   ]
  },
  {
   "cell_type": "code",
   "execution_count": 19,
   "id": "da3a6382",
   "metadata": {},
   "outputs": [
    {
     "name": "stdout",
     "output_type": "stream",
     "text": [
      "2025-04-22 15:17:20,467 INFO sqlalchemy.engine.Engine BEGIN (implicit)\n",
      "2025-04-22 15:17:20,468 INFO sqlalchemy.engine.Engine \n",
      "    SELECT\n",
      "        EXTRACT(MONTH FROM start_date) AS mes,\n",
      "       COUNT(DISTINCT  visit_id) AS total_usuarios_por_mes\n",
      "    FROM\n",
      "        users u\n",
      "    JOIN \n",
      "        events  e\n",
      "     ON u.cookie_id = e.cookie_id\n",
      "    GROUP BY \n",
      "        mes\n",
      "\n",
      "\n",
      "\n",
      "\n",
      "2025-04-22 15:17:20,469 INFO sqlalchemy.engine.Engine [raw sql] {}\n",
      "2025-04-22 15:17:20,534 INFO sqlalchemy.engine.Engine ROLLBACK\n"
     ]
    },
    {
     "data": {
      "text/html": [
       "<div>\n",
       "<style scoped>\n",
       "    .dataframe tbody tr th:only-of-type {\n",
       "        vertical-align: middle;\n",
       "    }\n",
       "\n",
       "    .dataframe tbody tr th {\n",
       "        vertical-align: top;\n",
       "    }\n",
       "\n",
       "    .dataframe thead th {\n",
       "        text-align: right;\n",
       "    }\n",
       "</style>\n",
       "<table border=\"1\" class=\"dataframe\">\n",
       "  <thead>\n",
       "    <tr style=\"text-align: right;\">\n",
       "      <th></th>\n",
       "      <th>mes</th>\n",
       "      <th>total_usuarios_por_mes</th>\n",
       "    </tr>\n",
       "  </thead>\n",
       "  <tbody>\n",
       "    <tr>\n",
       "      <th>0</th>\n",
       "      <td>1</td>\n",
       "      <td>876</td>\n",
       "    </tr>\n",
       "    <tr>\n",
       "      <th>1</th>\n",
       "      <td>2</td>\n",
       "      <td>1488</td>\n",
       "    </tr>\n",
       "    <tr>\n",
       "      <th>2</th>\n",
       "      <td>3</td>\n",
       "      <td>916</td>\n",
       "    </tr>\n",
       "    <tr>\n",
       "      <th>3</th>\n",
       "      <td>4</td>\n",
       "      <td>248</td>\n",
       "    </tr>\n",
       "    <tr>\n",
       "      <th>4</th>\n",
       "      <td>5</td>\n",
       "      <td>36</td>\n",
       "    </tr>\n",
       "  </tbody>\n",
       "</table>\n",
       "</div>"
      ],
      "text/plain": [
       "   mes  total_usuarios_por_mes\n",
       "0    1                     876\n",
       "1    2                    1488\n",
       "2    3                     916\n",
       "3    4                     248\n",
       "4    5                      36"
      ]
     },
     "execution_count": 19,
     "metadata": {},
     "output_type": "execute_result"
    }
   ],
   "source": [
    "query = '''\n",
    "    SELECT\n",
    "        EXTRACT(MONTH FROM start_date) AS mes,\n",
    "       COUNT(DISTINCT  visit_id) AS total_usuarios_por_mes\n",
    "    FROM\n",
    "        users u\n",
    "    JOIN \n",
    "        events  e\n",
    "     ON u.cookie_id = e.cookie_id\n",
    "    GROUP BY \n",
    "        mes\n",
    "\n",
    "\n",
    "\n",
    "'''\n",
    "\n",
    "\n",
    "pd.read_sql_query(query, con=engine)"
   ]
  },
  {
   "cell_type": "markdown",
   "id": "2cee8e3e",
   "metadata": {},
   "source": [
    "\n",
    "# **4. Cúal es el numero de eventos de cada tipo?**\n",
    "\n",
    "\n"
   ]
  },
  {
   "cell_type": "code",
   "execution_count": 20,
   "id": "602837b2",
   "metadata": {},
   "outputs": [
    {
     "name": "stdout",
     "output_type": "stream",
     "text": [
      "2025-04-22 15:17:20,561 INFO sqlalchemy.engine.Engine BEGIN (implicit)\n",
      "2025-04-22 15:17:20,562 INFO sqlalchemy.engine.Engine \n",
      "    SELECT\n",
      "        i.nombre,\n",
      "        COUNT(*) AS cantidad_de_eventos\n",
      "    FROM\n",
      "        events  e\n",
      "    JOIN \n",
      "        event_identifier i\n",
      "    \n",
      "     ON e.event_type = i.id\n",
      "    GROUP BY\n",
      "        i.nombre\n",
      "  \n",
      "\n",
      "\n",
      "\n",
      "2025-04-22 15:17:20,563 INFO sqlalchemy.engine.Engine [raw sql] {}\n",
      "2025-04-22 15:17:20,626 INFO sqlalchemy.engine.Engine ROLLBACK\n"
     ]
    },
    {
     "data": {
      "text/html": [
       "<div>\n",
       "<style scoped>\n",
       "    .dataframe tbody tr th:only-of-type {\n",
       "        vertical-align: middle;\n",
       "    }\n",
       "\n",
       "    .dataframe tbody tr th {\n",
       "        vertical-align: top;\n",
       "    }\n",
       "\n",
       "    .dataframe thead th {\n",
       "        text-align: right;\n",
       "    }\n",
       "</style>\n",
       "<table border=\"1\" class=\"dataframe\">\n",
       "  <thead>\n",
       "    <tr style=\"text-align: right;\">\n",
       "      <th></th>\n",
       "      <th>nombre</th>\n",
       "      <th>cantidad_de_eventos</th>\n",
       "    </tr>\n",
       "  </thead>\n",
       "  <tbody>\n",
       "    <tr>\n",
       "      <th>0</th>\n",
       "      <td>Page View</td>\n",
       "      <td>20928</td>\n",
       "    </tr>\n",
       "    <tr>\n",
       "      <th>1</th>\n",
       "      <td>Add to Cart</td>\n",
       "      <td>8451</td>\n",
       "    </tr>\n",
       "    <tr>\n",
       "      <th>2</th>\n",
       "      <td>Purchase</td>\n",
       "      <td>1777</td>\n",
       "    </tr>\n",
       "    <tr>\n",
       "      <th>3</th>\n",
       "      <td>Ad Impression</td>\n",
       "      <td>876</td>\n",
       "    </tr>\n",
       "    <tr>\n",
       "      <th>4</th>\n",
       "      <td>Ad Click</td>\n",
       "      <td>702</td>\n",
       "    </tr>\n",
       "  </tbody>\n",
       "</table>\n",
       "</div>"
      ],
      "text/plain": [
       "          nombre  cantidad_de_eventos\n",
       "0      Page View                20928\n",
       "1    Add to Cart                 8451\n",
       "2       Purchase                 1777\n",
       "3  Ad Impression                  876\n",
       "4       Ad Click                  702"
      ]
     },
     "execution_count": 20,
     "metadata": {},
     "output_type": "execute_result"
    }
   ],
   "source": [
    "query = '''\n",
    "    SELECT\n",
    "        i.nombre,\n",
    "        COUNT(*) AS cantidad_de_eventos\n",
    "    FROM\n",
    "        events  e\n",
    "    JOIN \n",
    "        event_identifier i\n",
    "    \n",
    "     ON e.event_type = i.id\n",
    "    GROUP BY\n",
    "        i.nombre\n",
    "  \n",
    "\n",
    "\n",
    "'''\n",
    "\n",
    "\n",
    "pd.read_sql_query(query, con=engine)"
   ]
  },
  {
   "cell_type": "markdown",
   "id": "1c6ce203",
   "metadata": {},
   "source": [
    "# **5. Cúal es el procentaje de visitas que tiene un evento de purchase ?**\n",
    "\n"
   ]
  },
  {
   "cell_type": "code",
   "execution_count": 21,
   "id": "eaa0b0f0",
   "metadata": {},
   "outputs": [
    {
     "name": "stdout",
     "output_type": "stream",
     "text": [
      "2025-04-22 15:17:20,655 INFO sqlalchemy.engine.Engine BEGIN (implicit)\n",
      "2025-04-22 15:17:20,656 INFO sqlalchemy.engine.Engine \n",
      "    \n",
      "   \n",
      "    SELECT\n",
      "        100 * COUNT(DISTINCT e.visit_id)/(SELECT COUNT(DISTINCT visit_id) FROM events) AS porcentaje_compras\n",
      "    FROM\n",
      "        events  e\n",
      "    JOIN \n",
      "        event_identifier i\n",
      "    \n",
      "     ON e.event_type = i.id\n",
      "    WHERE i.nombre = 'Purchase'\n",
      "\n",
      "  \n",
      "  \n",
      "  \n",
      "\n",
      "\n",
      "\n",
      "2025-04-22 15:17:20,656 INFO sqlalchemy.engine.Engine [raw sql] {}\n",
      "2025-04-22 15:17:20,697 INFO sqlalchemy.engine.Engine ROLLBACK\n"
     ]
    },
    {
     "data": {
      "text/html": [
       "<div>\n",
       "<style scoped>\n",
       "    .dataframe tbody tr th:only-of-type {\n",
       "        vertical-align: middle;\n",
       "    }\n",
       "\n",
       "    .dataframe tbody tr th {\n",
       "        vertical-align: top;\n",
       "    }\n",
       "\n",
       "    .dataframe thead th {\n",
       "        text-align: right;\n",
       "    }\n",
       "</style>\n",
       "<table border=\"1\" class=\"dataframe\">\n",
       "  <thead>\n",
       "    <tr style=\"text-align: right;\">\n",
       "      <th></th>\n",
       "      <th>porcentaje_compras</th>\n",
       "    </tr>\n",
       "  </thead>\n",
       "  <tbody>\n",
       "    <tr>\n",
       "      <th>0</th>\n",
       "      <td>49.8597</td>\n",
       "    </tr>\n",
       "  </tbody>\n",
       "</table>\n",
       "</div>"
      ],
      "text/plain": [
       "   porcentaje_compras\n",
       "0             49.8597"
      ]
     },
     "execution_count": 21,
     "metadata": {},
     "output_type": "execute_result"
    }
   ],
   "source": [
    "query = '''\n",
    "    \n",
    "   \n",
    "    SELECT\n",
    "        100 * COUNT(DISTINCT e.visit_id)/(SELECT COUNT(DISTINCT visit_id) FROM events) AS porcentaje_compras\n",
    "    FROM\n",
    "        events  e\n",
    "    JOIN \n",
    "        event_identifier i\n",
    "    \n",
    "     ON e.event_type = i.id\n",
    "    WHERE i.nombre = 'Purchase'\n",
    "\n",
    "  \n",
    "  \n",
    "  \n",
    "\n",
    "\n",
    "'''\n",
    "\n",
    "\n",
    "pd.read_sql_query(query, con=engine)"
   ]
  },
  {
   "cell_type": "markdown",
   "id": "e4a0818f",
   "metadata": {},
   "source": [
    "# **6. Cual es el procentaje de vistitantes que vieron la pagina de checkout pero no compraron (purchase event)**\n",
    "\n",
    "\n"
   ]
  },
  {
   "cell_type": "code",
   "execution_count": null,
   "id": "5378f92c",
   "metadata": {},
   "outputs": [
    {
     "name": "stdout",
     "output_type": "stream",
     "text": [
      "2025-04-22 15:18:56,713 INFO sqlalchemy.engine.Engine BEGIN (implicit)\n",
      "2025-04-22 15:18:56,714 INFO sqlalchemy.engine.Engine \n",
      "    \n",
      "    WITH tabla_resumen AS (\n",
      "    SELECT\n",
      "        e.visit_id,\n",
      "        SUM((CASE WHEN i.nombre = 'Page View' AND ph.page_name = 'Checkout' THEN 1 ELSE 0 END)) AS checkout,\n",
      "        SUM((CASE WHEN i.nombre = 'Purchase' THEN 1 ELSE 0 END)) AS purchase\n",
      "\n",
      "\n",
      "    FROM\n",
      "        events  e\n",
      "    JOIN \n",
      "        event_identifier i\n",
      "    \n",
      "     ON e.event_type = i.id\n",
      "       \n",
      "    JOIN \n",
      "        page_hierarchy ph\n",
      "    \n",
      "     ON e.page_id = ph.page_id\n",
      "    GROUP BY\n",
      "        e.visit_id )\n",
      "\n",
      "    \n",
      "   SELECT\n",
      "    COUNT(*) * 100.0 / (SELECT COUNT(*) FROM tabla_resumen) AS porcentaje_checkout_sin_compra\n",
      "    FROM\n",
      "        tabla_resumen\n",
      "    WHERE\n",
      "        checkout = 1 AND purchase = 0;\n",
      "  \n",
      "  \n",
      "  \n",
      "  \n",
      "\n",
      "\n",
      "\n",
      "2025-04-22 15:18:56,714 INFO sqlalchemy.engine.Engine [raw sql] {}\n",
      "2025-04-22 15:18:56,810 INFO sqlalchemy.engine.Engine ROLLBACK\n"
     ]
    },
    {
     "data": {
      "text/html": [
       "<div>\n",
       "<style scoped>\n",
       "    .dataframe tbody tr th:only-of-type {\n",
       "        vertical-align: middle;\n",
       "    }\n",
       "\n",
       "    .dataframe tbody tr th {\n",
       "        vertical-align: top;\n",
       "    }\n",
       "\n",
       "    .dataframe thead th {\n",
       "        text-align: right;\n",
       "    }\n",
       "</style>\n",
       "<table border=\"1\" class=\"dataframe\">\n",
       "  <thead>\n",
       "    <tr style=\"text-align: right;\">\n",
       "      <th></th>\n",
       "      <th>porcentaje_checkout_sin_compra</th>\n",
       "    </tr>\n",
       "  </thead>\n",
       "  <tbody>\n",
       "    <tr>\n",
       "      <th>0</th>\n",
       "      <td>9.14703</td>\n",
       "    </tr>\n",
       "  </tbody>\n",
       "</table>\n",
       "</div>"
      ],
      "text/plain": [
       "   porcentaje_checkout_sin_compra\n",
       "0                         9.14703"
      ]
     },
     "execution_count": 27,
     "metadata": {},
     "output_type": "execute_result"
    }
   ],
   "source": [
    "query = '''\n",
    "    \n",
    "    WITH tabla_resumen AS (\n",
    "    SELECT\n",
    "        e.visit_id,\n",
    "        SUM((CASE WHEN i.nombre = 'Page View' AND ph.page_name = 'Checkout' THEN 1 ELSE 0 END)) AS checkout,\n",
    "        SUM((CASE WHEN i.nombre = 'Purchase' THEN 1 ELSE 0 END)) AS purchase\n",
    "\n",
    "\n",
    "    FROM\n",
    "        events  e\n",
    "    JOIN \n",
    "        event_identifier i\n",
    "    \n",
    "     ON e.event_type = i.id\n",
    "       \n",
    "    JOIN \n",
    "        page_hierarchy ph\n",
    "    \n",
    "     ON e.page_id = ph.page_id\n",
    "    GROUP BY\n",
    "        e.visit_id )\n",
    "\n",
    "    \n",
    "    SELECT\n",
    "        ROUND(100 * (1-(SUM(purchase)/SUM(checkout))),2) AS percentage_checkout_view_with_no_purchase\n",
    "    FROM\n",
    "        tabla_resumen\n",
    "  \n",
    "  \n",
    "  \n",
    "  \n",
    "\n",
    "\n",
    "'''\n",
    "\n",
    "\n",
    "pd.read_sql_query(query, con=engine)"
   ]
  }
 ],
 "metadata": {
  "kernelspec": {
   "display_name": "Python 3",
   "language": "python",
   "name": "python3"
  },
  "language_info": {
   "codemirror_mode": {
    "name": "ipython",
    "version": 3
   },
   "file_extension": ".py",
   "mimetype": "text/x-python",
   "name": "python",
   "nbconvert_exporter": "python",
   "pygments_lexer": "ipython3",
   "version": "3.10.4"
  }
 },
 "nbformat": 4,
 "nbformat_minor": 5
}

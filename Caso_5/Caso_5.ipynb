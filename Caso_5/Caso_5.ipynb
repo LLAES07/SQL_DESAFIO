{
 "cells": [
  {
   "cell_type": "code",
   "execution_count": 1,
   "id": "cc4aca29",
   "metadata": {},
   "outputs": [],
   "source": [
    "import sys\n",
    "import os\n",
    "import pandas as pd\n",
    "sys.path.append(os.path.abspath(os.path.join('..')))"
   ]
  },
  {
   "cell_type": "code",
   "execution_count": 2,
   "id": "8b1acd8b",
   "metadata": {},
   "outputs": [],
   "source": [
    "from dotenv import load_dotenv\n",
    "import os\n",
    "\n",
    "load_dotenv()  # Carga las variables del archivo .env\n",
    "\n",
    "config = {\n",
    "    'host': os.getenv('HOST'),\n",
    "    'user': os.getenv('USER'),\n",
    "    'password': os.getenv('PASSWORD'),\n",
    "    'database': os.getenv('DATABASE'),\n",
    "    'port': os.getenv('PORT')\n",
    "}"
   ]
  },
  {
   "cell_type": "code",
   "execution_count": 3,
   "id": "a4dd8492",
   "metadata": {},
   "outputs": [],
   "source": [
    "import mysql.connector\n",
    "\n",
    "connection = mysql.connector.connect(**config)\n"
   ]
  },
  {
   "cell_type": "code",
   "execution_count": 4,
   "id": "5394ed2a",
   "metadata": {},
   "outputs": [],
   "source": [
    "cursor = connection.cursor()\n"
   ]
  },
  {
   "cell_type": "markdown",
   "id": "1642e1cb",
   "metadata": {},
   "source": [
    "<center><h1><b>Generación Tablas</b></h1</center>"
   ]
  },
  {
   "cell_type": "code",
   "execution_count": 5,
   "id": "97cebb61",
   "metadata": {},
   "outputs": [],
   "source": [
    "# Ejecutar DROP y luego CREATE en dos líneas\n",
    "cursor.execute(\"DROP TABLE IF EXISTS caso_5.weekly_sales;\")\n",
    "cursor.execute(\"\"\"\n",
    "CREATE TABLE caso_5.weekly_sales (\n",
    "    week_date VARCHAR(7),\n",
    "    region VARCHAR(13),\n",
    "    platform VARCHAR(7),\n",
    "    segment VARCHAR(4),\n",
    "    customer_type VARCHAR(8),\n",
    "    transactions INT,\n",
    "    sales INT\n",
    ");\n",
    "\"\"\")\n",
    "connection.commit()"
   ]
  },
  {
   "cell_type": "code",
   "execution_count": 6,
   "id": "3a46b23e",
   "metadata": {},
   "outputs": [],
   "source": [
    "from utils.funciones_utiles import load_text_as_tuples, verifica_tabla\n",
    "\n",
    "cursor.executemany(\n",
    "    '''INSERT INTO caso_5.weekly_sales VALUES (%s, %s, %s, %s, %s, %s, %s)''', \n",
    "    load_text_as_tuples('datos_tablas/data_weekly_sales.txt'))\n",
    "\n",
    "connection.commit()\n"
   ]
  },
  {
   "cell_type": "code",
   "execution_count": 8,
   "id": "9503c153",
   "metadata": {},
   "outputs": [
    {
     "data": {
      "text/html": [
       "<div>\n",
       "<style scoped>\n",
       "    .dataframe tbody tr th:only-of-type {\n",
       "        vertical-align: middle;\n",
       "    }\n",
       "\n",
       "    .dataframe tbody tr th {\n",
       "        vertical-align: top;\n",
       "    }\n",
       "\n",
       "    .dataframe thead th {\n",
       "        text-align: right;\n",
       "    }\n",
       "</style>\n",
       "<table border=\"1\" class=\"dataframe\">\n",
       "  <thead>\n",
       "    <tr style=\"text-align: right;\">\n",
       "      <th></th>\n",
       "      <th>week_date</th>\n",
       "      <th>region</th>\n",
       "      <th>platform</th>\n",
       "      <th>segment</th>\n",
       "      <th>customer_type</th>\n",
       "      <th>transactions</th>\n",
       "      <th>sales</th>\n",
       "    </tr>\n",
       "  </thead>\n",
       "  <tbody>\n",
       "    <tr>\n",
       "      <th>0</th>\n",
       "      <td>31/8/20</td>\n",
       "      <td>ASIA</td>\n",
       "      <td>Retail</td>\n",
       "      <td>C3</td>\n",
       "      <td>New</td>\n",
       "      <td>120631</td>\n",
       "      <td>3656163</td>\n",
       "    </tr>\n",
       "    <tr>\n",
       "      <th>1</th>\n",
       "      <td>31/8/20</td>\n",
       "      <td>ASIA</td>\n",
       "      <td>Retail</td>\n",
       "      <td>F1</td>\n",
       "      <td>New</td>\n",
       "      <td>31574</td>\n",
       "      <td>996575</td>\n",
       "    </tr>\n",
       "    <tr>\n",
       "      <th>2</th>\n",
       "      <td>31/8/20</td>\n",
       "      <td>USA</td>\n",
       "      <td>Retail</td>\n",
       "      <td>null</td>\n",
       "      <td>Guest</td>\n",
       "      <td>529151</td>\n",
       "      <td>16509610</td>\n",
       "    </tr>\n",
       "    <tr>\n",
       "      <th>3</th>\n",
       "      <td>31/8/20</td>\n",
       "      <td>EUROPE</td>\n",
       "      <td>Retail</td>\n",
       "      <td>C1</td>\n",
       "      <td>New</td>\n",
       "      <td>4517</td>\n",
       "      <td>141942</td>\n",
       "    </tr>\n",
       "    <tr>\n",
       "      <th>4</th>\n",
       "      <td>31/8/20</td>\n",
       "      <td>AFRICA</td>\n",
       "      <td>Retail</td>\n",
       "      <td>C2</td>\n",
       "      <td>New</td>\n",
       "      <td>58046</td>\n",
       "      <td>1758388</td>\n",
       "    </tr>\n",
       "  </tbody>\n",
       "</table>\n",
       "</div>"
      ],
      "text/plain": [
       "  week_date  region platform segment customer_type  transactions     sales\n",
       "0   31/8/20    ASIA   Retail      C3           New        120631   3656163\n",
       "1   31/8/20    ASIA   Retail      F1           New         31574    996575\n",
       "2   31/8/20     USA   Retail    null         Guest        529151  16509610\n",
       "3   31/8/20  EUROPE   Retail      C1           New          4517    141942\n",
       "4   31/8/20  AFRICA   Retail      C2           New         58046   1758388"
      ]
     },
     "execution_count": 8,
     "metadata": {},
     "output_type": "execute_result"
    }
   ],
   "source": [
    "verifica_tabla('weekly_sales', connection)"
   ]
  }
 ],
 "metadata": {
  "kernelspec": {
   "display_name": "Python 3",
   "language": "python",
   "name": "python3"
  },
  "language_info": {
   "codemirror_mode": {
    "name": "ipython",
    "version": 3
   },
   "file_extension": ".py",
   "mimetype": "text/x-python",
   "name": "python",
   "nbconvert_exporter": "python",
   "pygments_lexer": "ipython3",
   "version": "3.10.4"
  }
 },
 "nbformat": 4,
 "nbformat_minor": 5
}

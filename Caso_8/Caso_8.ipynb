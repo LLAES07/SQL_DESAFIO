{
 "cells": [
  {
   "cell_type": "markdown",
   "id": "797ac2ae",
   "metadata": {},
   "source": [
    "# **IMPORTANDO LIBRERIAS**"
   ]
  },
  {
   "cell_type": "code",
   "execution_count": 1,
   "id": "1834a074",
   "metadata": {},
   "outputs": [],
   "source": [
    "import sys\n",
    "import os\n",
    "import pandas as pd\n",
    "from sqlalchemy import create_engine, text\n",
    "from dotenv import load_dotenv\n",
    "import os\n",
    "from sqlalchemy.orm import declarative_base, relationship\n",
    "from sqlalchemy import create_engine, Column, Integer, String, VARCHAR,Boolean, TIMESTAMP,Float\n",
    "from sqlalchemy.types import DateTime\n",
    "from sqlalchemy.orm import sessionmaker\n",
    "\n",
    "\n",
    "sys.path.append(os.path.abspath(os.path.join('..')))"
   ]
  },
  {
   "cell_type": "code",
   "execution_count": 2,
   "id": "eb933783",
   "metadata": {},
   "outputs": [],
   "source": [
    "load_dotenv()  # Carga las variables del archivo .env\n",
    "\n",
    "config = {\n",
    "    'host': os.getenv('HOST'),\n",
    "    'user': os.getenv('USER'),\n",
    "    'password': os.getenv('PASSWORD'),\n",
    "    'database': os.getenv('DATABASE'),\n",
    "    'port': os.getenv('PORT')\n",
    "}"
   ]
  },
  {
   "cell_type": "code",
   "execution_count": 3,
   "id": "d9565744",
   "metadata": {},
   "outputs": [],
   "source": [
    "# Crear la URL de conexión para SQLAlchemy\n",
    "db_url = f\"mysql+pymysql://{config['user']}:{config['password']}@{config['host']}:{config['port']}/caso_8\"\n",
    "\n",
    "# Crear el motor de SQLAlchemy\n",
    "engine = create_engine(db_url, echo=True)\n",
    "\n"
   ]
  },
  {
   "cell_type": "code",
   "execution_count": 4,
   "id": "a2297827",
   "metadata": {},
   "outputs": [],
   "source": [
    "Base = declarative_base()\n"
   ]
  },
  {
   "cell_type": "markdown",
   "id": "033bec09",
   "metadata": {},
   "source": [
    "# **1. GENERACIÓN DE TABLAS**"
   ]
  },
  {
   "cell_type": "code",
   "execution_count": 5,
   "id": "10c5d61e",
   "metadata": {},
   "outputs": [
    {
     "name": "stdout",
     "output_type": "stream",
     "text": [
      "2025-05-05 15:29:52,144 INFO sqlalchemy.engine.Engine SELECT DATABASE()\n",
      "2025-05-05 15:29:52,145 INFO sqlalchemy.engine.Engine [raw sql] {}\n",
      "2025-05-05 15:29:52,147 INFO sqlalchemy.engine.Engine SELECT @@sql_mode\n",
      "2025-05-05 15:29:52,147 INFO sqlalchemy.engine.Engine [raw sql] {}\n",
      "2025-05-05 15:29:52,148 INFO sqlalchemy.engine.Engine SELECT @@lower_case_table_names\n",
      "2025-05-05 15:29:52,148 INFO sqlalchemy.engine.Engine [raw sql] {}\n",
      "2025-05-05 15:29:52,150 INFO sqlalchemy.engine.Engine BEGIN (implicit)\n",
      "2025-05-05 15:29:52,150 INFO sqlalchemy.engine.Engine DESCRIBE `caso_8`.`interest_map`\n",
      "2025-05-05 15:29:52,150 INFO sqlalchemy.engine.Engine [raw sql] {}\n",
      "2025-05-05 15:29:52,152 INFO sqlalchemy.engine.Engine DESCRIBE `caso_8`.`interest_metrics`\n",
      "2025-05-05 15:29:52,153 INFO sqlalchemy.engine.Engine [raw sql] {}\n",
      "2025-05-05 15:29:52,154 INFO sqlalchemy.engine.Engine \n",
      "CREATE TABLE interest_map (\n",
      "\tid INTEGER NOT NULL AUTO_INCREMENT, \n",
      "\tinterest_name VARCHAR(255), \n",
      "\tinterest_summary VARCHAR(255), \n",
      "\tcreated_at TIMESTAMP NULL, \n",
      "\tlast_modified TIMESTAMP NULL, \n",
      "\tPRIMARY KEY (id)\n",
      ")\n",
      "\n",
      "\n",
      "2025-05-05 15:29:52,155 INFO sqlalchemy.engine.Engine [no key 0.00066s] {}\n",
      "2025-05-05 15:29:52,191 INFO sqlalchemy.engine.Engine \n",
      "CREATE TABLE interest_metrics (\n",
      "\tid INTEGER NOT NULL AUTO_INCREMENT, \n",
      "\t_month VARCHAR(20), \n",
      "\t_year VARCHAR(20), \n",
      "\tmonth_year VARCHAR(20), \n",
      "\tinterest_id VARCHAR(20), \n",
      "\tcomposition FLOAT, \n",
      "\tindex_value FLOAT, \n",
      "\tranking INTEGER, \n",
      "\tpercentile_ranking FLOAT, \n",
      "\tPRIMARY KEY (id)\n",
      ")\n",
      "\n",
      "\n",
      "2025-05-05 15:29:52,192 INFO sqlalchemy.engine.Engine [no key 0.00071s] {}\n",
      "2025-05-05 15:29:52,206 INFO sqlalchemy.engine.Engine COMMIT\n"
     ]
    }
   ],
   "source": [
    "class InterestMap(Base):\n",
    "\n",
    "    __tablename__ = 'interest_map'\n",
    "    __table_args__= {'extend_existing':True}\n",
    "\n",
    "    id = Column(Integer, primary_key=True)\n",
    "    interest_name = Column(VARCHAR(255))\n",
    "    interest_summary = Column(VARCHAR(255))\n",
    "    created_at = Column(TIMESTAMP)\n",
    "    last_modified = Column(TIMESTAMP)\n",
    "\n",
    "class InterestMetrics(Base):\n",
    "    __tablename__ = 'interest_metrics'\n",
    "    __table_args__ = {'extend_existing': True}\n",
    "\n",
    "    id = Column(Integer, primary_key=True, autoincrement=True)\n",
    "    _month = Column(VARCHAR(20))\n",
    "    _year = Column(VARCHAR(20))\n",
    "    month_year = Column(VARCHAR(20))\n",
    "    interest_id = Column(VARCHAR(20))\n",
    "    composition = Column(Float)\n",
    "    index_value = Column(Float)\n",
    "    ranking = Column(Integer)\n",
    "    percentile_ranking = Column(Float)\n",
    "\n",
    "Base.metadata.create_all(engine)\n"
   ]
  },
  {
   "cell_type": "markdown",
   "id": "287fd618",
   "metadata": {},
   "source": [
    "## **1.1 CARGANDO LOS DATOS**"
   ]
  },
  {
   "cell_type": "code",
   "execution_count": 6,
   "id": "b982181e",
   "metadata": {},
   "outputs": [],
   "source": [
    "from utils import funciones_utiles\n",
    "\n",
    "interest_map_data = funciones_utiles.load_text_as_tuples('data/interest_map_data.txt')\n",
    "interest_metrics_data = funciones_utiles.load_text_as_tuples('data/interest_metrics_data.txt')"
   ]
  },
  {
   "cell_type": "code",
   "execution_count": 7,
   "id": "fac97a47",
   "metadata": {},
   "outputs": [],
   "source": [
    "# Creando la session\n",
    "Session = sessionmaker(bind=engine)\n",
    "session = Session()"
   ]
  },
  {
   "cell_type": "markdown",
   "id": "4579c38a",
   "metadata": {},
   "source": [
    "### **1.1.1 Cargando datos `interest_map`**"
   ]
  },
  {
   "cell_type": "code",
   "execution_count": 8,
   "id": "4c3c0fc6",
   "metadata": {},
   "outputs": [
    {
     "name": "stdout",
     "output_type": "stream",
     "text": [
      "2025-05-05 15:29:52,528 INFO sqlalchemy.engine.Engine BEGIN (implicit)\n",
      "2025-05-05 15:29:52,531 INFO sqlalchemy.engine.Engine SELECT interest_map.id AS interest_map_id \n",
      "FROM interest_map\n",
      "2025-05-05 15:29:52,532 INFO sqlalchemy.engine.Engine [generated in 0.00113s] {}\n",
      "2025-05-05 15:29:52,556 INFO sqlalchemy.engine.Engine INSERT INTO interest_map (id, interest_name, interest_summary, created_at, last_modified) VALUES (%(id)s, %(interest_name)s, %(interest_summary)s, %(created_at)s, %(last_modified)s)\n",
      "2025-05-05 15:29:52,557 INFO sqlalchemy.engine.Engine [generated in 0.00353s] [{'id': '1', 'interest_name': 'Fitness Enthusiasts', 'interest_summary': 'Consumers using fitness tracking apps and websites.', 'created_at': '2016-05-26 14:57:59', 'last_modified': '2018-05-23 11:30:12'}, {'id': '2', 'interest_name': 'Gamers', 'interest_summary': 'Consumers researching game reviews and cheat codes.', 'created_at': '2016-05-26 14:57:59', 'last_modified': '2018-05-23 11:30:12'}, {'id': '3', 'interest_name': 'Car Enthusiasts', 'interest_summary': 'Readers of automotive news and car reviews.', 'created_at': '2016-05-26 14:57:59', 'last_modified': '2018-05-23 11:30:12'}, {'id': '4', 'interest_name': 'Luxury Retail Researchers', 'interest_summary': 'Consumers researching luxury product reviews and gift ideas.', 'created_at': '2016-05-26 14:57:59', 'last_modified': '2018-05-23 11:30:12'}, {'id': '5', 'interest_name': 'Brides & Wedding Planners', 'interest_summary': 'People researching wedding ideas and vendors.', 'created_at': '2016-05-26 14:57:59', 'last_modified': '2018-05-23 11:30:12'}, {'id': '6', 'interest_name': 'Vacation Planners', 'interest_summary': 'Consumers reading reviews of vacation destinations and accommodations.', 'created_at': '2016-05-26 14:57:59', 'last_modified': '2018-05-23 11:30:13'}, {'id': '7', 'interest_name': 'Motorcycle Enthusiasts', 'interest_summary': 'Readers of motorcycle news and reviews.', 'created_at': '2016-05-26 14:57:59', 'last_modified': '2018-05-23 11:30:13'}, {'id': '8', 'interest_name': 'Business News Readers', 'interest_summary': 'Readers of online business news content.', 'created_at': '2016-05-26 14:57:59', 'last_modified': '2018-05-23 11:30:12'}  ... displaying 10 of 1209 total bound parameter sets ...  {'id': '51120', 'interest_name': 'Foot Health Researchers', 'interest_summary': 'People reading news and advice on preventing and treating foot health issues.', 'created_at': '2019-04-26 18:00:00', 'last_modified': '2019-04-29 14:20:04'}, {'id': '51678', 'interest_name': 'Plumbers', 'interest_summary': 'Professionals reading industry news and researching products and services for plumbers.', 'created_at': '2019-05-06 22:00:00', 'last_modified': '2019-05-07 18:50:04'}]\n",
      "2025-05-05 15:29:52,603 INFO sqlalchemy.engine.Engine COMMIT\n"
     ]
    }
   ],
   "source": [
    "# Obtener los ids existentes de InterestMap\n",
    "existing_ids = {row.id for row in session.query(InterestMap.id).all()}\n",
    "\n",
    "objects = [\n",
    "    InterestMap(\n",
    "        id=id,\n",
    "        interest_name=interest_name,\n",
    "        interest_summary=interest_summary,\n",
    "        created_at=created_at,\n",
    "        last_modified=last_modified\n",
    "    )\n",
    "    for id, interest_name, interest_summary, created_at, last_modified in interest_map_data\n",
    "    if id not in existing_ids\n",
    "]\n",
    "\n",
    "if objects:\n",
    "    session.bulk_save_objects(objects)\n",
    "    session.commit()\n",
    "else:\n",
    "    print(\"No hay nuevos registros para insertar en InterestMap.\")"
   ]
  },
  {
   "cell_type": "markdown",
   "id": "1c7e88cd",
   "metadata": {},
   "source": [
    "### **1.1.1 Cargando datos `interest_metrics`**"
   ]
  },
  {
   "cell_type": "code",
   "execution_count": 9,
   "id": "631cb7aa",
   "metadata": {},
   "outputs": [
    {
     "name": "stdout",
     "output_type": "stream",
     "text": [
      "2025-05-05 15:29:52,622 INFO sqlalchemy.engine.Engine BEGIN (implicit)\n",
      "2025-05-05 15:29:52,623 INFO sqlalchemy.engine.Engine SELECT interest_metrics.id AS interest_metrics_id \n",
      "FROM interest_metrics\n",
      "2025-05-05 15:29:52,623 INFO sqlalchemy.engine.Engine [generated in 0.00053s] {}\n",
      "2025-05-05 15:29:53,031 INFO sqlalchemy.engine.Engine INSERT INTO interest_metrics (_month, _year, month_year, interest_id, composition, index_value, ranking, percentile_ranking) VALUES (%(_month)s, %(_year)s, %(month_year)s, %(interest_id)s, %(composition)s, %(index_value)s, %(ranking)s, %(percentile_ranking)s)\n",
      "2025-05-05 15:29:53,032 INFO sqlalchemy.engine.Engine [generated in 0.04219s] [{'_month': '7', '_year': '2018', 'month_year': '07-2018', 'interest_id': '32486', 'composition': '11.89', 'index_value': '6.19', 'ranking': '1', 'percentile_ranking': '99.86'}, {'_month': '7', '_year': '2018', 'month_year': '07-2018', 'interest_id': '6106', 'composition': '9.93', 'index_value': '5.31', 'ranking': '2', 'percentile_ranking': '99.73'}, {'_month': '7', '_year': '2018', 'month_year': '07-2018', 'interest_id': '18923', 'composition': '10.85', 'index_value': '5.29', 'ranking': '3', 'percentile_ranking': '99.59'}, {'_month': '7', '_year': '2018', 'month_year': '07-2018', 'interest_id': '6344', 'composition': '10.32', 'index_value': '5.1', 'ranking': '4', 'percentile_ranking': '99.45'}, {'_month': '7', '_year': '2018', 'month_year': '07-2018', 'interest_id': '100', 'composition': '10.77', 'index_value': '5.04', 'ranking': '5', 'percentile_ranking': '99.31'}, {'_month': '7', '_year': '2018', 'month_year': '07-2018', 'interest_id': '69', 'composition': '10.82', 'index_value': '5.03', 'ranking': '6', 'percentile_ranking': '99.18'}, {'_month': '7', '_year': '2018', 'month_year': '07-2018', 'interest_id': '79', 'composition': '11.21', 'index_value': '4.97', 'ranking': '7', 'percentile_ranking': '99.04'}, {'_month': '7', '_year': '2018', 'month_year': '07-2018', 'interest_id': '6111', 'composition': '10.71', 'index_value': '4.83', 'ranking': '8', 'percentile_ranking': '98.9'}  ... displaying 10 of 14273 total bound parameter sets ...  {'_month': 'None', '_year': 'None', 'month_year': 'None', 'interest_id': 'None', 'composition': '1.51', 'index_value': '0.63', 'ranking': '1193', 'percentile_ranking': '0.08'}, {'_month': 'None', '_year': 'None', 'month_year': 'None', 'interest_id': 'None', 'composition': '1.64', 'index_value': '0.62', 'ranking': '1194', 'percentile_ranking': '0'}]\n",
      "2025-05-05 15:29:53,402 INFO sqlalchemy.engine.Engine COMMIT\n"
     ]
    }
   ],
   "source": [
    "# Obtener los ids existentes de InterestMap\n",
    "existing_ids = {row.id for row in session.query(InterestMetrics.id).all()}\n",
    "\n",
    "objects = [\n",
    "    InterestMetrics(\n",
    "        _month = None if _month == 'NULL' or _month == '' else _month,\n",
    "        _year = None if _year == 'NULL' or _year == '' else _year,\n",
    "        month_year = None if month_year == 'NULL' or month_year == '' else month_year,\n",
    "        interest_id = interest_id,\n",
    "        composition = composition,\n",
    "        index_value = index_value,\n",
    "        ranking = ranking,\n",
    "        percentile_ranking = percentile_ranking\n",
    "    )\n",
    "    for _month, _year, month_year, interest_id, composition, index_value, ranking, percentile_ranking  in interest_metrics_data\n",
    "    if id not in existing_ids\n",
    "]\n",
    "\n",
    "if objects:\n",
    "    session.bulk_save_objects(objects)\n",
    "    session.commit()\n",
    "else:\n",
    "    print(\"No hay nuevos registros para insertar en InterestMap.\")"
   ]
  },
  {
   "cell_type": "markdown",
   "id": "0d621b4f",
   "metadata": {},
   "source": [
    "# Exploracion de datos y limpieza\n"
   ]
  },
  {
   "cell_type": "code",
   "execution_count": 10,
   "id": "12208422",
   "metadata": {},
   "outputs": [
    {
     "name": "stdout",
     "output_type": "stream",
     "text": [
      "2025-05-05 15:29:53,421 INFO sqlalchemy.engine.Engine BEGIN (implicit)\n",
      "2025-05-05 15:29:53,422 INFO sqlalchemy.engine.Engine \n",
      "\n",
      "   SELECT \n",
      "    SUM(CASE WHEN id = 'None' OR id  OR id = '' THEN 1 ELSE 0 END) AS id_Nones,\n",
      "    SUM(CASE WHEN interest_name = 'None' OR interest_name  OR interest_name = '' THEN 1 ELSE 0 END) AS interest_name_Nones,\n",
      "    SUM(CASE WHEN interest_summary = 'None' OR interest_summary  OR interest_summary = '' THEN 1 ELSE 0 END) AS interest_summary_Nones,\n",
      "    SUM(CASE WHEN created_at  THEN 1 ELSE 0 END) AS created_at_Nones,\n",
      "    SUM(CASE WHEN last_modified  THEN 1 ELSE 0 END) AS last_modified_Nones\n",
      "FROM interest_map;\n",
      "\n",
      "\n",
      "2025-05-05 15:29:53,423 INFO sqlalchemy.engine.Engine [raw sql] {}\n",
      "2025-05-05 15:29:53,428 INFO sqlalchemy.engine.Engine ROLLBACK\n"
     ]
    },
    {
     "data": {
      "text/html": [
       "<div>\n",
       "<style scoped>\n",
       "    .dataframe tbody tr th:only-of-type {\n",
       "        vertical-align: middle;\n",
       "    }\n",
       "\n",
       "    .dataframe tbody tr th {\n",
       "        vertical-align: top;\n",
       "    }\n",
       "\n",
       "    .dataframe thead th {\n",
       "        text-align: right;\n",
       "    }\n",
       "</style>\n",
       "<table border=\"1\" class=\"dataframe\">\n",
       "  <thead>\n",
       "    <tr style=\"text-align: right;\">\n",
       "      <th></th>\n",
       "      <th>id_Nones</th>\n",
       "      <th>interest_name_Nones</th>\n",
       "      <th>interest_summary_Nones</th>\n",
       "      <th>created_at_Nones</th>\n",
       "      <th>last_modified_Nones</th>\n",
       "    </tr>\n",
       "  </thead>\n",
       "  <tbody>\n",
       "    <tr>\n",
       "      <th>0</th>\n",
       "      <td>1209.0</td>\n",
       "      <td>0.0</td>\n",
       "      <td>20.0</td>\n",
       "      <td>1209.0</td>\n",
       "      <td>1209.0</td>\n",
       "    </tr>\n",
       "  </tbody>\n",
       "</table>\n",
       "</div>"
      ],
      "text/plain": [
       "   id_Nones  interest_name_Nones  interest_summary_Nones  created_at_Nones  \\\n",
       "0    1209.0                  0.0                    20.0            1209.0   \n",
       "\n",
       "   last_modified_Nones  \n",
       "0               1209.0  "
      ]
     },
     "execution_count": 10,
     "metadata": {},
     "output_type": "execute_result"
    }
   ],
   "source": [
    "query = '''\n",
    "\n",
    "   SELECT \n",
    "    SUM(CASE WHEN id = 'None' OR id  OR id = '' THEN 1 ELSE 0 END) AS id_Nones,\n",
    "    SUM(CASE WHEN interest_name = 'None' OR interest_name  OR interest_name = '' THEN 1 ELSE 0 END) AS interest_name_Nones,\n",
    "    SUM(CASE WHEN interest_summary = 'None' OR interest_summary  OR interest_summary = '' THEN 1 ELSE 0 END) AS interest_summary_Nones,\n",
    "    SUM(CASE WHEN created_at  THEN 1 ELSE 0 END) AS created_at_Nones,\n",
    "    SUM(CASE WHEN last_modified  THEN 1 ELSE 0 END) AS last_modified_Nones\n",
    "FROM interest_map;\n",
    "\n",
    "'''\n",
    "\n",
    "pd.read_sql_query(query, con=engine)"
   ]
  },
  {
   "cell_type": "code",
   "execution_count": 11,
   "id": "b1a34c4b",
   "metadata": {},
   "outputs": [
    {
     "name": "stdout",
     "output_type": "stream",
     "text": [
      "2025-05-05 15:29:53,453 INFO sqlalchemy.engine.Engine BEGIN (implicit)\n",
      "2025-05-05 15:29:53,454 INFO sqlalchemy.engine.Engine \n",
      "\n",
      "    SELECT \n",
      "        SUM(CASE WHEN _month = 'None' OR _month = '' THEN 1 ELSE 0 END) AS month_nulls,\n",
      "        SUM(CASE WHEN _year = 'None' OR _year = '' THEN 1 ELSE 0 END) AS _year_nulls,\n",
      "        SUM(CASE WHEN month_year = 'None'  OR month_year = '' THEN 1 ELSE 0 END) AS month_year_nulls,\n",
      "        SUM(CASE WHEN interest_id = 'None'  OR interest_id = '' THEN 1 ELSE 0 END) AS interest_id_nulls,\n",
      "        SUM(CASE WHEN index_value  = 'None'THEN 1 ELSE 0 END) AS index_value_nulls,\n",
      "        SUM(CASE WHEN ranking  = 'None' THEN 1 ELSE 0 END) AS ranking_nulls,\n",
      "        SUM(CASE WHEN percentile_ranking = 'None' THEN 1 ELSE 0 END) AS percentile_ranking_nulls\n",
      "\n",
      "    FROM interest_metrics;\n",
      "\n",
      "\n",
      "2025-05-05 15:29:53,454 INFO sqlalchemy.engine.Engine [raw sql] {}\n",
      "2025-05-05 15:29:53,475 INFO sqlalchemy.engine.Engine ROLLBACK\n"
     ]
    },
    {
     "data": {
      "text/html": [
       "<div>\n",
       "<style scoped>\n",
       "    .dataframe tbody tr th:only-of-type {\n",
       "        vertical-align: middle;\n",
       "    }\n",
       "\n",
       "    .dataframe tbody tr th {\n",
       "        vertical-align: top;\n",
       "    }\n",
       "\n",
       "    .dataframe thead th {\n",
       "        text-align: right;\n",
       "    }\n",
       "</style>\n",
       "<table border=\"1\" class=\"dataframe\">\n",
       "  <thead>\n",
       "    <tr style=\"text-align: right;\">\n",
       "      <th></th>\n",
       "      <th>month_nulls</th>\n",
       "      <th>_year_nulls</th>\n",
       "      <th>month_year_nulls</th>\n",
       "      <th>interest_id_nulls</th>\n",
       "      <th>index_value_nulls</th>\n",
       "      <th>ranking_nulls</th>\n",
       "      <th>percentile_ranking_nulls</th>\n",
       "    </tr>\n",
       "  </thead>\n",
       "  <tbody>\n",
       "    <tr>\n",
       "      <th>0</th>\n",
       "      <td>1194.0</td>\n",
       "      <td>1194.0</td>\n",
       "      <td>1194.0</td>\n",
       "      <td>1193.0</td>\n",
       "      <td>0.0</td>\n",
       "      <td>0.0</td>\n",
       "      <td>14.0</td>\n",
       "    </tr>\n",
       "  </tbody>\n",
       "</table>\n",
       "</div>"
      ],
      "text/plain": [
       "   month_nulls  _year_nulls  month_year_nulls  interest_id_nulls  \\\n",
       "0       1194.0       1194.0            1194.0             1193.0   \n",
       "\n",
       "   index_value_nulls  ranking_nulls  percentile_ranking_nulls  \n",
       "0                0.0            0.0                      14.0  "
      ]
     },
     "execution_count": 11,
     "metadata": {},
     "output_type": "execute_result"
    }
   ],
   "source": [
    "query = '''\n",
    "\n",
    "    SELECT \n",
    "        SUM(CASE WHEN _month = 'None' OR _month = '' THEN 1 ELSE 0 END) AS month_nulls,\n",
    "        SUM(CASE WHEN _year = 'None' OR _year = '' THEN 1 ELSE 0 END) AS _year_nulls,\n",
    "        SUM(CASE WHEN month_year = 'None'  OR month_year = '' THEN 1 ELSE 0 END) AS month_year_nulls,\n",
    "        SUM(CASE WHEN interest_id = 'None'  OR interest_id = '' THEN 1 ELSE 0 END) AS interest_id_nulls,\n",
    "        SUM(CASE WHEN index_value  = 'None'THEN 1 ELSE 0 END) AS index_value_nulls,\n",
    "        SUM(CASE WHEN ranking  = 'None' THEN 1 ELSE 0 END) AS ranking_nulls,\n",
    "        SUM(CASE WHEN percentile_ranking = 'None' THEN 1 ELSE 0 END) AS percentile_ranking_nulls\n",
    "\n",
    "    FROM interest_metrics;\n",
    "\n",
    "'''\n",
    "pd.read_sql_query(query, con=engine)\n"
   ]
  },
  {
   "cell_type": "code",
   "execution_count": 12,
   "id": "d6a58202",
   "metadata": {},
   "outputs": [
    {
     "name": "stdout",
     "output_type": "stream",
     "text": [
      "2025-05-05 15:29:53,501 INFO sqlalchemy.engine.Engine BEGIN (implicit)\n",
      "2025-05-05 15:29:53,502 INFO sqlalchemy.engine.Engine \n",
      "\n",
      "    SELECT \n",
      "        DATE_FORMAT(STR_TO_DATE(month_year, \"%%m-%%Y\"), \"01-%%m-%%Y\") AS month_year_formatted\n",
      "    FROM interest_metrics;\n",
      "\n",
      "\n",
      "2025-05-05 15:29:53,502 INFO sqlalchemy.engine.Engine [raw sql] {}\n",
      "2025-05-05 15:29:53,577 INFO sqlalchemy.engine.Engine ROLLBACK\n"
     ]
    },
    {
     "data": {
      "text/html": [
       "<div>\n",
       "<style scoped>\n",
       "    .dataframe tbody tr th:only-of-type {\n",
       "        vertical-align: middle;\n",
       "    }\n",
       "\n",
       "    .dataframe tbody tr th {\n",
       "        vertical-align: top;\n",
       "    }\n",
       "\n",
       "    .dataframe thead th {\n",
       "        text-align: right;\n",
       "    }\n",
       "</style>\n",
       "<table border=\"1\" class=\"dataframe\">\n",
       "  <thead>\n",
       "    <tr style=\"text-align: right;\">\n",
       "      <th></th>\n",
       "      <th>month_year_formatted</th>\n",
       "    </tr>\n",
       "  </thead>\n",
       "  <tbody>\n",
       "    <tr>\n",
       "      <th>0</th>\n",
       "      <td>01-07-2018</td>\n",
       "    </tr>\n",
       "    <tr>\n",
       "      <th>1</th>\n",
       "      <td>01-07-2018</td>\n",
       "    </tr>\n",
       "    <tr>\n",
       "      <th>2</th>\n",
       "      <td>01-07-2018</td>\n",
       "    </tr>\n",
       "    <tr>\n",
       "      <th>3</th>\n",
       "      <td>01-07-2018</td>\n",
       "    </tr>\n",
       "    <tr>\n",
       "      <th>4</th>\n",
       "      <td>01-07-2018</td>\n",
       "    </tr>\n",
       "    <tr>\n",
       "      <th>...</th>\n",
       "      <td>...</td>\n",
       "    </tr>\n",
       "    <tr>\n",
       "      <th>14268</th>\n",
       "      <td>None</td>\n",
       "    </tr>\n",
       "    <tr>\n",
       "      <th>14269</th>\n",
       "      <td>None</td>\n",
       "    </tr>\n",
       "    <tr>\n",
       "      <th>14270</th>\n",
       "      <td>None</td>\n",
       "    </tr>\n",
       "    <tr>\n",
       "      <th>14271</th>\n",
       "      <td>None</td>\n",
       "    </tr>\n",
       "    <tr>\n",
       "      <th>14272</th>\n",
       "      <td>None</td>\n",
       "    </tr>\n",
       "  </tbody>\n",
       "</table>\n",
       "<p>14273 rows × 1 columns</p>\n",
       "</div>"
      ],
      "text/plain": [
       "      month_year_formatted\n",
       "0               01-07-2018\n",
       "1               01-07-2018\n",
       "2               01-07-2018\n",
       "3               01-07-2018\n",
       "4               01-07-2018\n",
       "...                    ...\n",
       "14268                 None\n",
       "14269                 None\n",
       "14270                 None\n",
       "14271                 None\n",
       "14272                 None\n",
       "\n",
       "[14273 rows x 1 columns]"
      ]
     },
     "execution_count": 12,
     "metadata": {},
     "output_type": "execute_result"
    }
   ],
   "source": [
    "query = '''\n",
    "\n",
    "    SELECT \n",
    "        DATE_FORMAT(STR_TO_DATE(month_year, \"%%m-%%Y\"), \"01-%%m-%%Y\") AS month_year_formatted\n",
    "    FROM interest_metrics;\n",
    "\n",
    "'''\n",
    "pd.read_sql_query(query, con=engine)\n"
   ]
  },
  {
   "cell_type": "code",
   "execution_count": 13,
   "id": "4661d4bf",
   "metadata": {},
   "outputs": [
    {
     "data": {
      "text/plain": [
       "\"with engine.begin() as connection:\\n    connection.execute(text('''\\n        UPDATE caso_8.interest_metrics\\n        SET month_year = ''\\n        WHERE month_year IS NULL OR month_year = 'None';\\n    '''))\""
      ]
     },
     "execution_count": 13,
     "metadata": {},
     "output_type": "execute_result"
    }
   ],
   "source": [
    "\"\"\"with engine.begin() as connection:\n",
    "    connection.execute(text('''\n",
    "        UPDATE caso_8.interest_metrics\n",
    "        SET month_year = ''\n",
    "        WHERE month_year IS NULL OR month_year = 'None';\n",
    "    '''))\"\"\""
   ]
  },
  {
   "cell_type": "code",
   "execution_count": 16,
   "id": "28ead09c",
   "metadata": {},
   "outputs": [
    {
     "name": "stdout",
     "output_type": "stream",
     "text": [
      "2025-05-05 15:31:30,652 INFO sqlalchemy.engine.Engine BEGIN (implicit)\n",
      "2025-05-05 15:31:30,653 INFO sqlalchemy.engine.Engine \n",
      "        UPDATE caso_8.interest_metrics\n",
      "        SET month_year = DATE_FORMAT(\n",
      "    STR_TO_DATE(\n",
      "        NULLIF(NULLIF(NULLIF(month_year, 'NULL'), 'None'), ''), \n",
      "        '%%m-%%Y'\n",
      "    ),\n",
      "    '01-%%m-%%Y'\n",
      ");\n",
      "    \n",
      "2025-05-05 15:31:30,654 INFO sqlalchemy.engine.Engine [generated in 0.00095s] {}\n",
      "2025-05-05 15:31:30,985 INFO sqlalchemy.engine.Engine COMMIT\n"
     ]
    }
   ],
   "source": [
    "with engine.begin() as connection:\n",
    "\n",
    "    # Actualizar la columna para que tenga el formato correcto\n",
    "    connection.execute(text('''\n",
    "        UPDATE caso_8.interest_metrics\n",
    "        SET month_year = DATE_FORMAT(\n",
    "    STR_TO_DATE(\n",
    "        NULLIF(NULLIF(NULLIF(month_year, 'NULL'), 'None'), ''), \n",
    "        '%m-%Y'\n",
    "    ),\n",
    "    '01-%m-%Y'\n",
    ");\n",
    "    '''))\n",
    "\n"
   ]
  },
  {
   "cell_type": "code",
   "execution_count": 17,
   "id": "e7a24c80",
   "metadata": {},
   "outputs": [
    {
     "name": "stdout",
     "output_type": "stream",
     "text": [
      "2025-05-05 15:31:33,764 INFO sqlalchemy.engine.Engine BEGIN (implicit)\n",
      "2025-05-05 15:31:33,765 INFO sqlalchemy.engine.Engine \n",
      "\n",
      "    SELECT \n",
      "        month_year\n",
      "     FROM interest_metrics\n",
      "     \n",
      "\n",
      "\n",
      "2025-05-05 15:31:33,765 INFO sqlalchemy.engine.Engine [raw sql] {}\n",
      "2025-05-05 15:31:33,917 INFO sqlalchemy.engine.Engine ROLLBACK\n"
     ]
    },
    {
     "data": {
      "text/html": [
       "<div>\n",
       "<style scoped>\n",
       "    .dataframe tbody tr th:only-of-type {\n",
       "        vertical-align: middle;\n",
       "    }\n",
       "\n",
       "    .dataframe tbody tr th {\n",
       "        vertical-align: top;\n",
       "    }\n",
       "\n",
       "    .dataframe thead th {\n",
       "        text-align: right;\n",
       "    }\n",
       "</style>\n",
       "<table border=\"1\" class=\"dataframe\">\n",
       "  <thead>\n",
       "    <tr style=\"text-align: right;\">\n",
       "      <th></th>\n",
       "      <th>month_year</th>\n",
       "    </tr>\n",
       "  </thead>\n",
       "  <tbody>\n",
       "    <tr>\n",
       "      <th>0</th>\n",
       "      <td>01-07-2018</td>\n",
       "    </tr>\n",
       "    <tr>\n",
       "      <th>1</th>\n",
       "      <td>01-07-2018</td>\n",
       "    </tr>\n",
       "    <tr>\n",
       "      <th>2</th>\n",
       "      <td>01-07-2018</td>\n",
       "    </tr>\n",
       "    <tr>\n",
       "      <th>3</th>\n",
       "      <td>01-07-2018</td>\n",
       "    </tr>\n",
       "    <tr>\n",
       "      <th>4</th>\n",
       "      <td>01-07-2018</td>\n",
       "    </tr>\n",
       "    <tr>\n",
       "      <th>...</th>\n",
       "      <td>...</td>\n",
       "    </tr>\n",
       "    <tr>\n",
       "      <th>14268</th>\n",
       "      <td>None</td>\n",
       "    </tr>\n",
       "    <tr>\n",
       "      <th>14269</th>\n",
       "      <td>None</td>\n",
       "    </tr>\n",
       "    <tr>\n",
       "      <th>14270</th>\n",
       "      <td>None</td>\n",
       "    </tr>\n",
       "    <tr>\n",
       "      <th>14271</th>\n",
       "      <td>None</td>\n",
       "    </tr>\n",
       "    <tr>\n",
       "      <th>14272</th>\n",
       "      <td>None</td>\n",
       "    </tr>\n",
       "  </tbody>\n",
       "</table>\n",
       "<p>14273 rows × 1 columns</p>\n",
       "</div>"
      ],
      "text/plain": [
       "       month_year\n",
       "0      01-07-2018\n",
       "1      01-07-2018\n",
       "2      01-07-2018\n",
       "3      01-07-2018\n",
       "4      01-07-2018\n",
       "...           ...\n",
       "14268        None\n",
       "14269        None\n",
       "14270        None\n",
       "14271        None\n",
       "14272        None\n",
       "\n",
       "[14273 rows x 1 columns]"
      ]
     },
     "execution_count": 17,
     "metadata": {},
     "output_type": "execute_result"
    }
   ],
   "source": [
    "query = '''\n",
    "\n",
    "    SELECT \n",
    "        month_year\n",
    "     FROM interest_metrics\n",
    "     \n",
    "\n",
    "'''\n",
    "pd.read_sql_query(query, con=engine)"
   ]
  },
  {
   "cell_type": "code",
   "execution_count": null,
   "id": "3181ca0d",
   "metadata": {},
   "outputs": [],
   "source": []
  }
 ],
 "metadata": {
  "kernelspec": {
   "display_name": "Python 3",
   "language": "python",
   "name": "python3"
  },
  "language_info": {
   "codemirror_mode": {
    "name": "ipython",
    "version": 3
   },
   "file_extension": ".py",
   "mimetype": "text/x-python",
   "name": "python",
   "nbconvert_exporter": "python",
   "pygments_lexer": "ipython3",
   "version": "3.10.4"
  }
 },
 "nbformat": 4,
 "nbformat_minor": 5
}

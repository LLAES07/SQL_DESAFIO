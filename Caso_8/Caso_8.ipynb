{
 "cells": [
  {
   "cell_type": "markdown",
   "id": "797ac2ae",
   "metadata": {},
   "source": [
    "# **IMPORTANDO LIBRERIAS**"
   ]
  },
  {
   "cell_type": "code",
   "execution_count": 6,
   "id": "1834a074",
   "metadata": {},
   "outputs": [],
   "source": [
    "import sys\n",
    "import os\n",
    "import pandas as pd\n",
    "from sqlalchemy import create_engine, text\n",
    "from dotenv import load_dotenv\n",
    "import os\n",
    "from sqlalchemy.orm import declarative_base, relationship\n",
    "from sqlalchemy import create_engine, Column, Integer, String, VARCHAR,Boolean, TIMESTAMP,Float\n",
    "from sqlalchemy.types import DateTime\n",
    "from sqlalchemy.orm import sessionmaker\n",
    "\n",
    "\n",
    "sys.path.append(os.path.abspath(os.path.join('..')))"
   ]
  },
  {
   "cell_type": "code",
   "execution_count": 7,
   "id": "eb933783",
   "metadata": {},
   "outputs": [],
   "source": [
    "load_dotenv()  # Carga las variables del archivo .env\n",
    "\n",
    "config = {\n",
    "    'host': os.getenv('HOST'),\n",
    "    'user': os.getenv('USER'),\n",
    "    'password': os.getenv('PASSWORD'),\n",
    "    'database': os.getenv('DATABASE'),\n",
    "    'port': os.getenv('PORT')\n",
    "}"
   ]
  },
  {
   "cell_type": "code",
   "execution_count": 8,
   "id": "d9565744",
   "metadata": {},
   "outputs": [],
   "source": [
    "# Crear la URL de conexión para SQLAlchemy\n",
    "db_url = f\"mysql+pymysql://{config['user']}:{config['password']}@{config['host']}:{config['port']}/caso_8\"\n",
    "\n",
    "# Crear el motor de SQLAlchemy\n",
    "engine = create_engine(db_url, echo=True)\n",
    "\n"
   ]
  },
  {
   "cell_type": "code",
   "execution_count": 9,
   "id": "a2297827",
   "metadata": {},
   "outputs": [],
   "source": [
    "Base = declarative_base()\n"
   ]
  },
  {
   "cell_type": "markdown",
   "id": "033bec09",
   "metadata": {},
   "source": [
    "# **1. GENERACIÓN DE TABLAS**"
   ]
  },
  {
   "cell_type": "code",
   "execution_count": 11,
   "id": "10c5d61e",
   "metadata": {},
   "outputs": [
    {
     "name": "stderr",
     "output_type": "stream",
     "text": [
      "C:\\Users\\kev_g\\AppData\\Local\\Temp\\ipykernel_20076\\3104473594.py:1: SAWarning: This declarative base already contains a class with the same class name and module name as __main__.InterestMap, and will be replaced in the string-lookup table.\n",
      "  class InterestMap(Base):\n",
      "C:\\Users\\kev_g\\AppData\\Local\\Temp\\ipykernel_20076\\3104473594.py:1: SAWarning: Ignoring declarative-like tuple value of attribute 'interest_name': possibly a copy-and-paste error with a comma accidentally placed at the end of the line?\n",
      "  class InterestMap(Base):\n",
      "C:\\Users\\kev_g\\AppData\\Local\\Temp\\ipykernel_20076\\3104473594.py:1: SAWarning: Ignoring declarative-like tuple value of attribute 'interest_summary': possibly a copy-and-paste error with a comma accidentally placed at the end of the line?\n",
      "  class InterestMap(Base):\n",
      "C:\\Users\\kev_g\\AppData\\Local\\Temp\\ipykernel_20076\\3104473594.py:1: SAWarning: Ignoring declarative-like tuple value of attribute 'created_at': possibly a copy-and-paste error with a comma accidentally placed at the end of the line?\n",
      "  class InterestMap(Base):\n",
      "C:\\Users\\kev_g\\AppData\\Local\\Temp\\ipykernel_20076\\3104473594.py:12: SAWarning: This declarative base already contains a class with the same class name and module name as __main__.InterestMetrics, and will be replaced in the string-lookup table.\n",
      "  class InterestMetrics(Base):\n"
     ]
    }
   ],
   "source": [
    "class InterestMap(Base):\n",
    "\n",
    "    __tablename__ = 'interest_map'\n",
    "    __table_args__= {'extend_existing':True}\n",
    "\n",
    "    id = Column(Integer, primary_key=True)\n",
    "    interest_name = Column(VARCHAR(255)),\n",
    "    interest_summary = Column(VARCHAR(255)),\n",
    "    created_at = Column(TIMESTAMP),\n",
    "    last_modified = Column(TIMESTAMP)\n",
    "\n",
    "class InterestMetrics(Base):\n",
    "    __tablename__ = 'interest_metrics'\n",
    "    __table_args__ = {'extend_existing': True}\n",
    "\n",
    "    id = Column(Integer, primary_key=True)\n",
    "    _month = Column(VARCHAR(4))\n",
    "    _year = Column(VARCHAR(4))\n",
    "    month_year = Column(VARCHAR(7))\n",
    "    interest_id = Column(VARCHAR(5))\n",
    "    composition = Column(Float)\n",
    "    index_value = Column(Float)\n",
    "    ranking = Column(Integer)\n",
    "    percentile_ranking = Column(Float)"
   ]
  },
  {
   "cell_type": "markdown",
   "id": "287fd618",
   "metadata": {},
   "source": [
    "## **1.1 CARGANDO LOS DATOS**"
   ]
  },
  {
   "cell_type": "code",
   "execution_count": 13,
   "id": "b982181e",
   "metadata": {},
   "outputs": [],
   "source": [
    "from utils import funciones_utiles\n",
    "\n",
    "interest_map_data = funciones_utiles.load_text_as_tuples('data/interest_map_data.txt')\n",
    "interest_metrics_data = funciones_utiles.load_text_as_tuples('data/interest_metrics_data.txt')"
   ]
  },
  {
   "cell_type": "code",
   "execution_count": 15,
   "id": "fac97a47",
   "metadata": {},
   "outputs": [],
   "source": [
    "# Creando la session\n",
    "Session = sessionmaker(bind=engine)\n",
    "session = Session()"
   ]
  }
 ],
 "metadata": {
  "kernelspec": {
   "display_name": "Python 3",
   "language": "python",
   "name": "python3"
  },
  "language_info": {
   "codemirror_mode": {
    "name": "ipython",
    "version": 3
   },
   "file_extension": ".py",
   "mimetype": "text/x-python",
   "name": "python",
   "nbconvert_exporter": "python",
   "pygments_lexer": "ipython3",
   "version": "3.10.4"
  }
 },
 "nbformat": 4,
 "nbformat_minor": 5
}

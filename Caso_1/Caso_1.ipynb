{
  "cells": [
    {
      "cell_type": "markdown",
      "metadata": {
        "colab_type": "text",
        "id": "view-in-github"
      },
      "source": [
        "<a href=\"https://colab.research.google.com/github/LLAES07/SQL_DESAFIO/blob/main/Caso_1.ipynb\" target=\"_parent\"><img src=\"https://colab.research.google.com/assets/colab-badge.svg\" alt=\"Open In Colab\"/></a>"
      ]
    },
    {
      "cell_type": "markdown",
      "metadata": {
        "id": "Pp6nWIVxIN_3"
      },
      "source": [
        "\n",
        "<b><center><h1>DESAFIO N°1 - 8 SEMANAS DE SQL</h1></center></b>\n",
        "\n"
      ]
    },
    {
      "cell_type": "markdown",
      "metadata": {
        "id": "yvb-0QHrFRBX"
      },
      "source": [
        "# **IMPORTAR LIBRERIAS NECESARIAS**"
      ]
    },
    {
      "cell_type": "code",
      "execution_count": 1,
      "metadata": {
        "id": "6HsaDK3i7wNs"
      },
      "outputs": [],
      "source": [
        "import sqlite3\n",
        "import pandas as pd\n",
        "import numpy as np"
      ]
    },
    {
      "cell_type": "markdown",
      "metadata": {
        "id": "MYIHR-S5E57S"
      },
      "source": [
        "# **GENERACIÓN BASE DE DATOS**"
      ]
    },
    {
      "cell_type": "code",
      "execution_count": 2,
      "metadata": {
        "id": "LJZmGepP78VQ"
      },
      "outputs": [],
      "source": [
        "# Generando una conexción a una nueva base de datos\n",
        "\n",
        "connection = sqlite3.connect('db/test.db')\n",
        "\n",
        "# Generando el objeto cursos para poder interactuar con la base de datos\n",
        "\n",
        "cursor = connection.cursor()"
      ]
    },
    {
      "cell_type": "markdown",
      "metadata": {
        "id": "6dA_T9O7FLKo"
      },
      "source": [
        "# **GENERACIÓN DE LAS TABLAS**"
      ]
    },
    {
      "cell_type": "markdown",
      "metadata": {
        "id": "dUbS6YOeFaTN"
      },
      "source": [
        "## **TABLA SALES**"
      ]
    },
    {
      "cell_type": "code",
      "execution_count": 3,
      "metadata": {
        "id": "1w1ad9YV8GXz"
      },
      "outputs": [],
      "source": [
        "\n",
        "# Generando la tabla sales\n",
        "cursor.execute(\"\"\"\n",
        "  CREATE TABLE sales (\n",
        "  \"customer_id\" VARCHAR(1),\n",
        "  \"order_date\" DATE,\n",
        "  \"product_id\" INTEGER\n",
        ")\n",
        "\n",
        "\"\"\")\n",
        "\n",
        "# Generando el commit para actualizar\n",
        "connection.commit()"
      ]
    },
    {
      "cell_type": "code",
      "execution_count": 4,
      "metadata": {
        "colab": {
          "base_uri": "https://localhost:8080/",
          "height": 53
        },
        "id": "t0goMEKn9b5v",
        "outputId": "5e93945a-f9b2-410d-d6f8-7afe32024300"
      },
      "outputs": [
        {
          "data": {
            "text/html": [
              "<div>\n",
              "<style scoped>\n",
              "    .dataframe tbody tr th:only-of-type {\n",
              "        vertical-align: middle;\n",
              "    }\n",
              "\n",
              "    .dataframe tbody tr th {\n",
              "        vertical-align: top;\n",
              "    }\n",
              "\n",
              "    .dataframe thead th {\n",
              "        text-align: right;\n",
              "    }\n",
              "</style>\n",
              "<table border=\"1\" class=\"dataframe\">\n",
              "  <thead>\n",
              "    <tr style=\"text-align: right;\">\n",
              "      <th></th>\n",
              "      <th>customer_id</th>\n",
              "      <th>order_date</th>\n",
              "      <th>product_id</th>\n",
              "    </tr>\n",
              "  </thead>\n",
              "  <tbody>\n",
              "  </tbody>\n",
              "</table>\n",
              "</div>"
            ],
            "text/plain": [
              "Empty DataFrame\n",
              "Columns: [customer_id, order_date, product_id]\n",
              "Index: []"
            ]
          },
          "execution_count": 4,
          "metadata": {},
          "output_type": "execute_result"
        }
      ],
      "source": [
        "# Comprobando la existencia de la tabla\n",
        "pd.read_sql_query(\"SELECT * FROM sales\", connection)"
      ]
    },
    {
      "cell_type": "code",
      "execution_count": 5,
      "metadata": {
        "id": "AfmVAp6x9iOz"
      },
      "outputs": [],
      "source": [
        "# Generando una lista con los valores para poblar la tabla\n",
        "fill_list_sales = [\n",
        "  ('A', '2021-01-01', '1'),\n",
        "  ('A', '2021-01-01', '2'),\n",
        "  ('A', '2021-01-07', '2'),\n",
        "  ('A', '2021-01-10', '3'),\n",
        "  ('A', '2021-01-11', '3'),\n",
        "  ('A', '2021-01-11', '3'),\n",
        "  ('B', '2021-01-01', '2'),\n",
        "  ('B', '2021-01-02', '2'),\n",
        "  ('B', '2021-01-04', '1'),\n",
        "  ('B', '2021-01-11', '1'),\n",
        "  ('B', '2021-01-16', '3'),\n",
        "  ('B', '2021-02-01', '3'),\n",
        "  ('C', '2021-01-01', '3'),\n",
        "  ('C', '2021-01-01', '3'),\n",
        "  ('C', '2021-01-07', '3')\n",
        "]\n",
        "\n",
        "# Utilizando executemany para poder ejecutar de manera rápida y eficiente el poblado de la tabla\n",
        "cursor.executemany(\n",
        "    \"\"\"INSERT INTO sales (customer_id, order_date, product_id) VALUES (?, ?, ?)\"\"\", fill_list_sales)\n",
        "\n",
        "# Actualizando los datos\n",
        "connection.commit()"
      ]
    },
    {
      "cell_type": "markdown",
      "metadata": {
        "id": "HyFu8WRbFkZV"
      },
      "source": [
        "## **TABLA MENU**"
      ]
    },
    {
      "cell_type": "code",
      "execution_count": 6,
      "metadata": {
        "id": "_5rBrtOO-KhT"
      },
      "outputs": [],
      "source": [
        "# Generación Tabla Menu\n",
        "cursor.execute(\"\"\"\n",
        "                    CREATE TABLE IF NOT EXISTS menu(\n",
        "                    product_id INTEGER, product_name VARCHAR(5), price INTEGER)\"\"\")\n",
        "\n",
        "connection.commit()\n",
        "\n",
        "\n",
        "# Generando una lista con los valores para poblar la tabla\n",
        "fill_list_menu = [\n",
        "    ('1', 'sushi', '10'),\n",
        "    ('2', 'curry', '15'),\n",
        "    ('3', 'ramen', '12')\n",
        "]\n",
        "\n",
        "# Utilizando executemany para poder ejecutar de manera rápida y eficiente el poblado de la tabla\n",
        "cursor.executemany(\n",
        "    \"INSERT INTO menu (product_id, product_name, price) VALUES (?, ?, ?)\", fill_list_menu)\n",
        "\n",
        "# Actualizando los datos\n",
        "connection.commit()\n",
        "\n",
        "\n"
      ]
    },
    {
      "cell_type": "markdown",
      "metadata": {
        "id": "m_aIYW3KFm64"
      },
      "source": [
        "## **TABLA MEMBERS**"
      ]
    },
    {
      "cell_type": "code",
      "execution_count": 7,
      "metadata": {
        "id": "tMNq7q2q-l3e"
      },
      "outputs": [],
      "source": [
        "# Creando tabla members\n",
        "\n",
        "cursor.execute(\"\"\"\n",
        "  CREATE TABLE IF NOT EXISTS members (\n",
        "  \"customer_id\" VARCHAR(1),\n",
        "  \"join_date\" DATE\n",
        ")\n",
        "\"\"\")\n",
        "\n",
        "\n",
        "# Generando la actualización\n",
        "connection.commit()\n",
        "\n",
        "\n",
        "# Generando una lista con los valores para poblar la tabla\n",
        "fill_list_members = [\n",
        "  ('A', '2021-01-07'),\n",
        "  ('B', '2021-01-09')\n",
        "]\n",
        "\n",
        "\n",
        "# Utilizando executemany para poder ejecutar de manera rápida y eficiente el poblado de la tabla\n",
        "cursor.executemany(\n",
        "    \"\"\"\n",
        "    INSERT INTO members (customer_id, join_date) VALUES (?, ?)\n",
        "    \"\"\", fill_list_members\n",
        ")\n",
        "\n",
        "# Actualizando los datos\n",
        "connection.commit()"
      ]
    },
    {
      "cell_type": "markdown",
      "metadata": {
        "id": "T_3IRkO__m8x"
      },
      "source": [
        "# **Revisando las tablas**"
      ]
    },
    {
      "cell_type": "code",
      "execution_count": 8,
      "metadata": {
        "colab": {
          "base_uri": "https://localhost:8080/",
          "height": 519
        },
        "id": "GoHB3Gxj_jNY",
        "outputId": "e2c0b72b-12c4-4bb7-a6a6-e369ec74e04a"
      },
      "outputs": [
        {
          "data": {
            "text/html": [
              "<div>\n",
              "<style scoped>\n",
              "    .dataframe tbody tr th:only-of-type {\n",
              "        vertical-align: middle;\n",
              "    }\n",
              "\n",
              "    .dataframe tbody tr th {\n",
              "        vertical-align: top;\n",
              "    }\n",
              "\n",
              "    .dataframe thead th {\n",
              "        text-align: right;\n",
              "    }\n",
              "</style>\n",
              "<table border=\"1\" class=\"dataframe\">\n",
              "  <thead>\n",
              "    <tr style=\"text-align: right;\">\n",
              "      <th></th>\n",
              "      <th>customer_id</th>\n",
              "      <th>order_date</th>\n",
              "      <th>product_id</th>\n",
              "    </tr>\n",
              "  </thead>\n",
              "  <tbody>\n",
              "    <tr>\n",
              "      <th>0</th>\n",
              "      <td>A</td>\n",
              "      <td>2021-01-01</td>\n",
              "      <td>1</td>\n",
              "    </tr>\n",
              "    <tr>\n",
              "      <th>1</th>\n",
              "      <td>A</td>\n",
              "      <td>2021-01-01</td>\n",
              "      <td>2</td>\n",
              "    </tr>\n",
              "    <tr>\n",
              "      <th>2</th>\n",
              "      <td>A</td>\n",
              "      <td>2021-01-07</td>\n",
              "      <td>2</td>\n",
              "    </tr>\n",
              "    <tr>\n",
              "      <th>3</th>\n",
              "      <td>A</td>\n",
              "      <td>2021-01-10</td>\n",
              "      <td>3</td>\n",
              "    </tr>\n",
              "    <tr>\n",
              "      <th>4</th>\n",
              "      <td>A</td>\n",
              "      <td>2021-01-11</td>\n",
              "      <td>3</td>\n",
              "    </tr>\n",
              "    <tr>\n",
              "      <th>5</th>\n",
              "      <td>A</td>\n",
              "      <td>2021-01-11</td>\n",
              "      <td>3</td>\n",
              "    </tr>\n",
              "    <tr>\n",
              "      <th>6</th>\n",
              "      <td>B</td>\n",
              "      <td>2021-01-01</td>\n",
              "      <td>2</td>\n",
              "    </tr>\n",
              "    <tr>\n",
              "      <th>7</th>\n",
              "      <td>B</td>\n",
              "      <td>2021-01-02</td>\n",
              "      <td>2</td>\n",
              "    </tr>\n",
              "    <tr>\n",
              "      <th>8</th>\n",
              "      <td>B</td>\n",
              "      <td>2021-01-04</td>\n",
              "      <td>1</td>\n",
              "    </tr>\n",
              "    <tr>\n",
              "      <th>9</th>\n",
              "      <td>B</td>\n",
              "      <td>2021-01-11</td>\n",
              "      <td>1</td>\n",
              "    </tr>\n",
              "    <tr>\n",
              "      <th>10</th>\n",
              "      <td>B</td>\n",
              "      <td>2021-01-16</td>\n",
              "      <td>3</td>\n",
              "    </tr>\n",
              "    <tr>\n",
              "      <th>11</th>\n",
              "      <td>B</td>\n",
              "      <td>2021-02-01</td>\n",
              "      <td>3</td>\n",
              "    </tr>\n",
              "    <tr>\n",
              "      <th>12</th>\n",
              "      <td>C</td>\n",
              "      <td>2021-01-01</td>\n",
              "      <td>3</td>\n",
              "    </tr>\n",
              "    <tr>\n",
              "      <th>13</th>\n",
              "      <td>C</td>\n",
              "      <td>2021-01-01</td>\n",
              "      <td>3</td>\n",
              "    </tr>\n",
              "    <tr>\n",
              "      <th>14</th>\n",
              "      <td>C</td>\n",
              "      <td>2021-01-07</td>\n",
              "      <td>3</td>\n",
              "    </tr>\n",
              "  </tbody>\n",
              "</table>\n",
              "</div>"
            ],
            "text/plain": [
              "   customer_id  order_date  product_id\n",
              "0            A  2021-01-01           1\n",
              "1            A  2021-01-01           2\n",
              "2            A  2021-01-07           2\n",
              "3            A  2021-01-10           3\n",
              "4            A  2021-01-11           3\n",
              "5            A  2021-01-11           3\n",
              "6            B  2021-01-01           2\n",
              "7            B  2021-01-02           2\n",
              "8            B  2021-01-04           1\n",
              "9            B  2021-01-11           1\n",
              "10           B  2021-01-16           3\n",
              "11           B  2021-02-01           3\n",
              "12           C  2021-01-01           3\n",
              "13           C  2021-01-01           3\n",
              "14           C  2021-01-07           3"
            ]
          },
          "execution_count": 8,
          "metadata": {},
          "output_type": "execute_result"
        }
      ],
      "source": [
        "pd.read_sql_query(\"SELECT * FROM sales\", connection)"
      ]
    },
    {
      "cell_type": "code",
      "execution_count": 9,
      "metadata": {
        "colab": {
          "base_uri": "https://localhost:8080/",
          "height": 143
        },
        "id": "YSgusFy-_1Tc",
        "outputId": "57114406-4c86-4516-91cc-a59269132f78"
      },
      "outputs": [
        {
          "data": {
            "text/html": [
              "<div>\n",
              "<style scoped>\n",
              "    .dataframe tbody tr th:only-of-type {\n",
              "        vertical-align: middle;\n",
              "    }\n",
              "\n",
              "    .dataframe tbody tr th {\n",
              "        vertical-align: top;\n",
              "    }\n",
              "\n",
              "    .dataframe thead th {\n",
              "        text-align: right;\n",
              "    }\n",
              "</style>\n",
              "<table border=\"1\" class=\"dataframe\">\n",
              "  <thead>\n",
              "    <tr style=\"text-align: right;\">\n",
              "      <th></th>\n",
              "      <th>product_id</th>\n",
              "      <th>product_name</th>\n",
              "      <th>price</th>\n",
              "    </tr>\n",
              "  </thead>\n",
              "  <tbody>\n",
              "    <tr>\n",
              "      <th>0</th>\n",
              "      <td>1</td>\n",
              "      <td>sushi</td>\n",
              "      <td>10</td>\n",
              "    </tr>\n",
              "    <tr>\n",
              "      <th>1</th>\n",
              "      <td>2</td>\n",
              "      <td>curry</td>\n",
              "      <td>15</td>\n",
              "    </tr>\n",
              "    <tr>\n",
              "      <th>2</th>\n",
              "      <td>3</td>\n",
              "      <td>ramen</td>\n",
              "      <td>12</td>\n",
              "    </tr>\n",
              "  </tbody>\n",
              "</table>\n",
              "</div>"
            ],
            "text/plain": [
              "   product_id product_name  price\n",
              "0           1        sushi     10\n",
              "1           2        curry     15\n",
              "2           3        ramen     12"
            ]
          },
          "execution_count": 9,
          "metadata": {},
          "output_type": "execute_result"
        }
      ],
      "source": [
        "pd.read_sql_query(\"SELECT * FROM menu\", connection)"
      ]
    },
    {
      "cell_type": "code",
      "execution_count": 10,
      "metadata": {
        "colab": {
          "base_uri": "https://localhost:8080/",
          "height": 112
        },
        "id": "l6fm7wyC_4Ya",
        "outputId": "0ed643b7-f524-4272-fc19-7c3ade49c6c9"
      },
      "outputs": [
        {
          "data": {
            "text/html": [
              "<div>\n",
              "<style scoped>\n",
              "    .dataframe tbody tr th:only-of-type {\n",
              "        vertical-align: middle;\n",
              "    }\n",
              "\n",
              "    .dataframe tbody tr th {\n",
              "        vertical-align: top;\n",
              "    }\n",
              "\n",
              "    .dataframe thead th {\n",
              "        text-align: right;\n",
              "    }\n",
              "</style>\n",
              "<table border=\"1\" class=\"dataframe\">\n",
              "  <thead>\n",
              "    <tr style=\"text-align: right;\">\n",
              "      <th></th>\n",
              "      <th>customer_id</th>\n",
              "      <th>join_date</th>\n",
              "    </tr>\n",
              "  </thead>\n",
              "  <tbody>\n",
              "    <tr>\n",
              "      <th>0</th>\n",
              "      <td>A</td>\n",
              "      <td>2021-01-07</td>\n",
              "    </tr>\n",
              "    <tr>\n",
              "      <th>1</th>\n",
              "      <td>B</td>\n",
              "      <td>2021-01-09</td>\n",
              "    </tr>\n",
              "  </tbody>\n",
              "</table>\n",
              "</div>"
            ],
            "text/plain": [
              "  customer_id   join_date\n",
              "0           A  2021-01-07\n",
              "1           B  2021-01-09"
            ]
          },
          "execution_count": 10,
          "metadata": {},
          "output_type": "execute_result"
        }
      ],
      "source": [
        "pd.read_sql_query(\"SELECT * FROM members\", connection)"
      ]
    },
    {
      "cell_type": "markdown",
      "metadata": {},
      "source": [
        "# **Generando los dataframes**"
      ]
    },
    {
      "cell_type": "code",
      "execution_count": 11,
      "metadata": {},
      "outputs": [],
      "source": [
        "df_sales, df_menu, df_members = pd.read_sql_query(\"SELECT * FROM sales\", connection), pd.read_sql_query(\"SELECT * FROM menu\", connection), pd.read_sql_query(\"SELECT * FROM members\", connection)"
      ]
    },
    {
      "cell_type": "markdown",
      "metadata": {
        "id": "KZducobs_8x-"
      },
      "source": [
        "## Entendiendo las relaciones de las tablas\n",
        "\n",
        "**Sales** se relaciona con **menu** con `product_id` que corresponde al id de cada producto. Por lo que su relación es de **n:1**.\n",
        "\n",
        "\n",
        "Además **Sales** tambien se relaciona con la tabla **members** por la clave foreana `customer id` en donde la relación es **n:1.**"
      ]
    },
    {
      "cell_type": "markdown",
      "metadata": {
        "id": "pwanag8pBCW3"
      },
      "source": [
        "\n",
        "\n",
        "---\n",
        "\n"
      ]
    },
    {
      "cell_type": "markdown",
      "metadata": {
        "id": "fud2PzYeA-jD"
      },
      "source": [
        "<b><h1><center>PREGUNTAS</center></h1></b>"
      ]
    },
    {
      "cell_type": "markdown",
      "metadata": {
        "id": "n0JDzz11BM42"
      },
      "source": [
        "# **1. Cual es la cantidad total de dinero que cada cliente ha gastado en el restaurant?**\n"
      ]
    },
    {
      "cell_type": "markdown",
      "metadata": {
        "id": "wc9c1e7VBS3f"
      },
      "source": [
        "-- Cantidad total de cada usario gastado en el restaurant\n",
        "\n",
        "-- customer_id, total_spend"
      ]
    },
    {
      "cell_type": "markdown",
      "metadata": {},
      "source": [
        "## 📝**Solución SQL**"
      ]
    },
    {
      "cell_type": "code",
      "execution_count": 12,
      "metadata": {
        "colab": {
          "base_uri": "https://localhost:8080/",
          "height": 143
        },
        "id": "-gzwODwZA81j",
        "outputId": "87d5a60a-ace0-4bee-91ce-7fd61aed0c01"
      },
      "outputs": [
        {
          "data": {
            "text/html": [
              "<div>\n",
              "<style scoped>\n",
              "    .dataframe tbody tr th:only-of-type {\n",
              "        vertical-align: middle;\n",
              "    }\n",
              "\n",
              "    .dataframe tbody tr th {\n",
              "        vertical-align: top;\n",
              "    }\n",
              "\n",
              "    .dataframe thead th {\n",
              "        text-align: right;\n",
              "    }\n",
              "</style>\n",
              "<table border=\"1\" class=\"dataframe\">\n",
              "  <thead>\n",
              "    <tr style=\"text-align: right;\">\n",
              "      <th></th>\n",
              "      <th>customer_id</th>\n",
              "      <th>total_gastado</th>\n",
              "    </tr>\n",
              "  </thead>\n",
              "  <tbody>\n",
              "    <tr>\n",
              "      <th>0</th>\n",
              "      <td>A</td>\n",
              "      <td>76</td>\n",
              "    </tr>\n",
              "    <tr>\n",
              "      <th>1</th>\n",
              "      <td>B</td>\n",
              "      <td>74</td>\n",
              "    </tr>\n",
              "    <tr>\n",
              "      <th>2</th>\n",
              "      <td>C</td>\n",
              "      <td>36</td>\n",
              "    </tr>\n",
              "  </tbody>\n",
              "</table>\n",
              "</div>"
            ],
            "text/plain": [
              "  customer_id  total_gastado\n",
              "0           A             76\n",
              "1           B             74\n",
              "2           C             36"
            ]
          },
          "execution_count": 12,
          "metadata": {},
          "output_type": "execute_result"
        }
      ],
      "source": [
        "query =\"\"\"\n",
        "      SELECT\n",
        "        s.customer_id,\n",
        "        SUM(m.price) AS total_gastado\n",
        "       FROM\n",
        "            sales s\n",
        "      LEFT JOIN menu m\n",
        "        ON s.product_id = m.product_id\n",
        "      GROUP BY s.customer_id\n",
        "\"\"\"\n",
        "\n",
        "pd.read_sql_query(query, connection)\n"
      ]
    },
    {
      "cell_type": "markdown",
      "metadata": {},
      "source": [
        "## 🐼 **Solución Pandas**"
      ]
    },
    {
      "cell_type": "code",
      "execution_count": 13,
      "metadata": {},
      "outputs": [
        {
          "data": {
            "text/html": [
              "<div>\n",
              "<style scoped>\n",
              "    .dataframe tbody tr th:only-of-type {\n",
              "        vertical-align: middle;\n",
              "    }\n",
              "\n",
              "    .dataframe tbody tr th {\n",
              "        vertical-align: top;\n",
              "    }\n",
              "\n",
              "    .dataframe thead th {\n",
              "        text-align: right;\n",
              "    }\n",
              "</style>\n",
              "<table border=\"1\" class=\"dataframe\">\n",
              "  <thead>\n",
              "    <tr style=\"text-align: right;\">\n",
              "      <th></th>\n",
              "      <th>customer_id</th>\n",
              "      <th>total_gastado</th>\n",
              "    </tr>\n",
              "  </thead>\n",
              "  <tbody>\n",
              "    <tr>\n",
              "      <th>0</th>\n",
              "      <td>A</td>\n",
              "      <td>76</td>\n",
              "    </tr>\n",
              "    <tr>\n",
              "      <th>1</th>\n",
              "      <td>B</td>\n",
              "      <td>74</td>\n",
              "    </tr>\n",
              "    <tr>\n",
              "      <th>2</th>\n",
              "      <td>C</td>\n",
              "      <td>36</td>\n",
              "    </tr>\n",
              "  </tbody>\n",
              "</table>\n",
              "</div>"
            ],
            "text/plain": [
              "  customer_id  total_gastado\n",
              "0           A             76\n",
              "1           B             74\n",
              "2           C             36"
            ]
          },
          "execution_count": 13,
          "metadata": {},
          "output_type": "execute_result"
        }
      ],
      "source": [
        "df_merge = pd.merge(df_sales, df_menu, on='product_id', how='left')\n",
        "\n",
        "df_merge.groupby('customer_id', as_index=False).agg(total_gastado = ('price', 'sum'))"
      ]
    },
    {
      "cell_type": "markdown",
      "metadata": {
        "id": "QNjN2vW0B7qM"
      },
      "source": [
        "**Explicación**: Necesitamos obtener la cantidad gastada por cada usuario. En nuestra tabla sales tenemos todas las compras realizadas y ademas el id de cada producto.\n",
        "\n",
        "  Tenemos:\n",
        "\n",
        "    - El registro de cada compra\n",
        "  \n",
        "  Nos falta:\n",
        "\n",
        "    - El precio de cada objeto comprado\n",
        "\n",
        "\n",
        "Para poder obtener los precios de cada compra necesitamos hacer un join entre **sales** y **menu** que es donde se encuentran los valores de cada producto comprado en la tabla sales"
      ]
    },
    {
      "cell_type": "markdown",
      "metadata": {
        "id": "xmtckBXjDywT"
      },
      "source": [
        "# **2. Cuantos días cada cliente ha visitado el restaurant?**\n"
      ]
    },
    {
      "cell_type": "markdown",
      "metadata": {
        "id": "gMQ1zDaIEAQG"
      },
      "source": [
        "-- Identificar que tabla tiene el dato de visita al restaurant\n",
        "\n",
        "-- Contar la cantidad de dias segun cada usuario"
      ]
    },
    {
      "cell_type": "markdown",
      "metadata": {},
      "source": [
        "## 📝**Solución SQL**"
      ]
    },
    {
      "cell_type": "code",
      "execution_count": 14,
      "metadata": {
        "colab": {
          "base_uri": "https://localhost:8080/",
          "height": 143
        },
        "id": "X2TBx8pdD7Sw",
        "outputId": "d6fe5bd7-5d38-4660-ada6-f7fc42f8d218"
      },
      "outputs": [
        {
          "data": {
            "text/html": [
              "<div>\n",
              "<style scoped>\n",
              "    .dataframe tbody tr th:only-of-type {\n",
              "        vertical-align: middle;\n",
              "    }\n",
              "\n",
              "    .dataframe tbody tr th {\n",
              "        vertical-align: top;\n",
              "    }\n",
              "\n",
              "    .dataframe thead th {\n",
              "        text-align: right;\n",
              "    }\n",
              "</style>\n",
              "<table border=\"1\" class=\"dataframe\">\n",
              "  <thead>\n",
              "    <tr style=\"text-align: right;\">\n",
              "      <th></th>\n",
              "      <th>customer_id</th>\n",
              "      <th>days_visited</th>\n",
              "    </tr>\n",
              "  </thead>\n",
              "  <tbody>\n",
              "    <tr>\n",
              "      <th>0</th>\n",
              "      <td>A</td>\n",
              "      <td>4</td>\n",
              "    </tr>\n",
              "    <tr>\n",
              "      <th>1</th>\n",
              "      <td>B</td>\n",
              "      <td>6</td>\n",
              "    </tr>\n",
              "    <tr>\n",
              "      <th>2</th>\n",
              "      <td>C</td>\n",
              "      <td>2</td>\n",
              "    </tr>\n",
              "  </tbody>\n",
              "</table>\n",
              "</div>"
            ],
            "text/plain": [
              "  customer_id  days_visited\n",
              "0           A             4\n",
              "1           B             6\n",
              "2           C             2"
            ]
          },
          "execution_count": 14,
          "metadata": {},
          "output_type": "execute_result"
        }
      ],
      "source": [
        "\n",
        "query = \"\"\"\n",
        "\n",
        "  SELECT\n",
        "    customer_id,\n",
        "    COUNT(DISTINCT order_date) AS days_visited\n",
        "  FROM\n",
        "    Sales\n",
        "  GROUP BY\n",
        "    customer_id\n",
        "\n",
        "\n",
        "\"\"\"\n",
        "pd.read_sql_query(query, connection)"
      ]
    },
    {
      "cell_type": "markdown",
      "metadata": {},
      "source": [
        "## 🐼 **Solución Pandas**"
      ]
    },
    {
      "cell_type": "code",
      "execution_count": 15,
      "metadata": {},
      "outputs": [
        {
          "data": {
            "text/html": [
              "<div>\n",
              "<style scoped>\n",
              "    .dataframe tbody tr th:only-of-type {\n",
              "        vertical-align: middle;\n",
              "    }\n",
              "\n",
              "    .dataframe tbody tr th {\n",
              "        vertical-align: top;\n",
              "    }\n",
              "\n",
              "    .dataframe thead th {\n",
              "        text-align: right;\n",
              "    }\n",
              "</style>\n",
              "<table border=\"1\" class=\"dataframe\">\n",
              "  <thead>\n",
              "    <tr style=\"text-align: right;\">\n",
              "      <th></th>\n",
              "      <th>customer_id</th>\n",
              "      <th>order_date</th>\n",
              "    </tr>\n",
              "  </thead>\n",
              "  <tbody>\n",
              "    <tr>\n",
              "      <th>0</th>\n",
              "      <td>A</td>\n",
              "      <td>4</td>\n",
              "    </tr>\n",
              "    <tr>\n",
              "      <th>1</th>\n",
              "      <td>B</td>\n",
              "      <td>6</td>\n",
              "    </tr>\n",
              "    <tr>\n",
              "      <th>2</th>\n",
              "      <td>C</td>\n",
              "      <td>2</td>\n",
              "    </tr>\n",
              "  </tbody>\n",
              "</table>\n",
              "</div>"
            ],
            "text/plain": [
              "  customer_id  order_date\n",
              "0           A           4\n",
              "1           B           6\n",
              "2           C           2"
            ]
          },
          "execution_count": 15,
          "metadata": {},
          "output_type": "execute_result"
        }
      ],
      "source": [
        "# Agrupar por customer_id y contar los unicos por las fechas\n",
        "df_sales.groupby(['customer_id'], as_index=False)['order_date'].nunique()"
      ]
    },
    {
      "cell_type": "markdown",
      "metadata": {
        "id": "SXFQdXdyEnFu"
      },
      "source": [
        "**Explicación**: Una vez identificado que la tabla **sales** tiene la información de cada compra del usuario además de la **fecha en la cual realizó la compra** el problema se simplifica.\n",
        "Agrupar por usuario y **contar cada fecha unica como 1 día** que ha sido visitado"
      ]
    },
    {
      "cell_type": "markdown",
      "metadata": {
        "id": "KuMLKMOiHLZf"
      },
      "source": [
        "# **3. Cúal fue el primer item del menu comprado por cada cliente?**\n"
      ]
    },
    {
      "cell_type": "markdown",
      "metadata": {},
      "source": [
        "## 📝**Solución SQL**"
      ]
    },
    {
      "cell_type": "code",
      "execution_count": 16,
      "metadata": {
        "colab": {
          "base_uri": "https://localhost:8080/",
          "height": 206
        },
        "id": "49f5stW5HKr8",
        "outputId": "c6943d38-35f4-404a-c25e-90fb36d9aa47"
      },
      "outputs": [
        {
          "data": {
            "text/html": [
              "<div>\n",
              "<style scoped>\n",
              "    .dataframe tbody tr th:only-of-type {\n",
              "        vertical-align: middle;\n",
              "    }\n",
              "\n",
              "    .dataframe tbody tr th {\n",
              "        vertical-align: top;\n",
              "    }\n",
              "\n",
              "    .dataframe thead th {\n",
              "        text-align: right;\n",
              "    }\n",
              "</style>\n",
              "<table border=\"1\" class=\"dataframe\">\n",
              "  <thead>\n",
              "    <tr style=\"text-align: right;\">\n",
              "      <th></th>\n",
              "      <th>customer_id</th>\n",
              "      <th>product_name</th>\n",
              "    </tr>\n",
              "  </thead>\n",
              "  <tbody>\n",
              "    <tr>\n",
              "      <th>0</th>\n",
              "      <td>A</td>\n",
              "      <td>sushi</td>\n",
              "    </tr>\n",
              "    <tr>\n",
              "      <th>1</th>\n",
              "      <td>A</td>\n",
              "      <td>curry</td>\n",
              "    </tr>\n",
              "    <tr>\n",
              "      <th>2</th>\n",
              "      <td>B</td>\n",
              "      <td>curry</td>\n",
              "    </tr>\n",
              "    <tr>\n",
              "      <th>3</th>\n",
              "      <td>C</td>\n",
              "      <td>ramen</td>\n",
              "    </tr>\n",
              "    <tr>\n",
              "      <th>4</th>\n",
              "      <td>C</td>\n",
              "      <td>ramen</td>\n",
              "    </tr>\n",
              "  </tbody>\n",
              "</table>\n",
              "</div>"
            ],
            "text/plain": [
              "  customer_id product_name\n",
              "0           A        sushi\n",
              "1           A        curry\n",
              "2           B        curry\n",
              "3           C        ramen\n",
              "4           C        ramen"
            ]
          },
          "execution_count": 16,
          "metadata": {},
          "output_type": "execute_result"
        }
      ],
      "source": [
        "query =\"\"\"\n",
        "  -- Tabla temporal para rankear las compras de cada usuario\n",
        "\n",
        "  WITH primera_orden AS (\n",
        "\n",
        "    SELECT\n",
        "      s.customer_id,\n",
        "      m.product_name,\n",
        "      s.order_date,\n",
        "      DENSE_RANK() OVER (PARTITION BY s.customer_id ORDER BY s.order_date ASC) AS ranking\n",
        "    FROM\n",
        "      sales s\n",
        "    LEFT JOIN menu m\n",
        "      ON s.product_id = m.product_id\n",
        "  )\n",
        "\n",
        "  -- Tabla final con el primer producto comprado por cada usuario\n",
        "\n",
        "  SELECT\n",
        "    customer_id,\n",
        "    product_name\n",
        "  FROM\n",
        "    primera_orden\n",
        "  WHERE\n",
        "    ranking = 1\n",
        "\n",
        "\n",
        "\"\"\"\n",
        "\n",
        "pd.read_sql_query(query, connection)"
      ]
    },
    {
      "cell_type": "markdown",
      "metadata": {},
      "source": [
        "## 🐼 **Solución Pandas**"
      ]
    },
    {
      "cell_type": "code",
      "execution_count": 17,
      "metadata": {},
      "outputs": [
        {
          "data": {
            "text/html": [
              "<div>\n",
              "<style scoped>\n",
              "    .dataframe tbody tr th:only-of-type {\n",
              "        vertical-align: middle;\n",
              "    }\n",
              "\n",
              "    .dataframe tbody tr th {\n",
              "        vertical-align: top;\n",
              "    }\n",
              "\n",
              "    .dataframe thead th {\n",
              "        text-align: right;\n",
              "    }\n",
              "</style>\n",
              "<table border=\"1\" class=\"dataframe\">\n",
              "  <thead>\n",
              "    <tr style=\"text-align: right;\">\n",
              "      <th></th>\n",
              "      <th>customer_id</th>\n",
              "      <th>product_name</th>\n",
              "    </tr>\n",
              "  </thead>\n",
              "  <tbody>\n",
              "    <tr>\n",
              "      <th>0</th>\n",
              "      <td>A</td>\n",
              "      <td>sushi</td>\n",
              "    </tr>\n",
              "    <tr>\n",
              "      <th>1</th>\n",
              "      <td>A</td>\n",
              "      <td>curry</td>\n",
              "    </tr>\n",
              "    <tr>\n",
              "      <th>2</th>\n",
              "      <td>B</td>\n",
              "      <td>curry</td>\n",
              "    </tr>\n",
              "    <tr>\n",
              "      <th>3</th>\n",
              "      <td>C</td>\n",
              "      <td>ramen</td>\n",
              "    </tr>\n",
              "    <tr>\n",
              "      <th>4</th>\n",
              "      <td>C</td>\n",
              "      <td>ramen</td>\n",
              "    </tr>\n",
              "  </tbody>\n",
              "</table>\n",
              "</div>"
            ],
            "text/plain": [
              "  customer_id product_name\n",
              "0           A        sushi\n",
              "1           A        curry\n",
              "2           B        curry\n",
              "3           C        ramen\n",
              "4           C        ramen"
            ]
          },
          "execution_count": 17,
          "metadata": {},
          "output_type": "execute_result"
        }
      ],
      "source": [
        "# Merge entre sales y menu\n",
        "df_merge = pd.merge(df_sales, df_menu, how='left', on='product_id')\n",
        "\n",
        "# Encontrar la fecha mínima por usuario\n",
        "df_min_by_user = df_merge.groupby('customer_id', as_index=False)['order_date'].min()\n",
        "\n",
        "# Merge entre las fechas minimas y usuarios y el df_merge para encontrar que productos son\n",
        "df_result = pd.merge(df_min_by_user, df_merge, how='inner', on=['customer_id', 'order_date'])\n",
        "\n",
        "df_result = df_result[['customer_id', 'product_name']]\n",
        "df_result"
      ]
    },
    {
      "cell_type": "code",
      "execution_count": 18,
      "metadata": {},
      "outputs": [
        {
          "data": {
            "text/html": [
              "<div>\n",
              "<style scoped>\n",
              "    .dataframe tbody tr th:only-of-type {\n",
              "        vertical-align: middle;\n",
              "    }\n",
              "\n",
              "    .dataframe tbody tr th {\n",
              "        vertical-align: top;\n",
              "    }\n",
              "\n",
              "    .dataframe thead th {\n",
              "        text-align: right;\n",
              "    }\n",
              "</style>\n",
              "<table border=\"1\" class=\"dataframe\">\n",
              "  <thead>\n",
              "    <tr style=\"text-align: right;\">\n",
              "      <th></th>\n",
              "      <th>customer_id</th>\n",
              "      <th>order_date</th>\n",
              "      <th>product_id</th>\n",
              "      <th>product_name</th>\n",
              "      <th>price</th>\n",
              "    </tr>\n",
              "  </thead>\n",
              "  <tbody>\n",
              "    <tr>\n",
              "      <th>0</th>\n",
              "      <td>A</td>\n",
              "      <td>2021-01-01</td>\n",
              "      <td>1</td>\n",
              "      <td>sushi</td>\n",
              "      <td>10</td>\n",
              "    </tr>\n",
              "    <tr>\n",
              "      <th>1</th>\n",
              "      <td>B</td>\n",
              "      <td>2021-01-01</td>\n",
              "      <td>2</td>\n",
              "      <td>curry</td>\n",
              "      <td>15</td>\n",
              "    </tr>\n",
              "    <tr>\n",
              "      <th>2</th>\n",
              "      <td>C</td>\n",
              "      <td>2021-01-01</td>\n",
              "      <td>3</td>\n",
              "      <td>ramen</td>\n",
              "      <td>12</td>\n",
              "    </tr>\n",
              "  </tbody>\n",
              "</table>\n",
              "</div>"
            ],
            "text/plain": [
              "  customer_id  order_date  product_id product_name  price\n",
              "0           A  2021-01-01           1        sushi     10\n",
              "1           B  2021-01-01           2        curry     15\n",
              "2           C  2021-01-01           3        ramen     12"
            ]
          },
          "execution_count": 18,
          "metadata": {},
          "output_type": "execute_result"
        }
      ],
      "source": [
        "# Otra forma más rapida\n",
        "df_merge.groupby('customer_id').first().reset_index()"
      ]
    },
    {
      "cell_type": "markdown",
      "metadata": {
        "id": "EdmXPJIb74g0"
      },
      "source": [
        "# **4. Cuál es el item más comprado en el menu y cuantas veces fue comprado por todos los usarios?**\n"
      ]
    },
    {
      "cell_type": "markdown",
      "metadata": {},
      "source": [
        "## 📝**Solución SQL**"
      ]
    },
    {
      "cell_type": "code",
      "execution_count": 19,
      "metadata": {
        "colab": {
          "base_uri": "https://localhost:8080/",
          "height": 81
        },
        "id": "kiye5PUr74Bh",
        "outputId": "bf9b5668-d01d-48d3-d2ff-a0ae89db9d25"
      },
      "outputs": [
        {
          "data": {
            "text/html": [
              "<div>\n",
              "<style scoped>\n",
              "    .dataframe tbody tr th:only-of-type {\n",
              "        vertical-align: middle;\n",
              "    }\n",
              "\n",
              "    .dataframe tbody tr th {\n",
              "        vertical-align: top;\n",
              "    }\n",
              "\n",
              "    .dataframe thead th {\n",
              "        text-align: right;\n",
              "    }\n",
              "</style>\n",
              "<table border=\"1\" class=\"dataframe\">\n",
              "  <thead>\n",
              "    <tr style=\"text-align: right;\">\n",
              "      <th></th>\n",
              "      <th>product_name</th>\n",
              "      <th>n_times_sold</th>\n",
              "    </tr>\n",
              "  </thead>\n",
              "  <tbody>\n",
              "    <tr>\n",
              "      <th>0</th>\n",
              "      <td>ramen</td>\n",
              "      <td>8</td>\n",
              "    </tr>\n",
              "  </tbody>\n",
              "</table>\n",
              "</div>"
            ],
            "text/plain": [
              "  product_name  n_times_sold\n",
              "0        ramen             8"
            ]
          },
          "execution_count": 19,
          "metadata": {},
          "output_type": "execute_result"
        }
      ],
      "source": [
        "query = \"\"\"\n",
        "\n",
        "-- Contador de productos\n",
        "\n",
        "WITH count_products  AS  (\n",
        "  SELECT\n",
        "  product_name, COUNT(product_name) AS n_times_sold\n",
        "  FROM sales s\n",
        "  LEFT JOIN menu m\n",
        "  ON s.product_id = m.product_id\n",
        "  GROUP BY product_name ),\n",
        "\n",
        "\n",
        "-- Ranking de productos\n",
        " ranking_products AS (\n",
        " \tSELECT\n",
        "   \t\t*,\n",
        "   \t\tDENSE_RANK() OVER (ORDER BY n_times_sold DESC) AS ranking\n",
        "   FROM count_products)\n",
        "\n",
        "-- Seleccionar el numero del ranking\n",
        "\n",
        " SELECT\n",
        " \tproduct_name,\n",
        "  n_times_sold\n",
        "  FROM\n",
        " \t ranking_products\n",
        " WHERE ranking = 1;\n",
        "\n",
        "\"\"\"\n",
        "\n",
        "pd.read_sql_query(query, connection)\n"
      ]
    },
    {
      "cell_type": "markdown",
      "metadata": {
        "id": "VBrta_Sz9HSt"
      },
      "source": [
        "**Explicación**: El primer paso es saber cuantas veces se han comprado cada producto. El siguiente consiste en generar un ranking que sea facilmente actualizable usando DENSE_RANK(). Con esta segunda tabla temporal podremos filtrar por aquel item que tenga la mayor cantidad de unidades vendidas.\n",
        "Por ultimo se filtra la tabla del ranking para encontrar cual es el item mas vendido."
      ]
    },
    {
      "cell_type": "markdown",
      "metadata": {},
      "source": [
        "## 🐼 **Solución Pandas**"
      ]
    },
    {
      "cell_type": "code",
      "execution_count": 20,
      "metadata": {},
      "outputs": [
        {
          "data": {
            "text/html": [
              "<div>\n",
              "<style scoped>\n",
              "    .dataframe tbody tr th:only-of-type {\n",
              "        vertical-align: middle;\n",
              "    }\n",
              "\n",
              "    .dataframe tbody tr th {\n",
              "        vertical-align: top;\n",
              "    }\n",
              "\n",
              "    .dataframe thead th {\n",
              "        text-align: right;\n",
              "    }\n",
              "</style>\n",
              "<table border=\"1\" class=\"dataframe\">\n",
              "  <thead>\n",
              "    <tr style=\"text-align: right;\">\n",
              "      <th></th>\n",
              "      <th>product_name</th>\n",
              "      <th>total_vendidos</th>\n",
              "    </tr>\n",
              "  </thead>\n",
              "  <tbody>\n",
              "    <tr>\n",
              "      <th>0</th>\n",
              "      <td>ramen</td>\n",
              "      <td>8</td>\n",
              "    </tr>\n",
              "  </tbody>\n",
              "</table>\n",
              "</div>"
            ],
            "text/plain": [
              "  product_name  total_vendidos\n",
              "0        ramen               8"
            ]
          },
          "execution_count": 20,
          "metadata": {},
          "output_type": "execute_result"
        }
      ],
      "source": [
        "# Merge entre sales y menu\n",
        "df_merge = pd.merge(df_sales, df_menu, how='left', on='product_id')\n",
        "\n",
        "# Encontrando la id del producto más vendia\n",
        "most_sold_item_id = df_merge.groupby(['product_id'], as_index=False).size()\\\n",
        "                            .sort_values(by='size', ascending=False).iloc[0, 0]\n",
        "\n",
        "# Filtrando por el id encontrado en el paso anterior y agrupando por el nombre del producto y contando por el id\n",
        "df_merge.loc[df_merge['product_id']==most_sold_item_id, :].groupby('product_name', as_index=False).agg(total_vendidos=('product_id','size'))"
      ]
    },
    {
      "cell_type": "code",
      "execution_count": 21,
      "metadata": {},
      "outputs": [
        {
          "data": {
            "text/html": [
              "<div>\n",
              "<style scoped>\n",
              "    .dataframe tbody tr th:only-of-type {\n",
              "        vertical-align: middle;\n",
              "    }\n",
              "\n",
              "    .dataframe tbody tr th {\n",
              "        vertical-align: top;\n",
              "    }\n",
              "\n",
              "    .dataframe thead th {\n",
              "        text-align: right;\n",
              "    }\n",
              "</style>\n",
              "<table border=\"1\" class=\"dataframe\">\n",
              "  <thead>\n",
              "    <tr style=\"text-align: right;\">\n",
              "      <th></th>\n",
              "      <th>product_name</th>\n",
              "      <th>size</th>\n",
              "    </tr>\n",
              "  </thead>\n",
              "  <tbody>\n",
              "    <tr>\n",
              "      <th>2</th>\n",
              "      <td>ramen</td>\n",
              "      <td>8</td>\n",
              "    </tr>\n",
              "  </tbody>\n",
              "</table>\n",
              "</div>"
            ],
            "text/plain": [
              "  product_name  size\n",
              "2        ramen     8"
            ]
          },
          "execution_count": 21,
          "metadata": {},
          "output_type": "execute_result"
        }
      ],
      "source": [
        "df_merge.groupby(['product_id', 'product_name'], as_index=False)\\\n",
        "        .size()\\\n",
        "        .sort_values(by='size', ascending=False)\\\n",
        "        .iloc[[0]]\\\n",
        "        [['product_name', 'size']]"
      ]
    },
    {
      "cell_type": "markdown",
      "metadata": {
        "id": "C1RT-Tua-L-H"
      },
      "source": [
        "# **5. Cual item fue el más popular para cada usuario ?**\n"
      ]
    },
    {
      "cell_type": "markdown",
      "metadata": {},
      "source": [
        "## 📝**Solución SQL**"
      ]
    },
    {
      "cell_type": "code",
      "execution_count": 22,
      "metadata": {
        "colab": {
          "base_uri": "https://localhost:8080/",
          "height": 206
        },
        "id": "AmrvzogA-EFi",
        "outputId": "eca92731-e872-4086-e63f-46f85e655d36"
      },
      "outputs": [
        {
          "data": {
            "text/html": [
              "<div>\n",
              "<style scoped>\n",
              "    .dataframe tbody tr th:only-of-type {\n",
              "        vertical-align: middle;\n",
              "    }\n",
              "\n",
              "    .dataframe tbody tr th {\n",
              "        vertical-align: top;\n",
              "    }\n",
              "\n",
              "    .dataframe thead th {\n",
              "        text-align: right;\n",
              "    }\n",
              "</style>\n",
              "<table border=\"1\" class=\"dataframe\">\n",
              "  <thead>\n",
              "    <tr style=\"text-align: right;\">\n",
              "      <th></th>\n",
              "      <th>customer_id</th>\n",
              "      <th>product_name</th>\n",
              "    </tr>\n",
              "  </thead>\n",
              "  <tbody>\n",
              "    <tr>\n",
              "      <th>0</th>\n",
              "      <td>A</td>\n",
              "      <td>ramen</td>\n",
              "    </tr>\n",
              "    <tr>\n",
              "      <th>1</th>\n",
              "      <td>B</td>\n",
              "      <td>curry</td>\n",
              "    </tr>\n",
              "    <tr>\n",
              "      <th>2</th>\n",
              "      <td>B</td>\n",
              "      <td>ramen</td>\n",
              "    </tr>\n",
              "    <tr>\n",
              "      <th>3</th>\n",
              "      <td>B</td>\n",
              "      <td>sushi</td>\n",
              "    </tr>\n",
              "    <tr>\n",
              "      <th>4</th>\n",
              "      <td>C</td>\n",
              "      <td>ramen</td>\n",
              "    </tr>\n",
              "  </tbody>\n",
              "</table>\n",
              "</div>"
            ],
            "text/plain": [
              "  customer_id product_name\n",
              "0           A        ramen\n",
              "1           B        curry\n",
              "2           B        ramen\n",
              "3           B        sushi\n",
              "4           C        ramen"
            ]
          },
          "execution_count": 22,
          "metadata": {},
          "output_type": "execute_result"
        }
      ],
      "source": [
        "query = \"\"\"\n",
        "\n",
        "-- Tabla temporal con la cantidad de veces que se ha comprado cada producto\n",
        "\n",
        "WITH mostsolds_by_customer AS (\n",
        " SELECT\n",
        " \t  customer_id,\n",
        "  \tproduct_name,\n",
        "    COUNT(product_name) AS n_times_sold\n",
        "  FROM sales s\n",
        "  LEFT JOIN menu m\n",
        "  ON s.product_id = m.product_id\n",
        "  GROUP BY customer_id ,product_name ),\n",
        "\n",
        "-- ranking de productos por usuario\n",
        "ranking_pop AS (\n",
        "\n",
        "  SELECT\n",
        "  \t*,\n",
        "  \tDENSE_RANK() OVER (PARTITION BY customer_id ORDER BY n_times_sold DESC) AS ranking\n",
        "\n",
        "  FROM\n",
        "  \tmostsolds_by_customer\n",
        "\n",
        ")\n",
        "\n",
        "-- Seleccionar el ranking 1 de cada cliente\n",
        "\n",
        "SELECT\n",
        "\tcustomer_id,\n",
        "   \tproduct_name\n",
        "FROM ranking_pop\n",
        "WHERE ranking = 1\n",
        "\n",
        "\"\"\"\n",
        "\n",
        "pd.read_sql_query(query, connection)"
      ]
    },
    {
      "cell_type": "markdown",
      "metadata": {
        "id": "ddySr9Y2-57d"
      },
      "source": [
        "**Explicación:** Similar al anterior pero ahora incluyendo la partición por cliente generamos un conteo de productos según cada cliente. Una vez generado esto lo dejamos en una tabla temporal. Usando la tabla temporal generamos un raking asegurandonos de que la partición este sobre cada cliente para que asi cada ranking de conteo de productos se asocie con su respectivo cliente. Ya generado el ranking tomamos esta tabla temporal y la filtramos según el numero del ranking que queramos en este caso 1 y tenemos los items que son los mas vendidos por cada usuario. En nuestro caso el cliente B ha comprado la misma cantidad tanto de curry, ramen y sushi."
      ]
    },
    {
      "cell_type": "markdown",
      "metadata": {},
      "source": [
        "## 🐼 **Solución Pandas**"
      ]
    },
    {
      "cell_type": "code",
      "execution_count": 23,
      "metadata": {},
      "outputs": [
        {
          "data": {
            "text/html": [
              "<div>\n",
              "<style scoped>\n",
              "    .dataframe tbody tr th:only-of-type {\n",
              "        vertical-align: middle;\n",
              "    }\n",
              "\n",
              "    .dataframe tbody tr th {\n",
              "        vertical-align: top;\n",
              "    }\n",
              "\n",
              "    .dataframe thead th {\n",
              "        text-align: right;\n",
              "    }\n",
              "</style>\n",
              "<table border=\"1\" class=\"dataframe\">\n",
              "  <thead>\n",
              "    <tr style=\"text-align: right;\">\n",
              "      <th></th>\n",
              "      <th>customer_id</th>\n",
              "      <th>product_name</th>\n",
              "      <th>size</th>\n",
              "    </tr>\n",
              "  </thead>\n",
              "  <tbody>\n",
              "    <tr>\n",
              "      <th>2</th>\n",
              "      <td>A</td>\n",
              "      <td>ramen</td>\n",
              "      <td>3</td>\n",
              "    </tr>\n",
              "    <tr>\n",
              "      <th>3</th>\n",
              "      <td>B</td>\n",
              "      <td>sushi</td>\n",
              "      <td>2</td>\n",
              "    </tr>\n",
              "    <tr>\n",
              "      <th>4</th>\n",
              "      <td>B</td>\n",
              "      <td>curry</td>\n",
              "      <td>2</td>\n",
              "    </tr>\n",
              "    <tr>\n",
              "      <th>5</th>\n",
              "      <td>B</td>\n",
              "      <td>ramen</td>\n",
              "      <td>2</td>\n",
              "    </tr>\n",
              "    <tr>\n",
              "      <th>6</th>\n",
              "      <td>C</td>\n",
              "      <td>ramen</td>\n",
              "      <td>3</td>\n",
              "    </tr>\n",
              "  </tbody>\n",
              "</table>\n",
              "</div>"
            ],
            "text/plain": [
              "  customer_id product_name  size\n",
              "2           A        ramen     3\n",
              "3           B        sushi     2\n",
              "4           B        curry     2\n",
              "5           B        ramen     2\n",
              "6           C        ramen     3"
            ]
          },
          "execution_count": 23,
          "metadata": {},
          "output_type": "execute_result"
        }
      ],
      "source": [
        "# Utilizamos el merge anterior y agrupamos por customer id y las columnas de los productos utilizando size para tener la cuenta\n",
        "df_popular = df_merge.groupby(['customer_id','product_id', 'product_name'], as_index=False).size()\n",
        "\n",
        "# Utilizamos transform para poder encontrar el maximo por las diferentes subcategorias \n",
        "max_por_cliente = df_popular.groupby('customer_id')['size'].transform('max')\n",
        "\n",
        "# Subseteamos el dataset anterior según el máximo por cliente adquirido\n",
        "df_popular[df_popular['size'] == max_por_cliente][['customer_id', 'product_name', 'size']]\n"
      ]
    },
    {
      "cell_type": "markdown",
      "metadata": {
        "id": "W9CcQCAr_vmL"
      },
      "source": [
        "# **6. Que item fue comprado primero por cada cliente después que se convitieron en miembro?**"
      ]
    },
    {
      "cell_type": "markdown",
      "metadata": {},
      "source": [
        "## 📝**Solución SQL**"
      ]
    },
    {
      "cell_type": "code",
      "execution_count": 24,
      "metadata": {
        "colab": {
          "base_uri": "https://localhost:8080/",
          "height": 112
        },
        "id": "1BmmrByd-0mF",
        "outputId": "1ee4e619-45e7-4a46-9872-9c2d96579220"
      },
      "outputs": [
        {
          "data": {
            "text/html": [
              "<div>\n",
              "<style scoped>\n",
              "    .dataframe tbody tr th:only-of-type {\n",
              "        vertical-align: middle;\n",
              "    }\n",
              "\n",
              "    .dataframe tbody tr th {\n",
              "        vertical-align: top;\n",
              "    }\n",
              "\n",
              "    .dataframe thead th {\n",
              "        text-align: right;\n",
              "    }\n",
              "</style>\n",
              "<table border=\"1\" class=\"dataframe\">\n",
              "  <thead>\n",
              "    <tr style=\"text-align: right;\">\n",
              "      <th></th>\n",
              "      <th>customer_id</th>\n",
              "      <th>product_name</th>\n",
              "    </tr>\n",
              "  </thead>\n",
              "  <tbody>\n",
              "    <tr>\n",
              "      <th>0</th>\n",
              "      <td>B</td>\n",
              "      <td>sushi</td>\n",
              "    </tr>\n",
              "    <tr>\n",
              "      <th>1</th>\n",
              "      <td>A</td>\n",
              "      <td>curry</td>\n",
              "    </tr>\n",
              "  </tbody>\n",
              "</table>\n",
              "</div>"
            ],
            "text/plain": [
              "  customer_id product_name\n",
              "0           B        sushi\n",
              "1           A        curry"
            ]
          },
          "execution_count": 24,
          "metadata": {},
          "output_type": "execute_result"
        }
      ],
      "source": [
        "query = \"\"\"\n",
        "\n",
        "  WITH first_buy_after_membership AS (\n",
        "  SELECT\n",
        "      s.customer_id,\n",
        "          s.product_id,\n",
        "          s.order_date,\n",
        "          DENSE_RANK() OVER(PARTITION BY s.customer_id ORDER BY s.order_date) AS ranking\n",
        "  FROM sales s\n",
        "  LEFT JOIN members m\n",
        "  ON s.customer_id = m.customer_id AND s.order_date >= m.join_date\n",
        "  WHERE m.customer_id IS NOT NULL )\n",
        "\n",
        "  SELECT\n",
        "    f.customer_id,\n",
        "      m.product_name\n",
        "  FROM\n",
        "    first_buy_after_membership f\n",
        "  INNER JOIN menu m\n",
        "  ON f.product_id = m.product_id\n",
        "  WHERE ranking=1\n",
        "\n",
        "\n",
        "\"\"\"\n",
        "\n",
        "pd.read_sql_query(query, connection)"
      ]
    },
    {
      "cell_type": "markdown",
      "metadata": {
        "id": "PHmL01y3AHdT"
      },
      "source": [
        "**Explicación**: Según lo que nos pide el ejercicio sabemos que necesitamos la tabla sales y members primeramente, ya que necesitamos encontrar aquellos productos comprados después de ser miembros. En la primera tabla temporal `first_buy_after_membership` la idea es filtrar la tabla **sales** para saber cuales son los productos que fueron comprado primeramente. Con un LEFT JOIN nos aseguramos que se incluyan todas las fechas y sus items comprados respectivamente. Una vez realizado esto necesitamos que para cada custumer se junte latabla según el customer_id peero ademas según el _order_date_ el cual debe ser mayor a *m.join_date*. Con esto nos aseguramos que la compra del producto sea mayor o igual a la fecha de que se hizo miembro. Además con esta tabla podemos generar un ranking en donde el primer registro será el más viejo. Ya con esto se puede filtrar por el ranking = 1."
      ]
    },
    {
      "cell_type": "markdown",
      "metadata": {},
      "source": [
        "## 🐼 **Solución Pandas**"
      ]
    },
    {
      "cell_type": "code",
      "execution_count": 25,
      "metadata": {},
      "outputs": [
        {
          "data": {
            "text/html": [
              "<div>\n",
              "<style scoped>\n",
              "    .dataframe tbody tr th:only-of-type {\n",
              "        vertical-align: middle;\n",
              "    }\n",
              "\n",
              "    .dataframe tbody tr th {\n",
              "        vertical-align: top;\n",
              "    }\n",
              "\n",
              "    .dataframe thead th {\n",
              "        text-align: right;\n",
              "    }\n",
              "</style>\n",
              "<table border=\"1\" class=\"dataframe\">\n",
              "  <thead>\n",
              "    <tr style=\"text-align: right;\">\n",
              "      <th></th>\n",
              "      <th>customer_id</th>\n",
              "      <th>order_date</th>\n",
              "      <th>product_name</th>\n",
              "    </tr>\n",
              "  </thead>\n",
              "  <tbody>\n",
              "    <tr>\n",
              "      <th>2</th>\n",
              "      <td>A</td>\n",
              "      <td>2021-01-07</td>\n",
              "      <td>curry</td>\n",
              "    </tr>\n",
              "    <tr>\n",
              "      <th>9</th>\n",
              "      <td>B</td>\n",
              "      <td>2021-01-11</td>\n",
              "      <td>sushi</td>\n",
              "    </tr>\n",
              "  </tbody>\n",
              "</table>\n",
              "</div>"
            ],
            "text/plain": [
              "  customer_id  order_date product_name\n",
              "2           A  2021-01-07        curry\n",
              "9           B  2021-01-11        sushi"
            ]
          },
          "execution_count": 25,
          "metadata": {},
          "output_type": "execute_result"
        }
      ],
      "source": [
        "# Generamos el merge entre nuestro df_merge y members para tener la columna join_date\n",
        "df_combinado = df_merge.merge(df_members, on='customer_id', how='inner')\n",
        "\n",
        "# Filtramos por todas aquellas fechas que sean iguales o superiores a join date\n",
        "df_combinado = df_combinado[df_combinado['order_date'] >= df_combinado['join_date']]\n",
        "\n",
        "# Ordenamos por order date segun el cliente\n",
        "df_combinado = df_combinado.sort_values(['customer_id', 'order_date'])\n",
        "\n",
        "# Removemos todos los demas registros para solo dejar el primero\n",
        "df_primera_compra = df_combinado.drop_duplicates(subset=['customer_id'], keep='first')\n",
        "\n",
        "# Resultado final\n",
        "df_primera_compra[['customer_id', 'order_date', 'product_name']]\n"
      ]
    },
    {
      "cell_type": "markdown",
      "metadata": {
        "id": "F2hMNe-KBqey"
      },
      "source": [
        "# **7. Cúales items fueron comprados justo antes de que el cliente se convirtiera en miembro?**"
      ]
    },
    {
      "cell_type": "markdown",
      "metadata": {},
      "source": [
        "## 📝**Solución SQL**"
      ]
    },
    {
      "cell_type": "code",
      "execution_count": null,
      "metadata": {
        "colab": {
          "base_uri": "https://localhost:8080/",
          "height": 143
        },
        "id": "FqLCaaFtBfl6",
        "outputId": "de284268-bfc9-46ac-c8c6-3844a48e8531"
      },
      "outputs": [
        {
          "data": {
            "text/html": [
              "<div>\n",
              "<style scoped>\n",
              "    .dataframe tbody tr th:only-of-type {\n",
              "        vertical-align: middle;\n",
              "    }\n",
              "\n",
              "    .dataframe tbody tr th {\n",
              "        vertical-align: top;\n",
              "    }\n",
              "\n",
              "    .dataframe thead th {\n",
              "        text-align: right;\n",
              "    }\n",
              "</style>\n",
              "<table border=\"1\" class=\"dataframe\">\n",
              "  <thead>\n",
              "    <tr style=\"text-align: right;\">\n",
              "      <th></th>\n",
              "      <th>customer_id</th>\n",
              "      <th>product_name</th>\n",
              "    </tr>\n",
              "  </thead>\n",
              "  <tbody>\n",
              "    <tr>\n",
              "      <th>0</th>\n",
              "      <td>A</td>\n",
              "      <td>sushi</td>\n",
              "    </tr>\n",
              "    <tr>\n",
              "      <th>1</th>\n",
              "      <td>B</td>\n",
              "      <td>sushi</td>\n",
              "    </tr>\n",
              "    <tr>\n",
              "      <th>2</th>\n",
              "      <td>A</td>\n",
              "      <td>curry</td>\n",
              "    </tr>\n",
              "  </tbody>\n",
              "</table>\n",
              "</div>"
            ],
            "text/plain": [
              "  customer_id product_name\n",
              "0           A        sushi\n",
              "1           B        sushi\n",
              "2           A        curry"
            ]
          },
          "execution_count": 26,
          "metadata": {},
          "output_type": "execute_result"
        }
      ],
      "source": [
        "query = \"\"\"\n",
        "\n",
        "  - Primera compra antes de ser miembro\n",
        "\n",
        "  WITH first_buy_before_membership AS (\n",
        "    SELECT\n",
        "      s.customer_id,\n",
        "          s.product_id,\n",
        "          s.order_date,\n",
        "          DENSE_RANK() OVER(PARTITION BY s.customer_id ORDER BY s.order_date DESC) AS ranking\n",
        "    FROM sales s\n",
        "    LEFT JOIN members m\n",
        "    ON s.customer_id = m.customer_id AND s.order_date < m.join_date\n",
        "    WHERE m.customer_id IS NOT NULL \n",
        "    )\n",
        "\n",
        "  \n",
        "  SELECT\n",
        "    f.customer_id,\n",
        "      m.product_name\n",
        "  FROM\n",
        "    first_buy_before_membership f\n",
        "  INNER JOIN menu m\n",
        "    ON f.product_id = m.product_id\n",
        "  WHERE \n",
        "    ranking=1\n",
        "\n",
        "\n",
        "\"\"\"\n",
        "\n",
        "pd.read_sql_query(query, connection)"
      ]
    },
    {
      "cell_type": "markdown",
      "metadata": {
        "id": "LbDXlFTdCZ5m"
      },
      "source": [
        "**Explicación**: Similar al anterior ahora nos aseguramos de generar una tabla temporal en donde nos aseguremos que la fecha de que se unen como miembro sea mayor a la de la orden, de esta manera tendremos todos los pedidos que fueron comprados antes de convertirse en miembros. Por ultimo realizamos un filtrado de la tabla demporal para saber cual es el producto comprado justo antes de convertirse en miembro de cada usuario. Como C no es miembro no está incluido."
      ]
    },
    {
      "cell_type": "markdown",
      "metadata": {},
      "source": [
        "## 🐼 **Solución Pandas**"
      ]
    },
    {
      "cell_type": "code",
      "execution_count": 38,
      "metadata": {},
      "outputs": [
        {
          "data": {
            "text/html": [
              "<div>\n",
              "<style scoped>\n",
              "    .dataframe tbody tr th:only-of-type {\n",
              "        vertical-align: middle;\n",
              "    }\n",
              "\n",
              "    .dataframe tbody tr th {\n",
              "        vertical-align: top;\n",
              "    }\n",
              "\n",
              "    .dataframe thead th {\n",
              "        text-align: right;\n",
              "    }\n",
              "</style>\n",
              "<table border=\"1\" class=\"dataframe\">\n",
              "  <thead>\n",
              "    <tr style=\"text-align: right;\">\n",
              "      <th></th>\n",
              "      <th>customer_id</th>\n",
              "      <th>product_name</th>\n",
              "    </tr>\n",
              "  </thead>\n",
              "  <tbody>\n",
              "    <tr>\n",
              "      <th>0</th>\n",
              "      <td>A</td>\n",
              "      <td>sushi</td>\n",
              "    </tr>\n",
              "    <tr>\n",
              "      <th>1</th>\n",
              "      <td>A</td>\n",
              "      <td>curry</td>\n",
              "    </tr>\n",
              "    <tr>\n",
              "      <th>6</th>\n",
              "      <td>B</td>\n",
              "      <td>curry</td>\n",
              "    </tr>\n",
              "  </tbody>\n",
              "</table>\n",
              "</div>"
            ],
            "text/plain": [
              "  customer_id product_name\n",
              "0           A        sushi\n",
              "1           A        curry\n",
              "6           B        curry"
            ]
          },
          "execution_count": 38,
          "metadata": {},
          "output_type": "execute_result"
        }
      ],
      "source": [
        "# Generamos el merge entre nuestro df_merge y members para tener la columna join_date\n",
        "df_combinado = df_merge.merge(df_members, on='customer_id', how='inner')\n",
        "\n",
        "# Filtramos por todas aquellas fechas que sean inferior a join date\n",
        "df_combinado = df_combinado[df_combinado['order_date'] < df_combinado['join_date']]\n",
        "\n",
        "# Ordenamos por order date segun el cliente\n",
        "df_combinado = df_combinado.sort_values(['customer_id', 'order_date'])\n",
        "\n",
        "# Utilizamos transform para utilizar customer id y order date como regla para obtener los order date menores\n",
        "fecha_primera_compra_por_cliente = df_combinado.groupby('customer_id')['order_date'].transform('min')\n",
        "# Resultado final filtrado\n",
        "df_primeras_compras_con_multiples = df_combinado[df_combinado['order_date'] == fecha_primera_compra_por_cliente]\n",
        "\n",
        "df_primeras_compras_con_multiples[['customer_id', 'product_name']]"
      ]
    },
    {
      "cell_type": "markdown",
      "metadata": {
        "id": "US3MyFzXDDhQ"
      },
      "source": [
        "# **8. Cúal es el total de items y la cantidad gastada por cada miembro antes de que se convirtieran en miembros?**\n"
      ]
    },
    {
      "cell_type": "code",
      "execution_count": null,
      "metadata": {
        "colab": {
          "base_uri": "https://localhost:8080/",
          "height": 112
        },
        "id": "dbvkG0JFB-nb",
        "outputId": "b13453c7-1284-499c-87ab-4509c0762511"
      },
      "outputs": [
        {
          "data": {
            "application/vnd.google.colaboratory.intrinsic+json": {
              "summary": "{\n  \"name\": \"pd\",\n  \"rows\": 2,\n  \"fields\": [\n    {\n      \"column\": \"customer_id\",\n      \"properties\": {\n        \"dtype\": \"string\",\n        \"num_unique_values\": 2,\n        \"samples\": [\n          \"B\",\n          \"A\"\n        ],\n        \"semantic_type\": \"\",\n        \"description\": \"\"\n      }\n    },\n    {\n      \"column\": \"total_items\",\n      \"properties\": {\n        \"dtype\": \"number\",\n        \"std\": 0,\n        \"min\": 2,\n        \"max\": 3,\n        \"num_unique_values\": 2,\n        \"samples\": [\n          3,\n          2\n        ],\n        \"semantic_type\": \"\",\n        \"description\": \"\"\n      }\n    },\n    {\n      \"column\": \"total_spend\",\n      \"properties\": {\n        \"dtype\": \"number\",\n        \"std\": 10,\n        \"min\": 25,\n        \"max\": 40,\n        \"num_unique_values\": 2,\n        \"samples\": [\n          40,\n          25\n        ],\n        \"semantic_type\": \"\",\n        \"description\": \"\"\n      }\n    }\n  ]\n}",
              "type": "dataframe"
            },
            "text/html": [
              "\n",
              "  <div id=\"df-b303df0f-b31f-4707-9c80-5b71319a0f91\" class=\"colab-df-container\">\n",
              "    <div>\n",
              "<style scoped>\n",
              "    .dataframe tbody tr th:only-of-type {\n",
              "        vertical-align: middle;\n",
              "    }\n",
              "\n",
              "    .dataframe tbody tr th {\n",
              "        vertical-align: top;\n",
              "    }\n",
              "\n",
              "    .dataframe thead th {\n",
              "        text-align: right;\n",
              "    }\n",
              "</style>\n",
              "<table border=\"1\" class=\"dataframe\">\n",
              "  <thead>\n",
              "    <tr style=\"text-align: right;\">\n",
              "      <th></th>\n",
              "      <th>customer_id</th>\n",
              "      <th>total_items</th>\n",
              "      <th>total_spend</th>\n",
              "    </tr>\n",
              "  </thead>\n",
              "  <tbody>\n",
              "    <tr>\n",
              "      <th>0</th>\n",
              "      <td>A</td>\n",
              "      <td>2</td>\n",
              "      <td>25</td>\n",
              "    </tr>\n",
              "    <tr>\n",
              "      <th>1</th>\n",
              "      <td>B</td>\n",
              "      <td>3</td>\n",
              "      <td>40</td>\n",
              "    </tr>\n",
              "  </tbody>\n",
              "</table>\n",
              "</div>\n",
              "    <div class=\"colab-df-buttons\">\n",
              "\n",
              "  <div class=\"colab-df-container\">\n",
              "    <button class=\"colab-df-convert\" onclick=\"convertToInteractive('df-b303df0f-b31f-4707-9c80-5b71319a0f91')\"\n",
              "            title=\"Convert this dataframe to an interactive table.\"\n",
              "            style=\"display:none;\">\n",
              "\n",
              "  <svg xmlns=\"http://www.w3.org/2000/svg\" height=\"24px\" viewBox=\"0 -960 960 960\">\n",
              "    <path d=\"M120-120v-720h720v720H120Zm60-500h600v-160H180v160Zm220 220h160v-160H400v160Zm0 220h160v-160H400v160ZM180-400h160v-160H180v160Zm440 0h160v-160H620v160ZM180-180h160v-160H180v160Zm440 0h160v-160H620v160Z\"/>\n",
              "  </svg>\n",
              "    </button>\n",
              "\n",
              "  <style>\n",
              "    .colab-df-container {\n",
              "      display:flex;\n",
              "      gap: 12px;\n",
              "    }\n",
              "\n",
              "    .colab-df-convert {\n",
              "      background-color: #E8F0FE;\n",
              "      border: none;\n",
              "      border-radius: 50%;\n",
              "      cursor: pointer;\n",
              "      display: none;\n",
              "      fill: #1967D2;\n",
              "      height: 32px;\n",
              "      padding: 0 0 0 0;\n",
              "      width: 32px;\n",
              "    }\n",
              "\n",
              "    .colab-df-convert:hover {\n",
              "      background-color: #E2EBFA;\n",
              "      box-shadow: 0px 1px 2px rgba(60, 64, 67, 0.3), 0px 1px 3px 1px rgba(60, 64, 67, 0.15);\n",
              "      fill: #174EA6;\n",
              "    }\n",
              "\n",
              "    .colab-df-buttons div {\n",
              "      margin-bottom: 4px;\n",
              "    }\n",
              "\n",
              "    [theme=dark] .colab-df-convert {\n",
              "      background-color: #3B4455;\n",
              "      fill: #D2E3FC;\n",
              "    }\n",
              "\n",
              "    [theme=dark] .colab-df-convert:hover {\n",
              "      background-color: #434B5C;\n",
              "      box-shadow: 0px 1px 3px 1px rgba(0, 0, 0, 0.15);\n",
              "      filter: drop-shadow(0px 1px 2px rgba(0, 0, 0, 0.3));\n",
              "      fill: #FFFFFF;\n",
              "    }\n",
              "  </style>\n",
              "\n",
              "    <script>\n",
              "      const buttonEl =\n",
              "        document.querySelector('#df-b303df0f-b31f-4707-9c80-5b71319a0f91 button.colab-df-convert');\n",
              "      buttonEl.style.display =\n",
              "        google.colab.kernel.accessAllowed ? 'block' : 'none';\n",
              "\n",
              "      async function convertToInteractive(key) {\n",
              "        const element = document.querySelector('#df-b303df0f-b31f-4707-9c80-5b71319a0f91');\n",
              "        const dataTable =\n",
              "          await google.colab.kernel.invokeFunction('convertToInteractive',\n",
              "                                                    [key], {});\n",
              "        if (!dataTable) return;\n",
              "\n",
              "        const docLinkHtml = 'Like what you see? Visit the ' +\n",
              "          '<a target=\"_blank\" href=https://colab.research.google.com/notebooks/data_table.ipynb>data table notebook</a>'\n",
              "          + ' to learn more about interactive tables.';\n",
              "        element.innerHTML = '';\n",
              "        dataTable['output_type'] = 'display_data';\n",
              "        await google.colab.output.renderOutput(dataTable, element);\n",
              "        const docLink = document.createElement('div');\n",
              "        docLink.innerHTML = docLinkHtml;\n",
              "        element.appendChild(docLink);\n",
              "      }\n",
              "    </script>\n",
              "  </div>\n",
              "\n",
              "\n",
              "<div id=\"df-dc0c1fa7-b7d7-45fa-a580-8dce485c966a\">\n",
              "  <button class=\"colab-df-quickchart\" onclick=\"quickchart('df-dc0c1fa7-b7d7-45fa-a580-8dce485c966a')\"\n",
              "            title=\"Suggest charts\"\n",
              "            style=\"display:none;\">\n",
              "\n",
              "<svg xmlns=\"http://www.w3.org/2000/svg\" height=\"24px\"viewBox=\"0 0 24 24\"\n",
              "     width=\"24px\">\n",
              "    <g>\n",
              "        <path d=\"M19 3H5c-1.1 0-2 .9-2 2v14c0 1.1.9 2 2 2h14c1.1 0 2-.9 2-2V5c0-1.1-.9-2-2-2zM9 17H7v-7h2v7zm4 0h-2V7h2v10zm4 0h-2v-4h2v4z\"/>\n",
              "    </g>\n",
              "</svg>\n",
              "  </button>\n",
              "\n",
              "<style>\n",
              "  .colab-df-quickchart {\n",
              "      --bg-color: #E8F0FE;\n",
              "      --fill-color: #1967D2;\n",
              "      --hover-bg-color: #E2EBFA;\n",
              "      --hover-fill-color: #174EA6;\n",
              "      --disabled-fill-color: #AAA;\n",
              "      --disabled-bg-color: #DDD;\n",
              "  }\n",
              "\n",
              "  [theme=dark] .colab-df-quickchart {\n",
              "      --bg-color: #3B4455;\n",
              "      --fill-color: #D2E3FC;\n",
              "      --hover-bg-color: #434B5C;\n",
              "      --hover-fill-color: #FFFFFF;\n",
              "      --disabled-bg-color: #3B4455;\n",
              "      --disabled-fill-color: #666;\n",
              "  }\n",
              "\n",
              "  .colab-df-quickchart {\n",
              "    background-color: var(--bg-color);\n",
              "    border: none;\n",
              "    border-radius: 50%;\n",
              "    cursor: pointer;\n",
              "    display: none;\n",
              "    fill: var(--fill-color);\n",
              "    height: 32px;\n",
              "    padding: 0;\n",
              "    width: 32px;\n",
              "  }\n",
              "\n",
              "  .colab-df-quickchart:hover {\n",
              "    background-color: var(--hover-bg-color);\n",
              "    box-shadow: 0 1px 2px rgba(60, 64, 67, 0.3), 0 1px 3px 1px rgba(60, 64, 67, 0.15);\n",
              "    fill: var(--button-hover-fill-color);\n",
              "  }\n",
              "\n",
              "  .colab-df-quickchart-complete:disabled,\n",
              "  .colab-df-quickchart-complete:disabled:hover {\n",
              "    background-color: var(--disabled-bg-color);\n",
              "    fill: var(--disabled-fill-color);\n",
              "    box-shadow: none;\n",
              "  }\n",
              "\n",
              "  .colab-df-spinner {\n",
              "    border: 2px solid var(--fill-color);\n",
              "    border-color: transparent;\n",
              "    border-bottom-color: var(--fill-color);\n",
              "    animation:\n",
              "      spin 1s steps(1) infinite;\n",
              "  }\n",
              "\n",
              "  @keyframes spin {\n",
              "    0% {\n",
              "      border-color: transparent;\n",
              "      border-bottom-color: var(--fill-color);\n",
              "      border-left-color: var(--fill-color);\n",
              "    }\n",
              "    20% {\n",
              "      border-color: transparent;\n",
              "      border-left-color: var(--fill-color);\n",
              "      border-top-color: var(--fill-color);\n",
              "    }\n",
              "    30% {\n",
              "      border-color: transparent;\n",
              "      border-left-color: var(--fill-color);\n",
              "      border-top-color: var(--fill-color);\n",
              "      border-right-color: var(--fill-color);\n",
              "    }\n",
              "    40% {\n",
              "      border-color: transparent;\n",
              "      border-right-color: var(--fill-color);\n",
              "      border-top-color: var(--fill-color);\n",
              "    }\n",
              "    60% {\n",
              "      border-color: transparent;\n",
              "      border-right-color: var(--fill-color);\n",
              "    }\n",
              "    80% {\n",
              "      border-color: transparent;\n",
              "      border-right-color: var(--fill-color);\n",
              "      border-bottom-color: var(--fill-color);\n",
              "    }\n",
              "    90% {\n",
              "      border-color: transparent;\n",
              "      border-bottom-color: var(--fill-color);\n",
              "    }\n",
              "  }\n",
              "</style>\n",
              "\n",
              "  <script>\n",
              "    async function quickchart(key) {\n",
              "      const quickchartButtonEl =\n",
              "        document.querySelector('#' + key + ' button');\n",
              "      quickchartButtonEl.disabled = true;  // To prevent multiple clicks.\n",
              "      quickchartButtonEl.classList.add('colab-df-spinner');\n",
              "      try {\n",
              "        const charts = await google.colab.kernel.invokeFunction(\n",
              "            'suggestCharts', [key], {});\n",
              "      } catch (error) {\n",
              "        console.error('Error during call to suggestCharts:', error);\n",
              "      }\n",
              "      quickchartButtonEl.classList.remove('colab-df-spinner');\n",
              "      quickchartButtonEl.classList.add('colab-df-quickchart-complete');\n",
              "    }\n",
              "    (() => {\n",
              "      let quickchartButtonEl =\n",
              "        document.querySelector('#df-dc0c1fa7-b7d7-45fa-a580-8dce485c966a button');\n",
              "      quickchartButtonEl.style.display =\n",
              "        google.colab.kernel.accessAllowed ? 'block' : 'none';\n",
              "    })();\n",
              "  </script>\n",
              "</div>\n",
              "\n",
              "    </div>\n",
              "  </div>\n"
            ],
            "text/plain": [
              "  customer_id  total_items  total_spend\n",
              "0           A            2           25\n",
              "1           B            3           40"
            ]
          },
          "execution_count": 37,
          "metadata": {},
          "output_type": "execute_result"
        }
      ],
      "source": [
        "query = \"\"\"\n",
        "\n",
        "-- Tabla temporal con los productos antes de convertirse en miembros\n",
        "\n",
        "WITH first_buy_before_membership AS (\n",
        "    SELECT\n",
        "        s.customer_id,\n",
        "            s.product_id,\n",
        "            s.order_date\n",
        "    FROM \n",
        "        sales s\n",
        "    LEFT JOIN \n",
        "        members m\n",
        "    ON \n",
        "        s.customer_id = m.customer_id AND s.order_date < m.join_date\n",
        "    WHERE \n",
        "        m.customer_id IS NOT NULL \n",
        "    )\n",
        "\n",
        "\n",
        "SELECT\n",
        "\tf.customer_id,\n",
        "    COUNT(m.product_name) AS total_items,\n",
        "    SUM(m.price) AS total_spend\n",
        "FROM \n",
        "    first_buy_before_membership f\n",
        "INNER JOIN \n",
        "    menu m\n",
        "ON f.product_id = m.product_id\n",
        "GROUP BY\n",
        "     f.customer_id\n",
        "\n",
        "\n",
        "\n",
        "\"\"\"\n",
        "\n",
        "pd.read_sql_query(query, connection)"
      ]
    },
    {
      "cell_type": "markdown",
      "metadata": {
        "id": "X8ODr7mOFPpj"
      },
      "source": [
        "Explicación: Juntamos la tabla **Sales** con la tabla **miembos** ya que esta tiene la fecha en donde comenzaron a hacer miembros los usuarios. Gracias a esto ponemos la condición de que la fecha sea menor a la fecha de inicio de la membresia. Con esto generamos otro cruce pero ahora con **menu** para saber cuales son los precios de cada producto y asi poder sacar el total gastado."
      ]
    },
    {
      "cell_type": "markdown",
      "metadata": {},
      "source": [
        "## 🐼 **Solución Pandas**"
      ]
    },
    {
      "cell_type": "code",
      "execution_count": 43,
      "metadata": {},
      "outputs": [
        {
          "data": {
            "text/html": [
              "<div>\n",
              "<style scoped>\n",
              "    .dataframe tbody tr th:only-of-type {\n",
              "        vertical-align: middle;\n",
              "    }\n",
              "\n",
              "    .dataframe tbody tr th {\n",
              "        vertical-align: top;\n",
              "    }\n",
              "\n",
              "    .dataframe thead th {\n",
              "        text-align: right;\n",
              "    }\n",
              "</style>\n",
              "<table border=\"1\" class=\"dataframe\">\n",
              "  <thead>\n",
              "    <tr style=\"text-align: right;\">\n",
              "      <th></th>\n",
              "      <th>customer_id</th>\n",
              "      <th>total_items</th>\n",
              "      <th>total_sales</th>\n",
              "    </tr>\n",
              "  </thead>\n",
              "  <tbody>\n",
              "    <tr>\n",
              "      <th>0</th>\n",
              "      <td>A</td>\n",
              "      <td>2</td>\n",
              "      <td>25</td>\n",
              "    </tr>\n",
              "    <tr>\n",
              "      <th>1</th>\n",
              "      <td>B</td>\n",
              "      <td>3</td>\n",
              "      <td>40</td>\n",
              "    </tr>\n",
              "  </tbody>\n",
              "</table>\n",
              "</div>"
            ],
            "text/plain": [
              "  customer_id  total_items  total_sales\n",
              "0           A            2           25\n",
              "1           B            3           40"
            ]
          },
          "execution_count": 43,
          "metadata": {},
          "output_type": "execute_result"
        }
      ],
      "source": [
        "# Generamos el merge entre nuestro df_merge y members para tener la columna join_date\n",
        "df_combinado = df_merge.merge(df_members, on='customer_id', how='inner')\n",
        "\n",
        "# Filtramos por todas aquellas fechas que sean inferior a join date\n",
        "df_combinado = df_combinado[df_combinado['order_date'] < df_combinado['join_date']]\n",
        "\n",
        "# Ordenamos por order date segun el cliente\n",
        "df_combinado = df_combinado.sort_values(['customer_id', 'order_date'])\n",
        "\n",
        "df_combinado.groupby('customer_id', as_index=False).agg({'product_id': 'count','price': 'sum'})\\\n",
        "                                                   .rename(columns={'product_id': 'total_items','price': 'total_sales'})"
      ]
    },
    {
      "cell_type": "markdown",
      "metadata": {
        "id": "ovR9dI_aDgac"
      },
      "source": [
        "**-- 9.  Si cada $1 gastado es igual a 10 puntos y el sushi tiene un multiplicador de 2x - Cuantos puntos deberia tener cada cliente ?**"
      ]
    },
    {
      "cell_type": "code",
      "execution_count": null,
      "metadata": {
        "colab": {
          "base_uri": "https://localhost:8080/",
          "height": 143
        },
        "id": "l02yLexwDfF1",
        "outputId": "d7bc6705-160e-4840-e89f-ce124530dab3"
      },
      "outputs": [
        {
          "data": {
            "application/vnd.google.colaboratory.intrinsic+json": {
              "summary": "{\n  \"name\": \"pd\",\n  \"rows\": 3,\n  \"fields\": [\n    {\n      \"column\": \"customer_id\",\n      \"properties\": {\n        \"dtype\": \"string\",\n        \"num_unique_values\": 3,\n        \"samples\": [\n          \"A\",\n          \"B\",\n          \"C\"\n        ],\n        \"semantic_type\": \"\",\n        \"description\": \"\"\n      }\n    },\n    {\n      \"column\": \"puntos_clientes\",\n      \"properties\": {\n        \"dtype\": \"number\",\n        \"std\": 314,\n        \"min\": 360,\n        \"max\": 940,\n        \"num_unique_values\": 3,\n        \"samples\": [\n          860,\n          940,\n          360\n        ],\n        \"semantic_type\": \"\",\n        \"description\": \"\"\n      }\n    }\n  ]\n}",
              "type": "dataframe"
            },
            "text/html": [
              "\n",
              "  <div id=\"df-eea1a40f-d139-4862-91ef-43815a6c59e7\" class=\"colab-df-container\">\n",
              "    <div>\n",
              "<style scoped>\n",
              "    .dataframe tbody tr th:only-of-type {\n",
              "        vertical-align: middle;\n",
              "    }\n",
              "\n",
              "    .dataframe tbody tr th {\n",
              "        vertical-align: top;\n",
              "    }\n",
              "\n",
              "    .dataframe thead th {\n",
              "        text-align: right;\n",
              "    }\n",
              "</style>\n",
              "<table border=\"1\" class=\"dataframe\">\n",
              "  <thead>\n",
              "    <tr style=\"text-align: right;\">\n",
              "      <th></th>\n",
              "      <th>customer_id</th>\n",
              "      <th>puntos_clientes</th>\n",
              "    </tr>\n",
              "  </thead>\n",
              "  <tbody>\n",
              "    <tr>\n",
              "      <th>0</th>\n",
              "      <td>A</td>\n",
              "      <td>860</td>\n",
              "    </tr>\n",
              "    <tr>\n",
              "      <th>1</th>\n",
              "      <td>B</td>\n",
              "      <td>940</td>\n",
              "    </tr>\n",
              "    <tr>\n",
              "      <th>2</th>\n",
              "      <td>C</td>\n",
              "      <td>360</td>\n",
              "    </tr>\n",
              "  </tbody>\n",
              "</table>\n",
              "</div>\n",
              "    <div class=\"colab-df-buttons\">\n",
              "\n",
              "  <div class=\"colab-df-container\">\n",
              "    <button class=\"colab-df-convert\" onclick=\"convertToInteractive('df-eea1a40f-d139-4862-91ef-43815a6c59e7')\"\n",
              "            title=\"Convert this dataframe to an interactive table.\"\n",
              "            style=\"display:none;\">\n",
              "\n",
              "  <svg xmlns=\"http://www.w3.org/2000/svg\" height=\"24px\" viewBox=\"0 -960 960 960\">\n",
              "    <path d=\"M120-120v-720h720v720H120Zm60-500h600v-160H180v160Zm220 220h160v-160H400v160Zm0 220h160v-160H400v160ZM180-400h160v-160H180v160Zm440 0h160v-160H620v160ZM180-180h160v-160H180v160Zm440 0h160v-160H620v160Z\"/>\n",
              "  </svg>\n",
              "    </button>\n",
              "\n",
              "  <style>\n",
              "    .colab-df-container {\n",
              "      display:flex;\n",
              "      gap: 12px;\n",
              "    }\n",
              "\n",
              "    .colab-df-convert {\n",
              "      background-color: #E8F0FE;\n",
              "      border: none;\n",
              "      border-radius: 50%;\n",
              "      cursor: pointer;\n",
              "      display: none;\n",
              "      fill: #1967D2;\n",
              "      height: 32px;\n",
              "      padding: 0 0 0 0;\n",
              "      width: 32px;\n",
              "    }\n",
              "\n",
              "    .colab-df-convert:hover {\n",
              "      background-color: #E2EBFA;\n",
              "      box-shadow: 0px 1px 2px rgba(60, 64, 67, 0.3), 0px 1px 3px 1px rgba(60, 64, 67, 0.15);\n",
              "      fill: #174EA6;\n",
              "    }\n",
              "\n",
              "    .colab-df-buttons div {\n",
              "      margin-bottom: 4px;\n",
              "    }\n",
              "\n",
              "    [theme=dark] .colab-df-convert {\n",
              "      background-color: #3B4455;\n",
              "      fill: #D2E3FC;\n",
              "    }\n",
              "\n",
              "    [theme=dark] .colab-df-convert:hover {\n",
              "      background-color: #434B5C;\n",
              "      box-shadow: 0px 1px 3px 1px rgba(0, 0, 0, 0.15);\n",
              "      filter: drop-shadow(0px 1px 2px rgba(0, 0, 0, 0.3));\n",
              "      fill: #FFFFFF;\n",
              "    }\n",
              "  </style>\n",
              "\n",
              "    <script>\n",
              "      const buttonEl =\n",
              "        document.querySelector('#df-eea1a40f-d139-4862-91ef-43815a6c59e7 button.colab-df-convert');\n",
              "      buttonEl.style.display =\n",
              "        google.colab.kernel.accessAllowed ? 'block' : 'none';\n",
              "\n",
              "      async function convertToInteractive(key) {\n",
              "        const element = document.querySelector('#df-eea1a40f-d139-4862-91ef-43815a6c59e7');\n",
              "        const dataTable =\n",
              "          await google.colab.kernel.invokeFunction('convertToInteractive',\n",
              "                                                    [key], {});\n",
              "        if (!dataTable) return;\n",
              "\n",
              "        const docLinkHtml = 'Like what you see? Visit the ' +\n",
              "          '<a target=\"_blank\" href=https://colab.research.google.com/notebooks/data_table.ipynb>data table notebook</a>'\n",
              "          + ' to learn more about interactive tables.';\n",
              "        element.innerHTML = '';\n",
              "        dataTable['output_type'] = 'display_data';\n",
              "        await google.colab.output.renderOutput(dataTable, element);\n",
              "        const docLink = document.createElement('div');\n",
              "        docLink.innerHTML = docLinkHtml;\n",
              "        element.appendChild(docLink);\n",
              "      }\n",
              "    </script>\n",
              "  </div>\n",
              "\n",
              "\n",
              "<div id=\"df-83111d7f-800e-47e9-b471-e3d33c092aed\">\n",
              "  <button class=\"colab-df-quickchart\" onclick=\"quickchart('df-83111d7f-800e-47e9-b471-e3d33c092aed')\"\n",
              "            title=\"Suggest charts\"\n",
              "            style=\"display:none;\">\n",
              "\n",
              "<svg xmlns=\"http://www.w3.org/2000/svg\" height=\"24px\"viewBox=\"0 0 24 24\"\n",
              "     width=\"24px\">\n",
              "    <g>\n",
              "        <path d=\"M19 3H5c-1.1 0-2 .9-2 2v14c0 1.1.9 2 2 2h14c1.1 0 2-.9 2-2V5c0-1.1-.9-2-2-2zM9 17H7v-7h2v7zm4 0h-2V7h2v10zm4 0h-2v-4h2v4z\"/>\n",
              "    </g>\n",
              "</svg>\n",
              "  </button>\n",
              "\n",
              "<style>\n",
              "  .colab-df-quickchart {\n",
              "      --bg-color: #E8F0FE;\n",
              "      --fill-color: #1967D2;\n",
              "      --hover-bg-color: #E2EBFA;\n",
              "      --hover-fill-color: #174EA6;\n",
              "      --disabled-fill-color: #AAA;\n",
              "      --disabled-bg-color: #DDD;\n",
              "  }\n",
              "\n",
              "  [theme=dark] .colab-df-quickchart {\n",
              "      --bg-color: #3B4455;\n",
              "      --fill-color: #D2E3FC;\n",
              "      --hover-bg-color: #434B5C;\n",
              "      --hover-fill-color: #FFFFFF;\n",
              "      --disabled-bg-color: #3B4455;\n",
              "      --disabled-fill-color: #666;\n",
              "  }\n",
              "\n",
              "  .colab-df-quickchart {\n",
              "    background-color: var(--bg-color);\n",
              "    border: none;\n",
              "    border-radius: 50%;\n",
              "    cursor: pointer;\n",
              "    display: none;\n",
              "    fill: var(--fill-color);\n",
              "    height: 32px;\n",
              "    padding: 0;\n",
              "    width: 32px;\n",
              "  }\n",
              "\n",
              "  .colab-df-quickchart:hover {\n",
              "    background-color: var(--hover-bg-color);\n",
              "    box-shadow: 0 1px 2px rgba(60, 64, 67, 0.3), 0 1px 3px 1px rgba(60, 64, 67, 0.15);\n",
              "    fill: var(--button-hover-fill-color);\n",
              "  }\n",
              "\n",
              "  .colab-df-quickchart-complete:disabled,\n",
              "  .colab-df-quickchart-complete:disabled:hover {\n",
              "    background-color: var(--disabled-bg-color);\n",
              "    fill: var(--disabled-fill-color);\n",
              "    box-shadow: none;\n",
              "  }\n",
              "\n",
              "  .colab-df-spinner {\n",
              "    border: 2px solid var(--fill-color);\n",
              "    border-color: transparent;\n",
              "    border-bottom-color: var(--fill-color);\n",
              "    animation:\n",
              "      spin 1s steps(1) infinite;\n",
              "  }\n",
              "\n",
              "  @keyframes spin {\n",
              "    0% {\n",
              "      border-color: transparent;\n",
              "      border-bottom-color: var(--fill-color);\n",
              "      border-left-color: var(--fill-color);\n",
              "    }\n",
              "    20% {\n",
              "      border-color: transparent;\n",
              "      border-left-color: var(--fill-color);\n",
              "      border-top-color: var(--fill-color);\n",
              "    }\n",
              "    30% {\n",
              "      border-color: transparent;\n",
              "      border-left-color: var(--fill-color);\n",
              "      border-top-color: var(--fill-color);\n",
              "      border-right-color: var(--fill-color);\n",
              "    }\n",
              "    40% {\n",
              "      border-color: transparent;\n",
              "      border-right-color: var(--fill-color);\n",
              "      border-top-color: var(--fill-color);\n",
              "    }\n",
              "    60% {\n",
              "      border-color: transparent;\n",
              "      border-right-color: var(--fill-color);\n",
              "    }\n",
              "    80% {\n",
              "      border-color: transparent;\n",
              "      border-right-color: var(--fill-color);\n",
              "      border-bottom-color: var(--fill-color);\n",
              "    }\n",
              "    90% {\n",
              "      border-color: transparent;\n",
              "      border-bottom-color: var(--fill-color);\n",
              "    }\n",
              "  }\n",
              "</style>\n",
              "\n",
              "  <script>\n",
              "    async function quickchart(key) {\n",
              "      const quickchartButtonEl =\n",
              "        document.querySelector('#' + key + ' button');\n",
              "      quickchartButtonEl.disabled = true;  // To prevent multiple clicks.\n",
              "      quickchartButtonEl.classList.add('colab-df-spinner');\n",
              "      try {\n",
              "        const charts = await google.colab.kernel.invokeFunction(\n",
              "            'suggestCharts', [key], {});\n",
              "      } catch (error) {\n",
              "        console.error('Error during call to suggestCharts:', error);\n",
              "      }\n",
              "      quickchartButtonEl.classList.remove('colab-df-spinner');\n",
              "      quickchartButtonEl.classList.add('colab-df-quickchart-complete');\n",
              "    }\n",
              "    (() => {\n",
              "      let quickchartButtonEl =\n",
              "        document.querySelector('#df-83111d7f-800e-47e9-b471-e3d33c092aed button');\n",
              "      quickchartButtonEl.style.display =\n",
              "        google.colab.kernel.accessAllowed ? 'block' : 'none';\n",
              "    })();\n",
              "  </script>\n",
              "</div>\n",
              "\n",
              "    </div>\n",
              "  </div>\n"
            ],
            "text/plain": [
              "  customer_id  puntos_clientes\n",
              "0           A              860\n",
              "1           B              940\n",
              "2           C              360"
            ]
          },
          "execution_count": 33,
          "metadata": {},
          "output_type": "execute_result"
        }
      ],
      "source": [
        "query = \"\"\"\n",
        "\n",
        "SELECT\n",
        "\tcustomer_id,\n",
        "\tSUM(CASE WHEN product_name = 'sushi' THEN price * 20 ELSE price*10 END) AS puntos_clientes\n",
        "FROM \n",
        "\tsales s\n",
        "LEFT JOIN menu m\n",
        "USING (product_id)\n",
        "GROUP BY customer_id\n",
        "\n",
        "\n",
        "\"\"\"\n",
        "\n",
        "pd.read_sql_query(query, connection)"
      ]
    },
    {
      "cell_type": "markdown",
      "metadata": {
        "id": "UDMj4QHBG1fY"
      },
      "source": [
        "**Explicación: **Según lo explicado sabemos que si cada 1$ = 10 pts sabemos que para el **sushi 1\\$ = 20 osea 20 x price**. Con esto ya es facil utilizar un CASE WHEN para cuando el product_name sea sushi multiplicar por 20 y en cualquier otro caso multiplicar por 10. Con esto además nos aseguramos juntar la tabla sales con menu ya que en estas se encuentran los precios de cada items necesarios para calcular los puntos. Agrupamos por clientes y tenemos el resultado."
      ]
    },
    {
      "cell_type": "markdown",
      "metadata": {
        "id": "XpbnMAk8En4p"
      },
      "source": [
        "**-- 10. En la primera semana después que un cliente se una al programa (incluyendo la fecha de ingreso) estos ganan 2x puntos en todos los items, no solo en sushi- Cuantos puntos tienen el cliente A y B para el final de enero ?**\n"
      ]
    },
    {
      "cell_type": "code",
      "execution_count": null,
      "metadata": {
        "colab": {
          "base_uri": "https://localhost:8080/",
          "height": 143
        },
        "id": "SgfceCrVEnUj",
        "outputId": "0a13b689-259c-4be4-efbb-dd1cd9f2e90f"
      },
      "outputs": [
        {
          "data": {
            "application/vnd.google.colaboratory.intrinsic+json": {
              "summary": "{\n  \"name\": \"pd\",\n  \"rows\": 3,\n  \"fields\": [\n    {\n      \"column\": \"customer_id\",\n      \"properties\": {\n        \"dtype\": \"string\",\n        \"num_unique_values\": 3,\n        \"samples\": [\n          \"A\",\n          \"B\",\n          \"C\"\n        ],\n        \"semantic_type\": \"\",\n        \"description\": \"\"\n      }\n    },\n    {\n      \"column\": \"puntos\",\n      \"properties\": {\n        \"dtype\": \"number\",\n        \"std\": 462,\n        \"min\": 360,\n        \"max\": 1270,\n        \"num_unique_values\": 3,\n        \"samples\": [\n          1270,\n          960,\n          360\n        ],\n        \"semantic_type\": \"\",\n        \"description\": \"\"\n      }\n    }\n  ]\n}",
              "type": "dataframe"
            },
            "text/html": [
              "\n",
              "  <div id=\"df-3af3ca11-a9ed-413b-9a12-84522b048030\" class=\"colab-df-container\">\n",
              "    <div>\n",
              "<style scoped>\n",
              "    .dataframe tbody tr th:only-of-type {\n",
              "        vertical-align: middle;\n",
              "    }\n",
              "\n",
              "    .dataframe tbody tr th {\n",
              "        vertical-align: top;\n",
              "    }\n",
              "\n",
              "    .dataframe thead th {\n",
              "        text-align: right;\n",
              "    }\n",
              "</style>\n",
              "<table border=\"1\" class=\"dataframe\">\n",
              "  <thead>\n",
              "    <tr style=\"text-align: right;\">\n",
              "      <th></th>\n",
              "      <th>customer_id</th>\n",
              "      <th>puntos</th>\n",
              "    </tr>\n",
              "  </thead>\n",
              "  <tbody>\n",
              "    <tr>\n",
              "      <th>0</th>\n",
              "      <td>A</td>\n",
              "      <td>1270</td>\n",
              "    </tr>\n",
              "    <tr>\n",
              "      <th>1</th>\n",
              "      <td>B</td>\n",
              "      <td>960</td>\n",
              "    </tr>\n",
              "    <tr>\n",
              "      <th>2</th>\n",
              "      <td>C</td>\n",
              "      <td>360</td>\n",
              "    </tr>\n",
              "  </tbody>\n",
              "</table>\n",
              "</div>\n",
              "    <div class=\"colab-df-buttons\">\n",
              "\n",
              "  <div class=\"colab-df-container\">\n",
              "    <button class=\"colab-df-convert\" onclick=\"convertToInteractive('df-3af3ca11-a9ed-413b-9a12-84522b048030')\"\n",
              "            title=\"Convert this dataframe to an interactive table.\"\n",
              "            style=\"display:none;\">\n",
              "\n",
              "  <svg xmlns=\"http://www.w3.org/2000/svg\" height=\"24px\" viewBox=\"0 -960 960 960\">\n",
              "    <path d=\"M120-120v-720h720v720H120Zm60-500h600v-160H180v160Zm220 220h160v-160H400v160Zm0 220h160v-160H400v160ZM180-400h160v-160H180v160Zm440 0h160v-160H620v160ZM180-180h160v-160H180v160Zm440 0h160v-160H620v160Z\"/>\n",
              "  </svg>\n",
              "    </button>\n",
              "\n",
              "  <style>\n",
              "    .colab-df-container {\n",
              "      display:flex;\n",
              "      gap: 12px;\n",
              "    }\n",
              "\n",
              "    .colab-df-convert {\n",
              "      background-color: #E8F0FE;\n",
              "      border: none;\n",
              "      border-radius: 50%;\n",
              "      cursor: pointer;\n",
              "      display: none;\n",
              "      fill: #1967D2;\n",
              "      height: 32px;\n",
              "      padding: 0 0 0 0;\n",
              "      width: 32px;\n",
              "    }\n",
              "\n",
              "    .colab-df-convert:hover {\n",
              "      background-color: #E2EBFA;\n",
              "      box-shadow: 0px 1px 2px rgba(60, 64, 67, 0.3), 0px 1px 3px 1px rgba(60, 64, 67, 0.15);\n",
              "      fill: #174EA6;\n",
              "    }\n",
              "\n",
              "    .colab-df-buttons div {\n",
              "      margin-bottom: 4px;\n",
              "    }\n",
              "\n",
              "    [theme=dark] .colab-df-convert {\n",
              "      background-color: #3B4455;\n",
              "      fill: #D2E3FC;\n",
              "    }\n",
              "\n",
              "    [theme=dark] .colab-df-convert:hover {\n",
              "      background-color: #434B5C;\n",
              "      box-shadow: 0px 1px 3px 1px rgba(0, 0, 0, 0.15);\n",
              "      filter: drop-shadow(0px 1px 2px rgba(0, 0, 0, 0.3));\n",
              "      fill: #FFFFFF;\n",
              "    }\n",
              "  </style>\n",
              "\n",
              "    <script>\n",
              "      const buttonEl =\n",
              "        document.querySelector('#df-3af3ca11-a9ed-413b-9a12-84522b048030 button.colab-df-convert');\n",
              "      buttonEl.style.display =\n",
              "        google.colab.kernel.accessAllowed ? 'block' : 'none';\n",
              "\n",
              "      async function convertToInteractive(key) {\n",
              "        const element = document.querySelector('#df-3af3ca11-a9ed-413b-9a12-84522b048030');\n",
              "        const dataTable =\n",
              "          await google.colab.kernel.invokeFunction('convertToInteractive',\n",
              "                                                    [key], {});\n",
              "        if (!dataTable) return;\n",
              "\n",
              "        const docLinkHtml = 'Like what you see? Visit the ' +\n",
              "          '<a target=\"_blank\" href=https://colab.research.google.com/notebooks/data_table.ipynb>data table notebook</a>'\n",
              "          + ' to learn more about interactive tables.';\n",
              "        element.innerHTML = '';\n",
              "        dataTable['output_type'] = 'display_data';\n",
              "        await google.colab.output.renderOutput(dataTable, element);\n",
              "        const docLink = document.createElement('div');\n",
              "        docLink.innerHTML = docLinkHtml;\n",
              "        element.appendChild(docLink);\n",
              "      }\n",
              "    </script>\n",
              "  </div>\n",
              "\n",
              "\n",
              "<div id=\"df-19538f01-3eae-43c7-892a-abef2d4042bd\">\n",
              "  <button class=\"colab-df-quickchart\" onclick=\"quickchart('df-19538f01-3eae-43c7-892a-abef2d4042bd')\"\n",
              "            title=\"Suggest charts\"\n",
              "            style=\"display:none;\">\n",
              "\n",
              "<svg xmlns=\"http://www.w3.org/2000/svg\" height=\"24px\"viewBox=\"0 0 24 24\"\n",
              "     width=\"24px\">\n",
              "    <g>\n",
              "        <path d=\"M19 3H5c-1.1 0-2 .9-2 2v14c0 1.1.9 2 2 2h14c1.1 0 2-.9 2-2V5c0-1.1-.9-2-2-2zM9 17H7v-7h2v7zm4 0h-2V7h2v10zm4 0h-2v-4h2v4z\"/>\n",
              "    </g>\n",
              "</svg>\n",
              "  </button>\n",
              "\n",
              "<style>\n",
              "  .colab-df-quickchart {\n",
              "      --bg-color: #E8F0FE;\n",
              "      --fill-color: #1967D2;\n",
              "      --hover-bg-color: #E2EBFA;\n",
              "      --hover-fill-color: #174EA6;\n",
              "      --disabled-fill-color: #AAA;\n",
              "      --disabled-bg-color: #DDD;\n",
              "  }\n",
              "\n",
              "  [theme=dark] .colab-df-quickchart {\n",
              "      --bg-color: #3B4455;\n",
              "      --fill-color: #D2E3FC;\n",
              "      --hover-bg-color: #434B5C;\n",
              "      --hover-fill-color: #FFFFFF;\n",
              "      --disabled-bg-color: #3B4455;\n",
              "      --disabled-fill-color: #666;\n",
              "  }\n",
              "\n",
              "  .colab-df-quickchart {\n",
              "    background-color: var(--bg-color);\n",
              "    border: none;\n",
              "    border-radius: 50%;\n",
              "    cursor: pointer;\n",
              "    display: none;\n",
              "    fill: var(--fill-color);\n",
              "    height: 32px;\n",
              "    padding: 0;\n",
              "    width: 32px;\n",
              "  }\n",
              "\n",
              "  .colab-df-quickchart:hover {\n",
              "    background-color: var(--hover-bg-color);\n",
              "    box-shadow: 0 1px 2px rgba(60, 64, 67, 0.3), 0 1px 3px 1px rgba(60, 64, 67, 0.15);\n",
              "    fill: var(--button-hover-fill-color);\n",
              "  }\n",
              "\n",
              "  .colab-df-quickchart-complete:disabled,\n",
              "  .colab-df-quickchart-complete:disabled:hover {\n",
              "    background-color: var(--disabled-bg-color);\n",
              "    fill: var(--disabled-fill-color);\n",
              "    box-shadow: none;\n",
              "  }\n",
              "\n",
              "  .colab-df-spinner {\n",
              "    border: 2px solid var(--fill-color);\n",
              "    border-color: transparent;\n",
              "    border-bottom-color: var(--fill-color);\n",
              "    animation:\n",
              "      spin 1s steps(1) infinite;\n",
              "  }\n",
              "\n",
              "  @keyframes spin {\n",
              "    0% {\n",
              "      border-color: transparent;\n",
              "      border-bottom-color: var(--fill-color);\n",
              "      border-left-color: var(--fill-color);\n",
              "    }\n",
              "    20% {\n",
              "      border-color: transparent;\n",
              "      border-left-color: var(--fill-color);\n",
              "      border-top-color: var(--fill-color);\n",
              "    }\n",
              "    30% {\n",
              "      border-color: transparent;\n",
              "      border-left-color: var(--fill-color);\n",
              "      border-top-color: var(--fill-color);\n",
              "      border-right-color: var(--fill-color);\n",
              "    }\n",
              "    40% {\n",
              "      border-color: transparent;\n",
              "      border-right-color: var(--fill-color);\n",
              "      border-top-color: var(--fill-color);\n",
              "    }\n",
              "    60% {\n",
              "      border-color: transparent;\n",
              "      border-right-color: var(--fill-color);\n",
              "    }\n",
              "    80% {\n",
              "      border-color: transparent;\n",
              "      border-right-color: var(--fill-color);\n",
              "      border-bottom-color: var(--fill-color);\n",
              "    }\n",
              "    90% {\n",
              "      border-color: transparent;\n",
              "      border-bottom-color: var(--fill-color);\n",
              "    }\n",
              "  }\n",
              "</style>\n",
              "\n",
              "  <script>\n",
              "    async function quickchart(key) {\n",
              "      const quickchartButtonEl =\n",
              "        document.querySelector('#' + key + ' button');\n",
              "      quickchartButtonEl.disabled = true;  // To prevent multiple clicks.\n",
              "      quickchartButtonEl.classList.add('colab-df-spinner');\n",
              "      try {\n",
              "        const charts = await google.colab.kernel.invokeFunction(\n",
              "            'suggestCharts', [key], {});\n",
              "      } catch (error) {\n",
              "        console.error('Error during call to suggestCharts:', error);\n",
              "      }\n",
              "      quickchartButtonEl.classList.remove('colab-df-spinner');\n",
              "      quickchartButtonEl.classList.add('colab-df-quickchart-complete');\n",
              "    }\n",
              "    (() => {\n",
              "      let quickchartButtonEl =\n",
              "        document.querySelector('#df-19538f01-3eae-43c7-892a-abef2d4042bd button');\n",
              "      quickchartButtonEl.style.display =\n",
              "        google.colab.kernel.accessAllowed ? 'block' : 'none';\n",
              "    })();\n",
              "  </script>\n",
              "</div>\n",
              "\n",
              "    </div>\n",
              "  </div>\n"
            ],
            "text/plain": [
              "  customer_id  puntos\n",
              "0           A    1270\n",
              "1           B     960\n",
              "2           C     360"
            ]
          },
          "execution_count": 35,
          "metadata": {},
          "output_type": "execute_result"
        }
      ],
      "source": [
        "query = \"\"\"\n",
        "\n",
        "-- Tabla temporal con la fecha desde el inicio hasta 1 semana despues de la fecha de inicio de membresia\n",
        "\n",
        "WITH time_interval AS (\n",
        "SELECT\n",
        "  \tcustomer_id,\n",
        "\tjoin_date as start_date,\n",
        "    date(join_date, '+7 days') as end_date\n",
        "FROM members )\n",
        "\n",
        "\n",
        "-- Utilizando la fecha de inicio y final de la semana para filtrar las fechas y multiplicar segun si está dentro o fuera de esta fecha\n",
        "\n",
        "SELECT\n",
        "\ts.customer_id,\n",
        "\tSUM(CASE WHEN t.start_date IS NOT NULL THEN 20*price ELSE 10*price END) AS puntos\n",
        "FROM sales s\n",
        "LEFT JOIN time_interval t\n",
        "ON s.customer_id = t.customer_id AND s.order_date BETWEEN t.start_date AND t.end_date\n",
        "LEFT JOIN menu m\n",
        "ON s.product_id = m.product_id\n",
        "GROUP BY s.customer_id\n",
        "\n",
        "\n",
        "\n",
        "\"\"\"\n",
        "\n",
        "pd.read_sql_query(query, connection)"
      ]
    },
    {
      "cell_type": "markdown",
      "metadata": {
        "id": "oXNR5xfbILzj"
      },
      "source": [
        "**Explicación:** El primer paso es la creación de una tabla temporal que tenga dos columnas con el valor de comienzo de la semana de membresia y el final de la semana de membresia. Una vez con esta tabla temporal se utiliza para juntarla con la tabla **sales** y **menu**, asegurandose que la orden de la fecha de cada item este entre el rango de la fecha calculada en la tabla temporal. Realizado este paso tendremos todas las compras y aquellas que no tengan valores nulos en sus joins se multiplican por 20 porque representan a ordenes generadas en al semana de inicio de membresia y por 10 cuando no estan dentro de la semana de membresia.\n",
        "\n",
        "**PD:** Notar que no se incluyen más filtros como que sea en enero y que sean los custumers A Y B que según los demás ejercicios está claro que solo A Y B son miembros y además los datos son todos de enero."
      ]
    }
  ],
  "metadata": {
    "colab": {
      "authorship_tag": "ABX9TyN6qAZMghfn+PL02wjGU6aY",
      "include_colab_link": true,
      "provenance": []
    },
    "kernelspec": {
      "display_name": "Python 3",
      "name": "python3"
    },
    "language_info": {
      "codemirror_mode": {
        "name": "ipython",
        "version": 3
      },
      "file_extension": ".py",
      "mimetype": "text/x-python",
      "name": "python",
      "nbconvert_exporter": "python",
      "pygments_lexer": "ipython3",
      "version": "3.10.4"
    }
  },
  "nbformat": 4,
  "nbformat_minor": 0
}
